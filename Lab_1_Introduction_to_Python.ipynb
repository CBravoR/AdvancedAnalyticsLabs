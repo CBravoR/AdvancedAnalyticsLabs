{
  "nbformat": 4,
  "nbformat_minor": 0,
  "metadata": {
    "colab": {
      "name": "Lab 1 - Introduction to Python.ipynb",
      "version": "0.3.2",
      "provenance": [],
      "collapsed_sections": [],
      "include_colab_link": true
    },
    "kernelspec": {
      "name": "python3",
      "display_name": "Python 3"
    }
  },
  "cells": [
    {
      "cell_type": "markdown",
      "metadata": {
        "id": "view-in-github",
        "colab_type": "text"
      },
      "source": [
        "<a href=\"https://colab.research.google.com/github/CBravoR/AdvancedAnalyticsLabs/blob/master/Lab_1_Introduction_to_Python.ipynb\" target=\"_parent\"><img src=\"https://colab.research.google.com/assets/colab-badge.svg\" alt=\"Open In Colab\"/></a>"
      ]
    },
    {
      "metadata": {
        "id": "2p47TocEO2oN",
        "colab_type": "text"
      },
      "cell_type": "markdown",
      "source": [
        "# Markdown\n",
        "\n",
        "Now we can use cells!\n",
        "\n",
        "This is markdown cell. We can write **augmented html** here. Markdown has *many* options. I suggest reading the tutorial <a href=\"https://www.markdowntutorial.com/\">here</a>.\n",
        "\n",
        "Some basics:\n",
        "\n",
        "- Starting a line with a dash (\"-\") creates a vignetted list.\n",
        "\n",
        "- Writing a sentence between two asteriks (like `**this**`) **bolds it**.\n",
        "\n",
        "- Writing a sentence between one asterisk (like `*this*`)*emphazises it* (italics).\n",
        "\n",
        "- To write verbatim, use \"code\" formatting. Surrounding a sentence with grave accents writes it as you wrote it.  `I can write without getting words *emphasized* nor **bolded**`.\n",
        "\n",
        "- To write a block of code, add three grave accents (```) both at the beginning and the end.\n",
        "\n",
        "```\n",
        "This is a block of code.\n",
        "Many lines can be written verbatim.\n",
        "**no bolding**, *nor emphasis* is applied.\n",
        "```\n",
        "\n",
        "To create an enumeration, simply add the number and a dot.\n",
        "\n",
        "1. I am number one.\n",
        "\n",
        "2. And I number two.\n",
        "\n",
        "3. And me number three.\n",
        "\n",
        "Titles and subtitles are written using multiple hash signs.\n",
        "\n",
        "# Title 1\n",
        "## Title 2\n",
        "### Tittle 3\n",
        "\n",
        "\n",
        "And, remember this is HTML! You can use everything the language offers. Some other useful tricks:\n",
        "\n",
        "- Create a hyperlink: [I link to Google!](http://www.google.com). (Write `[I link to Google!](http://www.google.com)`, or more generally, `[any text you want](any address you want to go to)`)\n",
        "\n",
        "- Add an image:\n",
        "\n",
        "![University logo](https://upload.wikimedia.org/wikipedia/commons/a/a7/University_of_Southampton_Logo.svg)\n",
        "\n",
        "Write `![University logo](https://upload.wikimedia.org/wikipedia/commons/a/a7/University_of_Southampton_Logo.svg)` or, more generally, `![alt-text](link-to-figure)`. You can also use relative paths if the figures are local, i.e., `![alt-text](University_of_Southampton_Logo.svg)` looks for 'University_of_Southampton_Logo.svg' in your own folder.\n",
        "\n",
        "Many more things can be done. A short cheatsheet is available [here](https://github.com/adam-p/markdown-here/wiki/Markdown-Here-Cheatsheet)\n"
      ]
    },
    {
      "metadata": {
        "id": "0fNoXS23PC0i",
        "colab_type": "text"
      },
      "cell_type": "markdown",
      "source": [
        "# Our first program: Python as a calculator\n",
        "\n",
        "We will now start using Python! Python is really simple:"
      ]
    },
    {
      "metadata": {
        "id": "LkUC9r_ZO8EC",
        "colab_type": "code",
        "colab": {}
      },
      "cell_type": "code",
      "source": [
        "# Comment using the hash sign.\n",
        "# A simple sum.\n",
        "1+1"
      ],
      "execution_count": 0,
      "outputs": []
    },
    {
      "metadata": {
        "id": "YLPaH67YPRpO",
        "colab_type": "code",
        "colab": {}
      },
      "cell_type": "code",
      "source": [
        "# Variables are assigned using the equal '=' sign.\n",
        "\n",
        "a = 1\n",
        "a"
      ],
      "execution_count": 0,
      "outputs": []
    },
    {
      "metadata": {
        "id": "och2ak-PPWFK",
        "colab_type": "code",
        "colab": {}
      },
      "cell_type": "code",
      "source": [
        "# Variables can be many things!\n",
        "a = 1\n",
        "b = 'Hi!'\n",
        "\n",
        "\n",
        "# We can show the value of a variable using the \"print\" function.\n",
        "# Functions in general are NAME(VARIABLES)\n",
        "print(a)\n",
        "print(b)"
      ],
      "execution_count": 0,
      "outputs": []
    },
    {
      "metadata": {
        "id": "egLJvPrLPlc3",
        "colab_type": "code",
        "colab": {}
      },
      "cell_type": "code",
      "source": [
        "# You can add variables of the same type! They behave as you would expect\n",
        "# Sum two text variables to concatenate them\n",
        "c = ' How are you?'\n",
        "b + c"
      ],
      "execution_count": 0,
      "outputs": []
    },
    {
      "metadata": {
        "id": "GkjE5DsRPq_8",
        "colab_type": "code",
        "colab": {}
      },
      "cell_type": "code",
      "source": [
        "# You can index using square brackets: []\n",
        "\n",
        "# IMPORTANT: PYTHON INDEXES START AT 0\n",
        "\n",
        "# Let's extract the first letter of our variable 'b'.\n",
        "\n",
        "b[0]"
      ],
      "execution_count": 0,
      "outputs": []
    },
    {
      "metadata": {
        "id": "8xi4RsJ-QJl6",
        "colab_type": "code",
        "colab": {}
      },
      "cell_type": "code",
      "source": [
        "b[1]"
      ],
      "execution_count": 0,
      "outputs": []
    },
    {
      "metadata": {
        "id": "V_z88wznQK4L",
        "colab_type": "code",
        "colab": {}
      },
      "cell_type": "code",
      "source": [
        "b[0] + b[1]"
      ],
      "execution_count": 0,
      "outputs": []
    },
    {
      "metadata": {
        "id": "fR37XoRHQRkQ",
        "colab_type": "text"
      },
      "cell_type": "markdown",
      "source": [
        "Remember: **Indexes start at zero!**"
      ]
    },
    {
      "metadata": {
        "id": "1wadUZS6Qazg",
        "colab_type": "text"
      },
      "cell_type": "markdown",
      "source": [
        "# Lists\n",
        "\n",
        "The basic data structure is a list. A list is simply a collection of things. Let's create a list called 'my_list'"
      ]
    },
    {
      "metadata": {
        "id": "xj4iqu9ZQaND",
        "colab_type": "code",
        "colab": {}
      },
      "cell_type": "code",
      "source": [
        "my_list = [1, 'Hello!', 3, 4.57]"
      ],
      "execution_count": 0,
      "outputs": []
    },
    {
      "metadata": {
        "id": "bekH26XAQdg7",
        "colab_type": "code",
        "colab": {}
      },
      "cell_type": "code",
      "source": [
        "my_list[0] + my_list[3]"
      ],
      "execution_count": 0,
      "outputs": []
    },
    {
      "metadata": {
        "id": "N4WgssQmQjy8",
        "colab_type": "code",
        "colab": {}
      },
      "cell_type": "code",
      "source": [
        "my_list[1]"
      ],
      "execution_count": 0,
      "outputs": []
    },
    {
      "metadata": {
        "id": "EuL2jfjWQwE4",
        "colab_type": "text"
      },
      "cell_type": "markdown",
      "source": [
        "What happens if we add two different types?"
      ]
    },
    {
      "metadata": {
        "id": "2LeXvYqqQlp6",
        "colab_type": "code",
        "colab": {}
      },
      "cell_type": "code",
      "source": [
        "my_list[1] + my_list[3]"
      ],
      "execution_count": 0,
      "outputs": []
    },
    {
      "metadata": {
        "id": "O6vKfrUfQ0qn",
        "colab_type": "text"
      },
      "cell_type": "markdown",
      "source": [
        "To read the error: always start at the end, it will hint what's wrong. In this case, it is the \n",
        "\n",
        "```\n",
        "TypeError: must be str, not float\n",
        "```\n",
        "That suggests that something (in this case 'my_list[3]') must be a string, not a float (a decimal number). Python does **not** allow for operating over multiple types. We must convert to the same type first. We can't really turn a string into a number, but we can do the opposite.\n",
        "\n",
        "We will use the internal function ```str()``` to turn the number into a string. The full list of internal functions [can be found here](https://docs.python.org/3/library/functions.html)."
      ]
    },
    {
      "metadata": {
        "id": "36jYc8ZnQnjs",
        "colab_type": "code",
        "colab": {}
      },
      "cell_type": "code",
      "source": [
        "my_list[1] + str(my_list[3])"
      ],
      "execution_count": 0,
      "outputs": []
    },
    {
      "metadata": {
        "id": "Ud9lWQ1GXEj3",
        "colab_type": "code",
        "colab": {}
      },
      "cell_type": "code",
      "source": [
        "# Making it a bit nicer looking\n",
        "my_list[1] + ' ' + str(my_list[3])"
      ],
      "execution_count": 0,
      "outputs": []
    },
    {
      "metadata": {
        "id": "8Jh2IRWAXNR0",
        "colab_type": "text"
      },
      "cell_type": "markdown",
      "source": [
        "Strings can be written surrounding them by either the `\"` symbol or the `'` symbol."
      ]
    },
    {
      "metadata": {
        "id": "JkJtvqIfXMT-",
        "colab_type": "code",
        "colab": {}
      },
      "cell_type": "code",
      "source": [
        "'I am a string'"
      ],
      "execution_count": 0,
      "outputs": []
    },
    {
      "metadata": {
        "id": "k2CnZUuYXIlD",
        "colab_type": "code",
        "colab": {}
      },
      "cell_type": "code",
      "source": [
        "\"I am also a string\""
      ],
      "execution_count": 0,
      "outputs": []
    },
    {
      "metadata": {
        "id": "BfQaSx6DXT6T",
        "colab_type": "text"
      },
      "cell_type": "markdown",
      "source": [
        "# Loops:\n",
        "\n",
        "All the traditional looping operators are implemented in Python of course.\n",
        "\n",
        "## While loops\n"
      ]
    },
    {
      "metadata": {
        "id": "vSQBUmtwXTGC",
        "colab_type": "code",
        "colab": {}
      },
      "cell_type": "code",
      "source": [
        "current_value = 1\n",
        "while current_value <= 5:\n",
        "    print(current_value)\n",
        "    current_value += 1"
      ],
      "execution_count": 0,
      "outputs": []
    },
    {
      "metadata": {
        "id": "gLH9Ae-jXizu",
        "colab_type": "text"
      },
      "cell_type": "markdown",
      "source": [
        "Let's look at the code in detail:\n",
        "```\n",
        "current_value = 1\n",
        "while current_value <= 5:\n",
        "    print(current_value)\n",
        "    current_value += 1\n",
        "```\n",
        "\n",
        "- The line `current_value = 1` simply creates a variable `current_value` and assigns it the value 1.\n",
        "\n",
        "- Then the while loop starts. `while current_value <= 5:`. This line simply says \"do stuff until the value of current_value is 5\".\n",
        "\n",
        "- **Note the indentatation**. Indent is the way we separate blocks in Python. Everything that is indented is part of the while (i.e., the following two lines).\n",
        "\n",
        "- The line `print(current_value)` prints the value of the variable current_value. We can write complex expressions!\n",
        "\n",
        "- the line `current_value += 1` is equivalent to writing `current_value = current_value + 1`. It adds one to current_value. \n",
        "\n",
        "Python allows for many ways to compare variables. "
      ]
    },
    {
      "metadata": {
        "id": "nlhjDpOCXwWk",
        "colab_type": "text"
      },
      "cell_type": "markdown",
      "source": [
        "### Conditional statements\n",
        "\n",
        "We can write conditional statements using the `if... else...` operators.\n",
        "\n",
        "General structure:\n",
        "\n",
        "```\n",
        "if [condition]:\n",
        "    (Operations)\n",
        "elif [other conditions]:\n",
        "    (Other operations)\n",
        "else:\n",
        "    (More operations)\n",
        "```\n",
        "\n",
        "Conditions can be:\n",
        "- Equality comparison: '=='. For example."
      ]
    },
    {
      "metadata": {
        "id": "Ns6y2CZEXiHa",
        "colab_type": "code",
        "colab": {}
      },
      "cell_type": "code",
      "source": [
        "a = 'bmw'\n",
        "b = 'audi'\n",
        "a == b"
      ],
      "execution_count": 0,
      "outputs": []
    },
    {
      "metadata": {
        "id": "oAWzrG6uXSZ6",
        "colab_type": "code",
        "colab": {}
      },
      "cell_type": "code",
      "source": [
        "a == a"
      ],
      "execution_count": 0,
      "outputs": []
    },
    {
      "metadata": {
        "id": "41iZa2yrX7oK",
        "colab_type": "text"
      },
      "cell_type": "markdown",
      "source": [
        "- Negation is done with an exclamation sign."
      ]
    },
    {
      "metadata": {
        "id": "FZUJmfnPX6w_",
        "colab_type": "code",
        "colab": {}
      },
      "cell_type": "code",
      "source": [
        "# Not equal to:\n",
        "a != b"
      ],
      "execution_count": 0,
      "outputs": []
    },
    {
      "metadata": {
        "id": "3s8qCnN-YBjs",
        "colab_type": "text"
      },
      "cell_type": "markdown",
      "source": [
        "- Greater than or lower than"
      ]
    },
    {
      "metadata": {
        "id": "2He9dFSOX4n0",
        "colab_type": "code",
        "colab": {}
      },
      "cell_type": "code",
      "source": [
        "a = 1\n",
        "b = 2"
      ],
      "execution_count": 0,
      "outputs": []
    },
    {
      "metadata": {
        "id": "n2J_BCkLYDfr",
        "colab_type": "code",
        "colab": {}
      },
      "cell_type": "code",
      "source": [
        "a < b"
      ],
      "execution_count": 0,
      "outputs": []
    },
    {
      "metadata": {
        "id": "xD0QXeb6YF9M",
        "colab_type": "code",
        "colab": {}
      },
      "cell_type": "code",
      "source": [
        "a > b"
      ],
      "execution_count": 0,
      "outputs": []
    },
    {
      "metadata": {
        "id": "5x4xIT9WYHaz",
        "colab_type": "code",
        "colab": {}
      },
      "cell_type": "code",
      "source": [
        "b < a"
      ],
      "execution_count": 0,
      "outputs": []
    },
    {
      "metadata": {
        "id": "hZlWn_cPYLQm",
        "colab_type": "text"
      },
      "cell_type": "markdown",
      "source": [
        "- Greater or equal (>=), lower or equal (<=) "
      ]
    },
    {
      "metadata": {
        "id": "fQokHe9LYIsr",
        "colab_type": "code",
        "colab": {}
      },
      "cell_type": "code",
      "source": [
        "a <= b"
      ],
      "execution_count": 0,
      "outputs": []
    },
    {
      "metadata": {
        "id": "rxD1xKsQYMoa",
        "colab_type": "code",
        "colab": {}
      },
      "cell_type": "code",
      "source": [
        "b - 1 <= a"
      ],
      "execution_count": 0,
      "outputs": []
    },
    {
      "metadata": {
        "id": "oI2K4cXVYN6T",
        "colab_type": "code",
        "colab": {}
      },
      "cell_type": "code",
      "source": [
        "a + 1 >= b"
      ],
      "execution_count": 0,
      "outputs": []
    },
    {
      "metadata": {
        "id": "SVe6puZqYRqY",
        "colab_type": "text"
      },
      "cell_type": "markdown",
      "source": [
        "Logical operators:\n",
        "\n",
        "- `and`\n",
        "- `or`"
      ]
    },
    {
      "metadata": {
        "id": "MSooZy1qYPFM",
        "colab_type": "code",
        "colab": {}
      },
      "cell_type": "code",
      "source": [
        "a = 1\n",
        "b = 2\n",
        "c = 'BMW'\n",
        "d = 'Audi'"
      ],
      "execution_count": 0,
      "outputs": []
    },
    {
      "metadata": {
        "id": "QhgfSQCAYT7c",
        "colab_type": "code",
        "colab": {}
      },
      "cell_type": "code",
      "source": [
        "a < b and c == d"
      ],
      "execution_count": 0,
      "outputs": []
    },
    {
      "metadata": {
        "id": "zjzN5ypWYVSE",
        "colab_type": "code",
        "colab": {}
      },
      "cell_type": "code",
      "source": [
        "a < b and c != d"
      ],
      "execution_count": 0,
      "outputs": []
    },
    {
      "metadata": {
        "id": "bYkyFiQIYWcq",
        "colab_type": "code",
        "colab": {}
      },
      "cell_type": "code",
      "source": [
        "a < b or c == d"
      ],
      "execution_count": 0,
      "outputs": []
    },
    {
      "metadata": {
        "id": "ZALMf5DKYaW-",
        "colab_type": "text"
      },
      "cell_type": "markdown",
      "source": [
        "These can be combined."
      ]
    },
    {
      "metadata": {
        "id": "ok1cFb6TYZ1Q",
        "colab_type": "code",
        "colab": {}
      },
      "cell_type": "code",
      "source": [
        "(a < b and c == d) or (a + 1 >= b)"
      ],
      "execution_count": 0,
      "outputs": []
    },
    {
      "metadata": {
        "id": "NwprQbYdYfxZ",
        "colab_type": "text"
      },
      "cell_type": "markdown",
      "source": [
        "### For loops\n",
        "\n",
        "First, we need to understand the `range()` function. As the name implies, it creates ranges of numbers for iterating on. \n",
        "\n",
        "Important: **It does NOT include the last one**."
      ]
    },
    {
      "metadata": {
        "id": "766LhGXZYX0M",
        "colab_type": "code",
        "colab": {}
      },
      "cell_type": "code",
      "source": [
        "my_range = range(1,10)"
      ],
      "execution_count": 0,
      "outputs": []
    },
    {
      "metadata": {
        "id": "wKv79dFcYhpT",
        "colab_type": "code",
        "colab": {}
      },
      "cell_type": "code",
      "source": [
        "my_range[0]"
      ],
      "execution_count": 0,
      "outputs": []
    },
    {
      "metadata": {
        "id": "QlZieCH0YjwZ",
        "colab_type": "code",
        "colab": {}
      },
      "cell_type": "code",
      "source": [
        "my_range[8]"
      ],
      "execution_count": 0,
      "outputs": []
    },
    {
      "metadata": {
        "id": "St1rLWPSYk11",
        "colab_type": "code",
        "colab": {}
      },
      "cell_type": "code",
      "source": [
        "# There is no 10 value. This throws an error.\n",
        "my_range[9]"
      ],
      "execution_count": 0,
      "outputs": []
    },
    {
      "metadata": {
        "id": "m1kdVEvEYo1w",
        "colab_type": "text"
      },
      "cell_type": "markdown",
      "source": [
        "We can now create a \"for\" loop. This one will iterate over a certain value."
      ]
    },
    {
      "metadata": {
        "id": "vhegBAuZYmfD",
        "colab_type": "code",
        "colab": {}
      },
      "cell_type": "code",
      "source": [
        "for i in range(1, 10):\n",
        "    print('The current value is: ', i)"
      ],
      "execution_count": 0,
      "outputs": []
    },
    {
      "metadata": {
        "id": "ZrtPNCJnYtQF",
        "colab_type": "text"
      },
      "cell_type": "markdown",
      "source": [
        "Note that range creates an `ìterator` (something to iterate from). To see the values, list them."
      ]
    },
    {
      "metadata": {
        "id": "MCMeBauDYqhz",
        "colab_type": "code",
        "colab": {}
      },
      "cell_type": "code",
      "source": [
        "# Nothing will be printed. The range function returns an iterator.\n",
        "range(0,10)"
      ],
      "execution_count": 0,
      "outputs": []
    },
    {
      "metadata": {
        "id": "hydaUYt-Yx5K",
        "colab_type": "code",
        "colab": {}
      },
      "cell_type": "code",
      "source": [
        "# Turn iterator into list. Now we see the values.\n",
        "list(range(0,10))"
      ],
      "execution_count": 0,
      "outputs": []
    },
    {
      "metadata": {
        "id": "WT-FYm3aY7cX",
        "colab_type": "text"
      },
      "cell_type": "markdown",
      "source": [
        "# Self Study\n",
        "A detailed Python tutorial is available [here](https://docs.python.org/3/tutorial/). Go through it until Chapter 5 (inclusive). Next week we'll continue with modules, packages, and more sophisticated approaches!\n",
        "\n",
        "As an exercise, create a program that adds the numbers from 1 to 100, and every 10 numbers prints \"The current value is  `N`\" with `N` the number. (i.e. \"The current value is 10\", \"The current value is 20\", ...)."
      ]
    }
  ]
}