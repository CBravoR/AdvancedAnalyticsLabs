{
  "nbformat": 4,
  "nbformat_minor": 0,
  "metadata": {
    "colab": {
      "name": "Lab 2 - Revenue Management",
      "version": "0.3.2",
      "provenance": [],
      "collapsed_sections": [],
      "include_colab_link": true
    },
    "kernelspec": {
      "name": "python3",
      "display_name": "Python 3"
    }
  },
  "cells": [
    {
      "cell_type": "markdown",
      "metadata": {
        "id": "view-in-github",
        "colab_type": "text"
      },
      "source": [
        "<a href=\"https://colab.research.google.com/github/CBravoR/AdvancedAnalyticsLabs/blob/master/Lab_2_Revenue_Management.ipynb\" target=\"_parent\"><img src=\"https://colab.research.google.com/assets/colab-badge.svg\" alt=\"Open In Colab\"/></a>"
      ]
    },
    {
      "metadata": {
        "id": "RoDTAKe3eWDE",
        "colab_type": "text"
      },
      "cell_type": "markdown",
      "source": [
        "# Lab 2 - Revenue Management\n",
        "\n",
        "In this lab, we will study implementations of the algorithms we have discussed in the Revenue Management lectures. Since we will be using a lot of numerical methods, we would need to program a large set of statistical distributions, mathematical functions, and other mathematical quantities. Luckily for us, this has already been done.\n",
        "\n",
        "A **package** is a set of functions, constants, and other data that comes pre-packaged and can be used once installed locally. Many packages are available (exactly [168,180](https://pypi.python.org/pypi)), but we will focus only on a set of them of course.\n",
        "\n",
        "The fist one is [Numpy](http://www.numpy.org/), self-described as \"the fundamental package for scientific computing with Python\". It comes with a very large number of scientific functions. These range from simply implementing mathetical constants (such as $\\pi$ or $e$), to mathematical functions (such as the logistic functions), random number generators, and much, much, more. As we move along with the activities of the module, we will use many of Numpy's functions, but the packages that we will use will most certainly be using Numpy under the hood.\n",
        "\n",
        "## Loading packages\n",
        "\n",
        "To load a package so it can be used in your terminal, write the following line:\n",
        "\n",
        "```\n",
        "import PACKAGE as SHORT_NAME\n",
        "```\n",
        "\n",
        "For example, to load Numpy and assign it the (well-known) alias \"np\" we run"
      ]
    },
    {
      "metadata": {
        "id": "FxPqqILaeWva",
        "colab_type": "code",
        "colab": {}
      },
      "cell_type": "code",
      "source": [
        "import numpy as np"
      ],
      "execution_count": 0,
      "outputs": []
    },
    {
      "metadata": {
        "id": "3WV0FYJReqOH",
        "colab_type": "text"
      },
      "cell_type": "markdown",
      "source": [
        "With this, all of numpy is available by calling ```np.NAME```. For example, to check the value of $\\pi$."
      ]
    },
    {
      "metadata": {
        "id": "DhBKYRSAencB",
        "colab_type": "code",
        "outputId": "66df7113-d46e-405c-eab2-6f45cc685f73",
        "colab": {
          "base_uri": "https://localhost:8080/",
          "height": 35
        }
      },
      "cell_type": "code",
      "source": [
        "\n",
        "np.pi"
      ],
      "execution_count": 0,
      "outputs": [
        {
          "output_type": "execute_result",
          "data": {
            "text/plain": [
              "3.141592653589793"
            ]
          },
          "metadata": {
            "tags": []
          },
          "execution_count": 2
        }
      ]
    },
    {
      "metadata": {
        "id": "geCgr2iGezDN",
        "colab_type": "text"
      },
      "cell_type": "markdown",
      "source": [
        "... or to calculate the value of $e^4$."
      ]
    },
    {
      "metadata": {
        "id": "FEFFkAOveyVG",
        "colab_type": "code",
        "outputId": "a25a120e-af7f-4247-f145-f67c3a621cc1",
        "colab": {
          "base_uri": "https://localhost:8080/",
          "height": 35
        }
      },
      "cell_type": "code",
      "source": [
        "np.e ** 4"
      ],
      "execution_count": 0,
      "outputs": [
        {
          "output_type": "execute_result",
          "data": {
            "text/plain": [
              "54.59815003314423"
            ]
          },
          "metadata": {
            "tags": []
          },
          "execution_count": 3
        }
      ]
    },
    {
      "metadata": {
        "id": "mEQ9jjbve4dV",
        "colab_type": "text"
      },
      "cell_type": "markdown",
      "source": [
        "Note that the power function is two asterisks, so for example $4^2$ would require this line of code:"
      ]
    },
    {
      "metadata": {
        "id": "2Dhr4EPYe15k",
        "colab_type": "code",
        "outputId": "a69e3e62-f529-4425-f769-3a1aa9211b69",
        "colab": {
          "base_uri": "https://localhost:8080/",
          "height": 35
        }
      },
      "cell_type": "code",
      "source": [
        "4 ** 2"
      ],
      "execution_count": 0,
      "outputs": [
        {
          "output_type": "execute_result",
          "data": {
            "text/plain": [
              "16"
            ]
          },
          "metadata": {
            "tags": []
          },
          "execution_count": 4
        }
      ]
    },
    {
      "metadata": {
        "id": "oO40Wo37fBEi",
        "colab_type": "text"
      },
      "cell_type": "markdown",
      "source": [
        "Numpy is a **very** extensive package. You can explore the details of it [here](https://docs.scipy.org/doc/numpy-dev/user/quickstart.html). We will now apply it in order to calculate the functions we need.\n",
        "\n",
        "We first start by studying elasticity.\n",
        "\n",
        "## Constant elasticity functions\n",
        "\n",
        "This means the demand function is $𝑑(𝑝)=𝐶𝑝^{−𝜖}$. What is the shape of this function?\n",
        "\n",
        "### Calculating the demand function.\n",
        "\n",
        "We will first create a function using Python. As you studied last week (right????), a function is defined following this convention:\n",
        "\n",
        "```\n",
        "def NAME(PARAMS):\n",
        "    FUNCTION CODE\n",
        "    MORE CODE\n",
        "```\n",
        "\n",
        "So, let's define the function \"d_const_elast\" which will receive the price, the elasticity, and an optional constant with the number of cases that we have."
      ]
    },
    {
      "metadata": {
        "id": "2AFXpYXVfAUb",
        "colab_type": "code",
        "colab": {}
      },
      "cell_type": "code",
      "source": [
        "def d_const_elast(p, elast, C = 100):\n",
        "    out = C * p ** (-1 * elast)\n",
        "    return(out)"
      ],
      "execution_count": 0,
      "outputs": []
    },
    {
      "metadata": {
        "id": "aligxYJEfU52",
        "colab_type": "text"
      },
      "cell_type": "markdown",
      "source": [
        "Now our function is ready to use! See how we give a value to ```C```? This is an **optional variable**. By saying ```C = 100```, we are allowing the function to receive two or three parameters.\n",
        "\n",
        "1. Calling ```d_const_elast(10, 1)``` will calculate the value of the demand using ```p = 10, elast = 1, C = 100```.\n",
        "2. Calling ```d_const_elast(10, 1, 400)``` will calculate the value of the demand using ```C = 400```.\n",
        "3. Calling ```d_const_elast(10)``` will fail.\n",
        "4. Calling ```d_const_elast(elast = 1, p = 10, C = 400)``` (or any other order) also works as long as all the inputs are named!"
      ]
    },
    {
      "metadata": {
        "id": "rVAbSsKWfO6H",
        "colab_type": "code",
        "outputId": "1075a704-c0ea-4374-92cb-bd75469fb1be",
        "colab": {
          "base_uri": "https://localhost:8080/",
          "height": 35
        }
      },
      "cell_type": "code",
      "source": [
        "d_const_elast(10, 1, 400)"
      ],
      "execution_count": 0,
      "outputs": [
        {
          "output_type": "execute_result",
          "data": {
            "text/plain": [
              "40.0"
            ]
          },
          "metadata": {
            "tags": []
          },
          "execution_count": 7
        }
      ]
    },
    {
      "metadata": {
        "id": "xb48cR4ffkgy",
        "colab_type": "code",
        "outputId": "f7491799-e8da-420c-b230-676b95d31ef0",
        "colab": {
          "base_uri": "https://localhost:8080/",
          "height": 35
        }
      },
      "cell_type": "code",
      "source": [
        "d_const_elast(elast = 1, p = 10, C = 400)"
      ],
      "execution_count": 0,
      "outputs": [
        {
          "output_type": "execute_result",
          "data": {
            "text/plain": [
              "40.0"
            ]
          },
          "metadata": {
            "tags": []
          },
          "execution_count": 8
        }
      ]
    },
    {
      "metadata": {
        "id": "YGz38n4aflwD",
        "colab_type": "code",
        "outputId": "e985c463-a470-4181-c8a3-e0b77aa6f9d5",
        "colab": {
          "base_uri": "https://localhost:8080/",
          "height": 35
        }
      },
      "cell_type": "code",
      "source": [
        "d_const_elast(C = 400, elast = 1, p = 10)"
      ],
      "execution_count": 0,
      "outputs": [
        {
          "output_type": "execute_result",
          "data": {
            "text/plain": [
              "40.0"
            ]
          },
          "metadata": {
            "tags": []
          },
          "execution_count": 9
        }
      ]
    },
    {
      "metadata": {
        "id": "oyJJB7Aefm3q",
        "colab_type": "code",
        "outputId": "e2fc100d-af01-4438-912e-f3b299a26a9d",
        "colab": {
          "base_uri": "https://localhost:8080/",
          "height": 172
        }
      },
      "cell_type": "code",
      "source": [
        "d_const_elast(C = 400, elast = 1)"
      ],
      "execution_count": 0,
      "outputs": [
        {
          "output_type": "error",
          "ename": "TypeError",
          "evalue": "ignored",
          "traceback": [
            "\u001b[0;31m---------------------------------------------------------------------------\u001b[0m",
            "\u001b[0;31mTypeError\u001b[0m                                 Traceback (most recent call last)",
            "\u001b[0;32m<ipython-input-10-97bf31394926>\u001b[0m in \u001b[0;36m<module>\u001b[0;34m()\u001b[0m\n\u001b[0;32m----> 1\u001b[0;31m \u001b[0md_const_elast\u001b[0m\u001b[0;34m(\u001b[0m\u001b[0mC\u001b[0m \u001b[0;34m=\u001b[0m \u001b[0;36m400\u001b[0m\u001b[0;34m,\u001b[0m \u001b[0melast\u001b[0m \u001b[0;34m=\u001b[0m \u001b[0;36m1\u001b[0m\u001b[0;34m)\u001b[0m\u001b[0;34m\u001b[0m\u001b[0;34m\u001b[0m\u001b[0m\n\u001b[0m",
            "\u001b[0;31mTypeError\u001b[0m: d_const_elast() missing 1 required positional argument: 'p'"
          ]
        }
      ]
    },
    {
      "metadata": {
        "id": "tIw9LnGDfpRS",
        "colab_type": "text"
      },
      "cell_type": "markdown",
      "source": [
        "The last commands fails because the argument p is **not** an optional argument.\n",
        "\n",
        "### Plotting the function\n",
        "\n",
        "We can now plot the function. We will do so using the extremely powerful package ```matplotlib```, in particular the python implementation ```pyplot```.  We will use the common alias ```plt```."
      ]
    },
    {
      "metadata": {
        "id": "VlK7Afshfofi",
        "colab_type": "code",
        "colab": {}
      },
      "cell_type": "code",
      "source": [
        "import matplotlib.pyplot as plt\n",
        "%matplotlib inline"
      ],
      "execution_count": 0,
      "outputs": []
    },
    {
      "metadata": {
        "id": "WeSkUb3Of24_",
        "colab_type": "text"
      },
      "cell_type": "markdown",
      "source": [
        "The line ```%matplotlib inline``` is called a \"magic\", and is a command that tells Jupyter to do something specific. This commands tells Jupyter to plot inline (i.e. in this notebook directly), instead of saving the image elsewhere. A list of all magic commands is available [here](http://ipython.readthedocs.io/en/stable/interactive/magics.html).\n",
        "\n",
        "We can now plot a function with a constant elasticity over the range [1, 100] with the following functions:"
      ]
    },
    {
      "metadata": {
        "id": "Mm4KTO16f0w_",
        "colab_type": "code",
        "outputId": "d967bf73-93f3-48fe-ba13-5359eda83f65",
        "colab": {
          "base_uri": "https://localhost:8080/",
          "height": 265
        }
      },
      "cell_type": "code",
      "source": [
        "p = np.arange(1, 100.1, 0.1) # Calculates evenly spaced points in the interval 1 to 100.\n",
        "\n",
        "plt.plot(p, d_const_elast(p, 1)) # Applies the vector p to the d_const_elast function using elast = 1\n",
        "plt.show()"
      ],
      "execution_count": 0,
      "outputs": [
        {
          "output_type": "display_data",
          "data": {
            "image/png": "[encoded data removed]",
            "text/plain": [
              "<Figure size 432x288 with 1 Axes>"
            ]
          },
          "metadata": {
            "tags": []
          }
        }
      ]
    },
    {
      "metadata": {
        "id": "30iAu5rEgAGl",
        "colab_type": "text"
      },
      "cell_type": "markdown",
      "source": [
        "We can even compare multiple functions. For example, the following code compares multiple elasticities."
      ]
    },
    {
      "metadata": {
        "id": "C_mL5D03f7VW",
        "colab_type": "code",
        "outputId": "259d1d01-8640-49d3-f95b-8e3ca2b49eb7",
        "colab": {
          "base_uri": "https://localhost:8080/",
          "height": 265
        }
      },
      "cell_type": "code",
      "source": [
        "plt.plot(p, d_const_elast(p, 0.5))\n",
        "plt.plot(p, d_const_elast(p, 1))\n",
        "plt.plot(p, d_const_elast(p, 1.5))\n",
        "\n",
        "plt.legend(['$\\epsilon = 0.5$', '$\\epsilon = 1$', '$\\epsilon = 1.5$'])\n",
        "\n",
        "plt.show()"
      ],
      "execution_count": 0,
      "outputs": [
        {
          "output_type": "display_data",
          "data": {
            "image/png": "[encoded data removed]",
            "text/plain": [
              "<Figure size 432x288 with 1 Axes>"
            ]
          },
          "metadata": {
            "tags": []
          }
        }
      ]
    },
    {
      "metadata": {
        "id": "v-PkqmeUgFFU",
        "colab_type": "text"
      },
      "cell_type": "markdown",
      "source": [
        "## Littlewood's rule and protection levels.\n",
        "\n",
        "We will now calculate the Littlewood rule for a continuous function. The idea is to calculate the limit $y_1$ such that:\n",
        "\n",
        "$$\n",
        "p_2 = p_1 P(D_1 \\ge y_1)\n",
        "$$\n",
        "\n",
        "Let's assume the following:\n",
        "\n",
        "- $p_1 = 300$\n",
        "- $p_2 = 100$\n",
        "- The first class demand distributes as a [gamma](http://www.itl.nist.gov/div898/handbook/eda/section3/eda366b.htm) distribution of parameter 5.\n",
        "- The plane has 1,000 seats (i.e. the scale of the distribution is 50).\n",
        "\n",
        "For this, we will use the \"sister\" package of Numpy, Scipy. Scipy comes with the useful \"stats\" subpackage, with includes a large number of statistical distributions. To use one, we will first import the package, create our distribution, and then plot the CDF and PDF."
      ]
    },
    {
      "metadata": {
        "id": "QUjV0OJygBns",
        "colab_type": "code",
        "colab": {}
      },
      "cell_type": "code",
      "source": [
        "import scipy.stats as stats"
      ],
      "execution_count": 0,
      "outputs": []
    },
    {
      "metadata": {
        "id": "HZ1mb1vLgHZb",
        "colab_type": "code",
        "colab": {}
      },
      "cell_type": "code",
      "source": [
        "fp = stats.gamma(a = 5, scale = 50) # Creates the distribution with the parameters we got."
      ],
      "execution_count": 0,
      "outputs": []
    },
    {
      "metadata": {
        "id": "69EGfrKngJLD",
        "colab_type": "code",
        "outputId": "70f88b9e-8eea-4528-ea9e-c20c9b95acb6",
        "colab": {
          "base_uri": "https://localhost:8080/",
          "height": 305
        }
      },
      "cell_type": "code",
      "source": [
        "# Sequence over which to plot.\n",
        "t = np.arange(0, 1000, 0.01)\n",
        "\n",
        "# Create an overall figure\n",
        "plt.figure(1)\n",
        "\n",
        "# CDF plot\n",
        "plt.subplot(121)\n",
        "plt.plot(t, fp.cdf(t))\n",
        "plt.title('CDF')\n",
        "\n",
        "# PDF plot\n",
        "plt.subplot(122)\n",
        "plt.plot(t, fp.pdf(t))\n",
        "plt.title('PDF')\n",
        "\n",
        "# Minor adjustments to size and shape\n",
        "plt.subplots_adjust(top=0.92, bottom=0.08, left=0.10, right=0.95, hspace=0.25,\n",
        "                    wspace=0.35)\n",
        "\n",
        "\n",
        "plt.show()"
      ],
      "execution_count": 0,
      "outputs": [
        {
          "output_type": "display_data",
          "data": {
            "image/png": "[encoded data removed]",
            "text/plain": [
              "<Figure size 432x288 with 2 Axes>"
            ]
          },
          "metadata": {
            "tags": []
          }
        }
      ]
    },
    {
      "metadata": {
        "id": "KiGyuN9hgNuV",
        "colab_type": "text"
      },
      "cell_type": "markdown",
      "source": [
        "Now we can solve the equation. For this, we need to calculate the point where the CDF is equal to the proportion of prices. We can use the function ```fsolve``` from the subpackage ```scipy.optimize```. We don't need the whole package, just one function, so we can import it as follows:"
      ]
    },
    {
      "metadata": {
        "id": "U1V63ZMtgLdT",
        "colab_type": "code",
        "colab": {}
      },
      "cell_type": "code",
      "source": [
        "from scipy.optimize import fsolve"
      ],
      "execution_count": 0,
      "outputs": []
    },
    {
      "metadata": {
        "id": "zq-yZHg-gWDZ",
        "colab_type": "text"
      },
      "cell_type": "markdown",
      "source": [
        "Now the function is available without calling any other package before it (so no ```x.fsolve```).\n",
        "\n",
        "The function ```fsolve``` finds the solution to equations of the form $f(x)=0$. It takes as mandatory arguments the function, and a first guess (which must be sufficiently close to the real solution!).\n",
        "\n",
        "Let's program the function to optimize."
      ]
    },
    {
      "metadata": {
        "id": "Xy0XSuppgWX3",
        "colab_type": "code",
        "colab": {}
      },
      "cell_type": "code",
      "source": [
        "def flittle(y, p1 = 300, p2 = 100):\n",
        "    out = 1- fp.cdf(y) - p2/p1\n",
        "    return(out)"
      ],
      "execution_count": 0,
      "outputs": []
    },
    {
      "metadata": {
        "id": "fr-xq-hCgXx4",
        "colab_type": "code",
        "outputId": "45b3c7f0-6640-4c87-a1e4-be0e0434fda9",
        "colab": {
          "base_uri": "https://localhost:8080/",
          "height": 35
        }
      },
      "cell_type": "code",
      "source": [
        "flittle(100)"
      ],
      "execution_count": 0,
      "outputs": [
        {
          "output_type": "execute_result",
          "data": {
            "text/plain": [
              "0.6140136493229555"
            ]
          },
          "metadata": {
            "tags": []
          },
          "execution_count": 20
        }
      ]
    },
    {
      "metadata": {
        "id": "But0Tom1gZIP",
        "colab_type": "code",
        "outputId": "7402580e-ddb8-45b0-d514-7b7eba133a02",
        "colab": {
          "base_uri": "https://localhost:8080/",
          "height": 35
        }
      },
      "cell_type": "code",
      "source": [
        "fsolve(flittle, 100)"
      ],
      "execution_count": 0,
      "outputs": [
        {
          "output_type": "execute_result",
          "data": {
            "text/plain": [
              "array([282.93393485])"
            ]
          },
          "metadata": {
            "tags": []
          },
          "execution_count": 21
        }
      ]
    },
    {
      "metadata": {
        "id": "s2YzMrjkgeVC",
        "colab_type": "text"
      },
      "cell_type": "markdown",
      "source": [
        "This is telling us that the optimal reservation quantity is 282 seats, i.e., we should only sell $1000 - 282 = 718$ seats to class 2.\n",
        "\n",
        "## EMSR-b\n",
        "\n",
        "Finally, we will estimate EMSR-b for continuous distributions. The pooling of the demand makes this a bit more of a complicated measure, but this can easily be solved with a good estimation of the demand.\n",
        "\n",
        "For example, if we assume that the demands are normal, such that each demand has a mean $\\mu_j$ and a variance $\\sigma^2_j$, then the remaining demand will simply be the sum of the remaining elements, i.e.\n",
        "\n",
        "$$\n",
        "\\mu_j = \\sum_{i=1}^j \\mu_i\n",
        "$$\n",
        "\n",
        "and\n",
        "\n",
        "$$\n",
        "\\sigma^2_j = \\sum_{i=1}^j \\sigma^2_i\n",
        "$$\n",
        "\n",
        "As an example, let us consider three classes such that:\n",
        "\n",
        "- Class one has $p_1 = 500, \\mu_1 = 50, \\sigma^2_1 = 100$.\n",
        "- Class two has $p_2 = 250, \\mu_1 = 300, \\sigma^2_2 = 1000$.\n",
        "- Class three has $p_3 = 100, \\mu_1 = 1000, \\sigma^2_2 = 5000$.\n",
        "\n",
        "This means that setting the price from class three requires pooling demand and applying Littlewood's rule. We start by defining this problem using vectors."
      ]
    },
    {
      "metadata": {
        "id": "cj7knotpgalw",
        "colab_type": "code",
        "colab": {}
      },
      "cell_type": "code",
      "source": [
        "p = [500, 250, 100]\n",
        "mu = [50, 300, 1000]\n",
        "sigmasq = [100, 1000, 5000]"
      ],
      "execution_count": 0,
      "outputs": []
    },
    {
      "metadata": {
        "id": "mSkOnnD_gnQc",
        "colab_type": "text"
      },
      "cell_type": "markdown",
      "source": [
        "We can now calculate first the weighted average price observed by class three. The argument \"weights\" of ```np.average``` allows to quickly calculate weighted averages."
      ]
    },
    {
      "metadata": {
        "id": "C31KAQyFglWN",
        "colab_type": "code",
        "outputId": "4003db4a-0353-4057-d253-147b5ca082ad",
        "colab": {
          "base_uri": "https://localhost:8080/",
          "height": 35
        }
      },
      "cell_type": "code",
      "source": [
        "pavg = np.average(p[1:2], weights=mu[1:2])\n",
        "pavg"
      ],
      "execution_count": 0,
      "outputs": [
        {
          "output_type": "execute_result",
          "data": {
            "text/plain": [
              "250.0"
            ]
          },
          "metadata": {
            "tags": []
          },
          "execution_count": 23
        }
      ]
    },
    {
      "metadata": {
        "id": "1T-pPnK4grO8",
        "colab_type": "text"
      },
      "cell_type": "markdown",
      "source": [
        "And the parameters for the normal distribution will be:"
      ]
    },
    {
      "metadata": {
        "id": "z76HD-HGgpDl",
        "colab_type": "code",
        "outputId": "d91b6189-daac-4a6b-9a1c-a677b0db1e02",
        "colab": {
          "base_uri": "https://localhost:8080/",
          "height": 54
        }
      },
      "cell_type": "code",
      "source": [
        "muavg = np.sum(mu[0:2])\n",
        "ssqavg = np.sum(sigmasq[0:2])\n",
        "print('mu = ', muavg)\n",
        "print('sigmasq = ', ssqavg)"
      ],
      "execution_count": 0,
      "outputs": [
        {
          "output_type": "stream",
          "text": [
            "mu =  350\n",
            "sigmasq =  1100\n"
          ],
          "name": "stdout"
        }
      ]
    },
    {
      "metadata": {
        "id": "y_LuffXrgugc",
        "colab_type": "text"
      },
      "cell_type": "markdown",
      "source": [
        "We can now apply Littlewood's rule iteratively using the normal function as a base. Starting from the first class to the second."
      ]
    },
    {
      "metadata": {
        "id": "L0lo1dq5gsn8",
        "colab_type": "code",
        "outputId": "edb667b5-83ac-46e7-94ad-e78373acff9c",
        "colab": {
          "base_uri": "https://localhost:8080/",
          "height": 35
        }
      },
      "cell_type": "code",
      "source": [
        "normal = stats.norm(loc = mu[0], scale = np.sqrt(sigmasq[0]))\n",
        "def flittle(y, p1 = p[0], p2 = p[1]):\n",
        "    out = 1 - normal.cdf(y) - p2/p1\n",
        "    return(out)\n",
        "\n",
        "fsolve(flittle, 70)"
      ],
      "execution_count": 0,
      "outputs": [
        {
          "output_type": "execute_result",
          "data": {
            "text/plain": [
              "array([50.])"
            ]
          },
          "metadata": {
            "tags": []
          },
          "execution_count": 25
        }
      ]
    },
    {
      "metadata": {
        "id": "2nAtGK_QgzHi",
        "colab_type": "text"
      },
      "cell_type": "markdown",
      "source": [
        "This means, 50 seats should be saved for class 1. \n",
        "\n",
        "We can now calculate the prices for the aggregated class to class three."
      ]
    },
    {
      "metadata": {
        "id": "hIH697nZgw3j",
        "colab_type": "code",
        "outputId": "4dcb05e0-0874-49d5-9eee-710d7288cd75",
        "colab": {
          "base_uri": "https://localhost:8080/",
          "height": 35
        }
      },
      "cell_type": "code",
      "source": [
        "normal = stats.norm(loc = muavg, scale = np.sqrt(ssqavg))\n",
        "def flittle(y, p1 = pavg, p2 = p[2]):\n",
        "    out = 1 - normal.cdf(y) - p2/p1\n",
        "    return(out)\n",
        "\n",
        "fsolve(flittle, 300)"
      ],
      "execution_count": 0,
      "outputs": [
        {
          "output_type": "execute_result",
          "data": {
            "text/plain": [
              "array([358.40257283])"
            ]
          },
          "metadata": {
            "tags": []
          },
          "execution_count": 26
        }
      ]
    },
    {
      "metadata": {
        "id": "dxoz9E4vg3Qa",
        "colab_type": "text"
      },
      "cell_type": "markdown",
      "source": [
        "So 358 seats should be saved for the remaining classes. That means that $358 - 50 = 308$ are saved for class 2. The remaining $1000 - 358 = 642$ can be freely sold to class three.\n",
        "\n",
        "**Note: An earlier version of this notebook incorrectly showed 692 seats for class 3. This has been corrected (thanks Hana!)**\n",
        "\n",
        "## Self-study\n",
        "\n",
        "Implement EMSR-a for the example above, and compare the results. Which one gives better results? Does that satisfy what you expected.\n",
        "\n",
        "Now you are ready to answer question 2 of the first coursework!"
      ]
    }
  ]
}