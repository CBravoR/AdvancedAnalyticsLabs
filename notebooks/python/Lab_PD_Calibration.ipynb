{
  "nbformat": 4,
  "nbformat_minor": 0,
  "metadata": {
    "colab": {
      "provenance": [],
      "include_colab_link": true
    },
    "kernelspec": {
      "name": "python3",
      "display_name": "Python 3"
    }
  },
  "cells": [
    {
      "cell_type": "markdown",
      "metadata": {
        "id": "view-in-github",
        "colab_type": "text"
      },
      "source": [
        "<a href=\"https://colab.research.google.com/github/CBravoR/AdvancedAnalyticsLabs/blob/master/notebooks/python/Lab_PD_Calibration.ipynb\" target=\"_parent\"><img src=\"https://colab.research.google.com/assets/colab-badge.svg\" alt=\"Open In Colab\"/></a>"
      ]
    },
    {
      "cell_type": "markdown",
      "metadata": {
        "id": "dcxUDe3dWTOx"
      },
      "source": [
        "# PD Calibration\n",
        "\n",
        "In this lab we will learn how to estimate the long-run PD after a model has been trained. The PD calibration can be done with the score, the monthly portfolio each case belongs to (usually the behavioural scorecard is used), the labels (Default / Non-Default) and a set of economic factors. For this work we will use an exchange rate and a commodity price.\n",
        "\n",
        "First, we load the data. It is in Excel, so we use the appropriate function from polars. We require the fastexcel package for that.. There are two worksheets: The first one contains the data for each borrower and each portfolio, and the second one contains the macro factor at each month."
      ]
    },
    {
      "cell_type": "code",
      "source": [
        "# Install required packages\n",
        "!pip install fastexcel pwlf"
      ],
      "metadata": {
        "colab": {
          "base_uri": "https://localhost:8080/"
        },
        "id": "IXYhbTwqPlpw",
        "outputId": "2482d046-99ce-401e-c0e9-c0fd3070fda6"
      },
      "execution_count": 1,
      "outputs": [
        {
          "output_type": "stream",
          "name": "stdout",
          "text": [
            "Collecting fastexcel\n",
            "  Downloading fastexcel-0.13.0-cp39-abi3-manylinux_2_17_x86_64.manylinux2014_x86_64.whl.metadata (3.5 kB)\n",
            "Collecting pwlf\n",
            "  Downloading pwlf-2.5.1-py3-none-any.whl.metadata (6.3 kB)\n",
            "Requirement already satisfied: pyarrow>=8.0.0 in /usr/local/lib/python3.11/dist-packages (from fastexcel) (18.1.0)\n",
            "Requirement already satisfied: numpy>=1.14.0 in /usr/local/lib/python3.11/dist-packages (from pwlf) (1.26.4)\n",
            "Requirement already satisfied: scipy>=1.8.0 in /usr/local/lib/python3.11/dist-packages (from pwlf) (1.14.1)\n",
            "Downloading fastexcel-0.13.0-cp39-abi3-manylinux_2_17_x86_64.manylinux2014_x86_64.whl (1.3 MB)\n",
            "\u001b[2K   \u001b[90m━━━━━━━━━━━━━━━━━━━━━━━━━━━━━━━━━━━━━━━━\u001b[0m \u001b[32m1.3/1.3 MB\u001b[0m \u001b[31m12.0 MB/s\u001b[0m eta \u001b[36m0:00:00\u001b[0m\n",
            "\u001b[?25hDownloading pwlf-2.5.1-py3-none-any.whl (17 kB)\n",
            "Installing collected packages: fastexcel, pwlf\n",
            "Successfully installed fastexcel-0.13.0 pwlf-2.5.1\n"
          ]
        }
      ]
    },
    {
      "cell_type": "code",
      "metadata": {
        "id": "Ti0EPEhUaUBL"
      },
      "source": [
        "# Package load\n",
        "import pandas as pd\n",
        "import polars as pl\n",
        "import numpy as np\n",
        "import matplotlib.pyplot as plt\n",
        "import seaborn as sns\n",
        "%matplotlib inline\n",
        "\n",
        "# Date management\n",
        "from datetime import date\n",
        "from dateutil.relativedelta import *\n",
        "\n",
        "# Preprocessing\n",
        "from sklearn.preprocessing import StandardScaler\n",
        "\n",
        "# Evaluation\n",
        "from sklearn.metrics import roc_curve, roc_auc_score\n",
        "\n",
        "# Piecewise functions\n",
        "import pwlf\n",
        "\n",
        "# Time series\n",
        "from statsmodels.tsa.seasonal import seasonal_decompose\n",
        "from statsmodels.tsa.statespace.sarimax import SARIMAX\n",
        "\n",
        "# Bigger and prettier plots\n",
        "plt.rcParams['figure.figsize'] = (10, 5)\n",
        "plt.style.use('fivethirtyeight')"
      ],
      "execution_count": 82,
      "outputs": []
    },
    {
      "cell_type": "code",
      "metadata": {
        "id": "U4aDtYQiacvR",
        "colab": {
          "base_uri": "https://localhost:8080/"
        },
        "outputId": "d5484b23-edb8-41bb-ceb0-f6786b0a8ffe"
      },
      "source": [
        "# Download Excel file\n",
        "!gdown 'https://drive.google.com/uc?id=1UYmgsu5gI5U_VbraKXHxWTXyZSbM6q5S'"
      ],
      "execution_count": 83,
      "outputs": [
        {
          "output_type": "stream",
          "name": "stdout",
          "text": [
            "Downloading...\n",
            "From: https://drive.google.com/uc?id=1UYmgsu5gI5U_VbraKXHxWTXyZSbM6q5S\n",
            "To: /content/PDCalExample.xlsx\n",
            "\r  0% 0.00/243k [00:00<?, ?B/s]\r100% 243k/243k [00:00<00:00, 92.5MB/s]\n"
          ]
        }
      ]
    },
    {
      "cell_type": "code",
      "metadata": {
        "id": "zsBV0xEuaodx"
      },
      "source": [
        "# Load the data. Two datasets are necessary.\n",
        "loans = pl.read_excel('PDCalExample.xlsx', # Filename\n",
        "                      sheet_id=1,         # Worksheet index. 0 means \"return a dictionary with all\".\n",
        "                      )\n",
        "\n",
        "econ_factors = pl.read_excel('PDCalExample.xlsx', # Filename\n",
        "                             sheet_id=2,          # Worksheet index. 0 means \"return a dictionary with all\".\n",
        "                             )"
      ],
      "execution_count": 84,
      "outputs": []
    },
    {
      "cell_type": "code",
      "source": [
        "loans.describe()"
      ],
      "metadata": {
        "colab": {
          "base_uri": "https://localhost:8080/",
          "height": 380
        },
        "id": "whaMeFFqQUpO",
        "outputId": "fb167684-f1ba-4430-87a1-2cd5bdd6b351"
      },
      "execution_count": 85,
      "outputs": [
        {
          "output_type": "execute_result",
          "data": {
            "text/plain": [
              "shape: (9, 4)\n",
              "┌────────────┬───────────┬──────────┬──────────┐\n",
              "│ statistic  ┆ Portfolio ┆ Default  ┆ Probs    │\n",
              "│ ---        ┆ ---       ┆ ---      ┆ ---      │\n",
              "│ str        ┆ f64       ┆ f64      ┆ f64      │\n",
              "╞════════════╪═══════════╪══════════╪══════════╡\n",
              "│ count      ┆ 8692.0    ┆ 8692.0   ┆ 8692.0   │\n",
              "│ null_count ┆ 0.0       ┆ 0.0      ┆ 0.0      │\n",
              "│ mean       ┆ 54.051427 ┆ 0.064082 ┆ 0.349971 │\n",
              "│ std        ┆ 31.922776 ┆ 0.244913 ┆ 0.259618 │\n",
              "│ min        ┆ 1.0       ┆ 0.0      ┆ 0.000373 │\n",
              "│ 25%        ┆ 26.0      ┆ 0.0      ┆ 0.124056 │\n",
              "│ 50%        ┆ 54.0      ┆ 0.0      ┆ 0.304192 │\n",
              "│ 75%        ┆ 82.0      ┆ 0.0      ┆ 0.539703 │\n",
              "│ max        ┆ 108.0     ┆ 1.0      ┆ 0.979051 │\n",
              "└────────────┴───────────┴──────────┴──────────┘"
            ],
            "text/html": [
              "<div><style>\n",
              ".dataframe > thead > tr,\n",
              ".dataframe > tbody > tr {\n",
              "  text-align: right;\n",
              "  white-space: pre-wrap;\n",
              "}\n",
              "</style>\n",
              "<small>shape: (9, 4)</small><table border=\"1\" class=\"dataframe\"><thead><tr><th>statistic</th><th>Portfolio</th><th>Default</th><th>Probs</th></tr><tr><td>str</td><td>f64</td><td>f64</td><td>f64</td></tr></thead><tbody><tr><td>&quot;count&quot;</td><td>8692.0</td><td>8692.0</td><td>8692.0</td></tr><tr><td>&quot;null_count&quot;</td><td>0.0</td><td>0.0</td><td>0.0</td></tr><tr><td>&quot;mean&quot;</td><td>54.051427</td><td>0.064082</td><td>0.349971</td></tr><tr><td>&quot;std&quot;</td><td>31.922776</td><td>0.244913</td><td>0.259618</td></tr><tr><td>&quot;min&quot;</td><td>1.0</td><td>0.0</td><td>0.000373</td></tr><tr><td>&quot;25%&quot;</td><td>26.0</td><td>0.0</td><td>0.124056</td></tr><tr><td>&quot;50%&quot;</td><td>54.0</td><td>0.0</td><td>0.304192</td></tr><tr><td>&quot;75%&quot;</td><td>82.0</td><td>0.0</td><td>0.539703</td></tr><tr><td>&quot;max&quot;</td><td>108.0</td><td>1.0</td><td>0.979051</td></tr></tbody></table></div>"
            ]
          },
          "metadata": {},
          "execution_count": 85
        }
      ]
    },
    {
      "cell_type": "code",
      "metadata": {
        "id": "12vzlarlbtCp",
        "colab": {
          "base_uri": "https://localhost:8080/",
          "height": 380
        },
        "outputId": "e78d8fbb-895b-45c7-b0c5-e59f8537c514"
      },
      "source": [
        "econ_factors.describe()"
      ],
      "execution_count": 86,
      "outputs": [
        {
          "output_type": "execute_result",
          "data": {
            "text/plain": [
              "shape: (9, 4)\n",
              "┌────────────┬───────────┬────────────┬──────────────┐\n",
              "│ statistic  ┆ Portfolio ┆ Commodity  ┆ ExchangeRate │\n",
              "│ ---        ┆ ---       ┆ ---        ┆ ---          │\n",
              "│ str        ┆ f64       ┆ f64        ┆ f64          │\n",
              "╞════════════╪═══════════╪════════════╪══════════════╡\n",
              "│ count      ┆ 108.0     ┆ 108.0      ┆ 108.0        │\n",
              "│ null_count ┆ 0.0       ┆ 0.0        ┆ 0.0          │\n",
              "│ mean       ┆ 54.5      ┆ 2.2097e6   ┆ 589.928148   │\n",
              "│ std        ┆ 31.32092  ┆ 1.1605e6   ┆ 76.351437    │\n",
              "│ min        ┆ 1.0       ┆ 743331.8   ┆ 437.08       │\n",
              "│ 25%        ┆ 28.0      ┆ 1.140213e6 ┆ 526.48       │\n",
              "│ 50%        ┆ 55.0      ┆ 1.970861e6 ┆ 577.85       │\n",
              "│ 75%        ┆ 81.0      ┆ 3.371706e6 ┆ 655.55       │\n",
              "│ max        ┆ 108.0     ┆ 4.225879e6 ┆ 749.25       │\n",
              "└────────────┴───────────┴────────────┴──────────────┘"
            ],
            "text/html": [
              "<div><style>\n",
              ".dataframe > thead > tr,\n",
              ".dataframe > tbody > tr {\n",
              "  text-align: right;\n",
              "  white-space: pre-wrap;\n",
              "}\n",
              "</style>\n",
              "<small>shape: (9, 4)</small><table border=\"1\" class=\"dataframe\"><thead><tr><th>statistic</th><th>Portfolio</th><th>Commodity</th><th>ExchangeRate</th></tr><tr><td>str</td><td>f64</td><td>f64</td><td>f64</td></tr></thead><tbody><tr><td>&quot;count&quot;</td><td>108.0</td><td>108.0</td><td>108.0</td></tr><tr><td>&quot;null_count&quot;</td><td>0.0</td><td>0.0</td><td>0.0</td></tr><tr><td>&quot;mean&quot;</td><td>54.5</td><td>2.2097e6</td><td>589.928148</td></tr><tr><td>&quot;std&quot;</td><td>31.32092</td><td>1.1605e6</td><td>76.351437</td></tr><tr><td>&quot;min&quot;</td><td>1.0</td><td>743331.8</td><td>437.08</td></tr><tr><td>&quot;25%&quot;</td><td>28.0</td><td>1.140213e6</td><td>526.48</td></tr><tr><td>&quot;50%&quot;</td><td>55.0</td><td>1.970861e6</td><td>577.85</td></tr><tr><td>&quot;75%&quot;</td><td>81.0</td><td>3.371706e6</td><td>655.55</td></tr><tr><td>&quot;max&quot;</td><td>108.0</td><td>4.225879e6</td><td>749.25</td></tr></tbody></table></div>"
            ]
          },
          "metadata": {},
          "execution_count": 86
        }
      ]
    },
    {
      "cell_type": "markdown",
      "metadata": {
        "id": "3qz3eQS9Ci1s"
      },
      "source": [
        "Let's normalize the economic factors using a z-transform."
      ]
    },
    {
      "cell_type": "code",
      "metadata": {
        "id": "aNjL6BHPCmjO",
        "colab": {
          "base_uri": "https://localhost:8080/",
          "height": 380
        },
        "outputId": "e93a1f7f-1248-46a5-9f14-e820630dfb2f"
      },
      "source": [
        "# Create the column transformer\n",
        "scaler = StandardScaler()\n",
        "\n",
        "econ_factors = scaler.fit_transform(econ_factors)\n",
        "econ_factors = pl.DataFrame(econ_factors)\n",
        "econ_factors.columns = ['Portfolio', 'Exchange', 'Commodity']\n",
        "econ_factors.describe()"
      ],
      "execution_count": 87,
      "outputs": [
        {
          "output_type": "execute_result",
          "data": {
            "text/plain": [
              "shape: (9, 4)\n",
              "┌────────────┬─────────────┬────────────┬────────────┐\n",
              "│ statistic  ┆ Portfolio   ┆ Exchange   ┆ Commodity  │\n",
              "│ ---        ┆ ---         ┆ ---        ┆ ---        │\n",
              "│ str        ┆ f64         ┆ f64        ┆ f64        │\n",
              "╞════════════╪═════════════╪════════════╪════════════╡\n",
              "│ count      ┆ 108.0       ┆ 108.0      ┆ 108.0      │\n",
              "│ null_count ┆ 0.0         ┆ 0.0        ┆ 0.0        │\n",
              "│ mean       ┆ -1.3981e-16 ┆ 2.4466e-16 ┆ 3.2895e-16 │\n",
              "│ std        ┆ 1.004662    ┆ 1.004662   ┆ 1.004662   │\n",
              "│ min        ┆ -1.716087   ┆ -1.269424  ┆ -2.011236  │\n",
              "│ 25%        ┆ -0.850024   ┆ -0.925852  ┆ -0.834876  │\n",
              "│ 50%        ┆ 0.016038    ┆ -0.206776  ┆ -0.158929  │\n",
              "│ 75%        ┆ 0.850024    ┆ 1.005909   ┆ 0.863478   │\n",
              "│ max        ┆ 1.716087    ┆ 1.74535    ┆ 2.096419   │\n",
              "└────────────┴─────────────┴────────────┴────────────┘"
            ],
            "text/html": [
              "<div><style>\n",
              ".dataframe > thead > tr,\n",
              ".dataframe > tbody > tr {\n",
              "  text-align: right;\n",
              "  white-space: pre-wrap;\n",
              "}\n",
              "</style>\n",
              "<small>shape: (9, 4)</small><table border=\"1\" class=\"dataframe\"><thead><tr><th>statistic</th><th>Portfolio</th><th>Exchange</th><th>Commodity</th></tr><tr><td>str</td><td>f64</td><td>f64</td><td>f64</td></tr></thead><tbody><tr><td>&quot;count&quot;</td><td>108.0</td><td>108.0</td><td>108.0</td></tr><tr><td>&quot;null_count&quot;</td><td>0.0</td><td>0.0</td><td>0.0</td></tr><tr><td>&quot;mean&quot;</td><td>-1.3981e-16</td><td>2.4466e-16</td><td>3.2895e-16</td></tr><tr><td>&quot;std&quot;</td><td>1.004662</td><td>1.004662</td><td>1.004662</td></tr><tr><td>&quot;min&quot;</td><td>-1.716087</td><td>-1.269424</td><td>-2.011236</td></tr><tr><td>&quot;25%&quot;</td><td>-0.850024</td><td>-0.925852</td><td>-0.834876</td></tr><tr><td>&quot;50%&quot;</td><td>0.016038</td><td>-0.206776</td><td>-0.158929</td></tr><tr><td>&quot;75%&quot;</td><td>0.850024</td><td>1.005909</td><td>0.863478</td></tr><tr><td>&quot;max&quot;</td><td>1.716087</td><td>1.74535</td><td>2.096419</td></tr></tbody></table></div>"
            ]
          },
          "metadata": {},
          "execution_count": 87
        }
      ]
    },
    {
      "cell_type": "markdown",
      "metadata": {
        "id": "N1Tz_odabxtx"
      },
      "source": [
        "## Defining Ratings\n",
        "\n",
        "We have all the data we need. Let's start then by obtaining PD segments. Basel suggests building 7-15 segments. For this, we can use the excellent package [pwlf](https://pypi.org/project/pwlf/). It will allow segmenting a curve using a given number of cuts.\n",
        "\n",
        "Which curve do we need to segment? The ROC curve!"
      ]
    },
    {
      "cell_type": "code",
      "metadata": {
        "id": "3wgbSkL5bugp",
        "colab": {
          "base_uri": "https://localhost:8080/",
          "height": 322
        },
        "outputId": "c163cc41-59c3-4d69-e443-403c00554771"
      },
      "source": [
        "# Calculate the ROC curve points\n",
        "fpr, tpr, thresholds = roc_curve(loans['Default'],\n",
        "                                 loans['Probs'])\n",
        "\n",
        "# Correct the infinite threshold\n",
        "thresholds[0] = 1\n",
        "\n",
        "# Save the AUC in a variable to display it. Round it first\n",
        "auc = np.round(roc_auc_score(y_true = loans['Default'],\n",
        "                             y_score = loans['Probs']),\n",
        "               decimals = 3)\n",
        "\n",
        "# Create and show the plot\n",
        "plt.plot(fpr,tpr,label=\"Scorecard, auc=\"+str(auc))\n",
        "plt.legend(loc=4)\n",
        "plt.show()"
      ],
      "execution_count": 88,
      "outputs": [
        {
          "output_type": "display_data",
          "data": {
            "text/plain": [
              "<Figure size 1000x500 with 1 Axes>"
            ],
            "image/png": "[encoded data removed]"
          },
          "metadata": {}
        }
      ]
    },
    {
      "cell_type": "markdown",
      "metadata": {
        "id": "Ash0iqXQdMzB"
      },
      "source": [
        "Now we can segment the curve. The process takes a while to run, and sadly it is sequential, so go make yourself a coffee / tea while this runs."
      ]
    },
    {
      "cell_type": "code",
      "metadata": {
        "id": "VjCu3fRUcr3i"
      },
      "source": [
        "# Define the curve with the ROC curve\n",
        "piecewise_AUC = pwlf.PiecewiseLinFit(fpr, tpr)"
      ],
      "execution_count": 89,
      "outputs": []
    },
    {
      "cell_type": "code",
      "metadata": {
        "id": "516fa5czzdsv"
      },
      "source": [
        "# Calculate the best curve. Long!\n",
        "nr_cuts = 10\n",
        "res = piecewise_AUC.fitfast(nr_cuts, pop=2)"
      ],
      "execution_count": 90,
      "outputs": []
    },
    {
      "cell_type": "markdown",
      "metadata": {
        "id": "bxSDJS5Jde1f"
      },
      "source": [
        "As this is a long process, it is a good idea to save the results. The object res can be pickled, or simply the cuts can be saved in a commented line."
      ]
    },
    {
      "cell_type": "code",
      "metadata": {
        "id": "Qws6gZyZc0Lb",
        "colab": {
          "base_uri": "https://localhost:8080/"
        },
        "outputId": "642a38f6-e3d3-4e61-b399-109d4a2b5d64"
      },
      "source": [
        "res"
      ],
      "execution_count": 91,
      "outputs": [
        {
          "output_type": "execute_result",
          "data": {
            "text/plain": [
              "array([0.        , 0.03567648, 0.09820139, 0.20725598, 0.35070974,\n",
              "       0.60194519, 0.6185085 , 0.71395248, 0.7275968 , 0.84085931,\n",
              "       1.        ])"
            ]
          },
          "metadata": {},
          "execution_count": 91
        }
      ]
    },
    {
      "cell_type": "code",
      "metadata": {
        "id": "xZG91rd0dolJ"
      },
      "source": [
        "# Use previous result\n",
        "#res = [0.        , 0.01383389, 0.03920524, 0.07731607, 0.11285577,\n",
        "#      0.20653665, 0.32339978, 0.41818781, 0.57283343, 0.7999917 ,\n",
        "#      1.\n",
        "#      ]"
      ],
      "execution_count": 92,
      "outputs": []
    },
    {
      "cell_type": "code",
      "metadata": {
        "id": "e05QF34ywlIg",
        "colab": {
          "base_uri": "https://localhost:8080/",
          "height": 424
        },
        "outputId": "2c87f316-5f93-4ce1-d263-ac4ed9af2544"
      },
      "source": [
        "ROC_curve = pd.DataFrame({'fpr': fpr, 'threshold': thresholds})\n",
        "ROC_curve"
      ],
      "execution_count": 93,
      "outputs": [
        {
          "output_type": "execute_result",
          "data": {
            "text/plain": [
              "          fpr  threshold\n",
              "0    0.000000   1.000000\n",
              "1    0.000000   0.979051\n",
              "2    0.000000   0.978832\n",
              "3    0.000123   0.977950\n",
              "4    0.000123   0.975281\n",
              "..        ...        ...\n",
              "941  0.853841   0.064561\n",
              "942  0.854087   0.064467\n",
              "943  0.925384   0.019778\n",
              "944  0.925630   0.019769\n",
              "945  1.000000   0.000373\n",
              "\n",
              "[946 rows x 2 columns]"
            ],
            "text/html": [
              "\n",
              "  <div id=\"df-90413dd0-50f7-4d69-a1a2-5c7b00cda0d9\" class=\"colab-df-container\">\n",
              "    <div>\n",
              "<style scoped>\n",
              "    .dataframe tbody tr th:only-of-type {\n",
              "        vertical-align: middle;\n",
              "    }\n",
              "\n",
              "    .dataframe tbody tr th {\n",
              "        vertical-align: top;\n",
              "    }\n",
              "\n",
              "    .dataframe thead th {\n",
              "        text-align: right;\n",
              "    }\n",
              "</style>\n",
              "<table border=\"1\" class=\"dataframe\">\n",
              "  <thead>\n",
              "    <tr style=\"text-align: right;\">\n",
              "      <th></th>\n",
              "      <th>fpr</th>\n",
              "      <th>threshold</th>\n",
              "    </tr>\n",
              "  </thead>\n",
              "  <tbody>\n",
              "    <tr>\n",
              "      <th>0</th>\n",
              "      <td>0.000000</td>\n",
              "      <td>1.000000</td>\n",
              "    </tr>\n",
              "    <tr>\n",
              "      <th>1</th>\n",
              "      <td>0.000000</td>\n",
              "      <td>0.979051</td>\n",
              "    </tr>\n",
              "    <tr>\n",
              "      <th>2</th>\n",
              "      <td>0.000000</td>\n",
              "      <td>0.978832</td>\n",
              "    </tr>\n",
              "    <tr>\n",
              "      <th>3</th>\n",
              "      <td>0.000123</td>\n",
              "      <td>0.977950</td>\n",
              "    </tr>\n",
              "    <tr>\n",
              "      <th>4</th>\n",
              "      <td>0.000123</td>\n",
              "      <td>0.975281</td>\n",
              "    </tr>\n",
              "    <tr>\n",
              "      <th>...</th>\n",
              "      <td>...</td>\n",
              "      <td>...</td>\n",
              "    </tr>\n",
              "    <tr>\n",
              "      <th>941</th>\n",
              "      <td>0.853841</td>\n",
              "      <td>0.064561</td>\n",
              "    </tr>\n",
              "    <tr>\n",
              "      <th>942</th>\n",
              "      <td>0.854087</td>\n",
              "      <td>0.064467</td>\n",
              "    </tr>\n",
              "    <tr>\n",
              "      <th>943</th>\n",
              "      <td>0.925384</td>\n",
              "      <td>0.019778</td>\n",
              "    </tr>\n",
              "    <tr>\n",
              "      <th>944</th>\n",
              "      <td>0.925630</td>\n",
              "      <td>0.019769</td>\n",
              "    </tr>\n",
              "    <tr>\n",
              "      <th>945</th>\n",
              "      <td>1.000000</td>\n",
              "      <td>0.000373</td>\n",
              "    </tr>\n",
              "  </tbody>\n",
              "</table>\n",
              "<p>946 rows × 2 columns</p>\n",
              "</div>\n",
              "    <div class=\"colab-df-buttons\">\n",
              "\n",
              "  <div class=\"colab-df-container\">\n",
              "    <button class=\"colab-df-convert\" onclick=\"convertToInteractive('df-90413dd0-50f7-4d69-a1a2-5c7b00cda0d9')\"\n",
              "            title=\"Convert this dataframe to an interactive table.\"\n",
              "            style=\"display:none;\">\n",
              "\n",
              "  <svg xmlns=\"http://www.w3.org/2000/svg\" height=\"24px\" viewBox=\"0 -960 960 960\">\n",
              "    <path d=\"M120-120v-720h720v720H120Zm60-500h600v-160H180v160Zm220 220h160v-160H400v160Zm0 220h160v-160H400v160ZM180-400h160v-160H180v160Zm440 0h160v-160H620v160ZM180-180h160v-160H180v160Zm440 0h160v-160H620v160Z\"/>\n",
              "  </svg>\n",
              "    </button>\n",
              "\n",
              "  <style>\n",
              "    .colab-df-container {\n",
              "      display:flex;\n",
              "      gap: 12px;\n",
              "    }\n",
              "\n",
              "    .colab-df-convert {\n",
              "      background-color: #E8F0FE;\n",
              "      border: none;\n",
              "      border-radius: 50%;\n",
              "      cursor: pointer;\n",
              "      display: none;\n",
              "      fill: #1967D2;\n",
              "      height: 32px;\n",
              "      padding: 0 0 0 0;\n",
              "      width: 32px;\n",
              "    }\n",
              "\n",
              "    .colab-df-convert:hover {\n",
              "      background-color: #E2EBFA;\n",
              "      box-shadow: 0px 1px 2px rgba(60, 64, 67, 0.3), 0px 1px 3px 1px rgba(60, 64, 67, 0.15);\n",
              "      fill: #174EA6;\n",
              "    }\n",
              "\n",
              "    .colab-df-buttons div {\n",
              "      margin-bottom: 4px;\n",
              "    }\n",
              "\n",
              "    [theme=dark] .colab-df-convert {\n",
              "      background-color: #3B4455;\n",
              "      fill: #D2E3FC;\n",
              "    }\n",
              "\n",
              "    [theme=dark] .colab-df-convert:hover {\n",
              "      background-color: #434B5C;\n",
              "      box-shadow: 0px 1px 3px 1px rgba(0, 0, 0, 0.15);\n",
              "      filter: drop-shadow(0px 1px 2px rgba(0, 0, 0, 0.3));\n",
              "      fill: #FFFFFF;\n",
              "    }\n",
              "  </style>\n",
              "\n",
              "    <script>\n",
              "      const buttonEl =\n",
              "        document.querySelector('#df-90413dd0-50f7-4d69-a1a2-5c7b00cda0d9 button.colab-df-convert');\n",
              "      buttonEl.style.display =\n",
              "        google.colab.kernel.accessAllowed ? 'block' : 'none';\n",
              "\n",
              "      async function convertToInteractive(key) {\n",
              "        const element = document.querySelector('#df-90413dd0-50f7-4d69-a1a2-5c7b00cda0d9');\n",
              "        const dataTable =\n",
              "          await google.colab.kernel.invokeFunction('convertToInteractive',\n",
              "                                                    [key], {});\n",
              "        if (!dataTable) return;\n",
              "\n",
              "        const docLinkHtml = 'Like what you see? Visit the ' +\n",
              "          '<a target=\"_blank\" href=https://colab.research.google.com/notebooks/data_table.ipynb>data table notebook</a>'\n",
              "          + ' to learn more about interactive tables.';\n",
              "        element.innerHTML = '';\n",
              "        dataTable['output_type'] = 'display_data';\n",
              "        await google.colab.output.renderOutput(dataTable, element);\n",
              "        const docLink = document.createElement('div');\n",
              "        docLink.innerHTML = docLinkHtml;\n",
              "        element.appendChild(docLink);\n",
              "      }\n",
              "    </script>\n",
              "  </div>\n",
              "\n",
              "\n",
              "<div id=\"df-cc3005d7-0385-4691-a859-dce457f58a5c\">\n",
              "  <button class=\"colab-df-quickchart\" onclick=\"quickchart('df-cc3005d7-0385-4691-a859-dce457f58a5c')\"\n",
              "            title=\"Suggest charts\"\n",
              "            style=\"display:none;\">\n",
              "\n",
              "<svg xmlns=\"http://www.w3.org/2000/svg\" height=\"24px\"viewBox=\"0 0 24 24\"\n",
              "     width=\"24px\">\n",
              "    <g>\n",
              "        <path d=\"M19 3H5c-1.1 0-2 .9-2 2v14c0 1.1.9 2 2 2h14c1.1 0 2-.9 2-2V5c0-1.1-.9-2-2-2zM9 17H7v-7h2v7zm4 0h-2V7h2v10zm4 0h-2v-4h2v4z\"/>\n",
              "    </g>\n",
              "</svg>\n",
              "  </button>\n",
              "\n",
              "<style>\n",
              "  .colab-df-quickchart {\n",
              "      --bg-color: #E8F0FE;\n",
              "      --fill-color: #1967D2;\n",
              "      --hover-bg-color: #E2EBFA;\n",
              "      --hover-fill-color: #174EA6;\n",
              "      --disabled-fill-color: #AAA;\n",
              "      --disabled-bg-color: #DDD;\n",
              "  }\n",
              "\n",
              "  [theme=dark] .colab-df-quickchart {\n",
              "      --bg-color: #3B4455;\n",
              "      --fill-color: #D2E3FC;\n",
              "      --hover-bg-color: #434B5C;\n",
              "      --hover-fill-color: #FFFFFF;\n",
              "      --disabled-bg-color: #3B4455;\n",
              "      --disabled-fill-color: #666;\n",
              "  }\n",
              "\n",
              "  .colab-df-quickchart {\n",
              "    background-color: var(--bg-color);\n",
              "    border: none;\n",
              "    border-radius: 50%;\n",
              "    cursor: pointer;\n",
              "    display: none;\n",
              "    fill: var(--fill-color);\n",
              "    height: 32px;\n",
              "    padding: 0;\n",
              "    width: 32px;\n",
              "  }\n",
              "\n",
              "  .colab-df-quickchart:hover {\n",
              "    background-color: var(--hover-bg-color);\n",
              "    box-shadow: 0 1px 2px rgba(60, 64, 67, 0.3), 0 1px 3px 1px rgba(60, 64, 67, 0.15);\n",
              "    fill: var(--button-hover-fill-color);\n",
              "  }\n",
              "\n",
              "  .colab-df-quickchart-complete:disabled,\n",
              "  .colab-df-quickchart-complete:disabled:hover {\n",
              "    background-color: var(--disabled-bg-color);\n",
              "    fill: var(--disabled-fill-color);\n",
              "    box-shadow: none;\n",
              "  }\n",
              "\n",
              "  .colab-df-spinner {\n",
              "    border: 2px solid var(--fill-color);\n",
              "    border-color: transparent;\n",
              "    border-bottom-color: var(--fill-color);\n",
              "    animation:\n",
              "      spin 1s steps(1) infinite;\n",
              "  }\n",
              "\n",
              "  @keyframes spin {\n",
              "    0% {\n",
              "      border-color: transparent;\n",
              "      border-bottom-color: var(--fill-color);\n",
              "      border-left-color: var(--fill-color);\n",
              "    }\n",
              "    20% {\n",
              "      border-color: transparent;\n",
              "      border-left-color: var(--fill-color);\n",
              "      border-top-color: var(--fill-color);\n",
              "    }\n",
              "    30% {\n",
              "      border-color: transparent;\n",
              "      border-left-color: var(--fill-color);\n",
              "      border-top-color: var(--fill-color);\n",
              "      border-right-color: var(--fill-color);\n",
              "    }\n",
              "    40% {\n",
              "      border-color: transparent;\n",
              "      border-right-color: var(--fill-color);\n",
              "      border-top-color: var(--fill-color);\n",
              "    }\n",
              "    60% {\n",
              "      border-color: transparent;\n",
              "      border-right-color: var(--fill-color);\n",
              "    }\n",
              "    80% {\n",
              "      border-color: transparent;\n",
              "      border-right-color: var(--fill-color);\n",
              "      border-bottom-color: var(--fill-color);\n",
              "    }\n",
              "    90% {\n",
              "      border-color: transparent;\n",
              "      border-bottom-color: var(--fill-color);\n",
              "    }\n",
              "  }\n",
              "</style>\n",
              "\n",
              "  <script>\n",
              "    async function quickchart(key) {\n",
              "      const quickchartButtonEl =\n",
              "        document.querySelector('#' + key + ' button');\n",
              "      quickchartButtonEl.disabled = true;  // To prevent multiple clicks.\n",
              "      quickchartButtonEl.classList.add('colab-df-spinner');\n",
              "      try {\n",
              "        const charts = await google.colab.kernel.invokeFunction(\n",
              "            'suggestCharts', [key], {});\n",
              "      } catch (error) {\n",
              "        console.error('Error during call to suggestCharts:', error);\n",
              "      }\n",
              "      quickchartButtonEl.classList.remove('colab-df-spinner');\n",
              "      quickchartButtonEl.classList.add('colab-df-quickchart-complete');\n",
              "    }\n",
              "    (() => {\n",
              "      let quickchartButtonEl =\n",
              "        document.querySelector('#df-cc3005d7-0385-4691-a859-dce457f58a5c button');\n",
              "      quickchartButtonEl.style.display =\n",
              "        google.colab.kernel.accessAllowed ? 'block' : 'none';\n",
              "    })();\n",
              "  </script>\n",
              "</div>\n",
              "\n",
              "  <div id=\"id_a5f1e539-8e01-4ac9-8c0d-7b8beab4cfc6\">\n",
              "    <style>\n",
              "      .colab-df-generate {\n",
              "        background-color: #E8F0FE;\n",
              "        border: none;\n",
              "        border-radius: 50%;\n",
              "        cursor: pointer;\n",
              "        display: none;\n",
              "        fill: #1967D2;\n",
              "        height: 32px;\n",
              "        padding: 0 0 0 0;\n",
              "        width: 32px;\n",
              "      }\n",
              "\n",
              "      .colab-df-generate:hover {\n",
              "        background-color: #E2EBFA;\n",
              "        box-shadow: 0px 1px 2px rgba(60, 64, 67, 0.3), 0px 1px 3px 1px rgba(60, 64, 67, 0.15);\n",
              "        fill: #174EA6;\n",
              "      }\n",
              "\n",
              "      [theme=dark] .colab-df-generate {\n",
              "        background-color: #3B4455;\n",
              "        fill: #D2E3FC;\n",
              "      }\n",
              "\n",
              "      [theme=dark] .colab-df-generate:hover {\n",
              "        background-color: #434B5C;\n",
              "        box-shadow: 0px 1px 3px 1px rgba(0, 0, 0, 0.15);\n",
              "        filter: drop-shadow(0px 1px 2px rgba(0, 0, 0, 0.3));\n",
              "        fill: #FFFFFF;\n",
              "      }\n",
              "    </style>\n",
              "    <button class=\"colab-df-generate\" onclick=\"generateWithVariable('ROC_curve')\"\n",
              "            title=\"Generate code using this dataframe.\"\n",
              "            style=\"display:none;\">\n",
              "\n",
              "  <svg xmlns=\"http://www.w3.org/2000/svg\" height=\"24px\"viewBox=\"0 0 24 24\"\n",
              "       width=\"24px\">\n",
              "    <path d=\"M7,19H8.4L18.45,9,17,7.55,7,17.6ZM5,21V16.75L18.45,3.32a2,2,0,0,1,2.83,0l1.4,1.43a1.91,1.91,0,0,1,.58,1.4,1.91,1.91,0,0,1-.58,1.4L9.25,21ZM18.45,9,17,7.55Zm-12,3A5.31,5.31,0,0,0,4.9,8.1,5.31,5.31,0,0,0,1,6.5,5.31,5.31,0,0,0,4.9,4.9,5.31,5.31,0,0,0,6.5,1,5.31,5.31,0,0,0,8.1,4.9,5.31,5.31,0,0,0,12,6.5,5.46,5.46,0,0,0,6.5,12Z\"/>\n",
              "  </svg>\n",
              "    </button>\n",
              "    <script>\n",
              "      (() => {\n",
              "      const buttonEl =\n",
              "        document.querySelector('#id_a5f1e539-8e01-4ac9-8c0d-7b8beab4cfc6 button.colab-df-generate');\n",
              "      buttonEl.style.display =\n",
              "        google.colab.kernel.accessAllowed ? 'block' : 'none';\n",
              "\n",
              "      buttonEl.onclick = () => {\n",
              "        google.colab.notebook.generateWithVariable('ROC_curve');\n",
              "      }\n",
              "      })();\n",
              "    </script>\n",
              "  </div>\n",
              "\n",
              "    </div>\n",
              "  </div>\n"
            ],
            "application/vnd.google.colaboratory.intrinsic+json": {
              "type": "dataframe",
              "variable_name": "ROC_curve",
              "summary": "{\n  \"name\": \"ROC_curve\",\n  \"rows\": 946,\n  \"fields\": [\n    {\n      \"column\": \"fpr\",\n      \"properties\": {\n        \"dtype\": \"number\",\n        \"std\": 0.2012085406491134,\n        \"min\": 0.0,\n        \"max\": 1.0,\n        \"num_unique_values\": 488,\n        \"samples\": [\n          0.025691456668715428,\n          0.15525507068223723,\n          0.5236631837738168\n        ],\n        \"semantic_type\": \"\",\n        \"description\": \"\"\n      }\n    },\n    {\n      \"column\": \"threshold\",\n      \"properties\": {\n        \"dtype\": \"number\",\n        \"std\": 0.23208938833353088,\n        \"min\": 0.000373070282230555,\n        \"max\": 1.0,\n        \"num_unique_values\": 946,\n        \"samples\": [\n          0.756564085628149,\n          0.939840240340252,\n          0.326588047814836\n        ],\n        \"semantic_type\": \"\",\n        \"description\": \"\"\n      }\n    }\n  ]\n}"
            }
          },
          "metadata": {},
          "execution_count": 93
        }
      ]
    },
    {
      "cell_type": "markdown",
      "metadata": {
        "id": "-Q2M5LWmdyBW"
      },
      "source": [
        "To apply the cuts, you can use the method ```fit_with_breaks``` that is available for the ```piecewise_AUC``` object.\n"
      ]
    },
    {
      "cell_type": "code",
      "metadata": {
        "id": "k3oCTTJUd1BD"
      },
      "source": [
        "# Apply cuts!\n",
        "cuts = piecewise_AUC.fit_with_breaks(res)"
      ],
      "execution_count": 94,
      "outputs": []
    },
    {
      "cell_type": "markdown",
      "metadata": {
        "id": "nMUtYqPIeS7X"
      },
      "source": [
        "We can now apply this to our dataset and see how the piecewise curve fits the ROC curve."
      ]
    },
    {
      "cell_type": "code",
      "metadata": {
        "id": "uTVL2JHQeQ18",
        "colab": {
          "base_uri": "https://localhost:8080/",
          "height": 322
        },
        "outputId": "32382286-42a1-49df-ef63-7804b4d5a085"
      },
      "source": [
        "# predict for the determined points\n",
        "xHat = np.linspace(min(fpr), max(fpr), num=10000)\n",
        "yHat = piecewise_AUC.predict(xHat)\n",
        "\n",
        "# plot the results\n",
        "plt.figure()\n",
        "plt.plot(fpr, tpr, 'o')\n",
        "plt.plot(xHat, yHat, '-')\n",
        "plt.show()"
      ],
      "execution_count": 95,
      "outputs": [
        {
          "output_type": "display_data",
          "data": {
            "text/plain": [
              "<Figure size 1000x500 with 1 Axes>"
            ],
            "image/png": "[encoded data removed]"
          },
          "metadata": {}
        }
      ]
    },
    {
      "cell_type": "markdown",
      "metadata": {
        "id": "JaXnfklSefXv"
      },
      "source": [
        "We have a pretty good fit! But we are still not done, we now need to understand if the cuts lead to monotonic PDs. This is the final constraint. For this, we first calculate the PD for the whole dataset (we will adjust this later for each portfolio)."
      ]
    },
    {
      "cell_type": "code",
      "source": [
        "res"
      ],
      "metadata": {
        "colab": {
          "base_uri": "https://localhost:8080/"
        },
        "id": "Zl7gr4r86UCJ",
        "outputId": "ac6aa52e-a1df-4d4a-d214-f916fc02dabc"
      },
      "execution_count": 96,
      "outputs": [
        {
          "output_type": "execute_result",
          "data": {
            "text/plain": [
              "array([0.        , 0.03567648, 0.09820139, 0.20725598, 0.35070974,\n",
              "       0.60194519, 0.6185085 , 0.71395248, 0.7275968 , 0.84085931,\n",
              "       1.        ])"
            ]
          },
          "metadata": {},
          "execution_count": 96
        }
      ]
    },
    {
      "cell_type": "code",
      "metadata": {
        "id": "BMm6-9Sux9Eq"
      },
      "source": [
        "# Find probability associated with every cut\n",
        "pbb_cuts = np.zeros_like(res)\n",
        "i = 0\n",
        "\n",
        "for fpr in res:\n",
        "  # Get how far the fpr is from each ROC curve fpr point.\n",
        "  temp = np.abs(np.round(ROC_curve.fpr, 2) - np.round(fpr, 2))\n",
        "\n",
        "  # Get the index of the smallest value\n",
        "  idx = np.argmin(temp)\n",
        "\n",
        "  # Get the threshold associated with that point\n",
        "  pbb_cuts[i] = ROC_curve.threshold[idx]\n",
        "  i += 1\n",
        "\n",
        "# Reverse to correctly sort\n",
        "pbb_cuts = np.flip(pbb_cuts)"
      ],
      "execution_count": 97,
      "outputs": []
    },
    {
      "cell_type": "code",
      "metadata": {
        "id": "K85KdeOzzHTN",
        "colab": {
          "base_uri": "https://localhost:8080/"
        },
        "outputId": "1cf37468-9f07-492d-ecd1-0ad0d6f3a53a"
      },
      "source": [
        "# Add 0 (and one) if not present. 1 is found, so we don't need to adjust it.\n",
        "pbb_cuts = np.insert(pbb_cuts, 0, 0)\n",
        "\n",
        "# Get unique values\n",
        "pbb_cuts = np.unique(pbb_cuts)\n",
        "\n",
        "# Display the result\n",
        "pbb_cuts"
      ],
      "execution_count": 98,
      "outputs": [
        {
          "output_type": "execute_result",
          "data": {
            "text/plain": [
              "array([0.00000000e+00, 3.73070282e-04, 7.60578740e-02, 1.28560136e-01,\n",
              "       1.41543362e-01, 1.99907596e-01, 2.21645524e-01, 4.04602229e-01,\n",
              "       5.59415218e-01, 7.24327430e-01, 8.37452376e-01, 1.00000000e+00])"
            ]
          },
          "metadata": {},
          "execution_count": 98
        }
      ]
    },
    {
      "cell_type": "code",
      "metadata": {
        "id": "JUSBgjTced-E",
        "colab": {
          "base_uri": "https://localhost:8080/"
        },
        "outputId": "dfc731f8-40e0-4629-b424-8c2a3ed5eb8b"
      },
      "source": [
        "pd_cut = pd.cut(loans['Probs'], pbb_cuts)\n",
        "pd_cut"
      ],
      "execution_count": 99,
      "outputs": [
        {
          "output_type": "execute_result",
          "data": {
            "text/plain": [
              "[(0.837, 1.0], (0.724, 0.837], (0.837, 1.0], (0.724, 0.837], (0.724, 0.837], ..., (0.559, 0.724], (0.405, 0.559], (0.405, 0.559], (0.405, 0.559], (0.559, 0.724]]\n",
              "Length: 8692\n",
              "Categories (11, interval[float64, right]): [(0.0, 0.000373] < (0.000373, 0.0761] < (0.0761, 0.129] <\n",
              "                                            (0.129, 0.142] ... (0.405, 0.559] < (0.559, 0.724] <\n",
              "                                            (0.724, 0.837] < (0.837, 1.0]]"
            ]
          },
          "metadata": {},
          "execution_count": 99
        }
      ]
    },
    {
      "cell_type": "markdown",
      "metadata": {
        "id": "fVScSagae_-F"
      },
      "source": [
        "And we study the output with a crosstab."
      ]
    },
    {
      "cell_type": "code",
      "metadata": {
        "id": "1c4PZHO7e6OM",
        "colab": {
          "base_uri": "https://localhost:8080/",
          "height": 426
        },
        "outputId": "87d90ea9-b625-48ca-ba38-255cd144af75"
      },
      "source": [
        "# Create table with cases total.\n",
        "PDs_Tab = pd.crosstab(pd_cut,\n",
        "                      loans['Default'],\n",
        "                      normalize = False)\n",
        "\n",
        "# Calculate default rate.\n",
        "pd_final = PDs_Tab[1] / (PDs_Tab[0] + PDs_Tab[1])\n",
        "\n",
        "# Add the default rate to the PDs_Tab dataframe\n",
        "PDs_Tab['Default Rate'] = pd_final\n",
        "\n",
        "# Display the result\n",
        "PDs_Tab"
      ],
      "execution_count": 100,
      "outputs": [
        {
          "output_type": "execute_result",
          "data": {
            "text/plain": [
              "col_0                  0    1  Default Rate\n",
              "row_0                                      \n",
              "(0.0, 0.000373]        1    0      0.000000\n",
              "(0.000373, 0.0761]  1367    1      0.000731\n",
              "(0.0761, 0.129]      863    7      0.008046\n",
              "(0.129, 0.142]       169    5      0.028736\n",
              "(0.142, 0.2]         723    9      0.012295\n",
              "(0.2, 0.222]         286    1      0.003484\n",
              "(0.222, 0.405]      1920   68      0.034205\n",
              "(0.405, 0.559]      1135   88      0.071954\n",
              "(0.559, 0.724]       898  119      0.117011\n",
              "(0.724, 0.837]       486  117      0.194030\n",
              "(0.837, 1.0]         287  142      0.331002"
            ],
            "text/html": [
              "\n",
              "  <div id=\"df-4ccbda1d-5a59-438a-b8a3-13aa11b1d4a8\" class=\"colab-df-container\">\n",
              "    <div>\n",
              "<style scoped>\n",
              "    .dataframe tbody tr th:only-of-type {\n",
              "        vertical-align: middle;\n",
              "    }\n",
              "\n",
              "    .dataframe tbody tr th {\n",
              "        vertical-align: top;\n",
              "    }\n",
              "\n",
              "    .dataframe thead th {\n",
              "        text-align: right;\n",
              "    }\n",
              "</style>\n",
              "<table border=\"1\" class=\"dataframe\">\n",
              "  <thead>\n",
              "    <tr style=\"text-align: right;\">\n",
              "      <th>col_0</th>\n",
              "      <th>0</th>\n",
              "      <th>1</th>\n",
              "      <th>Default Rate</th>\n",
              "    </tr>\n",
              "    <tr>\n",
              "      <th>row_0</th>\n",
              "      <th></th>\n",
              "      <th></th>\n",
              "      <th></th>\n",
              "    </tr>\n",
              "  </thead>\n",
              "  <tbody>\n",
              "    <tr>\n",
              "      <th>(0.0, 0.000373]</th>\n",
              "      <td>1</td>\n",
              "      <td>0</td>\n",
              "      <td>0.000000</td>\n",
              "    </tr>\n",
              "    <tr>\n",
              "      <th>(0.000373, 0.0761]</th>\n",
              "      <td>1367</td>\n",
              "      <td>1</td>\n",
              "      <td>0.000731</td>\n",
              "    </tr>\n",
              "    <tr>\n",
              "      <th>(0.0761, 0.129]</th>\n",
              "      <td>863</td>\n",
              "      <td>7</td>\n",
              "      <td>0.008046</td>\n",
              "    </tr>\n",
              "    <tr>\n",
              "      <th>(0.129, 0.142]</th>\n",
              "      <td>169</td>\n",
              "      <td>5</td>\n",
              "      <td>0.028736</td>\n",
              "    </tr>\n",
              "    <tr>\n",
              "      <th>(0.142, 0.2]</th>\n",
              "      <td>723</td>\n",
              "      <td>9</td>\n",
              "      <td>0.012295</td>\n",
              "    </tr>\n",
              "    <tr>\n",
              "      <th>(0.2, 0.222]</th>\n",
              "      <td>286</td>\n",
              "      <td>1</td>\n",
              "      <td>0.003484</td>\n",
              "    </tr>\n",
              "    <tr>\n",
              "      <th>(0.222, 0.405]</th>\n",
              "      <td>1920</td>\n",
              "      <td>68</td>\n",
              "      <td>0.034205</td>\n",
              "    </tr>\n",
              "    <tr>\n",
              "      <th>(0.405, 0.559]</th>\n",
              "      <td>1135</td>\n",
              "      <td>88</td>\n",
              "      <td>0.071954</td>\n",
              "    </tr>\n",
              "    <tr>\n",
              "      <th>(0.559, 0.724]</th>\n",
              "      <td>898</td>\n",
              "      <td>119</td>\n",
              "      <td>0.117011</td>\n",
              "    </tr>\n",
              "    <tr>\n",
              "      <th>(0.724, 0.837]</th>\n",
              "      <td>486</td>\n",
              "      <td>117</td>\n",
              "      <td>0.194030</td>\n",
              "    </tr>\n",
              "    <tr>\n",
              "      <th>(0.837, 1.0]</th>\n",
              "      <td>287</td>\n",
              "      <td>142</td>\n",
              "      <td>0.331002</td>\n",
              "    </tr>\n",
              "  </tbody>\n",
              "</table>\n",
              "</div>\n",
              "    <div class=\"colab-df-buttons\">\n",
              "\n",
              "  <div class=\"colab-df-container\">\n",
              "    <button class=\"colab-df-convert\" onclick=\"convertToInteractive('df-4ccbda1d-5a59-438a-b8a3-13aa11b1d4a8')\"\n",
              "            title=\"Convert this dataframe to an interactive table.\"\n",
              "            style=\"display:none;\">\n",
              "\n",
              "  <svg xmlns=\"http://www.w3.org/2000/svg\" height=\"24px\" viewBox=\"0 -960 960 960\">\n",
              "    <path d=\"M120-120v-720h720v720H120Zm60-500h600v-160H180v160Zm220 220h160v-160H400v160Zm0 220h160v-160H400v160ZM180-400h160v-160H180v160Zm440 0h160v-160H620v160ZM180-180h160v-160H180v160Zm440 0h160v-160H620v160Z\"/>\n",
              "  </svg>\n",
              "    </button>\n",
              "\n",
              "  <style>\n",
              "    .colab-df-container {\n",
              "      display:flex;\n",
              "      gap: 12px;\n",
              "    }\n",
              "\n",
              "    .colab-df-convert {\n",
              "      background-color: #E8F0FE;\n",
              "      border: none;\n",
              "      border-radius: 50%;\n",
              "      cursor: pointer;\n",
              "      display: none;\n",
              "      fill: #1967D2;\n",
              "      height: 32px;\n",
              "      padding: 0 0 0 0;\n",
              "      width: 32px;\n",
              "    }\n",
              "\n",
              "    .colab-df-convert:hover {\n",
              "      background-color: #E2EBFA;\n",
              "      box-shadow: 0px 1px 2px rgba(60, 64, 67, 0.3), 0px 1px 3px 1px rgba(60, 64, 67, 0.15);\n",
              "      fill: #174EA6;\n",
              "    }\n",
              "\n",
              "    .colab-df-buttons div {\n",
              "      margin-bottom: 4px;\n",
              "    }\n",
              "\n",
              "    [theme=dark] .colab-df-convert {\n",
              "      background-color: #3B4455;\n",
              "      fill: #D2E3FC;\n",
              "    }\n",
              "\n",
              "    [theme=dark] .colab-df-convert:hover {\n",
              "      background-color: #434B5C;\n",
              "      box-shadow: 0px 1px 3px 1px rgba(0, 0, 0, 0.15);\n",
              "      filter: drop-shadow(0px 1px 2px rgba(0, 0, 0, 0.3));\n",
              "      fill: #FFFFFF;\n",
              "    }\n",
              "  </style>\n",
              "\n",
              "    <script>\n",
              "      const buttonEl =\n",
              "        document.querySelector('#df-4ccbda1d-5a59-438a-b8a3-13aa11b1d4a8 button.colab-df-convert');\n",
              "      buttonEl.style.display =\n",
              "        google.colab.kernel.accessAllowed ? 'block' : 'none';\n",
              "\n",
              "      async function convertToInteractive(key) {\n",
              "        const element = document.querySelector('#df-4ccbda1d-5a59-438a-b8a3-13aa11b1d4a8');\n",
              "        const dataTable =\n",
              "          await google.colab.kernel.invokeFunction('convertToInteractive',\n",
              "                                                    [key], {});\n",
              "        if (!dataTable) return;\n",
              "\n",
              "        const docLinkHtml = 'Like what you see? Visit the ' +\n",
              "          '<a target=\"_blank\" href=https://colab.research.google.com/notebooks/data_table.ipynb>data table notebook</a>'\n",
              "          + ' to learn more about interactive tables.';\n",
              "        element.innerHTML = '';\n",
              "        dataTable['output_type'] = 'display_data';\n",
              "        await google.colab.output.renderOutput(dataTable, element);\n",
              "        const docLink = document.createElement('div');\n",
              "        docLink.innerHTML = docLinkHtml;\n",
              "        element.appendChild(docLink);\n",
              "      }\n",
              "    </script>\n",
              "  </div>\n",
              "\n",
              "\n",
              "<div id=\"df-53a608a7-fe7d-4a64-a012-c9b123c000ec\">\n",
              "  <button class=\"colab-df-quickchart\" onclick=\"quickchart('df-53a608a7-fe7d-4a64-a012-c9b123c000ec')\"\n",
              "            title=\"Suggest charts\"\n",
              "            style=\"display:none;\">\n",
              "\n",
              "<svg xmlns=\"http://www.w3.org/2000/svg\" height=\"24px\"viewBox=\"0 0 24 24\"\n",
              "     width=\"24px\">\n",
              "    <g>\n",
              "        <path d=\"M19 3H5c-1.1 0-2 .9-2 2v14c0 1.1.9 2 2 2h14c1.1 0 2-.9 2-2V5c0-1.1-.9-2-2-2zM9 17H7v-7h2v7zm4 0h-2V7h2v10zm4 0h-2v-4h2v4z\"/>\n",
              "    </g>\n",
              "</svg>\n",
              "  </button>\n",
              "\n",
              "<style>\n",
              "  .colab-df-quickchart {\n",
              "      --bg-color: #E8F0FE;\n",
              "      --fill-color: #1967D2;\n",
              "      --hover-bg-color: #E2EBFA;\n",
              "      --hover-fill-color: #174EA6;\n",
              "      --disabled-fill-color: #AAA;\n",
              "      --disabled-bg-color: #DDD;\n",
              "  }\n",
              "\n",
              "  [theme=dark] .colab-df-quickchart {\n",
              "      --bg-color: #3B4455;\n",
              "      --fill-color: #D2E3FC;\n",
              "      --hover-bg-color: #434B5C;\n",
              "      --hover-fill-color: #FFFFFF;\n",
              "      --disabled-bg-color: #3B4455;\n",
              "      --disabled-fill-color: #666;\n",
              "  }\n",
              "\n",
              "  .colab-df-quickchart {\n",
              "    background-color: var(--bg-color);\n",
              "    border: none;\n",
              "    border-radius: 50%;\n",
              "    cursor: pointer;\n",
              "    display: none;\n",
              "    fill: var(--fill-color);\n",
              "    height: 32px;\n",
              "    padding: 0;\n",
              "    width: 32px;\n",
              "  }\n",
              "\n",
              "  .colab-df-quickchart:hover {\n",
              "    background-color: var(--hover-bg-color);\n",
              "    box-shadow: 0 1px 2px rgba(60, 64, 67, 0.3), 0 1px 3px 1px rgba(60, 64, 67, 0.15);\n",
              "    fill: var(--button-hover-fill-color);\n",
              "  }\n",
              "\n",
              "  .colab-df-quickchart-complete:disabled,\n",
              "  .colab-df-quickchart-complete:disabled:hover {\n",
              "    background-color: var(--disabled-bg-color);\n",
              "    fill: var(--disabled-fill-color);\n",
              "    box-shadow: none;\n",
              "  }\n",
              "\n",
              "  .colab-df-spinner {\n",
              "    border: 2px solid var(--fill-color);\n",
              "    border-color: transparent;\n",
              "    border-bottom-color: var(--fill-color);\n",
              "    animation:\n",
              "      spin 1s steps(1) infinite;\n",
              "  }\n",
              "\n",
              "  @keyframes spin {\n",
              "    0% {\n",
              "      border-color: transparent;\n",
              "      border-bottom-color: var(--fill-color);\n",
              "      border-left-color: var(--fill-color);\n",
              "    }\n",
              "    20% {\n",
              "      border-color: transparent;\n",
              "      border-left-color: var(--fill-color);\n",
              "      border-top-color: var(--fill-color);\n",
              "    }\n",
              "    30% {\n",
              "      border-color: transparent;\n",
              "      border-left-color: var(--fill-color);\n",
              "      border-top-color: var(--fill-color);\n",
              "      border-right-color: var(--fill-color);\n",
              "    }\n",
              "    40% {\n",
              "      border-color: transparent;\n",
              "      border-right-color: var(--fill-color);\n",
              "      border-top-color: var(--fill-color);\n",
              "    }\n",
              "    60% {\n",
              "      border-color: transparent;\n",
              "      border-right-color: var(--fill-color);\n",
              "    }\n",
              "    80% {\n",
              "      border-color: transparent;\n",
              "      border-right-color: var(--fill-color);\n",
              "      border-bottom-color: var(--fill-color);\n",
              "    }\n",
              "    90% {\n",
              "      border-color: transparent;\n",
              "      border-bottom-color: var(--fill-color);\n",
              "    }\n",
              "  }\n",
              "</style>\n",
              "\n",
              "  <script>\n",
              "    async function quickchart(key) {\n",
              "      const quickchartButtonEl =\n",
              "        document.querySelector('#' + key + ' button');\n",
              "      quickchartButtonEl.disabled = true;  // To prevent multiple clicks.\n",
              "      quickchartButtonEl.classList.add('colab-df-spinner');\n",
              "      try {\n",
              "        const charts = await google.colab.kernel.invokeFunction(\n",
              "            'suggestCharts', [key], {});\n",
              "      } catch (error) {\n",
              "        console.error('Error during call to suggestCharts:', error);\n",
              "      }\n",
              "      quickchartButtonEl.classList.remove('colab-df-spinner');\n",
              "      quickchartButtonEl.classList.add('colab-df-quickchart-complete');\n",
              "    }\n",
              "    (() => {\n",
              "      let quickchartButtonEl =\n",
              "        document.querySelector('#df-53a608a7-fe7d-4a64-a012-c9b123c000ec button');\n",
              "      quickchartButtonEl.style.display =\n",
              "        google.colab.kernel.accessAllowed ? 'block' : 'none';\n",
              "    })();\n",
              "  </script>\n",
              "</div>\n",
              "\n",
              "  <div id=\"id_b6a89ba0-8a00-4236-b1db-411a49de8f8f\">\n",
              "    <style>\n",
              "      .colab-df-generate {\n",
              "        background-color: #E8F0FE;\n",
              "        border: none;\n",
              "        border-radius: 50%;\n",
              "        cursor: pointer;\n",
              "        display: none;\n",
              "        fill: #1967D2;\n",
              "        height: 32px;\n",
              "        padding: 0 0 0 0;\n",
              "        width: 32px;\n",
              "      }\n",
              "\n",
              "      .colab-df-generate:hover {\n",
              "        background-color: #E2EBFA;\n",
              "        box-shadow: 0px 1px 2px rgba(60, 64, 67, 0.3), 0px 1px 3px 1px rgba(60, 64, 67, 0.15);\n",
              "        fill: #174EA6;\n",
              "      }\n",
              "\n",
              "      [theme=dark] .colab-df-generate {\n",
              "        background-color: #3B4455;\n",
              "        fill: #D2E3FC;\n",
              "      }\n",
              "\n",
              "      [theme=dark] .colab-df-generate:hover {\n",
              "        background-color: #434B5C;\n",
              "        box-shadow: 0px 1px 3px 1px rgba(0, 0, 0, 0.15);\n",
              "        filter: drop-shadow(0px 1px 2px rgba(0, 0, 0, 0.3));\n",
              "        fill: #FFFFFF;\n",
              "      }\n",
              "    </style>\n",
              "    <button class=\"colab-df-generate\" onclick=\"generateWithVariable('PDs_Tab')\"\n",
              "            title=\"Generate code using this dataframe.\"\n",
              "            style=\"display:none;\">\n",
              "\n",
              "  <svg xmlns=\"http://www.w3.org/2000/svg\" height=\"24px\"viewBox=\"0 0 24 24\"\n",
              "       width=\"24px\">\n",
              "    <path d=\"M7,19H8.4L18.45,9,17,7.55,7,17.6ZM5,21V16.75L18.45,3.32a2,2,0,0,1,2.83,0l1.4,1.43a1.91,1.91,0,0,1,.58,1.4,1.91,1.91,0,0,1-.58,1.4L9.25,21ZM18.45,9,17,7.55Zm-12,3A5.31,5.31,0,0,0,4.9,8.1,5.31,5.31,0,0,0,1,6.5,5.31,5.31,0,0,0,4.9,4.9,5.31,5.31,0,0,0,6.5,1,5.31,5.31,0,0,0,8.1,4.9,5.31,5.31,0,0,0,12,6.5,5.46,5.46,0,0,0,6.5,12Z\"/>\n",
              "  </svg>\n",
              "    </button>\n",
              "    <script>\n",
              "      (() => {\n",
              "      const buttonEl =\n",
              "        document.querySelector('#id_b6a89ba0-8a00-4236-b1db-411a49de8f8f button.colab-df-generate');\n",
              "      buttonEl.style.display =\n",
              "        google.colab.kernel.accessAllowed ? 'block' : 'none';\n",
              "\n",
              "      buttonEl.onclick = () => {\n",
              "        google.colab.notebook.generateWithVariable('PDs_Tab');\n",
              "      }\n",
              "      })();\n",
              "    </script>\n",
              "  </div>\n",
              "\n",
              "    </div>\n",
              "  </div>\n"
            ],
            "application/vnd.google.colaboratory.intrinsic+json": {
              "type": "dataframe",
              "variable_name": "PDs_Tab",
              "summary": "{\n  \"name\": \"PDs_Tab\",\n  \"rows\": 11,\n  \"fields\": [\n    {\n      \"column\": \"row_0\",\n      \"properties\": {\n        \"dtype\": \"category\",\n        \"num_unique_values\": 11,\n        \"samples\": [\n          \"(0.2, 0.222]\",\n          \"(0.0, 0.000373]\",\n          \"(0.724, 0.837]\"\n        ],\n        \"semantic_type\": \"\",\n        \"description\": \"\"\n      }\n    },\n    {\n      \"column\": 0,\n      \"properties\": {\n        \"dtype\": \"number\",\n        \"std\": 577,\n        \"min\": 1,\n        \"max\": 1920,\n        \"num_unique_values\": 11,\n        \"samples\": [\n          286,\n          1,\n          486\n        ],\n        \"semantic_type\": \"\",\n        \"description\": \"\"\n      }\n    },\n    {\n      \"column\": 1,\n      \"properties\": {\n        \"dtype\": \"number\",\n        \"std\": 56,\n        \"min\": 0,\n        \"max\": 142,\n        \"num_unique_values\": 10,\n        \"samples\": [\n          117,\n          1,\n          68\n        ],\n        \"semantic_type\": \"\",\n        \"description\": \"\"\n      }\n    },\n    {\n      \"column\": \"Default Rate\",\n      \"properties\": {\n        \"dtype\": \"number\",\n        \"std\": 0.10483510219496237,\n        \"min\": 0.0,\n        \"max\": 0.331002331002331,\n        \"num_unique_values\": 11,\n        \"samples\": [\n          0.003484320557491289,\n          0.0,\n          0.19402985074626866\n        ],\n        \"semantic_type\": \"\",\n        \"description\": \"\"\n      }\n    }\n  ]\n}"
            }
          },
          "metadata": {},
          "execution_count": 100
        }
      ]
    },
    {
      "cell_type": "markdown",
      "metadata": {
        "id": "T31FLRergAro"
      },
      "source": [
        "There are some monotony breaks. We should combine the cuts that don't make sense, to have a parsimonious curve with sufficient cases and increasing probabilities.  After doing this, our cuts are reasonable and we can now proceed to calculate the PDs for every portfolio. For this, we need to calculate the average number of defaults for each portfolio, over the total number of cases that month."
      ]
    },
    {
      "cell_type": "code",
      "metadata": {
        "id": "zrzXIrMLhV6I",
        "colab": {
          "base_uri": "https://localhost:8080/",
          "height": 492
        },
        "outputId": "dc220981-75dd-4092-fe84-4b549473559e"
      },
      "source": [
        "# Adjusted cuts\n",
        "pbb_cuts = [0.00000000e+00, 2.21645524e-01, 3.45533938e-01, 4.33724640e-01, 5.72614091e-01,\n",
        "       7.24327430e-01, 8.37452376e-01, 1.00000000e+00]\n",
        "\n",
        "# Add the PDCut variable to our dataframe\n",
        "loans = loans.insert_column(-1,\n",
        "    pl.Series('PD_Cut', pd.cut(loans['Probs'].to_pandas(), pbb_cuts).astype(str).values)\n",
        ")\n",
        "\n",
        "# Create pivot table\n",
        "PD_monthly = pd.pivot_table(loans.to_pandas(),\n",
        "                            values = 'Default',\n",
        "                            index = 'Portfolio',\n",
        "                            columns = 'PD_Cut',\n",
        "                            aggfunc = 'mean'\n",
        "                            )\n",
        "\n",
        "PD_monthly"
      ],
      "execution_count": 101,
      "outputs": [
        {
          "output_type": "execute_result",
          "data": {
            "text/plain": [
              "PD_Cut     (0.0, 0.222]  (0.222, 0.346]  (0.346, 0.434]  (0.434, 0.573]  \\\n",
              "Portfolio                                                                 \n",
              "1              0.031250        0.071429        0.000000        0.071429   \n",
              "2              0.000000        0.076923        0.142857        0.000000   \n",
              "3              0.000000        0.133333        0.000000        0.142857   \n",
              "4              0.000000        0.000000        0.117647        0.166667   \n",
              "5              0.000000        0.000000        0.090909        0.111111   \n",
              "...                 ...             ...             ...             ...   \n",
              "104            0.000000        0.000000        0.100000        0.000000   \n",
              "105            0.057143        0.000000        0.125000        0.071429   \n",
              "106            0.000000        0.000000        0.000000        0.000000   \n",
              "107            0.000000        0.071429        0.000000        0.142857   \n",
              "108            0.000000        0.052632        0.000000        0.111111   \n",
              "\n",
              "PD_Cut     (0.573, 0.724]  (0.724, 0.837]  (0.837, 1.0]  \n",
              "Portfolio                                                \n",
              "1                0.083333        0.133333      0.272727  \n",
              "2                0.000000        0.285714      0.555556  \n",
              "3                0.153846        0.416667      0.444444  \n",
              "4                0.166667        0.125000      0.700000  \n",
              "5                0.136364        0.250000      0.222222  \n",
              "...                   ...             ...           ...  \n",
              "104              0.000000        0.000000      1.000000  \n",
              "105              0.166667        0.200000      0.000000  \n",
              "106              0.000000        0.222222      0.666667  \n",
              "107              0.125000        0.000000      0.500000  \n",
              "108              0.142857        0.666667      0.500000  \n",
              "\n",
              "[108 rows x 7 columns]"
            ],
            "text/html": [
              "\n",
              "  <div id=\"df-57e24a54-ba22-476d-9ec5-89dc0dce8572\" class=\"colab-df-container\">\n",
              "    <div>\n",
              "<style scoped>\n",
              "    .dataframe tbody tr th:only-of-type {\n",
              "        vertical-align: middle;\n",
              "    }\n",
              "\n",
              "    .dataframe tbody tr th {\n",
              "        vertical-align: top;\n",
              "    }\n",
              "\n",
              "    .dataframe thead th {\n",
              "        text-align: right;\n",
              "    }\n",
              "</style>\n",
              "<table border=\"1\" class=\"dataframe\">\n",
              "  <thead>\n",
              "    <tr style=\"text-align: right;\">\n",
              "      <th>PD_Cut</th>\n",
              "      <th>(0.0, 0.222]</th>\n",
              "      <th>(0.222, 0.346]</th>\n",
              "      <th>(0.346, 0.434]</th>\n",
              "      <th>(0.434, 0.573]</th>\n",
              "      <th>(0.573, 0.724]</th>\n",
              "      <th>(0.724, 0.837]</th>\n",
              "      <th>(0.837, 1.0]</th>\n",
              "    </tr>\n",
              "    <tr>\n",
              "      <th>Portfolio</th>\n",
              "      <th></th>\n",
              "      <th></th>\n",
              "      <th></th>\n",
              "      <th></th>\n",
              "      <th></th>\n",
              "      <th></th>\n",
              "      <th></th>\n",
              "    </tr>\n",
              "  </thead>\n",
              "  <tbody>\n",
              "    <tr>\n",
              "      <th>1</th>\n",
              "      <td>0.031250</td>\n",
              "      <td>0.071429</td>\n",
              "      <td>0.000000</td>\n",
              "      <td>0.071429</td>\n",
              "      <td>0.083333</td>\n",
              "      <td>0.133333</td>\n",
              "      <td>0.272727</td>\n",
              "    </tr>\n",
              "    <tr>\n",
              "      <th>2</th>\n",
              "      <td>0.000000</td>\n",
              "      <td>0.076923</td>\n",
              "      <td>0.142857</td>\n",
              "      <td>0.000000</td>\n",
              "      <td>0.000000</td>\n",
              "      <td>0.285714</td>\n",
              "      <td>0.555556</td>\n",
              "    </tr>\n",
              "    <tr>\n",
              "      <th>3</th>\n",
              "      <td>0.000000</td>\n",
              "      <td>0.133333</td>\n",
              "      <td>0.000000</td>\n",
              "      <td>0.142857</td>\n",
              "      <td>0.153846</td>\n",
              "      <td>0.416667</td>\n",
              "      <td>0.444444</td>\n",
              "    </tr>\n",
              "    <tr>\n",
              "      <th>4</th>\n",
              "      <td>0.000000</td>\n",
              "      <td>0.000000</td>\n",
              "      <td>0.117647</td>\n",
              "      <td>0.166667</td>\n",
              "      <td>0.166667</td>\n",
              "      <td>0.125000</td>\n",
              "      <td>0.700000</td>\n",
              "    </tr>\n",
              "    <tr>\n",
              "      <th>5</th>\n",
              "      <td>0.000000</td>\n",
              "      <td>0.000000</td>\n",
              "      <td>0.090909</td>\n",
              "      <td>0.111111</td>\n",
              "      <td>0.136364</td>\n",
              "      <td>0.250000</td>\n",
              "      <td>0.222222</td>\n",
              "    </tr>\n",
              "    <tr>\n",
              "      <th>...</th>\n",
              "      <td>...</td>\n",
              "      <td>...</td>\n",
              "      <td>...</td>\n",
              "      <td>...</td>\n",
              "      <td>...</td>\n",
              "      <td>...</td>\n",
              "      <td>...</td>\n",
              "    </tr>\n",
              "    <tr>\n",
              "      <th>104</th>\n",
              "      <td>0.000000</td>\n",
              "      <td>0.000000</td>\n",
              "      <td>0.100000</td>\n",
              "      <td>0.000000</td>\n",
              "      <td>0.000000</td>\n",
              "      <td>0.000000</td>\n",
              "      <td>1.000000</td>\n",
              "    </tr>\n",
              "    <tr>\n",
              "      <th>105</th>\n",
              "      <td>0.057143</td>\n",
              "      <td>0.000000</td>\n",
              "      <td>0.125000</td>\n",
              "      <td>0.071429</td>\n",
              "      <td>0.166667</td>\n",
              "      <td>0.200000</td>\n",
              "      <td>0.000000</td>\n",
              "    </tr>\n",
              "    <tr>\n",
              "      <th>106</th>\n",
              "      <td>0.000000</td>\n",
              "      <td>0.000000</td>\n",
              "      <td>0.000000</td>\n",
              "      <td>0.000000</td>\n",
              "      <td>0.000000</td>\n",
              "      <td>0.222222</td>\n",
              "      <td>0.666667</td>\n",
              "    </tr>\n",
              "    <tr>\n",
              "      <th>107</th>\n",
              "      <td>0.000000</td>\n",
              "      <td>0.071429</td>\n",
              "      <td>0.000000</td>\n",
              "      <td>0.142857</td>\n",
              "      <td>0.125000</td>\n",
              "      <td>0.000000</td>\n",
              "      <td>0.500000</td>\n",
              "    </tr>\n",
              "    <tr>\n",
              "      <th>108</th>\n",
              "      <td>0.000000</td>\n",
              "      <td>0.052632</td>\n",
              "      <td>0.000000</td>\n",
              "      <td>0.111111</td>\n",
              "      <td>0.142857</td>\n",
              "      <td>0.666667</td>\n",
              "      <td>0.500000</td>\n",
              "    </tr>\n",
              "  </tbody>\n",
              "</table>\n",
              "<p>108 rows × 7 columns</p>\n",
              "</div>\n",
              "    <div class=\"colab-df-buttons\">\n",
              "\n",
              "  <div class=\"colab-df-container\">\n",
              "    <button class=\"colab-df-convert\" onclick=\"convertToInteractive('df-57e24a54-ba22-476d-9ec5-89dc0dce8572')\"\n",
              "            title=\"Convert this dataframe to an interactive table.\"\n",
              "            style=\"display:none;\">\n",
              "\n",
              "  <svg xmlns=\"http://www.w3.org/2000/svg\" height=\"24px\" viewBox=\"0 -960 960 960\">\n",
              "    <path d=\"M120-120v-720h720v720H120Zm60-500h600v-160H180v160Zm220 220h160v-160H400v160Zm0 220h160v-160H400v160ZM180-400h160v-160H180v160Zm440 0h160v-160H620v160ZM180-180h160v-160H180v160Zm440 0h160v-160H620v160Z\"/>\n",
              "  </svg>\n",
              "    </button>\n",
              "\n",
              "  <style>\n",
              "    .colab-df-container {\n",
              "      display:flex;\n",
              "      gap: 12px;\n",
              "    }\n",
              "\n",
              "    .colab-df-convert {\n",
              "      background-color: #E8F0FE;\n",
              "      border: none;\n",
              "      border-radius: 50%;\n",
              "      cursor: pointer;\n",
              "      display: none;\n",
              "      fill: #1967D2;\n",
              "      height: 32px;\n",
              "      padding: 0 0 0 0;\n",
              "      width: 32px;\n",
              "    }\n",
              "\n",
              "    .colab-df-convert:hover {\n",
              "      background-color: #E2EBFA;\n",
              "      box-shadow: 0px 1px 2px rgba(60, 64, 67, 0.3), 0px 1px 3px 1px rgba(60, 64, 67, 0.15);\n",
              "      fill: #174EA6;\n",
              "    }\n",
              "\n",
              "    .colab-df-buttons div {\n",
              "      margin-bottom: 4px;\n",
              "    }\n",
              "\n",
              "    [theme=dark] .colab-df-convert {\n",
              "      background-color: #3B4455;\n",
              "      fill: #D2E3FC;\n",
              "    }\n",
              "\n",
              "    [theme=dark] .colab-df-convert:hover {\n",
              "      background-color: #434B5C;\n",
              "      box-shadow: 0px 1px 3px 1px rgba(0, 0, 0, 0.15);\n",
              "      filter: drop-shadow(0px 1px 2px rgba(0, 0, 0, 0.3));\n",
              "      fill: #FFFFFF;\n",
              "    }\n",
              "  </style>\n",
              "\n",
              "    <script>\n",
              "      const buttonEl =\n",
              "        document.querySelector('#df-57e24a54-ba22-476d-9ec5-89dc0dce8572 button.colab-df-convert');\n",
              "      buttonEl.style.display =\n",
              "        google.colab.kernel.accessAllowed ? 'block' : 'none';\n",
              "\n",
              "      async function convertToInteractive(key) {\n",
              "        const element = document.querySelector('#df-57e24a54-ba22-476d-9ec5-89dc0dce8572');\n",
              "        const dataTable =\n",
              "          await google.colab.kernel.invokeFunction('convertToInteractive',\n",
              "                                                    [key], {});\n",
              "        if (!dataTable) return;\n",
              "\n",
              "        const docLinkHtml = 'Like what you see? Visit the ' +\n",
              "          '<a target=\"_blank\" href=https://colab.research.google.com/notebooks/data_table.ipynb>data table notebook</a>'\n",
              "          + ' to learn more about interactive tables.';\n",
              "        element.innerHTML = '';\n",
              "        dataTable['output_type'] = 'display_data';\n",
              "        await google.colab.output.renderOutput(dataTable, element);\n",
              "        const docLink = document.createElement('div');\n",
              "        docLink.innerHTML = docLinkHtml;\n",
              "        element.appendChild(docLink);\n",
              "      }\n",
              "    </script>\n",
              "  </div>\n",
              "\n",
              "\n",
              "<div id=\"df-75e7009f-3efa-4821-ae6e-4de24cb9ff56\">\n",
              "  <button class=\"colab-df-quickchart\" onclick=\"quickchart('df-75e7009f-3efa-4821-ae6e-4de24cb9ff56')\"\n",
              "            title=\"Suggest charts\"\n",
              "            style=\"display:none;\">\n",
              "\n",
              "<svg xmlns=\"http://www.w3.org/2000/svg\" height=\"24px\"viewBox=\"0 0 24 24\"\n",
              "     width=\"24px\">\n",
              "    <g>\n",
              "        <path d=\"M19 3H5c-1.1 0-2 .9-2 2v14c0 1.1.9 2 2 2h14c1.1 0 2-.9 2-2V5c0-1.1-.9-2-2-2zM9 17H7v-7h2v7zm4 0h-2V7h2v10zm4 0h-2v-4h2v4z\"/>\n",
              "    </g>\n",
              "</svg>\n",
              "  </button>\n",
              "\n",
              "<style>\n",
              "  .colab-df-quickchart {\n",
              "      --bg-color: #E8F0FE;\n",
              "      --fill-color: #1967D2;\n",
              "      --hover-bg-color: #E2EBFA;\n",
              "      --hover-fill-color: #174EA6;\n",
              "      --disabled-fill-color: #AAA;\n",
              "      --disabled-bg-color: #DDD;\n",
              "  }\n",
              "\n",
              "  [theme=dark] .colab-df-quickchart {\n",
              "      --bg-color: #3B4455;\n",
              "      --fill-color: #D2E3FC;\n",
              "      --hover-bg-color: #434B5C;\n",
              "      --hover-fill-color: #FFFFFF;\n",
              "      --disabled-bg-color: #3B4455;\n",
              "      --disabled-fill-color: #666;\n",
              "  }\n",
              "\n",
              "  .colab-df-quickchart {\n",
              "    background-color: var(--bg-color);\n",
              "    border: none;\n",
              "    border-radius: 50%;\n",
              "    cursor: pointer;\n",
              "    display: none;\n",
              "    fill: var(--fill-color);\n",
              "    height: 32px;\n",
              "    padding: 0;\n",
              "    width: 32px;\n",
              "  }\n",
              "\n",
              "  .colab-df-quickchart:hover {\n",
              "    background-color: var(--hover-bg-color);\n",
              "    box-shadow: 0 1px 2px rgba(60, 64, 67, 0.3), 0 1px 3px 1px rgba(60, 64, 67, 0.15);\n",
              "    fill: var(--button-hover-fill-color);\n",
              "  }\n",
              "\n",
              "  .colab-df-quickchart-complete:disabled,\n",
              "  .colab-df-quickchart-complete:disabled:hover {\n",
              "    background-color: var(--disabled-bg-color);\n",
              "    fill: var(--disabled-fill-color);\n",
              "    box-shadow: none;\n",
              "  }\n",
              "\n",
              "  .colab-df-spinner {\n",
              "    border: 2px solid var(--fill-color);\n",
              "    border-color: transparent;\n",
              "    border-bottom-color: var(--fill-color);\n",
              "    animation:\n",
              "      spin 1s steps(1) infinite;\n",
              "  }\n",
              "\n",
              "  @keyframes spin {\n",
              "    0% {\n",
              "      border-color: transparent;\n",
              "      border-bottom-color: var(--fill-color);\n",
              "      border-left-color: var(--fill-color);\n",
              "    }\n",
              "    20% {\n",
              "      border-color: transparent;\n",
              "      border-left-color: var(--fill-color);\n",
              "      border-top-color: var(--fill-color);\n",
              "    }\n",
              "    30% {\n",
              "      border-color: transparent;\n",
              "      border-left-color: var(--fill-color);\n",
              "      border-top-color: var(--fill-color);\n",
              "      border-right-color: var(--fill-color);\n",
              "    }\n",
              "    40% {\n",
              "      border-color: transparent;\n",
              "      border-right-color: var(--fill-color);\n",
              "      border-top-color: var(--fill-color);\n",
              "    }\n",
              "    60% {\n",
              "      border-color: transparent;\n",
              "      border-right-color: var(--fill-color);\n",
              "    }\n",
              "    80% {\n",
              "      border-color: transparent;\n",
              "      border-right-color: var(--fill-color);\n",
              "      border-bottom-color: var(--fill-color);\n",
              "    }\n",
              "    90% {\n",
              "      border-color: transparent;\n",
              "      border-bottom-color: var(--fill-color);\n",
              "    }\n",
              "  }\n",
              "</style>\n",
              "\n",
              "  <script>\n",
              "    async function quickchart(key) {\n",
              "      const quickchartButtonEl =\n",
              "        document.querySelector('#' + key + ' button');\n",
              "      quickchartButtonEl.disabled = true;  // To prevent multiple clicks.\n",
              "      quickchartButtonEl.classList.add('colab-df-spinner');\n",
              "      try {\n",
              "        const charts = await google.colab.kernel.invokeFunction(\n",
              "            'suggestCharts', [key], {});\n",
              "      } catch (error) {\n",
              "        console.error('Error during call to suggestCharts:', error);\n",
              "      }\n",
              "      quickchartButtonEl.classList.remove('colab-df-spinner');\n",
              "      quickchartButtonEl.classList.add('colab-df-quickchart-complete');\n",
              "    }\n",
              "    (() => {\n",
              "      let quickchartButtonEl =\n",
              "        document.querySelector('#df-75e7009f-3efa-4821-ae6e-4de24cb9ff56 button');\n",
              "      quickchartButtonEl.style.display =\n",
              "        google.colab.kernel.accessAllowed ? 'block' : 'none';\n",
              "    })();\n",
              "  </script>\n",
              "</div>\n",
              "\n",
              "  <div id=\"id_59f3c3ce-51ac-43bb-8e31-5080c611b242\">\n",
              "    <style>\n",
              "      .colab-df-generate {\n",
              "        background-color: #E8F0FE;\n",
              "        border: none;\n",
              "        border-radius: 50%;\n",
              "        cursor: pointer;\n",
              "        display: none;\n",
              "        fill: #1967D2;\n",
              "        height: 32px;\n",
              "        padding: 0 0 0 0;\n",
              "        width: 32px;\n",
              "      }\n",
              "\n",
              "      .colab-df-generate:hover {\n",
              "        background-color: #E2EBFA;\n",
              "        box-shadow: 0px 1px 2px rgba(60, 64, 67, 0.3), 0px 1px 3px 1px rgba(60, 64, 67, 0.15);\n",
              "        fill: #174EA6;\n",
              "      }\n",
              "\n",
              "      [theme=dark] .colab-df-generate {\n",
              "        background-color: #3B4455;\n",
              "        fill: #D2E3FC;\n",
              "      }\n",
              "\n",
              "      [theme=dark] .colab-df-generate:hover {\n",
              "        background-color: #434B5C;\n",
              "        box-shadow: 0px 1px 3px 1px rgba(0, 0, 0, 0.15);\n",
              "        filter: drop-shadow(0px 1px 2px rgba(0, 0, 0, 0.3));\n",
              "        fill: #FFFFFF;\n",
              "      }\n",
              "    </style>\n",
              "    <button class=\"colab-df-generate\" onclick=\"generateWithVariable('PD_monthly')\"\n",
              "            title=\"Generate code using this dataframe.\"\n",
              "            style=\"display:none;\">\n",
              "\n",
              "  <svg xmlns=\"http://www.w3.org/2000/svg\" height=\"24px\"viewBox=\"0 0 24 24\"\n",
              "       width=\"24px\">\n",
              "    <path d=\"M7,19H8.4L18.45,9,17,7.55,7,17.6ZM5,21V16.75L18.45,3.32a2,2,0,0,1,2.83,0l1.4,1.43a1.91,1.91,0,0,1,.58,1.4,1.91,1.91,0,0,1-.58,1.4L9.25,21ZM18.45,9,17,7.55Zm-12,3A5.31,5.31,0,0,0,4.9,8.1,5.31,5.31,0,0,0,1,6.5,5.31,5.31,0,0,0,4.9,4.9,5.31,5.31,0,0,0,6.5,1,5.31,5.31,0,0,0,8.1,4.9,5.31,5.31,0,0,0,12,6.5,5.46,5.46,0,0,0,6.5,12Z\"/>\n",
              "  </svg>\n",
              "    </button>\n",
              "    <script>\n",
              "      (() => {\n",
              "      const buttonEl =\n",
              "        document.querySelector('#id_59f3c3ce-51ac-43bb-8e31-5080c611b242 button.colab-df-generate');\n",
              "      buttonEl.style.display =\n",
              "        google.colab.kernel.accessAllowed ? 'block' : 'none';\n",
              "\n",
              "      buttonEl.onclick = () => {\n",
              "        google.colab.notebook.generateWithVariable('PD_monthly');\n",
              "      }\n",
              "      })();\n",
              "    </script>\n",
              "  </div>\n",
              "\n",
              "    </div>\n",
              "  </div>\n"
            ],
            "application/vnd.google.colaboratory.intrinsic+json": {
              "type": "dataframe",
              "variable_name": "PD_monthly",
              "summary": "{\n  \"name\": \"PD_monthly\",\n  \"rows\": 108,\n  \"fields\": [\n    {\n      \"column\": \"Portfolio\",\n      \"properties\": {\n        \"dtype\": \"number\",\n        \"std\": 31,\n        \"min\": 1,\n        \"max\": 108,\n        \"num_unique_values\": 108,\n        \"samples\": [\n          78,\n          11,\n          5\n        ],\n        \"semantic_type\": \"\",\n        \"description\": \"\"\n      }\n    },\n    {\n      \"column\": \"(0.0, 0.222]\",\n      \"properties\": {\n        \"dtype\": \"number\",\n        \"std\": 0.016198453382995682,\n        \"min\": 0.0,\n        \"max\": 0.1,\n        \"num_unique_values\": 17,\n        \"samples\": [\n          0.03125,\n          0.0,\n          0.04\n        ],\n        \"semantic_type\": \"\",\n        \"description\": \"\"\n      }\n    },\n    {\n      \"column\": \"(0.222, 0.346]\",\n      \"properties\": {\n        \"dtype\": \"number\",\n        \"std\": 0.04308331117378651,\n        \"min\": 0.0,\n        \"max\": 0.13333333333333333,\n        \"num_unique_values\": 14,\n        \"samples\": [\n          0.043478260869565216,\n          0.08333333333333333,\n          0.07142857142857142\n        ],\n        \"semantic_type\": \"\",\n        \"description\": \"\"\n      }\n    },\n    {\n      \"column\": \"(0.346, 0.434]\",\n      \"properties\": {\n        \"dtype\": \"number\",\n        \"std\": 0.08015593621703973,\n        \"min\": 0.0,\n        \"max\": 0.5,\n        \"num_unique_values\": 18,\n        \"samples\": [\n          0.0,\n          0.14285714285714285,\n          0.125\n        ],\n        \"semantic_type\": \"\",\n        \"description\": \"\"\n      }\n    },\n    {\n      \"column\": \"(0.434, 0.573]\",\n      \"properties\": {\n        \"dtype\": \"number\",\n        \"std\": 0.09623207366058807,\n        \"min\": 0.0,\n        \"max\": 0.45454545454545453,\n        \"num_unique_values\": 20,\n        \"samples\": [\n          0.07142857142857142,\n          0.09090909090909091,\n          0.2222222222222222\n        ],\n        \"semantic_type\": \"\",\n        \"description\": \"\"\n      }\n    },\n    {\n      \"column\": \"(0.573, 0.724]\",\n      \"properties\": {\n        \"dtype\": \"number\",\n        \"std\": 0.10689837440098837,\n        \"min\": 0.0,\n        \"max\": 0.6666666666666666,\n        \"num_unique_values\": 22,\n        \"samples\": [\n          0.08333333333333333,\n          0.2222222222222222,\n          0.1\n        ],\n        \"semantic_type\": \"\",\n        \"description\": \"\"\n      }\n    },\n    {\n      \"column\": \"(0.724, 0.837]\",\n      \"properties\": {\n        \"dtype\": \"number\",\n        \"std\": 0.21027775625958395,\n        \"min\": 0.0,\n        \"max\": 1.0,\n        \"num_unique_values\": 24,\n        \"samples\": [\n          0.14285714285714285,\n          0.375,\n          0.13333333333333333\n        ],\n        \"semantic_type\": \"\",\n        \"description\": \"\"\n      }\n    },\n    {\n      \"column\": \"(0.837, 1.0]\",\n      \"properties\": {\n        \"dtype\": \"number\",\n        \"std\": 0.27627500281429684,\n        \"min\": 0.0,\n        \"max\": 1.0,\n        \"num_unique_values\": 20,\n        \"samples\": [\n          0.2727272727272727,\n          0.6666666666666666,\n          0.375\n        ],\n        \"semantic_type\": \"\",\n        \"description\": \"\"\n      }\n    }\n  ]\n}"
            }
          },
          "metadata": {},
          "execution_count": 101
        }
      ]
    },
    {
      "cell_type": "markdown",
      "metadata": {
        "id": "yO-jn7pzkixX"
      },
      "source": [
        "Now we have calculated the PDs for all ratings! We ended up with one less than the Basel recommendation, but this is only because we have very few loans in this toy example. On larger portfolios you will easily reach the 7-15 range.\n",
        "\n",
        "Let's plot how our ratings look like."
      ]
    },
    {
      "cell_type": "code",
      "metadata": {
        "id": "tmZCROhHjzCZ",
        "colab": {
          "base_uri": "https://localhost:8080/",
          "height": 324
        },
        "outputId": "70ea12a4-552a-4447-e067-f95d973d0c1e"
      },
      "source": [
        "PD_monthly.plot(subplots=True,\n",
        "          layout=(2, 5),\n",
        "          sharex=False,\n",
        "          sharey=False,\n",
        "          colormap='viridis',\n",
        "         fontsize=8,\n",
        "         legend=False,\n",
        "         linewidth=0.2);\n",
        "plt.tight_layout();"
      ],
      "execution_count": 102,
      "outputs": [
        {
          "output_type": "display_data",
          "data": {
            "text/plain": [
              "<Figure size 1000x500 with 10 Axes>"
            ],
            "image/png": "[encoded data removed]"
          },
          "metadata": {}
        }
      ]
    },
    {
      "cell_type": "markdown",
      "metadata": {
        "id": "qCKEJ53r04T3"
      },
      "source": [
        "We see that some months have no defaulters. With the very limited data we have that is to be expected, but in large portfolios this will be softer. Alternatively, you can group this in three-months intervals. In general all time series look stationary.\n",
        "\n",
        "And that's almost it! Now we are ready to calibrate these PDs across the multiple cuts."
      ]
    },
    {
      "cell_type": "markdown",
      "metadata": {
        "id": "WF0XEfsK1fK0"
      },
      "source": [
        "## Estimating Long-Term PD\n",
        "\n",
        "To estimate the long-term PD, we need to estimate what the average PD is given the last PD and the macroeconomic factors. For this, we can use the subpackage [Time Series Analysis](https://www.statsmodels.org/stable/tsa.html#module-statsmodels.tsa) (```tsa```) of the ```statsmodel``` package. We aim to run a SARIMAX model, so we should study stationary properties, seasonality, etc."
      ]
    },
    {
      "cell_type": "markdown",
      "metadata": {
        "id": "PKaz7tlY5mWG"
      },
      "source": [
        "The first step is to turn the Portfolio index into a TimeSeries index. This way Python knows it is dealing with dates. Our data starts in January 1999 and it is monthly data. We arbitrarily set our first day as the 1st of January 1999 and add up from there."
      ]
    },
    {
      "cell_type": "code",
      "source": [
        "econ_factors"
      ],
      "metadata": {
        "colab": {
          "base_uri": "https://localhost:8080/",
          "height": 443
        },
        "id": "iUQO5VDeBNql",
        "outputId": "a0b57edf-94c8-4df0-f763-3fab892a4c15"
      },
      "execution_count": 103,
      "outputs": [
        {
          "output_type": "execute_result",
          "data": {
            "text/plain": [
              "shape: (108, 3)\n",
              "┌───────────┬───────────┬───────────┐\n",
              "│ Portfolio ┆ Exchange  ┆ Commodity │\n",
              "│ ---       ┆ ---       ┆ ---       │\n",
              "│ f64       ┆ f64       ┆ f64       │\n",
              "╞═══════════╪═══════════╪═══════════╡\n",
              "│ -1.716087 ┆ -1.052045 ┆ -0.947117 │\n",
              "│ -1.68401  ┆ -1.096854 ┆ -1.150414 │\n",
              "│ -1.651934 ┆ -1.07226  ┆ -1.140545 │\n",
              "│ -1.619858 ┆ -1.101046 ┆ -0.982644 │\n",
              "│ -1.587781 ┆ -1.107534 ┆ -0.864219 │\n",
              "│ …         ┆ …         ┆ …         │\n",
              "│ 1.587781  ┆ 0.32594   ┆ -1.01554  │\n",
              "│ 1.619858  ┆ 0.487725  ┆ -0.494468 │\n",
              "│ 1.651934  ┆ 0.527082  ┆ 1.056906  │\n",
              "│ 1.68401   ┆ 1.005909  ┆ 0.935849  │\n",
              "│ 1.716087  ┆ 1.032376  ┆ 0.632548  │\n",
              "└───────────┴───────────┴───────────┘"
            ],
            "text/html": [
              "<div><style>\n",
              ".dataframe > thead > tr,\n",
              ".dataframe > tbody > tr {\n",
              "  text-align: right;\n",
              "  white-space: pre-wrap;\n",
              "}\n",
              "</style>\n",
              "<small>shape: (108, 3)</small><table border=\"1\" class=\"dataframe\"><thead><tr><th>Portfolio</th><th>Exchange</th><th>Commodity</th></tr><tr><td>f64</td><td>f64</td><td>f64</td></tr></thead><tbody><tr><td>-1.716087</td><td>-1.052045</td><td>-0.947117</td></tr><tr><td>-1.68401</td><td>-1.096854</td><td>-1.150414</td></tr><tr><td>-1.651934</td><td>-1.07226</td><td>-1.140545</td></tr><tr><td>-1.619858</td><td>-1.101046</td><td>-0.982644</td></tr><tr><td>-1.587781</td><td>-1.107534</td><td>-0.864219</td></tr><tr><td>&hellip;</td><td>&hellip;</td><td>&hellip;</td></tr><tr><td>1.587781</td><td>0.32594</td><td>-1.01554</td></tr><tr><td>1.619858</td><td>0.487725</td><td>-0.494468</td></tr><tr><td>1.651934</td><td>0.527082</td><td>1.056906</td></tr><tr><td>1.68401</td><td>1.005909</td><td>0.935849</td></tr><tr><td>1.716087</td><td>1.032376</td><td>0.632548</td></tr></tbody></table></div>"
            ]
          },
          "metadata": {},
          "execution_count": 103
        }
      ]
    },
    {
      "cell_type": "code",
      "metadata": {
        "id": "rtCoqv-z6Q9C"
      },
      "source": [
        "start_date = date(1999, 1, 1)\n",
        "PD_monthly.index = [pd.to_datetime(start_date + relativedelta(months=portfolio_month -1,  )) for portfolio_month in PD_monthly.index]\n"
      ],
      "execution_count": 105,
      "outputs": []
    },
    {
      "cell_type": "code",
      "source": [
        "PD_monthly.iloc[:, 4]"
      ],
      "metadata": {
        "id": "6hSb6m9DbxEM",
        "colab": {
          "base_uri": "https://localhost:8080/",
          "height": 458
        },
        "outputId": "b12bce29-9b35-423d-bed3-a3ca1ceaafae"
      },
      "execution_count": 106,
      "outputs": [
        {
          "output_type": "execute_result",
          "data": {
            "text/plain": [
              "1999-01-01    0.083333\n",
              "1999-02-01    0.000000\n",
              "1999-03-01    0.153846\n",
              "1999-04-01    0.166667\n",
              "1999-05-01    0.136364\n",
              "                ...   \n",
              "2007-08-01    0.000000\n",
              "2007-09-01    0.166667\n",
              "2007-10-01    0.000000\n",
              "2007-11-01    0.125000\n",
              "2007-12-01    0.142857\n",
              "Name: (0.573, 0.724], Length: 108, dtype: float64"
            ],
            "text/html": [
              "<div>\n",
              "<style scoped>\n",
              "    .dataframe tbody tr th:only-of-type {\n",
              "        vertical-align: middle;\n",
              "    }\n",
              "\n",
              "    .dataframe tbody tr th {\n",
              "        vertical-align: top;\n",
              "    }\n",
              "\n",
              "    .dataframe thead th {\n",
              "        text-align: right;\n",
              "    }\n",
              "</style>\n",
              "<table border=\"1\" class=\"dataframe\">\n",
              "  <thead>\n",
              "    <tr style=\"text-align: right;\">\n",
              "      <th></th>\n",
              "      <th>(0.573, 0.724]</th>\n",
              "    </tr>\n",
              "  </thead>\n",
              "  <tbody>\n",
              "    <tr>\n",
              "      <th>1999-01-01</th>\n",
              "      <td>0.083333</td>\n",
              "    </tr>\n",
              "    <tr>\n",
              "      <th>1999-02-01</th>\n",
              "      <td>0.000000</td>\n",
              "    </tr>\n",
              "    <tr>\n",
              "      <th>1999-03-01</th>\n",
              "      <td>0.153846</td>\n",
              "    </tr>\n",
              "    <tr>\n",
              "      <th>1999-04-01</th>\n",
              "      <td>0.166667</td>\n",
              "    </tr>\n",
              "    <tr>\n",
              "      <th>1999-05-01</th>\n",
              "      <td>0.136364</td>\n",
              "    </tr>\n",
              "    <tr>\n",
              "      <th>...</th>\n",
              "      <td>...</td>\n",
              "    </tr>\n",
              "    <tr>\n",
              "      <th>2007-08-01</th>\n",
              "      <td>0.000000</td>\n",
              "    </tr>\n",
              "    <tr>\n",
              "      <th>2007-09-01</th>\n",
              "      <td>0.166667</td>\n",
              "    </tr>\n",
              "    <tr>\n",
              "      <th>2007-10-01</th>\n",
              "      <td>0.000000</td>\n",
              "    </tr>\n",
              "    <tr>\n",
              "      <th>2007-11-01</th>\n",
              "      <td>0.125000</td>\n",
              "    </tr>\n",
              "    <tr>\n",
              "      <th>2007-12-01</th>\n",
              "      <td>0.142857</td>\n",
              "    </tr>\n",
              "  </tbody>\n",
              "</table>\n",
              "<p>108 rows × 1 columns</p>\n",
              "</div><br><label><b>dtype:</b> float64</label>"
            ]
          },
          "metadata": {},
          "execution_count": 106
        }
      ]
    },
    {
      "cell_type": "markdown",
      "metadata": {
        "id": "n8Rp1sl09nfE"
      },
      "source": [
        "Now we can decompose our time series to see what is happening.\n",
        "\n"
      ]
    },
    {
      "cell_type": "code",
      "source": [
        "PD_monthly.index.freq = 'MS'\n",
        "PD_monthly.index"
      ],
      "metadata": {
        "colab": {
          "base_uri": "https://localhost:8080/"
        },
        "id": "1nii-LhbCm2G",
        "outputId": "449b25fc-6406-45ff-b2d1-3f6075b12fbf"
      },
      "execution_count": 108,
      "outputs": [
        {
          "output_type": "execute_result",
          "data": {
            "text/plain": [
              "DatetimeIndex(['1999-01-01', '1999-02-01', '1999-03-01', '1999-04-01',\n",
              "               '1999-05-01', '1999-06-01', '1999-07-01', '1999-08-01',\n",
              "               '1999-09-01', '1999-10-01',\n",
              "               ...\n",
              "               '2007-03-01', '2007-04-01', '2007-05-01', '2007-06-01',\n",
              "               '2007-07-01', '2007-08-01', '2007-09-01', '2007-10-01',\n",
              "               '2007-11-01', '2007-12-01'],\n",
              "              dtype='datetime64[ns]', length=108, freq='MS')"
            ]
          },
          "metadata": {},
          "execution_count": 108
        }
      ]
    },
    {
      "cell_type": "code",
      "metadata": {
        "id": "bNL3_ZPblz6z",
        "colab": {
          "base_uri": "https://localhost:8080/",
          "height": 324
        },
        "outputId": "64846d08-de15-4add-a086-38f707d1322b"
      },
      "source": [
        "decomposition = seasonal_decompose(PD_monthly.iloc[:, 4], model='additive')\n",
        "fig = decomposition.plot()\n",
        "plt.show()"
      ],
      "execution_count": 109,
      "outputs": [
        {
          "output_type": "display_data",
          "data": {
            "text/plain": [
              "<Figure size 1000x500 with 4 Axes>"
            ],
            "image/png": "[encoded data removed]"
          },
          "metadata": {}
        }
      ]
    },
    {
      "cell_type": "markdown",
      "metadata": {
        "id": "C3jsmbEh9-3O"
      },
      "source": [
        "The time series look fairly stationary, with yearly seasonality. We are read to estimate a model!\n",
        "\n",
        "Within the ```tsa``` package, the [SARIMAX model](https://www.statsmodels.org/stable/generated/statsmodels.tsa.statespace.sarimax.SARIMAX.html#statsmodels.tsa.statespace.sarimax.SARIMAX), present in the subpackage ```statespace```, is the most general model available, allowing for Seasonality, Auto Regression, Integration, Moving Averages, and eXogenous factors. We will train a simpler ARX model (autoregressive with exogenous regressors), but you are welcome to experiment further, more complex, regressions.\n",
        "\n",
        "Let's search for the best model for a rating, searching between 1 and 6 autoregression factors, using the macroeconomic factors as the exogenous variables."
      ]
    },
    {
      "cell_type": "code",
      "metadata": {
        "id": "puNin-aY4Mxy",
        "colab": {
          "base_uri": "https://localhost:8080/"
        },
        "outputId": "57428d67-ad75-4115-9d14-e55afb27cb82"
      },
      "source": [
        "# Define the search space.\n",
        "p = range(1, 6)\n",
        "d = range(0, 2)\n",
        "q = range(0, 2)\n",
        "\n",
        "# Create an interative list of ps, ds, qs.\n",
        "from itertools import product\n",
        "pdq = list(product(p, d, q))\n",
        "\n",
        "# Seasonal parameters. One year back.\n",
        "ps = range(0, 4)\n",
        "ds = range(0, 1)\n",
        "qs = range(0, 1)\n",
        "seasonal_pdq = [(x[0], x[1], x[2], 12) for x in list(product(ps, ds, qs))]\n",
        "\n",
        "# Train the models for a series and test multiple values.\n",
        "y = PD_monthly.iloc[:, 4] # Choose the fifth rating\n",
        "\n",
        "auc_out = []\n",
        "\n",
        "for param in pdq:\n",
        "  for param_seasonal in seasonal_pdq:\n",
        "      mod = SARIMAX(y,\n",
        "                    exog=np.asarray(econ_factors),\n",
        "                    order=param,\n",
        "                    seasonal_order=param_seasonal,\n",
        "                    enforce_stationarity=False,\n",
        "                    enforce_invertibility=False\n",
        "                    )\n",
        "      results = mod.fit()\n",
        "      auc_out.append([param, param_seasonal, results.aic])\n",
        "      print('ARIMA{}x{}12 - AIC:{}'.format(param, param_seasonal, results.aic))\n",
        "\n",
        "# Nicer formatting\n",
        "auc_out = pd.DataFrame(auc_out,\n",
        "                       columns = ['(p,q,r)', '(ps, qs, rs, S)', 'AIC'])"
      ],
      "execution_count": 110,
      "outputs": [
        {
          "output_type": "stream",
          "name": "stdout",
          "text": [
            "ARIMA(1, 0, 0)x(0, 0, 0, 12)12 - AIC:-119.81654566764666\n",
            "ARIMA(1, 0, 0)x(1, 0, 0, 12)12 - AIC:-109.68565923958494\n",
            "ARIMA(1, 0, 0)x(2, 0, 0, 12)12 - AIC:-105.01697259543143\n",
            "ARIMA(1, 0, 0)x(3, 0, 0, 12)12 - AIC:-104.78511535307014\n",
            "ARIMA(1, 0, 1)x(0, 0, 0, 12)12 - AIC:-164.10670596142032\n",
            "ARIMA(1, 0, 1)x(1, 0, 0, 12)12 - AIC:-138.78741652466638\n",
            "ARIMA(1, 0, 1)x(2, 0, 0, 12)12 - AIC:-115.60105525699126\n",
            "ARIMA(1, 0, 1)x(3, 0, 0, 12)12 - AIC:-108.18780653863395\n",
            "ARIMA(1, 1, 0)x(0, 0, 0, 12)12 - AIC:-116.70619669538085\n",
            "ARIMA(1, 1, 0)x(1, 0, 0, 12)12 - AIC:-96.94065177540669\n",
            "ARIMA(1, 1, 0)x(2, 0, 0, 12)12 - AIC:-78.62126846489602\n",
            "ARIMA(1, 1, 0)x(3, 0, 0, 12)12 - AIC:-76.47149969850815\n",
            "ARIMA(1, 1, 1)x(0, 0, 0, 12)12 - AIC:-161.68679820277507\n",
            "ARIMA(1, 1, 1)x(1, 0, 0, 12)12 - AIC:-136.0986174151367\n",
            "ARIMA(1, 1, 1)x(2, 0, 0, 12)12 - AIC:-114.55828810363607\n"
          ]
        },
        {
          "output_type": "stream",
          "name": "stderr",
          "text": [
            "/usr/local/lib/python3.11/dist-packages/statsmodels/base/model.py:607: ConvergenceWarning: Maximum Likelihood optimization failed to converge. Check mle_retvals\n",
            "  warnings.warn(\"Maximum Likelihood optimization failed to \"\n"
          ]
        },
        {
          "output_type": "stream",
          "name": "stdout",
          "text": [
            "ARIMA(1, 1, 1)x(3, 0, 0, 12)12 - AIC:-104.08146235374089\n",
            "ARIMA(2, 0, 0)x(0, 0, 0, 12)12 - AIC:-126.83665484304203\n",
            "ARIMA(2, 0, 0)x(1, 0, 0, 12)12 - AIC:-107.30427324024681\n",
            "ARIMA(2, 0, 0)x(2, 0, 0, 12)12 - AIC:-101.00935449613272\n",
            "ARIMA(2, 0, 0)x(3, 0, 0, 12)12 - AIC:-108.52741827025662\n",
            "ARIMA(2, 0, 1)x(0, 0, 0, 12)12 - AIC:-162.59611434431255\n",
            "ARIMA(2, 0, 1)x(1, 0, 0, 12)12 - AIC:-135.5533956789047\n"
          ]
        },
        {
          "output_type": "stream",
          "name": "stderr",
          "text": [
            "/usr/local/lib/python3.11/dist-packages/statsmodels/base/model.py:607: ConvergenceWarning: Maximum Likelihood optimization failed to converge. Check mle_retvals\n",
            "  warnings.warn(\"Maximum Likelihood optimization failed to \"\n"
          ]
        },
        {
          "output_type": "stream",
          "name": "stdout",
          "text": [
            "ARIMA(2, 0, 1)x(2, 0, 0, 12)12 - AIC:-114.10273978976107\n"
          ]
        },
        {
          "output_type": "stream",
          "name": "stderr",
          "text": [
            "/usr/local/lib/python3.11/dist-packages/statsmodels/base/model.py:607: ConvergenceWarning: Maximum Likelihood optimization failed to converge. Check mle_retvals\n",
            "  warnings.warn(\"Maximum Likelihood optimization failed to \"\n"
          ]
        },
        {
          "output_type": "stream",
          "name": "stdout",
          "text": [
            "ARIMA(2, 0, 1)x(3, 0, 0, 12)12 - AIC:-107.62781831134818\n",
            "ARIMA(2, 1, 0)x(0, 0, 0, 12)12 - AIC:-128.8729116863558\n",
            "ARIMA(2, 1, 0)x(1, 0, 0, 12)12 - AIC:-105.91463658952158\n",
            "ARIMA(2, 1, 0)x(2, 0, 0, 12)12 - AIC:-87.75935256292613\n",
            "ARIMA(2, 1, 0)x(3, 0, 0, 12)12 - AIC:-84.47764571858588\n",
            "ARIMA(2, 1, 1)x(0, 0, 0, 12)12 - AIC:-161.1468607764633\n",
            "ARIMA(2, 1, 1)x(1, 0, 0, 12)12 - AIC:-133.3410183610722\n",
            "ARIMA(2, 1, 1)x(2, 0, 0, 12)12 - AIC:-111.62377229775527\n",
            "ARIMA(2, 1, 1)x(3, 0, 0, 12)12 - AIC:-103.70010886634343\n",
            "ARIMA(3, 0, 0)x(0, 0, 0, 12)12 - AIC:-133.18929467254188\n",
            "ARIMA(3, 0, 0)x(1, 0, 0, 12)12 - AIC:-110.32149793217806\n",
            "ARIMA(3, 0, 0)x(2, 0, 0, 12)12 - AIC:-97.32643122460311\n",
            "ARIMA(3, 0, 0)x(3, 0, 0, 12)12 - AIC:-103.72908535520288\n"
          ]
        },
        {
          "output_type": "stream",
          "name": "stderr",
          "text": [
            "/usr/local/lib/python3.11/dist-packages/statsmodels/base/model.py:607: ConvergenceWarning: Maximum Likelihood optimization failed to converge. Check mle_retvals\n",
            "  warnings.warn(\"Maximum Likelihood optimization failed to \"\n"
          ]
        },
        {
          "output_type": "stream",
          "name": "stdout",
          "text": [
            "ARIMA(3, 0, 1)x(0, 0, 0, 12)12 - AIC:-161.55360379898872\n"
          ]
        },
        {
          "output_type": "stream",
          "name": "stderr",
          "text": [
            "/usr/local/lib/python3.11/dist-packages/statsmodels/base/model.py:607: ConvergenceWarning: Maximum Likelihood optimization failed to converge. Check mle_retvals\n",
            "  warnings.warn(\"Maximum Likelihood optimization failed to \"\n"
          ]
        },
        {
          "output_type": "stream",
          "name": "stdout",
          "text": [
            "ARIMA(3, 0, 1)x(1, 0, 0, 12)12 - AIC:-133.04410170844733\n"
          ]
        },
        {
          "output_type": "stream",
          "name": "stderr",
          "text": [
            "/usr/local/lib/python3.11/dist-packages/statsmodels/base/model.py:607: ConvergenceWarning: Maximum Likelihood optimization failed to converge. Check mle_retvals\n",
            "  warnings.warn(\"Maximum Likelihood optimization failed to \"\n"
          ]
        },
        {
          "output_type": "stream",
          "name": "stdout",
          "text": [
            "ARIMA(3, 0, 1)x(2, 0, 0, 12)12 - AIC:-110.50153775930352\n"
          ]
        },
        {
          "output_type": "stream",
          "name": "stderr",
          "text": [
            "/usr/local/lib/python3.11/dist-packages/statsmodels/base/model.py:607: ConvergenceWarning: Maximum Likelihood optimization failed to converge. Check mle_retvals\n",
            "  warnings.warn(\"Maximum Likelihood optimization failed to \"\n"
          ]
        },
        {
          "output_type": "stream",
          "name": "stdout",
          "text": [
            "ARIMA(3, 0, 1)x(3, 0, 0, 12)12 - AIC:-101.7956910257791\n",
            "ARIMA(3, 1, 0)x(0, 0, 0, 12)12 - AIC:-137.1514410955903\n",
            "ARIMA(3, 1, 0)x(1, 0, 0, 12)12 - AIC:-112.55308438139735\n",
            "ARIMA(3, 1, 0)x(2, 0, 0, 12)12 - AIC:-92.39112110662843\n",
            "ARIMA(3, 1, 0)x(3, 0, 0, 12)12 - AIC:-92.91997225900626\n",
            "ARIMA(3, 1, 1)x(0, 0, 0, 12)12 - AIC:-156.71955934922335\n",
            "ARIMA(3, 1, 1)x(1, 0, 0, 12)12 - AIC:-129.14481106788458\n",
            "ARIMA(3, 1, 1)x(2, 0, 0, 12)12 - AIC:-107.14030072431878\n"
          ]
        },
        {
          "output_type": "stream",
          "name": "stderr",
          "text": [
            "/usr/local/lib/python3.11/dist-packages/statsmodels/base/model.py:607: ConvergenceWarning: Maximum Likelihood optimization failed to converge. Check mle_retvals\n",
            "  warnings.warn(\"Maximum Likelihood optimization failed to \"\n"
          ]
        },
        {
          "output_type": "stream",
          "name": "stdout",
          "text": [
            "ARIMA(3, 1, 1)x(3, 0, 0, 12)12 - AIC:-99.61588409401642\n",
            "ARIMA(4, 0, 0)x(0, 0, 0, 12)12 - AIC:-139.03328808525555\n",
            "ARIMA(4, 0, 0)x(1, 0, 0, 12)12 - AIC:-114.64752364934805\n",
            "ARIMA(4, 0, 0)x(2, 0, 0, 12)12 - AIC:-96.08913780480862\n"
          ]
        },
        {
          "output_type": "stream",
          "name": "stderr",
          "text": [
            "/usr/local/lib/python3.11/dist-packages/statsmodels/base/model.py:607: ConvergenceWarning: Maximum Likelihood optimization failed to converge. Check mle_retvals\n",
            "  warnings.warn(\"Maximum Likelihood optimization failed to \"\n"
          ]
        },
        {
          "output_type": "stream",
          "name": "stdout",
          "text": [
            "ARIMA(4, 0, 0)x(3, 0, 0, 12)12 - AIC:-101.51702559439897\n"
          ]
        },
        {
          "output_type": "stream",
          "name": "stderr",
          "text": [
            "/usr/local/lib/python3.11/dist-packages/statsmodels/base/model.py:607: ConvergenceWarning: Maximum Likelihood optimization failed to converge. Check mle_retvals\n",
            "  warnings.warn(\"Maximum Likelihood optimization failed to \"\n"
          ]
        },
        {
          "output_type": "stream",
          "name": "stdout",
          "text": [
            "ARIMA(4, 0, 1)x(0, 0, 0, 12)12 - AIC:-157.19649669926213\n"
          ]
        },
        {
          "output_type": "stream",
          "name": "stderr",
          "text": [
            "/usr/local/lib/python3.11/dist-packages/statsmodels/base/model.py:607: ConvergenceWarning: Maximum Likelihood optimization failed to converge. Check mle_retvals\n",
            "  warnings.warn(\"Maximum Likelihood optimization failed to \"\n"
          ]
        },
        {
          "output_type": "stream",
          "name": "stdout",
          "text": [
            "ARIMA(4, 0, 1)x(1, 0, 0, 12)12 - AIC:-128.59845860281536\n"
          ]
        },
        {
          "output_type": "stream",
          "name": "stderr",
          "text": [
            "/usr/local/lib/python3.11/dist-packages/statsmodels/base/model.py:607: ConvergenceWarning: Maximum Likelihood optimization failed to converge. Check mle_retvals\n",
            "  warnings.warn(\"Maximum Likelihood optimization failed to \"\n"
          ]
        },
        {
          "output_type": "stream",
          "name": "stdout",
          "text": [
            "ARIMA(4, 0, 1)x(2, 0, 0, 12)12 - AIC:-108.24277540267883\n"
          ]
        },
        {
          "output_type": "stream",
          "name": "stderr",
          "text": [
            "/usr/local/lib/python3.11/dist-packages/statsmodels/base/model.py:607: ConvergenceWarning: Maximum Likelihood optimization failed to converge. Check mle_retvals\n",
            "  warnings.warn(\"Maximum Likelihood optimization failed to \"\n"
          ]
        },
        {
          "output_type": "stream",
          "name": "stdout",
          "text": [
            "ARIMA(4, 0, 1)x(3, 0, 0, 12)12 - AIC:-100.4346507629312\n",
            "ARIMA(4, 1, 0)x(0, 0, 0, 12)12 - AIC:-141.01385691300447\n",
            "ARIMA(4, 1, 0)x(1, 0, 0, 12)12 - AIC:-115.60992288205153\n"
          ]
        },
        {
          "output_type": "stream",
          "name": "stderr",
          "text": [
            "/usr/local/lib/python3.11/dist-packages/statsmodels/base/model.py:607: ConvergenceWarning: Maximum Likelihood optimization failed to converge. Check mle_retvals\n",
            "  warnings.warn(\"Maximum Likelihood optimization failed to \"\n"
          ]
        },
        {
          "output_type": "stream",
          "name": "stdout",
          "text": [
            "ARIMA(4, 1, 0)x(2, 0, 0, 12)12 - AIC:-97.15190018913897\n",
            "ARIMA(4, 1, 0)x(3, 0, 0, 12)12 - AIC:-89.60288073680252\n",
            "ARIMA(4, 1, 1)x(0, 0, 0, 12)12 - AIC:-152.1837925314097\n"
          ]
        },
        {
          "output_type": "stream",
          "name": "stderr",
          "text": [
            "/usr/local/lib/python3.11/dist-packages/statsmodels/base/model.py:607: ConvergenceWarning: Maximum Likelihood optimization failed to converge. Check mle_retvals\n",
            "  warnings.warn(\"Maximum Likelihood optimization failed to \"\n"
          ]
        },
        {
          "output_type": "stream",
          "name": "stdout",
          "text": [
            "ARIMA(4, 1, 1)x(1, 0, 0, 12)12 - AIC:-126.69178530460118\n"
          ]
        },
        {
          "output_type": "stream",
          "name": "stderr",
          "text": [
            "/usr/local/lib/python3.11/dist-packages/statsmodels/base/model.py:607: ConvergenceWarning: Maximum Likelihood optimization failed to converge. Check mle_retvals\n",
            "  warnings.warn(\"Maximum Likelihood optimization failed to \"\n"
          ]
        },
        {
          "output_type": "stream",
          "name": "stdout",
          "text": [
            "ARIMA(4, 1, 1)x(2, 0, 0, 12)12 - AIC:-106.43875822282715\n"
          ]
        },
        {
          "output_type": "stream",
          "name": "stderr",
          "text": [
            "/usr/local/lib/python3.11/dist-packages/statsmodels/base/model.py:607: ConvergenceWarning: Maximum Likelihood optimization failed to converge. Check mle_retvals\n",
            "  warnings.warn(\"Maximum Likelihood optimization failed to \"\n"
          ]
        },
        {
          "output_type": "stream",
          "name": "stdout",
          "text": [
            "ARIMA(4, 1, 1)x(3, 0, 0, 12)12 - AIC:-95.18692097244018\n",
            "ARIMA(5, 0, 0)x(0, 0, 0, 12)12 - AIC:-141.7209574914097\n",
            "ARIMA(5, 0, 0)x(1, 0, 0, 12)12 - AIC:-116.17159540793287\n",
            "ARIMA(5, 0, 0)x(2, 0, 0, 12)12 - AIC:-98.41763666872232\n"
          ]
        },
        {
          "output_type": "stream",
          "name": "stderr",
          "text": [
            "/usr/local/lib/python3.11/dist-packages/statsmodels/base/model.py:607: ConvergenceWarning: Maximum Likelihood optimization failed to converge. Check mle_retvals\n",
            "  warnings.warn(\"Maximum Likelihood optimization failed to \"\n"
          ]
        },
        {
          "output_type": "stream",
          "name": "stdout",
          "text": [
            "ARIMA(5, 0, 0)x(3, 0, 0, 12)12 - AIC:-97.35527785733298\n"
          ]
        },
        {
          "output_type": "stream",
          "name": "stderr",
          "text": [
            "/usr/local/lib/python3.11/dist-packages/statsmodels/base/model.py:607: ConvergenceWarning: Maximum Likelihood optimization failed to converge. Check mle_retvals\n",
            "  warnings.warn(\"Maximum Likelihood optimization failed to \"\n"
          ]
        },
        {
          "output_type": "stream",
          "name": "stdout",
          "text": [
            "ARIMA(5, 0, 1)x(0, 0, 0, 12)12 - AIC:-152.55261550325793\n"
          ]
        },
        {
          "output_type": "stream",
          "name": "stderr",
          "text": [
            "/usr/local/lib/python3.11/dist-packages/statsmodels/base/model.py:607: ConvergenceWarning: Maximum Likelihood optimization failed to converge. Check mle_retvals\n",
            "  warnings.warn(\"Maximum Likelihood optimization failed to \"\n"
          ]
        },
        {
          "output_type": "stream",
          "name": "stdout",
          "text": [
            "ARIMA(5, 0, 1)x(1, 0, 0, 12)12 - AIC:-124.51577608278194\n"
          ]
        },
        {
          "output_type": "stream",
          "name": "stderr",
          "text": [
            "/usr/local/lib/python3.11/dist-packages/statsmodels/base/model.py:607: ConvergenceWarning: Maximum Likelihood optimization failed to converge. Check mle_retvals\n",
            "  warnings.warn(\"Maximum Likelihood optimization failed to \"\n"
          ]
        },
        {
          "output_type": "stream",
          "name": "stdout",
          "text": [
            "ARIMA(5, 0, 1)x(2, 0, 0, 12)12 - AIC:-105.0146831237862\n"
          ]
        },
        {
          "output_type": "stream",
          "name": "stderr",
          "text": [
            "/usr/local/lib/python3.11/dist-packages/statsmodels/base/model.py:607: ConvergenceWarning: Maximum Likelihood optimization failed to converge. Check mle_retvals\n",
            "  warnings.warn(\"Maximum Likelihood optimization failed to \"\n"
          ]
        },
        {
          "output_type": "stream",
          "name": "stdout",
          "text": [
            "ARIMA(5, 0, 1)x(3, 0, 0, 12)12 - AIC:-95.34987517826121\n",
            "ARIMA(5, 1, 0)x(0, 0, 0, 12)12 - AIC:-139.5220679154465\n",
            "ARIMA(5, 1, 0)x(1, 0, 0, 12)12 - AIC:-115.00797412409634\n",
            "ARIMA(5, 1, 0)x(2, 0, 0, 12)12 - AIC:-97.29783663101101\n",
            "ARIMA(5, 1, 0)x(3, 0, 0, 12)12 - AIC:-88.54424069440242\n",
            "ARIMA(5, 1, 1)x(0, 0, 0, 12)12 - AIC:-147.98532401947534\n"
          ]
        },
        {
          "output_type": "stream",
          "name": "stderr",
          "text": [
            "/usr/local/lib/python3.11/dist-packages/statsmodels/base/model.py:607: ConvergenceWarning: Maximum Likelihood optimization failed to converge. Check mle_retvals\n",
            "  warnings.warn(\"Maximum Likelihood optimization failed to \"\n"
          ]
        },
        {
          "output_type": "stream",
          "name": "stdout",
          "text": [
            "ARIMA(5, 1, 1)x(1, 0, 0, 12)12 - AIC:-121.61964045963592\n"
          ]
        },
        {
          "output_type": "stream",
          "name": "stderr",
          "text": [
            "/usr/local/lib/python3.11/dist-packages/statsmodels/base/model.py:607: ConvergenceWarning: Maximum Likelihood optimization failed to converge. Check mle_retvals\n",
            "  warnings.warn(\"Maximum Likelihood optimization failed to \"\n"
          ]
        },
        {
          "output_type": "stream",
          "name": "stdout",
          "text": [
            "ARIMA(5, 1, 1)x(2, 0, 0, 12)12 - AIC:-101.64101706648921\n",
            "ARIMA(5, 1, 1)x(3, 0, 0, 12)12 - AIC:-91.54992501066768\n"
          ]
        },
        {
          "output_type": "stream",
          "name": "stderr",
          "text": [
            "/usr/local/lib/python3.11/dist-packages/statsmodels/base/model.py:607: ConvergenceWarning: Maximum Likelihood optimization failed to converge. Check mle_retvals\n",
            "  warnings.warn(\"Maximum Likelihood optimization failed to \"\n"
          ]
        }
      ]
    },
    {
      "cell_type": "markdown",
      "metadata": {
        "id": "D5PYdY1qDS_U"
      },
      "source": [
        "There are a few models that did not converge. Always remember to adjust the iterations so that the models are correctly estimated!\n",
        "\n",
        "Let's see which one is the resulting model. AIC should be minimized."
      ]
    },
    {
      "cell_type": "code",
      "source": [
        "auc_out.sort_values(by='AIC', ascending=True)"
      ],
      "metadata": {
        "id": "kNIV7YBtZPCJ",
        "colab": {
          "base_uri": "https://localhost:8080/",
          "height": 424
        },
        "outputId": "28d1facd-ddcd-497a-d6a2-5485314971ef"
      },
      "execution_count": 111,
      "outputs": [
        {
          "output_type": "execute_result",
          "data": {
            "text/plain": [
              "      (p,q,r) (ps, qs, rs, S)         AIC\n",
              "4   (1, 0, 1)   (0, 0, 0, 12) -164.106706\n",
              "20  (2, 0, 1)   (0, 0, 0, 12) -162.596114\n",
              "12  (1, 1, 1)   (0, 0, 0, 12) -161.686798\n",
              "36  (3, 0, 1)   (0, 0, 0, 12) -161.553604\n",
              "28  (2, 1, 1)   (0, 0, 0, 12) -161.146861\n",
              "..        ...             ...         ...\n",
              "75  (5, 1, 0)   (3, 0, 0, 12)  -88.544241\n",
              "26  (2, 1, 0)   (2, 0, 0, 12)  -87.759353\n",
              "27  (2, 1, 0)   (3, 0, 0, 12)  -84.477646\n",
              "10  (1, 1, 0)   (2, 0, 0, 12)  -78.621268\n",
              "11  (1, 1, 0)   (3, 0, 0, 12)  -76.471500\n",
              "\n",
              "[80 rows x 3 columns]"
            ],
            "text/html": [
              "\n",
              "  <div id=\"df-89a1a183-8954-412b-9001-caf597b2c1b8\" class=\"colab-df-container\">\n",
              "    <div>\n",
              "<style scoped>\n",
              "    .dataframe tbody tr th:only-of-type {\n",
              "        vertical-align: middle;\n",
              "    }\n",
              "\n",
              "    .dataframe tbody tr th {\n",
              "        vertical-align: top;\n",
              "    }\n",
              "\n",
              "    .dataframe thead th {\n",
              "        text-align: right;\n",
              "    }\n",
              "</style>\n",
              "<table border=\"1\" class=\"dataframe\">\n",
              "  <thead>\n",
              "    <tr style=\"text-align: right;\">\n",
              "      <th></th>\n",
              "      <th>(p,q,r)</th>\n",
              "      <th>(ps, qs, rs, S)</th>\n",
              "      <th>AIC</th>\n",
              "    </tr>\n",
              "  </thead>\n",
              "  <tbody>\n",
              "    <tr>\n",
              "      <th>4</th>\n",
              "      <td>(1, 0, 1)</td>\n",
              "      <td>(0, 0, 0, 12)</td>\n",
              "      <td>-164.106706</td>\n",
              "    </tr>\n",
              "    <tr>\n",
              "      <th>20</th>\n",
              "      <td>(2, 0, 1)</td>\n",
              "      <td>(0, 0, 0, 12)</td>\n",
              "      <td>-162.596114</td>\n",
              "    </tr>\n",
              "    <tr>\n",
              "      <th>12</th>\n",
              "      <td>(1, 1, 1)</td>\n",
              "      <td>(0, 0, 0, 12)</td>\n",
              "      <td>-161.686798</td>\n",
              "    </tr>\n",
              "    <tr>\n",
              "      <th>36</th>\n",
              "      <td>(3, 0, 1)</td>\n",
              "      <td>(0, 0, 0, 12)</td>\n",
              "      <td>-161.553604</td>\n",
              "    </tr>\n",
              "    <tr>\n",
              "      <th>28</th>\n",
              "      <td>(2, 1, 1)</td>\n",
              "      <td>(0, 0, 0, 12)</td>\n",
              "      <td>-161.146861</td>\n",
              "    </tr>\n",
              "    <tr>\n",
              "      <th>...</th>\n",
              "      <td>...</td>\n",
              "      <td>...</td>\n",
              "      <td>...</td>\n",
              "    </tr>\n",
              "    <tr>\n",
              "      <th>75</th>\n",
              "      <td>(5, 1, 0)</td>\n",
              "      <td>(3, 0, 0, 12)</td>\n",
              "      <td>-88.544241</td>\n",
              "    </tr>\n",
              "    <tr>\n",
              "      <th>26</th>\n",
              "      <td>(2, 1, 0)</td>\n",
              "      <td>(2, 0, 0, 12)</td>\n",
              "      <td>-87.759353</td>\n",
              "    </tr>\n",
              "    <tr>\n",
              "      <th>27</th>\n",
              "      <td>(2, 1, 0)</td>\n",
              "      <td>(3, 0, 0, 12)</td>\n",
              "      <td>-84.477646</td>\n",
              "    </tr>\n",
              "    <tr>\n",
              "      <th>10</th>\n",
              "      <td>(1, 1, 0)</td>\n",
              "      <td>(2, 0, 0, 12)</td>\n",
              "      <td>-78.621268</td>\n",
              "    </tr>\n",
              "    <tr>\n",
              "      <th>11</th>\n",
              "      <td>(1, 1, 0)</td>\n",
              "      <td>(3, 0, 0, 12)</td>\n",
              "      <td>-76.471500</td>\n",
              "    </tr>\n",
              "  </tbody>\n",
              "</table>\n",
              "<p>80 rows × 3 columns</p>\n",
              "</div>\n",
              "    <div class=\"colab-df-buttons\">\n",
              "\n",
              "  <div class=\"colab-df-container\">\n",
              "    <button class=\"colab-df-convert\" onclick=\"convertToInteractive('df-89a1a183-8954-412b-9001-caf597b2c1b8')\"\n",
              "            title=\"Convert this dataframe to an interactive table.\"\n",
              "            style=\"display:none;\">\n",
              "\n",
              "  <svg xmlns=\"http://www.w3.org/2000/svg\" height=\"24px\" viewBox=\"0 -960 960 960\">\n",
              "    <path d=\"M120-120v-720h720v720H120Zm60-500h600v-160H180v160Zm220 220h160v-160H400v160Zm0 220h160v-160H400v160ZM180-400h160v-160H180v160Zm440 0h160v-160H620v160ZM180-180h160v-160H180v160Zm440 0h160v-160H620v160Z\"/>\n",
              "  </svg>\n",
              "    </button>\n",
              "\n",
              "  <style>\n",
              "    .colab-df-container {\n",
              "      display:flex;\n",
              "      gap: 12px;\n",
              "    }\n",
              "\n",
              "    .colab-df-convert {\n",
              "      background-color: #E8F0FE;\n",
              "      border: none;\n",
              "      border-radius: 50%;\n",
              "      cursor: pointer;\n",
              "      display: none;\n",
              "      fill: #1967D2;\n",
              "      height: 32px;\n",
              "      padding: 0 0 0 0;\n",
              "      width: 32px;\n",
              "    }\n",
              "\n",
              "    .colab-df-convert:hover {\n",
              "      background-color: #E2EBFA;\n",
              "      box-shadow: 0px 1px 2px rgba(60, 64, 67, 0.3), 0px 1px 3px 1px rgba(60, 64, 67, 0.15);\n",
              "      fill: #174EA6;\n",
              "    }\n",
              "\n",
              "    .colab-df-buttons div {\n",
              "      margin-bottom: 4px;\n",
              "    }\n",
              "\n",
              "    [theme=dark] .colab-df-convert {\n",
              "      background-color: #3B4455;\n",
              "      fill: #D2E3FC;\n",
              "    }\n",
              "\n",
              "    [theme=dark] .colab-df-convert:hover {\n",
              "      background-color: #434B5C;\n",
              "      box-shadow: 0px 1px 3px 1px rgba(0, 0, 0, 0.15);\n",
              "      filter: drop-shadow(0px 1px 2px rgba(0, 0, 0, 0.3));\n",
              "      fill: #FFFFFF;\n",
              "    }\n",
              "  </style>\n",
              "\n",
              "    <script>\n",
              "      const buttonEl =\n",
              "        document.querySelector('#df-89a1a183-8954-412b-9001-caf597b2c1b8 button.colab-df-convert');\n",
              "      buttonEl.style.display =\n",
              "        google.colab.kernel.accessAllowed ? 'block' : 'none';\n",
              "\n",
              "      async function convertToInteractive(key) {\n",
              "        const element = document.querySelector('#df-89a1a183-8954-412b-9001-caf597b2c1b8');\n",
              "        const dataTable =\n",
              "          await google.colab.kernel.invokeFunction('convertToInteractive',\n",
              "                                                    [key], {});\n",
              "        if (!dataTable) return;\n",
              "\n",
              "        const docLinkHtml = 'Like what you see? Visit the ' +\n",
              "          '<a target=\"_blank\" href=https://colab.research.google.com/notebooks/data_table.ipynb>data table notebook</a>'\n",
              "          + ' to learn more about interactive tables.';\n",
              "        element.innerHTML = '';\n",
              "        dataTable['output_type'] = 'display_data';\n",
              "        await google.colab.output.renderOutput(dataTable, element);\n",
              "        const docLink = document.createElement('div');\n",
              "        docLink.innerHTML = docLinkHtml;\n",
              "        element.appendChild(docLink);\n",
              "      }\n",
              "    </script>\n",
              "  </div>\n",
              "\n",
              "\n",
              "<div id=\"df-ac0265d6-b508-4606-baa2-058c22dcb8d3\">\n",
              "  <button class=\"colab-df-quickchart\" onclick=\"quickchart('df-ac0265d6-b508-4606-baa2-058c22dcb8d3')\"\n",
              "            title=\"Suggest charts\"\n",
              "            style=\"display:none;\">\n",
              "\n",
              "<svg xmlns=\"http://www.w3.org/2000/svg\" height=\"24px\"viewBox=\"0 0 24 24\"\n",
              "     width=\"24px\">\n",
              "    <g>\n",
              "        <path d=\"M19 3H5c-1.1 0-2 .9-2 2v14c0 1.1.9 2 2 2h14c1.1 0 2-.9 2-2V5c0-1.1-.9-2-2-2zM9 17H7v-7h2v7zm4 0h-2V7h2v10zm4 0h-2v-4h2v4z\"/>\n",
              "    </g>\n",
              "</svg>\n",
              "  </button>\n",
              "\n",
              "<style>\n",
              "  .colab-df-quickchart {\n",
              "      --bg-color: #E8F0FE;\n",
              "      --fill-color: #1967D2;\n",
              "      --hover-bg-color: #E2EBFA;\n",
              "      --hover-fill-color: #174EA6;\n",
              "      --disabled-fill-color: #AAA;\n",
              "      --disabled-bg-color: #DDD;\n",
              "  }\n",
              "\n",
              "  [theme=dark] .colab-df-quickchart {\n",
              "      --bg-color: #3B4455;\n",
              "      --fill-color: #D2E3FC;\n",
              "      --hover-bg-color: #434B5C;\n",
              "      --hover-fill-color: #FFFFFF;\n",
              "      --disabled-bg-color: #3B4455;\n",
              "      --disabled-fill-color: #666;\n",
              "  }\n",
              "\n",
              "  .colab-df-quickchart {\n",
              "    background-color: var(--bg-color);\n",
              "    border: none;\n",
              "    border-radius: 50%;\n",
              "    cursor: pointer;\n",
              "    display: none;\n",
              "    fill: var(--fill-color);\n",
              "    height: 32px;\n",
              "    padding: 0;\n",
              "    width: 32px;\n",
              "  }\n",
              "\n",
              "  .colab-df-quickchart:hover {\n",
              "    background-color: var(--hover-bg-color);\n",
              "    box-shadow: 0 1px 2px rgba(60, 64, 67, 0.3), 0 1px 3px 1px rgba(60, 64, 67, 0.15);\n",
              "    fill: var(--button-hover-fill-color);\n",
              "  }\n",
              "\n",
              "  .colab-df-quickchart-complete:disabled,\n",
              "  .colab-df-quickchart-complete:disabled:hover {\n",
              "    background-color: var(--disabled-bg-color);\n",
              "    fill: var(--disabled-fill-color);\n",
              "    box-shadow: none;\n",
              "  }\n",
              "\n",
              "  .colab-df-spinner {\n",
              "    border: 2px solid var(--fill-color);\n",
              "    border-color: transparent;\n",
              "    border-bottom-color: var(--fill-color);\n",
              "    animation:\n",
              "      spin 1s steps(1) infinite;\n",
              "  }\n",
              "\n",
              "  @keyframes spin {\n",
              "    0% {\n",
              "      border-color: transparent;\n",
              "      border-bottom-color: var(--fill-color);\n",
              "      border-left-color: var(--fill-color);\n",
              "    }\n",
              "    20% {\n",
              "      border-color: transparent;\n",
              "      border-left-color: var(--fill-color);\n",
              "      border-top-color: var(--fill-color);\n",
              "    }\n",
              "    30% {\n",
              "      border-color: transparent;\n",
              "      border-left-color: var(--fill-color);\n",
              "      border-top-color: var(--fill-color);\n",
              "      border-right-color: var(--fill-color);\n",
              "    }\n",
              "    40% {\n",
              "      border-color: transparent;\n",
              "      border-right-color: var(--fill-color);\n",
              "      border-top-color: var(--fill-color);\n",
              "    }\n",
              "    60% {\n",
              "      border-color: transparent;\n",
              "      border-right-color: var(--fill-color);\n",
              "    }\n",
              "    80% {\n",
              "      border-color: transparent;\n",
              "      border-right-color: var(--fill-color);\n",
              "      border-bottom-color: var(--fill-color);\n",
              "    }\n",
              "    90% {\n",
              "      border-color: transparent;\n",
              "      border-bottom-color: var(--fill-color);\n",
              "    }\n",
              "  }\n",
              "</style>\n",
              "\n",
              "  <script>\n",
              "    async function quickchart(key) {\n",
              "      const quickchartButtonEl =\n",
              "        document.querySelector('#' + key + ' button');\n",
              "      quickchartButtonEl.disabled = true;  // To prevent multiple clicks.\n",
              "      quickchartButtonEl.classList.add('colab-df-spinner');\n",
              "      try {\n",
              "        const charts = await google.colab.kernel.invokeFunction(\n",
              "            'suggestCharts', [key], {});\n",
              "      } catch (error) {\n",
              "        console.error('Error during call to suggestCharts:', error);\n",
              "      }\n",
              "      quickchartButtonEl.classList.remove('colab-df-spinner');\n",
              "      quickchartButtonEl.classList.add('colab-df-quickchart-complete');\n",
              "    }\n",
              "    (() => {\n",
              "      let quickchartButtonEl =\n",
              "        document.querySelector('#df-ac0265d6-b508-4606-baa2-058c22dcb8d3 button');\n",
              "      quickchartButtonEl.style.display =\n",
              "        google.colab.kernel.accessAllowed ? 'block' : 'none';\n",
              "    })();\n",
              "  </script>\n",
              "</div>\n",
              "\n",
              "    </div>\n",
              "  </div>\n"
            ],
            "application/vnd.google.colaboratory.intrinsic+json": {
              "type": "dataframe",
              "summary": "{\n  \"name\": \"auc_out\",\n  \"rows\": 80,\n  \"fields\": [\n    {\n      \"column\": \"(p,q,r)\",\n      \"properties\": {\n        \"dtype\": \"category\",\n        \"num_unique_values\": 20,\n        \"samples\": [\n          [\n            1,\n            0,\n            1\n          ],\n          [\n            2,\n            0,\n            0\n          ],\n          [\n            3,\n            0,\n            0\n          ]\n        ],\n        \"semantic_type\": \"\",\n        \"description\": \"\"\n      }\n    },\n    {\n      \"column\": \"(ps, qs, rs, S)\",\n      \"properties\": {\n        \"dtype\": \"category\",\n        \"num_unique_values\": 4,\n        \"samples\": [\n          [\n            1,\n            0,\n            0,\n            12\n          ],\n          [\n            3,\n            0,\n            0,\n            12\n          ],\n          [\n            0,\n            0,\n            0,\n            12\n          ]\n        ],\n        \"semantic_type\": \"\",\n        \"description\": \"\"\n      }\n    },\n    {\n      \"column\": \"AIC\",\n      \"properties\": {\n        \"dtype\": \"number\",\n        \"std\": 21.837595674342317,\n        \"min\": -164.10670596142032,\n        \"max\": -76.47149969850815,\n        \"num_unique_values\": 80,\n        \"samples\": [\n          -116.17159540793287,\n          -164.10670596142032,\n          -128.8729116863558\n        ],\n        \"semantic_type\": \"\",\n        \"description\": \"\"\n      }\n    }\n  ]\n}"
            }
          },
          "metadata": {},
          "execution_count": 111
        }
      ]
    },
    {
      "cell_type": "markdown",
      "source": [
        "\n",
        "We can see from these values that the prefer model is an autoregressive of order 1, with 12 month seasonality.\n",
        "\n",
        "Let's test the final model for these values."
      ],
      "metadata": {
        "id": "QFaGRYqWZ16t"
      }
    },
    {
      "cell_type": "code",
      "metadata": {
        "id": "HoXxxcPICHwW",
        "colab": {
          "base_uri": "https://localhost:8080/"
        },
        "outputId": "f73692e9-0d34-4e79-c082-470801d006ea"
      },
      "source": [
        "# ARIMA(1, 1, 1)x(0, 0, 0, 12)12\n",
        "mod_BB = SARIMAX(y,\n",
        "              exog=np.asarray(econ_factors),\n",
        "              order=(1,0,1),\n",
        "              seasonal_order=(0,0,0,12),\n",
        "              enforce_stationarity=False,\n",
        "              enforce_invertibility=False)\n",
        "results_BB = mod_BB.fit()\n",
        "\n",
        "print(results_BB.summary().tables[1])"
      ],
      "execution_count": 114,
      "outputs": [
        {
          "output_type": "stream",
          "name": "stdout",
          "text": [
            "==============================================================================\n",
            "                 coef    std err          z      P>|z|      [0.025      0.975]\n",
            "------------------------------------------------------------------------------\n",
            "x1             0.0164      0.042      0.394      0.694      -0.065       0.098\n",
            "x2             0.0567      0.020      2.788      0.005       0.017       0.096\n",
            "x3             0.0115      0.018      0.649      0.516      -0.023       0.046\n",
            "ar.L1          0.9833      0.012     83.427      0.000       0.960       1.006\n",
            "ma.L1         -1.0000    217.799     -0.005      0.996    -427.879     425.879\n",
            "sigma2         0.0106      2.316      0.005      0.996      -4.530       4.551\n",
            "==============================================================================\n"
          ]
        }
      ]
    },
    {
      "cell_type": "code",
      "metadata": {
        "id": "vBCdFWNX5Yt3",
        "colab": {
          "base_uri": "https://localhost:8080/"
        },
        "outputId": "0831a67b-1d62-4623-bbf8-721285780bc6"
      },
      "source": [
        "# ARIMA(2, 0, 1)x(0, 0, 0, 12)12\n",
        "mod_BB = SARIMAX(y,\n",
        "              exog=np.asarray(econ_factors),\n",
        "              order=(2,0,1),\n",
        "              seasonal_order=(0,0,0,12),\n",
        "              enforce_stationarity=False,\n",
        "              enforce_invertibility=False)\n",
        "results_BB = mod_BB.fit()\n",
        "\n",
        "print(results_BB.summary().tables[1])"
      ],
      "execution_count": 115,
      "outputs": [
        {
          "output_type": "stream",
          "name": "stdout",
          "text": [
            "==============================================================================\n",
            "                 coef    std err          z      P>|z|      [0.025      0.975]\n",
            "------------------------------------------------------------------------------\n",
            "x1             0.0153      0.041      0.373      0.709      -0.065       0.095\n",
            "x2             0.0567      0.019      2.946      0.003       0.019       0.094\n",
            "x3             0.0114      0.017      0.667      0.505      -0.022       0.045\n",
            "ar.L1          0.9158      0.104      8.766      0.000       0.711       1.121\n",
            "ar.L2          0.0668      0.103      0.649      0.516      -0.135       0.268\n",
            "ma.L1         -1.0000    540.650     -0.002      0.999   -1060.655    1058.655\n",
            "sigma2         0.0106      5.724      0.002      0.999     -11.208      11.230\n",
            "==============================================================================\n"
          ]
        }
      ]
    },
    {
      "cell_type": "markdown",
      "source": [
        "We pick the one that **minimizes** the AIC, which is ARIMA(1, 0, 1)x(0, 0, 0, 12).\n",
        "\n"
      ],
      "metadata": {
        "id": "fzpT8b7kgnlo"
      }
    },
    {
      "cell_type": "code",
      "metadata": {
        "id": "aJTvbOXw50Ox",
        "colab": {
          "base_uri": "https://localhost:8080/"
        },
        "outputId": "e91e697b-5375-43d0-d917-bd3a7793197a"
      },
      "source": [
        "# ARIMA(1, 0, 1)x(0, 0, 0, 12)12\n",
        "mod_BB = SARIMAX(y,\n",
        "              exog=np.asarray(econ_factors),\n",
        "              order=(1,0,1),\n",
        "              seasonal_order=(0,0,0,12),\n",
        "              enforce_stationarity=False,\n",
        "              enforce_invertibility=False)\n",
        "results_BB = mod_BB.fit()\n",
        "\n",
        "print(results_BB.summary().tables[1])"
      ],
      "execution_count": 117,
      "outputs": [
        {
          "output_type": "stream",
          "name": "stdout",
          "text": [
            "==============================================================================\n",
            "                 coef    std err          z      P>|z|      [0.025      0.975]\n",
            "------------------------------------------------------------------------------\n",
            "x1             0.0164      0.042      0.394      0.694      -0.065       0.098\n",
            "x2             0.0567      0.020      2.788      0.005       0.017       0.096\n",
            "x3             0.0115      0.018      0.649      0.516      -0.023       0.046\n",
            "ar.L1          0.9833      0.012     83.427      0.000       0.960       1.006\n",
            "ma.L1         -1.0000    217.799     -0.005      0.996    -427.879     425.879\n",
            "sigma2         0.0106      2.316      0.005      0.996      -4.530       4.551\n",
            "==============================================================================\n"
          ]
        }
      ]
    },
    {
      "cell_type": "markdown",
      "metadata": {
        "id": "yog1AfBWEV-R"
      },
      "source": [
        "The results show what, for this dataset, there is not much exogenous information that is useful, except for x2. This would mean we need to go look for better economic factors! Another interesting result is that the ma.L1 and sigma parameters are not useful either, which means that it is the ar.L1 that carries the information.\n",
        "\n",
        "It is not perfect, so we should be a bit careful with this model and possibly study more complex structures. I leave this as an exercise!\n",
        "\n",
        "And that's it! Repeating this process for every time series leads to our calibrated PDs. Now what we would do is to use the long-run estimates for the economic factors to reach a long-term PD.\n",
        "\n",
        "For LGD, the process is the same. The only difference is that you need to use the **downturn** economic factors instead of the long-run economic factors"
      ]
    }
  ]
}