{
  "nbformat": 4,
  "nbformat_minor": 0,
  "metadata": {
    "colab": {
      "name": "Lab 7 - Keras and Shallow Neural Networks.ipynb",
      "version": "0.3.2",
      "provenance": [],
      "collapsed_sections": [],
      "include_colab_link": true
    },
    "kernelspec": {
      "name": "python3",
      "display_name": "Python 3"
    },
    "accelerator": "GPU"
  },
  "cells": [
    {
      "cell_type": "markdown",
      "metadata": {
        "id": "view-in-github",
        "colab_type": "text"
      },
      "source": [
        "<a href=\"https://colab.research.google.com/github/CBravoR/AdvancedAnalyticsLabs/blob/master/Lab_7_Keras_and_Shallow_Neural_Networks.ipynb\" target=\"_parent\"><img src=\"https://colab.research.google.com/assets/colab-badge.svg\" alt=\"Open In Colab\"/></a>"
      ]
    },
    {
      "metadata": {
        "id": "fIKCue9cvL2g",
        "colab_type": "text"
      },
      "cell_type": "markdown",
      "source": [
        "# Introduction to Keras and Shallow Networks\n",
        "\n",
        "In this lab we will create our first neural network. It will be a shallow one, over a small dataset, so it is not a good example of a real-life problem where neural networks shine, but it will be a great way to understand the power of networks and what can we do with the model.\n",
        "\n",
        "In this lab, and in general in future examples, we will closely follow the book \"Deep Learning with Python\" by Chollet. The library has copies of the book.\n",
        "\n",
        "## Loading the data\n",
        "\n",
        "We will import one of the data examples from Keras itself: Prices in Boston.\n",
        "\n",
        "But first, what is Keras?\n",
        "\n",
        "[Keras](https://keras.io/) is a part of the Deep Learning stack, providing an easier way to create models. Deep Learning requires a set of very sophisticated optimizers and computational calculations, so it can be tricky to program directly. Luckily for us, we can simply use Keras to call the more sophisticated programs that will do the heavy lifting for us.\n",
        "\n",
        "Technically, Keras is a \"front-end\", while the calculation engine will be a \"backend\". Those backends will actually call a backend of their own which will communicate with the machine itself.\n",
        "\n",
        "First, we need to configure our backend. Google has created the excellent \"tensorflow\" backend, which is able to handle many sophisticated neural networks, and it can leverage the use of a GPU (a video card) for great speedups. It has also made available GPUs for us to play with, so\n",
        "\n",
        "If you want to configure your own environment in your PC, and have an Nvidia GPU at home or your laptop, please follow the following steps:\n",
        "\n",
        "1. Install Anaconda Python from [here](https://www.anaconda.com/distribution/).\n",
        "\n",
        "2. Follow the steps [here](https://towardsdatascience.com/tensorflow-gpu-installation-made-easy-use-conda-instead-of-pip-52e5249374bc) to configure your Python environment with tensorflow.\n",
        "\n",
        "We will continue using Google Colab's environment, so you don't need to do this now. What we need to do is to change our execution environment to a GPU one. For that:\n",
        "\n",
        "- Click Runtime\n",
        "- Select \"Change runtime type\"\n",
        "- In the menu, in the combo box below \"Hardware Accelerator\" select GPU.\n",
        "\n",
        "There is an even more powerful environment: TPU, but this requires a change in coding so we will omit it until the very last lab. Now we are ready to use Keras!"
      ]
    },
    {
      "metadata": {
        "id": "uSkPcJdXxRq6",
        "colab_type": "text"
      },
      "cell_type": "markdown",
      "source": [
        "## Keras Sequential API\n",
        "\n",
        "The easiest model that can be constructed in Keras is a sequential model. This is the typical neural network with one input layer, and one output layer, and a linear sequence of as many layers as we want in-between. The alternative is the Keras API, but for most applications a sequential model is enough. A tutorial for the sequencial API can be found [here](https://keras.io/getting-started/sequential-model-guide/).\n",
        "\n",
        "First let's load the data."
      ]
    },
    {
      "metadata": {
        "id": "v2T_RIZAxM5N",
        "colab_type": "code",
        "outputId": "9dfe05fe-36b9-48ae-c3ff-ff93602dc573",
        "colab": {
          "base_uri": "https://localhost:8080/",
          "height": 52
        }
      },
      "cell_type": "code",
      "source": [
        "from keras.datasets import boston_housing\n",
        "(train_data, train_targets), (test_data, test_targets) = boston_housing.load_data()"
      ],
      "execution_count": 0,
      "outputs": [
        {
          "output_type": "stream",
          "text": [
            "Downloading data from https://s3.amazonaws.com/keras-datasets/boston_housing.npz\n",
            "57344/57026 [==============================] - 0s 6us/step\n"
          ],
          "name": "stdout"
        }
      ]
    },
    {
      "metadata": {
        "id": "8ITVlkklxaC2",
        "colab_type": "code",
        "outputId": "9d9c815a-f96e-4078-81b2-63cd6bf1ccae",
        "colab": {
          "base_uri": "https://localhost:8080/",
          "height": 52
        }
      },
      "cell_type": "code",
      "source": [
        "print('Size of the training set: ', train_data.shape)\n",
        "print('Size of the test set: ', test_data.shape)"
      ],
      "execution_count": 0,
      "outputs": [
        {
          "output_type": "stream",
          "text": [
            "Size of the training set:  (404, 13)\n",
            "Size of the test set:  (102, 13)\n"
          ],
          "name": "stdout"
        }
      ]
    },
    {
      "metadata": {
        "id": "gE6g-ZAJxeqV",
        "colab_type": "text"
      },
      "cell_type": "markdown",
      "source": [
        "This is a very small dataset, with only 404 cases for training, 102 for testing, 13 variables, and 1 target representing the median house price in Boston for the neighbourhood. The variables can be found [here](https://www.cs.toronto.edu/~delve/data/boston/bostonDetail.html).\n",
        "\n",
        "We have one problem: All variables are in different scales. The following code normalizes the data."
      ]
    },
    {
      "metadata": {
        "id": "69EPEHrgxdeV",
        "colab_type": "code",
        "colab": {}
      },
      "cell_type": "code",
      "source": [
        "mean = train_data.mean(axis=0)\n",
        "train_data -= mean\n",
        "std = train_data.std(axis=0)\n",
        "train_data /= std\n",
        "test_data -= mean\n",
        "test_data /= std"
      ],
      "execution_count": 0,
      "outputs": []
    },
    {
      "metadata": {
        "id": "tt5wsUVkxlEV",
        "colab_type": "text"
      },
      "cell_type": "markdown",
      "source": [
        "Now we can create our model. We want to build the following architecture:\n",
        "\n",
        "![](https://drive.google.com/uc?export=view&id=1CfIe77tmoQrh4QEBFZtabYpiM3rdNOOs)"
      ]
    },
    {
      "metadata": {
        "id": "PiLUwd5AyQIS",
        "colab_type": "text"
      },
      "cell_type": "markdown",
      "source": [
        "This example uses the optimizer RMSProp, which is great for sequences. There are many optimizers, but as a rule of thumb, use test SGD, Adam, and RMSProp. **All of them solve the same backpropagation problem**, they are just tuned to certain data structures. A great comparison of different optimization algorithms can be found [here](http://ruder.io/optimizing-gradient-descent/index.html).\n",
        "\n",
        "To construct the model, we create a \"model\" object using Keras API. This is simply a container which will hold the general structure of our model, and we will add layers to it. Let's import the layers and the models helper functions."
      ]
    },
    {
      "metadata": {
        "id": "EkJ6t_3ZxjnV",
        "colab_type": "code",
        "outputId": "06a8e7e4-2412-489b-adbd-c45bf789f47e",
        "colab": {
          "base_uri": "https://localhost:8080/",
          "height": 35
        }
      },
      "cell_type": "code",
      "source": [
        "from keras import models\n",
        "from keras import layers"
      ],
      "execution_count": 0,
      "outputs": [
        {
          "output_type": "stream",
          "text": [
            "Using TensorFlow backend.\n"
          ],
          "name": "stderr"
        }
      ]
    },
    {
      "metadata": {
        "id": "9mx-CPSXyXW_",
        "colab_type": "text"
      },
      "cell_type": "markdown",
      "source": [
        "Now, let's build an empty sequential model. Let's name it \"model\" (yeah, original)."
      ]
    },
    {
      "metadata": {
        "id": "ViRohkzIyWuO",
        "colab_type": "code",
        "colab": {}
      },
      "cell_type": "code",
      "source": [
        "model = models.Sequential()"
      ],
      "execution_count": 0,
      "outputs": []
    },
    {
      "metadata": {
        "id": "XXNlVdGLycK6",
        "colab_type": "text"
      },
      "cell_type": "markdown",
      "source": [
        "This is just an empty model, it does not have any layers! Let's add the first hidden layer. For each model object that we have, the function \"add\" will append a layer stacking one on top of the other.\n",
        "\n",
        "Remember, we want to add a fully-connected (Dense)layer, with 64 hidden neurons and ReLU activation function. We also need to tell this first layer what input to expect, we do this with the \"input_shape\" option. In this case, we are giving it a vector of size 13."
      ]
    },
    {
      "metadata": {
        "id": "aWJPwhAjybdO",
        "colab_type": "code",
        "outputId": "a1e16062-ac63-425b-b418-fb7aa1a10336",
        "colab": {
          "base_uri": "https://localhost:8080/",
          "height": 89
        }
      },
      "cell_type": "code",
      "source": [
        "model.add(layers.Dense(64, # The number of neurons\n",
        "                      activation = 'relu', # The type of activation\n",
        "                      input_shape = (13,)  # The input shape. It is only necessary for the layer connected to the input.\n",
        "                      ))"
      ],
      "execution_count": 0,
      "outputs": [
        {
          "output_type": "stream",
          "text": [
            "WARNING:tensorflow:From /usr/local/lib/python3.6/dist-packages/tensorflow/python/framework/op_def_library.py:263: colocate_with (from tensorflow.python.framework.ops) is deprecated and will be removed in a future version.\n",
            "Instructions for updating:\n",
            "Colocations handled automatically by placer.\n"
          ],
          "name": "stdout"
        }
      ]
    },
    {
      "metadata": {
        "id": "vAu5MP69ziE0",
        "colab_type": "text"
      },
      "cell_type": "markdown",
      "source": [
        "You can ignore the warning: it will be fixed in the next version of Keras.\n",
        "\n",
        "Keras supports many activations. The list can be seen [here](https://keras.io/activations/). It also has many types of layers! The list [here](https://keras.io/layers/about-keras-layers/). Don't worry about this now, we will use many in the coming labs.\n",
        "\n",
        "Let's add one more Dense layer."
      ]
    },
    {
      "metadata": {
        "id": "mXOBFkbpynI2",
        "colab_type": "code",
        "colab": {}
      },
      "cell_type": "code",
      "source": [
        "model.add(layers.Dense(64, activation = 'relu'))"
      ],
      "execution_count": 0,
      "outputs": []
    },
    {
      "metadata": {
        "id": "u7snmieJzrlc",
        "colab_type": "text"
      },
      "cell_type": "markdown",
      "source": [
        "Note that now we didn't need to specify inputs and outputs, Keras will deduce them from the previous layer (thus the sequential structure!).\n",
        "\n",
        "Now, let's add the final output layer. This is simply a Dense layer, of size 1 and linear activation (**not ReLU!**). As this is a regression problem, we want outputs between $(-\\infty,\\infty)$."
      ]
    },
    {
      "metadata": {
        "id": "KVwQrNonzrC2",
        "colab_type": "code",
        "colab": {}
      },
      "cell_type": "code",
      "source": [
        "model.add(layers.Dense(1, activation = 'linear'))"
      ],
      "execution_count": 0,
      "outputs": []
    },
    {
      "metadata": {
        "id": "6rtUlX-L1B1K",
        "colab_type": "text"
      },
      "cell_type": "markdown",
      "source": [
        "With the model ready, the last step is to tell it how to train it. For this, we tell it to \"compile it\", and give it an optimizer. Note the error is the Minimum Square Error (MSE), which is used for regressions. We will see several more for different applications, but the list can be checked [here](https://keras.io/losses/)."
      ]
    },
    {
      "metadata": {
        "id": "tY6MJifv1C4t",
        "colab_type": "code",
        "colab": {}
      },
      "cell_type": "code",
      "source": [
        "model.compile(optimizer = 'rmsprop', loss = 'mse')"
      ],
      "execution_count": 0,
      "outputs": []
    },
    {
      "metadata": {
        "id": "h1EQpZH31tp5",
        "colab_type": "text"
      },
      "cell_type": "markdown",
      "source": [
        "The optimizer has a learning rate parameter that needs to be set. For this lab we will ignore it and just use the default, but we will dig much deeper into this in the future.\n",
        "\n",
        "We can take a look at the model structure by running the following command:"
      ]
    },
    {
      "metadata": {
        "id": "WbZkR6FQ1wUD",
        "colab_type": "code",
        "outputId": "01970876-920b-44cb-bf3f-ecd1e74f71cb",
        "colab": {
          "base_uri": "https://localhost:8080/",
          "height": 243
        }
      },
      "cell_type": "code",
      "source": [
        "model.summary()"
      ],
      "execution_count": 0,
      "outputs": [
        {
          "output_type": "stream",
          "text": [
            "_________________________________________________________________\n",
            "Layer (type)                 Output Shape              Param #   \n",
            "=================================================================\n",
            "dense_1 (Dense)              (None, 64)                896       \n",
            "_________________________________________________________________\n",
            "dense_2 (Dense)              (None, 64)                4160      \n",
            "_________________________________________________________________\n",
            "dense_3 (Dense)              (None, 1)                 65        \n",
            "=================================================================\n",
            "Total params: 5,121\n",
            "Trainable params: 5,121\n",
            "Non-trainable params: 0\n",
            "_________________________________________________________________\n"
          ],
          "name": "stdout"
        }
      ]
    },
    {
      "metadata": {
        "id": "oMN2cIa41y9Y",
        "colab_type": "text"
      },
      "cell_type": "markdown",
      "source": [
        "Or we can show it much more nicely in a picture."
      ]
    },
    {
      "metadata": {
        "id": "PWJKLbk2z9H1",
        "colab_type": "code",
        "outputId": "e79babec-a75d-4e5c-a526-2763fd3a36b3",
        "colab": {
          "base_uri": "https://localhost:8080/",
          "height": 213
        }
      },
      "cell_type": "code",
      "source": [
        "import matplotlib.pyplot as plt\n",
        "from keras.utils import plot_model\n",
        "from IPython.display import Image\n",
        "%matplotlib inline\n",
        "\n",
        "plot_model(model, show_shapes=True, show_layer_names=True, to_file='model.png')\n",
        "Image(retina=True, filename='model.png')"
      ],
      "execution_count": 0,
      "outputs": [
        {
          "output_type": "execute_result",
          "data": {
            "image/png": "[encoded data removed]",
            "text/plain": [
              "<IPython.core.display.Image object>"
            ]
          },
          "metadata": {
            "tags": [],
            "image/png": {
              "width": 168,
              "height": 196
            }
          },
          "execution_count": 11
        }
      ]
    },
    {
      "metadata": {
        "id": "m-Oq_5xt15Z6",
        "colab_type": "text"
      },
      "cell_type": "markdown",
      "source": [
        "## Training and testing\n",
        "\n",
        "Now we can simply train the model! It follows the same fitting structure of scikit-learn, with a 'fit' function we will use to tell the model the data it needs to train on."
      ]
    },
    {
      "metadata": {
        "id": "4JG6sKJ-0Ne9",
        "colab_type": "code",
        "outputId": "626cacef-e80c-4fbc-a5df-fd1d3678fab5",
        "colab": {
          "base_uri": "https://localhost:8080/",
          "height": 3573
        }
      },
      "cell_type": "code",
      "source": [
        "history = model.fit(train_data, train_targets, epochs = 100, batch_size=128, \n",
        "                    validation_split= 0.25)"
      ],
      "execution_count": 0,
      "outputs": [
        {
          "output_type": "stream",
          "text": [
            "WARNING:tensorflow:From /usr/local/lib/python3.6/dist-packages/tensorflow/python/ops/math_ops.py:3066: to_int32 (from tensorflow.python.ops.math_ops) is deprecated and will be removed in a future version.\n",
            "Instructions for updating:\n",
            "Use tf.cast instead.\n",
            "Train on 303 samples, validate on 101 samples\n",
            "Epoch 1/100\n",
            "303/303 [==============================] - 3s 9ms/step - loss: 545.7880 - val_loss: 657.6154\n",
            "Epoch 2/100\n",
            "303/303 [==============================] - 0s 64us/step - loss: 517.5181 - val_loss: 632.5790\n",
            "Epoch 3/100\n",
            "303/303 [==============================] - 0s 58us/step - loss: 495.6748 - val_loss: 610.3994\n",
            "Epoch 4/100\n",
            "303/303 [==============================] - 0s 60us/step - loss: 475.5900 - val_loss: 587.7275\n",
            "Epoch 5/100\n",
            "303/303 [==============================] - 0s 58us/step - loss: 455.1068 - val_loss: 563.7216\n",
            "Epoch 6/100\n",
            "303/303 [==============================] - 0s 57us/step - loss: 434.1949 - val_loss: 540.8484\n",
            "Epoch 7/100\n",
            "303/303 [==============================] - 0s 67us/step - loss: 413.8314 - val_loss: 515.9000\n",
            "Epoch 8/100\n",
            "303/303 [==============================] - 0s 57us/step - loss: 391.9888 - val_loss: 489.7330\n",
            "Epoch 9/100\n",
            "303/303 [==============================] - 0s 61us/step - loss: 369.1359 - val_loss: 462.1940\n",
            "Epoch 10/100\n",
            "303/303 [==============================] - 0s 68us/step - loss: 345.3644 - val_loss: 433.2548\n",
            "Epoch 11/100\n",
            "303/303 [==============================] - 0s 60us/step - loss: 320.9853 - val_loss: 405.2105\n",
            "Epoch 12/100\n",
            "303/303 [==============================] - 0s 72us/step - loss: 296.9971 - val_loss: 375.9881\n",
            "Epoch 13/100\n",
            "303/303 [==============================] - 0s 60us/step - loss: 272.5109 - val_loss: 347.2889\n",
            "Epoch 14/100\n",
            "303/303 [==============================] - 0s 59us/step - loss: 248.6554 - val_loss: 318.8248\n",
            "Epoch 15/100\n",
            "303/303 [==============================] - 0s 55us/step - loss: 225.1637 - val_loss: 291.4341\n",
            "Epoch 16/100\n",
            "303/303 [==============================] - 0s 62us/step - loss: 202.8293 - val_loss: 266.2331\n",
            "Epoch 17/100\n",
            "303/303 [==============================] - 0s 59us/step - loss: 182.0068 - val_loss: 241.4845\n",
            "Epoch 18/100\n",
            "303/303 [==============================] - 0s 88us/step - loss: 162.1469 - val_loss: 218.8571\n",
            "Epoch 19/100\n",
            "303/303 [==============================] - 0s 53us/step - loss: 144.0385 - val_loss: 197.1454\n",
            "Epoch 20/100\n",
            "303/303 [==============================] - 0s 50us/step - loss: 127.1827 - val_loss: 178.7848\n",
            "Epoch 21/100\n",
            "303/303 [==============================] - 0s 50us/step - loss: 112.8275 - val_loss: 160.9820\n",
            "Epoch 22/100\n",
            "303/303 [==============================] - 0s 70us/step - loss: 99.4062 - val_loss: 145.3394\n",
            "Epoch 23/100\n",
            "303/303 [==============================] - 0s 54us/step - loss: 88.1830 - val_loss: 134.3034\n",
            "Epoch 24/100\n",
            "303/303 [==============================] - 0s 55us/step - loss: 80.1360 - val_loss: 124.1882\n",
            "Epoch 25/100\n",
            "303/303 [==============================] - 0s 60us/step - loss: 73.1293 - val_loss: 114.5746\n",
            "Epoch 26/100\n",
            "303/303 [==============================] - 0s 54us/step - loss: 66.4881 - val_loss: 105.6709\n",
            "Epoch 27/100\n",
            "303/303 [==============================] - 0s 65us/step - loss: 60.6830 - val_loss: 99.2454\n",
            "Epoch 28/100\n",
            "303/303 [==============================] - 0s 58us/step - loss: 56.2680 - val_loss: 91.9005\n",
            "Epoch 29/100\n",
            "303/303 [==============================] - 0s 58us/step - loss: 51.8687 - val_loss: 86.1086\n",
            "Epoch 30/100\n",
            "303/303 [==============================] - 0s 67us/step - loss: 48.2762 - val_loss: 80.8194\n",
            "Epoch 31/100\n",
            "303/303 [==============================] - 0s 57us/step - loss: 45.1948 - val_loss: 75.1909\n",
            "Epoch 32/100\n",
            "303/303 [==============================] - 0s 49us/step - loss: 42.2764 - val_loss: 70.3490\n",
            "Epoch 33/100\n",
            "303/303 [==============================] - 0s 60us/step - loss: 39.6872 - val_loss: 66.9466\n",
            "Epoch 34/100\n",
            "303/303 [==============================] - 0s 62us/step - loss: 37.3967 - val_loss: 63.4200\n",
            "Epoch 35/100\n",
            "303/303 [==============================] - 0s 67us/step - loss: 35.2367 - val_loss: 60.7649\n",
            "Epoch 36/100\n",
            "303/303 [==============================] - 0s 62us/step - loss: 33.5376 - val_loss: 56.9171\n",
            "Epoch 37/100\n",
            "303/303 [==============================] - 0s 76us/step - loss: 31.8552 - val_loss: 53.9869\n",
            "Epoch 38/100\n",
            "303/303 [==============================] - 0s 68us/step - loss: 30.2830 - val_loss: 51.4124\n",
            "Epoch 39/100\n",
            "303/303 [==============================] - 0s 66us/step - loss: 28.5694 - val_loss: 48.5742\n",
            "Epoch 40/100\n",
            "303/303 [==============================] - 0s 99us/step - loss: 27.3818 - val_loss: 46.9408\n",
            "Epoch 41/100\n",
            "303/303 [==============================] - 0s 77us/step - loss: 26.2384 - val_loss: 43.4984\n",
            "Epoch 42/100\n",
            "303/303 [==============================] - 0s 54us/step - loss: 24.8730 - val_loss: 41.7162\n",
            "Epoch 43/100\n",
            "303/303 [==============================] - 0s 60us/step - loss: 23.9151 - val_loss: 40.3757\n",
            "Epoch 44/100\n",
            "303/303 [==============================] - 0s 58us/step - loss: 23.0621 - val_loss: 38.5831\n",
            "Epoch 45/100\n",
            "303/303 [==============================] - 0s 58us/step - loss: 22.1497 - val_loss: 36.5833\n",
            "Epoch 46/100\n",
            "303/303 [==============================] - 0s 65us/step - loss: 21.4898 - val_loss: 34.9558\n",
            "Epoch 47/100\n",
            "303/303 [==============================] - 0s 49us/step - loss: 20.7956 - val_loss: 34.3016\n",
            "Epoch 48/100\n",
            "303/303 [==============================] - 0s 65us/step - loss: 20.1391 - val_loss: 33.4259\n",
            "Epoch 49/100\n",
            "303/303 [==============================] - 0s 66us/step - loss: 19.9889 - val_loss: 32.7362\n",
            "Epoch 50/100\n",
            "303/303 [==============================] - 0s 47us/step - loss: 19.0499 - val_loss: 30.6123\n",
            "Epoch 51/100\n",
            "303/303 [==============================] - 0s 59us/step - loss: 18.4963 - val_loss: 30.0507\n",
            "Epoch 52/100\n",
            "303/303 [==============================] - 0s 60us/step - loss: 17.8474 - val_loss: 28.3288\n",
            "Epoch 53/100\n",
            "303/303 [==============================] - 0s 56us/step - loss: 17.3652 - val_loss: 28.0399\n",
            "Epoch 54/100\n",
            "303/303 [==============================] - 0s 69us/step - loss: 16.8829 - val_loss: 26.4582\n",
            "Epoch 55/100\n",
            "303/303 [==============================] - 0s 62us/step - loss: 16.6638 - val_loss: 26.0797\n",
            "Epoch 56/100\n",
            "303/303 [==============================] - 0s 58us/step - loss: 16.0203 - val_loss: 26.0010\n",
            "Epoch 57/100\n",
            "303/303 [==============================] - 0s 70us/step - loss: 15.7564 - val_loss: 25.5461\n",
            "Epoch 58/100\n",
            "303/303 [==============================] - 0s 70us/step - loss: 15.5008 - val_loss: 24.4633\n",
            "Epoch 59/100\n",
            "303/303 [==============================] - 0s 64us/step - loss: 15.1793 - val_loss: 23.2073\n",
            "Epoch 60/100\n",
            "303/303 [==============================] - 0s 55us/step - loss: 14.8263 - val_loss: 22.7903\n",
            "Epoch 61/100\n",
            "303/303 [==============================] - 0s 51us/step - loss: 14.4101 - val_loss: 22.9377\n",
            "Epoch 62/100\n",
            "303/303 [==============================] - 0s 59us/step - loss: 14.1077 - val_loss: 22.1144\n",
            "Epoch 63/100\n",
            "303/303 [==============================] - 0s 51us/step - loss: 13.7769 - val_loss: 21.3814\n",
            "Epoch 64/100\n",
            "303/303 [==============================] - 0s 49us/step - loss: 13.6720 - val_loss: 20.9176\n",
            "Epoch 65/100\n",
            "303/303 [==============================] - 0s 48us/step - loss: 13.2277 - val_loss: 20.8858\n",
            "Epoch 66/100\n",
            "303/303 [==============================] - 0s 56us/step - loss: 13.0446 - val_loss: 20.2458\n",
            "Epoch 67/100\n",
            "303/303 [==============================] - 0s 51us/step - loss: 13.0336 - val_loss: 20.1626\n",
            "Epoch 68/100\n",
            "303/303 [==============================] - 0s 48us/step - loss: 12.6836 - val_loss: 19.8294\n",
            "Epoch 69/100\n",
            "303/303 [==============================] - 0s 55us/step - loss: 12.5111 - val_loss: 19.5823\n",
            "Epoch 70/100\n",
            "303/303 [==============================] - 0s 59us/step - loss: 12.2400 - val_loss: 18.5555\n",
            "Epoch 71/100\n",
            "303/303 [==============================] - 0s 58us/step - loss: 11.9775 - val_loss: 18.5975\n",
            "Epoch 72/100\n",
            "303/303 [==============================] - 0s 67us/step - loss: 11.8019 - val_loss: 18.3930\n",
            "Epoch 73/100\n",
            "303/303 [==============================] - 0s 51us/step - loss: 11.6157 - val_loss: 18.3248\n",
            "Epoch 74/100\n",
            "303/303 [==============================] - 0s 73us/step - loss: 11.3720 - val_loss: 17.4943\n",
            "Epoch 75/100\n",
            "303/303 [==============================] - 0s 51us/step - loss: 11.1951 - val_loss: 17.8190\n",
            "Epoch 76/100\n",
            "303/303 [==============================] - 0s 53us/step - loss: 11.4309 - val_loss: 17.2009\n",
            "Epoch 77/100\n",
            "303/303 [==============================] - 0s 52us/step - loss: 10.8377 - val_loss: 17.2238\n",
            "Epoch 78/100\n",
            "303/303 [==============================] - 0s 51us/step - loss: 10.8104 - val_loss: 16.6058\n",
            "Epoch 79/100\n",
            "303/303 [==============================] - 0s 49us/step - loss: 10.8583 - val_loss: 16.2848\n",
            "Epoch 80/100\n",
            "303/303 [==============================] - 0s 60us/step - loss: 10.4280 - val_loss: 16.7838\n",
            "Epoch 81/100\n",
            "303/303 [==============================] - 0s 56us/step - loss: 10.5322 - val_loss: 16.6684\n",
            "Epoch 82/100\n",
            "303/303 [==============================] - 0s 68us/step - loss: 10.2293 - val_loss: 16.0255\n",
            "Epoch 83/100\n",
            "303/303 [==============================] - 0s 57us/step - loss: 10.1632 - val_loss: 16.2121\n",
            "Epoch 84/100\n",
            "303/303 [==============================] - 0s 82us/step - loss: 10.1224 - val_loss: 16.5244\n",
            "Epoch 85/100\n",
            "303/303 [==============================] - 0s 57us/step - loss: 9.9723 - val_loss: 15.7528\n",
            "Epoch 86/100\n",
            "303/303 [==============================] - 0s 62us/step - loss: 9.8283 - val_loss: 15.5940\n",
            "Epoch 87/100\n",
            "303/303 [==============================] - 0s 58us/step - loss: 9.9010 - val_loss: 15.5240\n",
            "Epoch 88/100\n",
            "303/303 [==============================] - 0s 70us/step - loss: 9.7203 - val_loss: 15.2719\n",
            "Epoch 89/100\n",
            "303/303 [==============================] - 0s 51us/step - loss: 9.5958 - val_loss: 14.6523\n",
            "Epoch 90/100\n",
            "303/303 [==============================] - 0s 53us/step - loss: 9.5568 - val_loss: 14.5129\n",
            "Epoch 91/100\n",
            "303/303 [==============================] - 0s 70us/step - loss: 9.4290 - val_loss: 14.4972\n",
            "Epoch 92/100\n",
            "303/303 [==============================] - 0s 70us/step - loss: 9.2109 - val_loss: 14.6223\n",
            "Epoch 93/100\n",
            "303/303 [==============================] - 0s 48us/step - loss: 9.4637 - val_loss: 14.4438\n",
            "Epoch 94/100\n",
            "303/303 [==============================] - 0s 59us/step - loss: 9.2141 - val_loss: 14.5074\n",
            "Epoch 95/100\n",
            "303/303 [==============================] - 0s 60us/step - loss: 9.0877 - val_loss: 14.4335\n",
            "Epoch 96/100\n",
            "303/303 [==============================] - 0s 71us/step - loss: 8.9345 - val_loss: 14.1040\n",
            "Epoch 97/100\n",
            "303/303 [==============================] - 0s 67us/step - loss: 8.8978 - val_loss: 14.7869\n",
            "Epoch 98/100\n",
            "303/303 [==============================] - 0s 62us/step - loss: 8.9381 - val_loss: 14.2701\n",
            "Epoch 99/100\n",
            "303/303 [==============================] - 0s 53us/step - loss: 8.7874 - val_loss: 14.3830\n",
            "Epoch 100/100\n",
            "303/303 [==============================] - 0s 59us/step - loss: 8.7559 - val_loss: 13.9877\n"
          ],
          "name": "stdout"
        }
      ]
    },
    {
      "metadata": {
        "id": "xRD9GUll2R-n",
        "colab_type": "text"
      },
      "cell_type": "markdown",
      "source": [
        "Done! Let's examine the command in detail:\n",
        "\n",
        "- The first two arguments give us the traning data and the training targets. These should always be Numpy arrays, or other compatible tensors.\n",
        "\n",
        "- epochs: Neural networks are trained using batches of data, which are shuffled and then fed back to the network. Each full pass of the data is called an \"Epoch\". We will use the number of epochs to control overfitting with the validation sample.\n",
        "\n",
        "- batch_size: For big data models, it is not possible to train the model with all data at once, as we could be done here. The reason for that is that the model may not fit in memory, or that we need to stream data from an online source. The traditional way is to train in \"batches\". Recommended batches size are between 32 (for big applications) to 256 (for small problems). In general, we want to keep it small to create \"diversity\" in the data.\n",
        "\n",
        "- validation_split: As this model is *very* prone to overfitting, we need to control it somehow. The validation data will help us with this. We will stop training as soon as we start worsening the validation sample. That will be the cut for the epochs in later iterations. We use a 25% split for validation cases. Another alternative is to provide a new set of data to use as validation data, we would use  \"validation_data = (val_train, val_target)\" instead of this split commmand.\n",
        "\n",
        "\n",
        "The output we currently have gives us a training loss and a validation loss. This is measured in MSE. But, should we keep training? Are we making any gains?\n",
        "\n",
        "The following code allows us to visualize the regression metrics."
      ]
    },
    {
      "metadata": {
        "id": "wcArY46A2FwM",
        "colab_type": "code",
        "outputId": "3d1a49d6-22c0-43b6-b75c-bd10257d3a89",
        "colab": {
          "base_uri": "https://localhost:8080/",
          "height": 295
        }
      },
      "cell_type": "code",
      "source": [
        "loss = history.history['loss']\n",
        "val_loss = history.history['val_loss']\n",
        "epochs = range(1, len(loss) + 1)\n",
        "plt.plot(epochs, loss, 'bo', label='Training loss')\n",
        "plt.plot(epochs, val_loss, 'b', label='Validation loss')\n",
        "plt.title('Training and validation loss')\n",
        "plt.xlabel('Epochs')\n",
        "plt.ylabel('Loss')\n",
        "plt.legend()\n",
        "plt.show()"
      ],
      "execution_count": 0,
      "outputs": [
        {
          "output_type": "display_data",
          "data": {
            "image/png": "[encoded data removed]",
            "text/plain": [
              "<Figure size 432x288 with 1 Axes>"
            ]
          },
          "metadata": {
            "tags": []
          }
        }
      ]
    },
    {
      "metadata": {
        "id": "lNC0fgei2aWp",
        "colab_type": "text"
      },
      "cell_type": "markdown",
      "source": [
        "Is it worth it to retrain? If you run the \"fit\" command again, Keras will optimize *over the parameters already found*, so we would actually be improving the result over the training set (but potentially worsening it over the validation set!). The goal is to find a number of epochs that gives us the best result. \n",
        "\n",
        "In our case: the validation loss and the training loss are still going down! We can continue training. Let's give it 100 more epochs."
      ]
    },
    {
      "metadata": {
        "id": "s4k-1fca2Y_l",
        "colab_type": "code",
        "outputId": "92d7a433-76cf-4448-e5f3-879d6d1d2690",
        "colab": {
          "base_uri": "https://localhost:8080/",
          "height": 3501
        }
      },
      "cell_type": "code",
      "source": [
        "history = model.fit(train_data, train_targets, epochs = 100, batch_size=128, validation_split= 0.25)"
      ],
      "execution_count": 0,
      "outputs": [
        {
          "output_type": "stream",
          "text": [
            "Train on 303 samples, validate on 101 samples\n",
            "Epoch 1/100\n",
            "303/303 [==============================] - 0s 49us/step - loss: 8.8659 - val_loss: 14.2684\n",
            "Epoch 2/100\n",
            "303/303 [==============================] - 0s 45us/step - loss: 8.5542 - val_loss: 13.9555\n",
            "Epoch 3/100\n",
            "303/303 [==============================] - 0s 46us/step - loss: 9.1080 - val_loss: 13.7235\n",
            "Epoch 4/100\n",
            "303/303 [==============================] - 0s 49us/step - loss: 8.6597 - val_loss: 13.4496\n",
            "Epoch 5/100\n",
            "303/303 [==============================] - 0s 49us/step - loss: 8.4009 - val_loss: 13.3102\n",
            "Epoch 6/100\n",
            "303/303 [==============================] - 0s 47us/step - loss: 8.3582 - val_loss: 13.2759\n",
            "Epoch 7/100\n",
            "303/303 [==============================] - 0s 50us/step - loss: 8.3460 - val_loss: 13.3523\n",
            "Epoch 8/100\n",
            "303/303 [==============================] - 0s 43us/step - loss: 8.3272 - val_loss: 13.6826\n",
            "Epoch 9/100\n",
            "303/303 [==============================] - 0s 41us/step - loss: 8.3076 - val_loss: 13.4647\n",
            "Epoch 10/100\n",
            "303/303 [==============================] - 0s 50us/step - loss: 8.7224 - val_loss: 13.3185\n",
            "Epoch 11/100\n",
            "303/303 [==============================] - 0s 43us/step - loss: 8.3425 - val_loss: 12.9927\n",
            "Epoch 12/100\n",
            "303/303 [==============================] - 0s 46us/step - loss: 8.1503 - val_loss: 13.1439\n",
            "Epoch 13/100\n",
            "303/303 [==============================] - 0s 43us/step - loss: 8.0759 - val_loss: 13.2311\n",
            "Epoch 14/100\n",
            "303/303 [==============================] - 0s 47us/step - loss: 8.0315 - val_loss: 13.0540\n",
            "Epoch 15/100\n",
            "303/303 [==============================] - 0s 44us/step - loss: 8.0907 - val_loss: 13.9068\n",
            "Epoch 16/100\n",
            "303/303 [==============================] - 0s 50us/step - loss: 8.3143 - val_loss: 13.0592\n",
            "Epoch 17/100\n",
            "303/303 [==============================] - 0s 48us/step - loss: 7.9513 - val_loss: 12.8823\n",
            "Epoch 18/100\n",
            "303/303 [==============================] - 0s 44us/step - loss: 7.8506 - val_loss: 12.9379\n",
            "Epoch 19/100\n",
            "303/303 [==============================] - 0s 47us/step - loss: 7.8791 - val_loss: 13.1210\n",
            "Epoch 20/100\n",
            "303/303 [==============================] - 0s 52us/step - loss: 7.9562 - val_loss: 13.1772\n",
            "Epoch 21/100\n",
            "303/303 [==============================] - 0s 44us/step - loss: 7.8367 - val_loss: 13.1097\n",
            "Epoch 22/100\n",
            "303/303 [==============================] - 0s 46us/step - loss: 7.8411 - val_loss: 12.8315\n",
            "Epoch 23/100\n",
            "303/303 [==============================] - 0s 66us/step - loss: 7.7035 - val_loss: 12.5465\n",
            "Epoch 24/100\n",
            "303/303 [==============================] - 0s 55us/step - loss: 7.8091 - val_loss: 12.7310\n",
            "Epoch 25/100\n",
            "303/303 [==============================] - 0s 55us/step - loss: 7.6268 - val_loss: 12.6987\n",
            "Epoch 26/100\n",
            "303/303 [==============================] - 0s 51us/step - loss: 7.7590 - val_loss: 12.7287\n",
            "Epoch 27/100\n",
            "303/303 [==============================] - 0s 42us/step - loss: 7.7579 - val_loss: 12.3983\n",
            "Epoch 28/100\n",
            "303/303 [==============================] - 0s 47us/step - loss: 7.5937 - val_loss: 12.6536\n",
            "Epoch 29/100\n",
            "303/303 [==============================] - 0s 40us/step - loss: 7.7395 - val_loss: 12.3974\n",
            "Epoch 30/100\n",
            "303/303 [==============================] - 0s 52us/step - loss: 7.4614 - val_loss: 12.8045\n",
            "Epoch 31/100\n",
            "303/303 [==============================] - 0s 45us/step - loss: 7.4788 - val_loss: 12.5125\n",
            "Epoch 32/100\n",
            "303/303 [==============================] - 0s 43us/step - loss: 7.4135 - val_loss: 13.1348\n",
            "Epoch 33/100\n",
            "303/303 [==============================] - 0s 54us/step - loss: 7.4454 - val_loss: 12.6269\n",
            "Epoch 34/100\n",
            "303/303 [==============================] - 0s 48us/step - loss: 7.3717 - val_loss: 12.6838\n",
            "Epoch 35/100\n",
            "303/303 [==============================] - 0s 41us/step - loss: 7.2707 - val_loss: 12.2242\n",
            "Epoch 36/100\n",
            "303/303 [==============================] - 0s 41us/step - loss: 7.3356 - val_loss: 12.6113\n",
            "Epoch 37/100\n",
            "303/303 [==============================] - 0s 60us/step - loss: 7.3281 - val_loss: 12.3483\n",
            "Epoch 38/100\n",
            "303/303 [==============================] - 0s 58us/step - loss: 7.3170 - val_loss: 12.4350\n",
            "Epoch 39/100\n",
            "303/303 [==============================] - 0s 46us/step - loss: 7.3094 - val_loss: 12.3647\n",
            "Epoch 40/100\n",
            "303/303 [==============================] - 0s 49us/step - loss: 7.2075 - val_loss: 12.2773\n",
            "Epoch 41/100\n",
            "303/303 [==============================] - 0s 45us/step - loss: 7.1018 - val_loss: 13.0429\n",
            "Epoch 42/100\n",
            "303/303 [==============================] - 0s 53us/step - loss: 7.1858 - val_loss: 12.2211\n",
            "Epoch 43/100\n",
            "303/303 [==============================] - 0s 56us/step - loss: 7.0528 - val_loss: 12.0531\n",
            "Epoch 44/100\n",
            "303/303 [==============================] - 0s 53us/step - loss: 7.0846 - val_loss: 12.0489\n",
            "Epoch 45/100\n",
            "303/303 [==============================] - 0s 44us/step - loss: 7.0738 - val_loss: 12.1214\n",
            "Epoch 46/100\n",
            "303/303 [==============================] - 0s 42us/step - loss: 7.0855 - val_loss: 12.1049\n",
            "Epoch 47/100\n",
            "303/303 [==============================] - 0s 56us/step - loss: 6.9662 - val_loss: 13.0837\n",
            "Epoch 48/100\n",
            "303/303 [==============================] - 0s 50us/step - loss: 7.1517 - val_loss: 12.0830\n",
            "Epoch 49/100\n",
            "303/303 [==============================] - 0s 46us/step - loss: 6.8451 - val_loss: 12.5203\n",
            "Epoch 50/100\n",
            "303/303 [==============================] - 0s 54us/step - loss: 7.1791 - val_loss: 12.3076\n",
            "Epoch 51/100\n",
            "303/303 [==============================] - 0s 62us/step - loss: 6.9169 - val_loss: 12.3417\n",
            "Epoch 52/100\n",
            "303/303 [==============================] - 0s 48us/step - loss: 6.9165 - val_loss: 12.1185\n",
            "Epoch 53/100\n",
            "303/303 [==============================] - 0s 41us/step - loss: 7.1494 - val_loss: 12.1125\n",
            "Epoch 54/100\n",
            "303/303 [==============================] - 0s 46us/step - loss: 6.8118 - val_loss: 12.2059\n",
            "Epoch 55/100\n",
            "303/303 [==============================] - 0s 42us/step - loss: 6.8563 - val_loss: 12.4234\n",
            "Epoch 56/100\n",
            "303/303 [==============================] - 0s 53us/step - loss: 6.8523 - val_loss: 11.8739\n",
            "Epoch 57/100\n",
            "303/303 [==============================] - 0s 64us/step - loss: 6.8097 - val_loss: 12.1970\n",
            "Epoch 58/100\n",
            "303/303 [==============================] - 0s 65us/step - loss: 6.7189 - val_loss: 12.8009\n",
            "Epoch 59/100\n",
            "303/303 [==============================] - 0s 53us/step - loss: 6.8304 - val_loss: 12.2858\n",
            "Epoch 60/100\n",
            "303/303 [==============================] - 0s 46us/step - loss: 6.6678 - val_loss: 12.0360\n",
            "Epoch 61/100\n",
            "303/303 [==============================] - 0s 42us/step - loss: 6.5846 - val_loss: 12.3131\n",
            "Epoch 62/100\n",
            "303/303 [==============================] - 0s 49us/step - loss: 6.7294 - val_loss: 12.3684\n",
            "Epoch 63/100\n",
            "303/303 [==============================] - 0s 46us/step - loss: 6.7157 - val_loss: 12.5564\n",
            "Epoch 64/100\n",
            "303/303 [==============================] - 0s 55us/step - loss: 7.0794 - val_loss: 11.9662\n",
            "Epoch 65/100\n",
            "303/303 [==============================] - 0s 39us/step - loss: 6.7202 - val_loss: 12.1438\n",
            "Epoch 66/100\n",
            "303/303 [==============================] - 0s 43us/step - loss: 6.6584 - val_loss: 11.9938\n",
            "Epoch 67/100\n",
            "303/303 [==============================] - 0s 49us/step - loss: 6.6762 - val_loss: 12.2750\n",
            "Epoch 68/100\n",
            "303/303 [==============================] - 0s 47us/step - loss: 6.5750 - val_loss: 11.9461\n",
            "Epoch 69/100\n",
            "303/303 [==============================] - 0s 46us/step - loss: 6.5315 - val_loss: 11.9893\n",
            "Epoch 70/100\n",
            "303/303 [==============================] - 0s 48us/step - loss: 6.3829 - val_loss: 11.7866\n",
            "Epoch 71/100\n",
            "303/303 [==============================] - 0s 70us/step - loss: 6.5073 - val_loss: 12.1103\n",
            "Epoch 72/100\n",
            "303/303 [==============================] - 0s 53us/step - loss: 6.4664 - val_loss: 11.8815\n",
            "Epoch 73/100\n",
            "303/303 [==============================] - 0s 35us/step - loss: 6.5086 - val_loss: 11.8026\n",
            "Epoch 74/100\n",
            "303/303 [==============================] - 0s 57us/step - loss: 6.4165 - val_loss: 12.0302\n",
            "Epoch 75/100\n",
            "303/303 [==============================] - 0s 46us/step - loss: 6.3258 - val_loss: 11.6403\n",
            "Epoch 76/100\n",
            "303/303 [==============================] - 0s 56us/step - loss: 6.2777 - val_loss: 12.1059\n",
            "Epoch 77/100\n",
            "303/303 [==============================] - 0s 47us/step - loss: 6.4611 - val_loss: 12.2963\n",
            "Epoch 78/100\n",
            "303/303 [==============================] - 0s 49us/step - loss: 6.4404 - val_loss: 11.8173\n",
            "Epoch 79/100\n",
            "303/303 [==============================] - 0s 57us/step - loss: 6.2579 - val_loss: 12.5757\n",
            "Epoch 80/100\n",
            "303/303 [==============================] - 0s 51us/step - loss: 6.5734 - val_loss: 11.9026\n",
            "Epoch 81/100\n",
            "303/303 [==============================] - 0s 69us/step - loss: 6.2159 - val_loss: 11.9166\n",
            "Epoch 82/100\n",
            "303/303 [==============================] - 0s 44us/step - loss: 6.2507 - val_loss: 11.5170\n",
            "Epoch 83/100\n",
            "303/303 [==============================] - 0s 50us/step - loss: 6.2309 - val_loss: 11.7095\n",
            "Epoch 84/100\n",
            "303/303 [==============================] - 0s 47us/step - loss: 6.4090 - val_loss: 11.4476\n",
            "Epoch 85/100\n",
            "303/303 [==============================] - 0s 42us/step - loss: 6.1987 - val_loss: 11.8501\n",
            "Epoch 86/100\n",
            "303/303 [==============================] - 0s 50us/step - loss: 6.1527 - val_loss: 11.7105\n",
            "Epoch 87/100\n",
            "303/303 [==============================] - 0s 50us/step - loss: 6.1523 - val_loss: 11.5688\n",
            "Epoch 88/100\n",
            "303/303 [==============================] - 0s 52us/step - loss: 6.0617 - val_loss: 11.3970\n",
            "Epoch 89/100\n",
            "303/303 [==============================] - 0s 47us/step - loss: 5.9716 - val_loss: 11.6782\n",
            "Epoch 90/100\n",
            "303/303 [==============================] - 0s 45us/step - loss: 6.1009 - val_loss: 12.3055\n",
            "Epoch 91/100\n",
            "303/303 [==============================] - 0s 48us/step - loss: 6.0824 - val_loss: 11.6304\n",
            "Epoch 92/100\n",
            "303/303 [==============================] - 0s 53us/step - loss: 6.0306 - val_loss: 11.8597\n",
            "Epoch 93/100\n",
            "303/303 [==============================] - 0s 49us/step - loss: 5.9368 - val_loss: 11.7348\n",
            "Epoch 94/100\n",
            "303/303 [==============================] - 0s 43us/step - loss: 5.9803 - val_loss: 11.6554\n",
            "Epoch 95/100\n",
            "303/303 [==============================] - 0s 48us/step - loss: 6.3725 - val_loss: 11.6499\n",
            "Epoch 96/100\n",
            "303/303 [==============================] - 0s 65us/step - loss: 5.9481 - val_loss: 12.0922\n",
            "Epoch 97/100\n",
            "303/303 [==============================] - 0s 74us/step - loss: 5.9221 - val_loss: 11.4865\n",
            "Epoch 98/100\n",
            "303/303 [==============================] - 0s 61us/step - loss: 5.8878 - val_loss: 11.5828\n",
            "Epoch 99/100\n",
            "303/303 [==============================] - 0s 48us/step - loss: 5.8712 - val_loss: 11.9321\n",
            "Epoch 100/100\n",
            "303/303 [==============================] - 0s 47us/step - loss: 5.9094 - val_loss: 11.6355\n"
          ],
          "name": "stdout"
        }
      ]
    },
    {
      "metadata": {
        "id": "y5KQQniw2h4_",
        "colab_type": "code",
        "outputId": "d0e0ec14-6cf9-4804-c7f2-1a3654dec903",
        "colab": {
          "base_uri": "https://localhost:8080/",
          "height": 295
        }
      },
      "cell_type": "code",
      "source": [
        "loss = history.history['loss']\n",
        "val_loss = history.history['val_loss']\n",
        "epochs = range(1, len(loss) + 1)\n",
        "plt.plot(epochs, loss, 'bo', label='Training loss')\n",
        "plt.plot(epochs, val_loss, 'b', label='Validation loss')\n",
        "plt.title('Training and validation loss')\n",
        "plt.xlabel('Epochs')\n",
        "plt.ylabel('Loss')\n",
        "plt.legend()\n",
        "plt.show()"
      ],
      "execution_count": 0,
      "outputs": [
        {
          "output_type": "display_data",
          "data": {
            "image/png": "[encoded data removed]",
            "text/plain": [
              "<Figure size 432x288 with 1 Axes>"
            ]
          },
          "metadata": {
            "tags": []
          }
        }
      ]
    },
    {
      "metadata": {
        "id": "X3ClXOg72mVR",
        "colab_type": "text"
      },
      "cell_type": "markdown",
      "source": [
        "Still going down! As a self-study exercise, keep training the model until you see an increase in validation loss. You should train until this happen, so keep an eye in your models!\n",
        "\n",
        "And how did we do in the test set? The \"evaluate\" internal function allows us to validate on new data."
      ]
    },
    {
      "metadata": {
        "id": "GM8eOZ782k1v",
        "colab_type": "code",
        "outputId": "0c2e179d-6c28-44d5-9fcf-6ba5b315e842",
        "colab": {
          "base_uri": "https://localhost:8080/",
          "height": 52
        }
      },
      "cell_type": "code",
      "source": [
        "model.evaluate(test_data, test_targets)"
      ],
      "execution_count": 0,
      "outputs": [
        {
          "output_type": "stream",
          "text": [
            "102/102 [==============================] - 0s 104us/step\n"
          ],
          "name": "stdout"
        },
        {
          "output_type": "execute_result",
          "data": {
            "text/plain": [
              "22.986811020795038"
            ]
          },
          "metadata": {
            "tags": []
          },
          "execution_count": 17
        }
      ]
    },
    {
      "metadata": {
        "id": "Pr3UwuM63NXz",
        "colab_type": "text"
      },
      "cell_type": "markdown",
      "source": [
        "We can use this number to compare against other models. Or take the square root to get an idea of the average error to be incurred, and then decide.\n",
        "\n",
        "Alternatively, if we want to get the value of the predictions, we can use the following command, which returns a prediction over the test data."
      ]
    },
    {
      "metadata": {
        "id": "OAfZsC2P3Jtl",
        "colab_type": "code",
        "outputId": "df0e8536-5348-46fc-ce2f-10505aedce7b",
        "colab": {
          "base_uri": "https://localhost:8080/",
          "height": 1785
        }
      },
      "cell_type": "code",
      "source": [
        "model.predict(test_data)"
      ],
      "execution_count": 0,
      "outputs": [
        {
          "output_type": "execute_result",
          "data": {
            "text/plain": [
              "array([[ 9.856199 ],\n",
              "       [19.368994 ],\n",
              "       [20.92077  ],\n",
              "       [31.016993 ],\n",
              "       [24.078352 ],\n",
              "       [20.314198 ],\n",
              "       [26.424477 ],\n",
              "       [21.253004 ],\n",
              "       [20.009785 ],\n",
              "       [23.582314 ],\n",
              "       [19.84085  ],\n",
              "       [17.38922  ],\n",
              "       [15.820671 ],\n",
              "       [41.69053  ],\n",
              "       [20.423843 ],\n",
              "       [19.704569 ],\n",
              "       [25.865046 ],\n",
              "       [20.924969 ],\n",
              "       [21.358105 ],\n",
              "       [29.115728 ],\n",
              "       [12.7323265],\n",
              "       [14.856037 ],\n",
              "       [20.60734  ],\n",
              "       [14.269516 ],\n",
              "       [21.036373 ],\n",
              "       [26.339327 ],\n",
              "       [28.948475 ],\n",
              "       [27.294987 ],\n",
              "       [12.193615 ],\n",
              "       [20.454573 ],\n",
              "       [19.61049  ],\n",
              "       [16.217443 ],\n",
              "       [31.56191  ],\n",
              "       [24.337837 ],\n",
              "       [19.767797 ],\n",
              "       [ 8.956468 ],\n",
              "       [16.509556 ],\n",
              "       [17.626263 ],\n",
              "       [20.374277 ],\n",
              "       [25.87709  ],\n",
              "       [29.01608  ],\n",
              "       [27.181253 ],\n",
              "       [15.070882 ],\n",
              "       [40.37516  ],\n",
              "       [29.067266 ],\n",
              "       [23.446766 ],\n",
              "       [26.188332 ],\n",
              "       [16.694317 ],\n",
              "       [25.898386 ],\n",
              "       [21.305485 ],\n",
              "       [34.372124 ],\n",
              "       [20.761879 ],\n",
              "       [13.18092  ],\n",
              "       [14.514476 ],\n",
              "       [34.25577  ],\n",
              "       [27.19531  ],\n",
              "       [13.426747 ],\n",
              "       [48.66149  ],\n",
              "       [32.029034 ],\n",
              "       [22.914457 ],\n",
              "       [25.79921  ],\n",
              "       [18.443623 ],\n",
              "       [16.02006  ],\n",
              "       [19.027803 ],\n",
              "       [22.815317 ],\n",
              "       [21.285044 ],\n",
              "       [14.151614 ],\n",
              "       [22.541595 ],\n",
              "       [15.986406 ],\n",
              "       [ 8.303016 ],\n",
              "       [30.402996 ],\n",
              "       [30.228077 ],\n",
              "       [27.751818 ],\n",
              "       [15.512765 ],\n",
              "       [25.675291 ],\n",
              "       [17.831081 ],\n",
              "       [19.46012  ],\n",
              "       [22.266571 ],\n",
              "       [34.812458 ],\n",
              "       [11.988525 ],\n",
              "       [19.607893 ],\n",
              "       [37.83062  ],\n",
              "       [15.125733 ],\n",
              "       [14.06803  ],\n",
              "       [17.452944 ],\n",
              "       [18.26026  ],\n",
              "       [22.08272  ],\n",
              "       [20.860556 ],\n",
              "       [21.58881  ],\n",
              "       [33.435257 ],\n",
              "       [18.702665 ],\n",
              "       [19.100676 ],\n",
              "       [24.666908 ],\n",
              "       [42.05859  ],\n",
              "       [34.99049  ],\n",
              "       [20.112604 ],\n",
              "       [35.696186 ],\n",
              "       [53.397823 ],\n",
              "       [25.176155 ],\n",
              "       [47.169964 ],\n",
              "       [29.965956 ],\n",
              "       [20.529835 ]], dtype=float32)"
            ]
          },
          "metadata": {
            "tags": []
          },
          "execution_count": 18
        }
      ]
    },
    {
      "metadata": {
        "id": "CHE6lrG23RJp",
        "colab_type": "text"
      },
      "cell_type": "markdown",
      "source": [
        "And that's it! We have our first shallow neural network trained. In future labs we will be adding complexity to this by for example using more complex text-based embeddings, images, etc."
      ]
    },
    {
      "metadata": {
        "id": "i6Alv9aZ3TX_",
        "colab_type": "text"
      },
      "cell_type": "markdown",
      "source": [
        "# Self Study\n",
        "\n",
        "Go through this example again, but now following Chapter 3.6 of Chollet's book. There you'll learn how to use Cross-Validation to model this example. Modify the activations and the size of the network. Try, for example:\n",
        "\n",
        "- Using SeLU instead of ReLU\n",
        "- Adding one more hidden layer\n",
        "- Changing the number of neurons from 64 to 128\n",
        "- ...etc\n",
        "\n",
        "Can you reach a better predictive capability over the test set? Creating an architecture is an art, so be creative and do your best effort!"
      ]
    }
  ]
}
