{
  "nbformat": 4,
  "nbformat_minor": 0,
  "metadata": {
    "colab": {
      "provenance": [],
      "include_colab_link": true
    },
    "kernelspec": {
      "name": "python3",
      "display_name": "Python 3"
    }
  },
  "cells": [
    {
      "cell_type": "markdown",
      "metadata": {
        "id": "view-in-github",
        "colab_type": "text"
      },
      "source": [
        "<a href=\"https://colab.research.google.com/github/CBravoR/AdvancedAnalyticsLabs/blob/master/notebooks/python/Lab_4_Preprocessing.ipynb\" target=\"_parent\"><img src=\"https://colab.research.google.com/assets/colab-badge.svg\" alt=\"Open In Colab\"/></a>"
      ]
    },
    {
      "cell_type": "markdown",
      "metadata": {
        "id": "twKpLeRhDeyQ"
      },
      "source": [
        "# Data Preprocessing\n",
        "\n",
        "In this lab, we will set up a **data pipeline** in order to leave the data ready for analysis. Data preprocessing tends to be, by far, the most time-consuming step of the data science process. Errors in this step propagate to the model, so it is really important we do this correctly.\n",
        "\n",
        "The goal of this step is to leave the date ready to apply models to it. \n",
        "\n",
        "Every problem has its own set of data preprocessing functions to apply it to, but we will focus on the ones most common in classification models. In general we want to:\n",
        "\n",
        "1. Eliminate redundant variables.\n",
        "2. Treat null values.\n",
        "3. Treat outliers.\n",
        "4. Remove correlated features.\n",
        "\n",
        "For this goal we will use the excellent [```scikit-learn```](https://scikit-learn.org/stable/) package, which comes with most data-intensive operations. We will also use today (and during the rest of the module) the [```pandas```](https://pandas.pydata.org/) package, which allows for data handling in general."
      ]
    },
    {
      "cell_type": "markdown",
      "metadata": {
        "id": "tTKdVYZLGm-b"
      },
      "source": [
        "## Reading the data\n",
        "\n",
        "Let's download the Bankloan data. I have slightly modified it removing the PD and LGD information (as we will now estimate our own). As a reminder, it has the following variables:\n",
        "\n",
        "- Customer: ID, or unique label, of the borrower (NOT predictive).\n",
        "- Age: Age of the borrower in years.\n",
        "- Education: Maximum education level the borrower reached.\n",
        "1: Complete primary. 2: Completed Secondary. 3: Incomplete Higher Ed. 4: Complete Higher Ed. 5: With postgraduate studies (complete MSc or PhD).\n",
        "- Employ: Years at current job.\n",
        "- Address: Years at current address.\n",
        "- Income: Income in ‘000s USD.\n",
        "- Leverage: Debt/Income Ratio.\n",
        "- CredDebt: Credit card standing debt.\n",
        "- OthDebt: Other debt in ‘000s USD.\n",
        "- MonthlyLoad: Monthly percentage from salary used to repay debts.\n",
        "- Default: 1 If default has occurred, 0 if not (Target variable).\n",
        "\n",
        "We will download it now directly from a link, using the more ubiquitous [```wget```](http://www.gnu.org/software/wget/) command. The command is\n",
        "\n",
        "```\n",
        "wget [-options] path\n",
        "```\n",
        "\n",
        "We need to add the options ```--no-check-certificate``` and ```--output-document=FILENAME``` so it downloads ok."
      ]
    },
    {
      "cell_type": "code",
      "metadata": {
        "id": "g3v98YWoGla0",
        "colab": {
          "base_uri": "https://localhost:8080/"
        },
        "outputId": "7c5f8bcc-f550-4341-da4e-4104c11947fe"
      },
      "source": [
        "!wget --no-check-certificate --output-document=Bankloan.csv 'https://docs.google.com/spreadsheets/d/1nUJ1fA5f1VeMvulknpsvxpy0GW3CekNnhgeLRK0WlDI/export?gid=1016776666&format=csv'"
      ],
      "execution_count": null,
      "outputs": [
        {
          "output_type": "stream",
          "name": "stdout",
          "text": [
            "--2023-03-27 15:41:14--  https://docs.google.com/spreadsheets/d/1nUJ1fA5f1VeMvulknpsvxpy0GW3CekNnhgeLRK0WlDI/export?gid=1016776666&format=csv\n",
            "Resolving docs.google.com (docs.google.com)... 142.251.2.113, 142.251.2.102, 142.251.2.138, ...\n",
            "Connecting to docs.google.com (docs.google.com)|142.251.2.113|:443... connected.\n",
            "HTTP request sent, awaiting response... 307 Temporary Redirect\n",
            "Location: https://doc-0o-8s-sheets.googleusercontent.com/export/mq6he3r7ig44qobar1fsg51390/ej6psm76todsrtmbav85t6tgu8/1679931675000/102123285539774178265/*/1nUJ1fA5f1VeMvulknpsvxpy0GW3CekNnhgeLRK0WlDI?gid=1016776666&format=csv [following]\n",
            "Warning: wildcards not supported in HTTP.\n",
            "--2023-03-27 15:41:15--  https://doc-0o-8s-sheets.googleusercontent.com/export/mq6he3r7ig44qobar1fsg51390/ej6psm76todsrtmbav85t6tgu8/1679931675000/102123285539774178265/*/1nUJ1fA5f1VeMvulknpsvxpy0GW3CekNnhgeLRK0WlDI?gid=1016776666&format=csv\n",
            "Resolving doc-0o-8s-sheets.googleusercontent.com (doc-0o-8s-sheets.googleusercontent.com)... 142.250.141.132, 2607:f8b0:4023:c0b::84\n",
            "Connecting to doc-0o-8s-sheets.googleusercontent.com (doc-0o-8s-sheets.googleusercontent.com)|142.250.141.132|:443... connected.\n",
            "HTTP request sent, awaiting response... 200 OK\n",
            "Length: unspecified [text/csv]\n",
            "Saving to: ‘Bankloan.csv’\n",
            "\n",
            "Bankloan.csv            [ <=>                ]  65.50K  --.-KB/s    in 0.006s  \n",
            "\n",
            "2023-03-27 15:41:16 (9.88 MB/s) - ‘Bankloan.csv’ saved [67077]\n",
            "\n"
          ]
        }
      ]
    },
    {
      "cell_type": "markdown",
      "metadata": {
        "id": "_ExNpn4rMwfT"
      },
      "source": [
        "To check what we downloaded we can use the ```head``` OS command."
      ]
    },
    {
      "cell_type": "code",
      "metadata": {
        "id": "oz4xRtSDM20o",
        "colab": {
          "base_uri": "https://localhost:8080/"
        },
        "outputId": "b6384df6-9104-47a6-9e1f-355346ef8d4d"
      },
      "source": [
        "!head Bankloan.csv"
      ],
      "execution_count": null,
      "outputs": [
        {
          "output_type": "stream",
          "name": "stdout",
          "text": [
            "customer,Age,Education,Employ,Address,Income,Leverage,Creddebt,OthDebt,MonthlyLoad,Default\r\n",
            "10012,28,Med,7,2,44,17.7,2.99,4.8,0.58,0\r\n",
            "10017,64,Posg,34,17,116,14.7,5.05,12,0.27,0\r\n",
            "10030,40,Bas,20,12,61,4.8,1.04,1.89,0.13,0\r\n",
            "10039,30,Bas,11,3,27,34.5,1.75,7.56,1.62,0\r\n",
            "10069,25,Bas,2,2,30,22.4,0.76,5.96,0.97,1\r\n",
            "10071,35,Bas,2,9,38,10.9,1.46,2.68,0.4,1\r\n",
            "10096,26,SupInc,2,4,38,11.9,0.95,3.57,0.43,1\r\n",
            "10128,25,Bas,4,2,30,14.4,1.05,3.27,0.62,0\r\n",
            "10129,65,SupCom,29,14,189,5,3.36,6.09,0.08,0\r\n"
          ]
        }
      ]
    },
    {
      "cell_type": "markdown",
      "metadata": {
        "id": "k5sgZk3lMtIK"
      },
      "source": [
        "Now we will use Pandas to read the CSV file. The  function to do so is [```read_csv```](https://pandas.pydata.org/pandas-docs/stable/reference/api/pandas.read_csv.html). We will store the results in a variable named ```bankloan_data```."
      ]
    },
    {
      "cell_type": "code",
      "metadata": {
        "id": "Wj-Yl2t5JW0Y"
      },
      "source": [
        "import pandas as pd\n",
        "\n",
        "bankloan_data = pd.read_csv('Bankloan.csv')"
      ],
      "execution_count": null,
      "outputs": []
    },
    {
      "cell_type": "markdown",
      "metadata": {
        "id": "i2A_hACkDcxY"
      },
      "source": [
        "As a reminder, here are the summary statistics of the variables."
      ]
    },
    {
      "cell_type": "code",
      "metadata": {
        "id": "XpypXLF6Nm9B",
        "colab": {
          "base_uri": "https://localhost:8080/",
          "height": 300
        },
        "outputId": "3969480d-98f8-4cb4-8131-f7adfbf277ac"
      },
      "source": [
        "bankloan_data.describe()"
      ],
      "execution_count": null,
      "outputs": [
        {
          "output_type": "execute_result",
          "data": {
            "text/plain": [
              "            customer          Age       Employ      Address       Income  \\\n",
              "count    1500.000000  1500.000000  1500.000000  1499.000000  1499.000000   \n",
              "mean   257714.548000    34.174000     6.952000     6.309540    59.615077   \n",
              "std    139555.147719    13.142306     8.977644     6.047563    67.144768   \n",
              "min     10012.000000    18.000000     0.000000     0.000000    12.000000   \n",
              "25%     98638.750000    24.000000     0.000000     2.000000    27.000000   \n",
              "50%    315991.500000    31.000000     4.000000     5.000000    40.000000   \n",
              "75%    370701.500000    42.000000    10.000000     9.000000    64.000000   \n",
              "max    453777.000000    79.000000    63.000000    34.000000  1079.000000   \n",
              "\n",
              "            Leverage     Creddebt      OthDebt  MonthlyLoad      Default  \n",
              "count    1499.000000  1499.000000  1489.000000  1500.000000  1500.000000  \n",
              "mean      677.046631     1.936197     3.872257     0.365447     0.365333  \n",
              "std     25828.218141     2.974485     5.343150     0.293937     0.481684  \n",
              "min         0.100000     0.000000     0.100000     0.000000     0.000000  \n",
              "25%         4.800000     0.420000     1.120000     0.150000     0.000000  \n",
              "50%         8.500000     0.990000     2.240000     0.290000     0.000000  \n",
              "75%        13.600000     2.200000     4.610000     0.500000     1.000000  \n",
              "max    999999.000000    35.970000    63.470000     2.150000     1.000000  "
            ],
            "text/html": [
              "\n",
              "  <div id=\"df-e9c4545b-7182-4935-adea-6c26dd8bed5e\">\n",
              "    <div class=\"colab-df-container\">\n",
              "      <div>\n",
              "<style scoped>\n",
              "    .dataframe tbody tr th:only-of-type {\n",
              "        vertical-align: middle;\n",
              "    }\n",
              "\n",
              "    .dataframe tbody tr th {\n",
              "        vertical-align: top;\n",
              "    }\n",
              "\n",
              "    .dataframe thead th {\n",
              "        text-align: right;\n",
              "    }\n",
              "</style>\n",
              "<table border=\"1\" class=\"dataframe\">\n",
              "  <thead>\n",
              "    <tr style=\"text-align: right;\">\n",
              "      <th></th>\n",
              "      <th>customer</th>\n",
              "      <th>Age</th>\n",
              "      <th>Employ</th>\n",
              "      <th>Address</th>\n",
              "      <th>Income</th>\n",
              "      <th>Leverage</th>\n",
              "      <th>Creddebt</th>\n",
              "      <th>OthDebt</th>\n",
              "      <th>MonthlyLoad</th>\n",
              "      <th>Default</th>\n",
              "    </tr>\n",
              "  </thead>\n",
              "  <tbody>\n",
              "    <tr>\n",
              "      <th>count</th>\n",
              "      <td>1500.000000</td>\n",
              "      <td>1500.000000</td>\n",
              "      <td>1500.000000</td>\n",
              "      <td>1499.000000</td>\n",
              "      <td>1499.000000</td>\n",
              "      <td>1499.000000</td>\n",
              "      <td>1499.000000</td>\n",
              "      <td>1489.000000</td>\n",
              "      <td>1500.000000</td>\n",
              "      <td>1500.000000</td>\n",
              "    </tr>\n",
              "    <tr>\n",
              "      <th>mean</th>\n",
              "      <td>257714.548000</td>\n",
              "      <td>34.174000</td>\n",
              "      <td>6.952000</td>\n",
              "      <td>6.309540</td>\n",
              "      <td>59.615077</td>\n",
              "      <td>677.046631</td>\n",
              "      <td>1.936197</td>\n",
              "      <td>3.872257</td>\n",
              "      <td>0.365447</td>\n",
              "      <td>0.365333</td>\n",
              "    </tr>\n",
              "    <tr>\n",
              "      <th>std</th>\n",
              "      <td>139555.147719</td>\n",
              "      <td>13.142306</td>\n",
              "      <td>8.977644</td>\n",
              "      <td>6.047563</td>\n",
              "      <td>67.144768</td>\n",
              "      <td>25828.218141</td>\n",
              "      <td>2.974485</td>\n",
              "      <td>5.343150</td>\n",
              "      <td>0.293937</td>\n",
              "      <td>0.481684</td>\n",
              "    </tr>\n",
              "    <tr>\n",
              "      <th>min</th>\n",
              "      <td>10012.000000</td>\n",
              "      <td>18.000000</td>\n",
              "      <td>0.000000</td>\n",
              "      <td>0.000000</td>\n",
              "      <td>12.000000</td>\n",
              "      <td>0.100000</td>\n",
              "      <td>0.000000</td>\n",
              "      <td>0.100000</td>\n",
              "      <td>0.000000</td>\n",
              "      <td>0.000000</td>\n",
              "    </tr>\n",
              "    <tr>\n",
              "      <th>25%</th>\n",
              "      <td>98638.750000</td>\n",
              "      <td>24.000000</td>\n",
              "      <td>0.000000</td>\n",
              "      <td>2.000000</td>\n",
              "      <td>27.000000</td>\n",
              "      <td>4.800000</td>\n",
              "      <td>0.420000</td>\n",
              "      <td>1.120000</td>\n",
              "      <td>0.150000</td>\n",
              "      <td>0.000000</td>\n",
              "    </tr>\n",
              "    <tr>\n",
              "      <th>50%</th>\n",
              "      <td>315991.500000</td>\n",
              "      <td>31.000000</td>\n",
              "      <td>4.000000</td>\n",
              "      <td>5.000000</td>\n",
              "      <td>40.000000</td>\n",
              "      <td>8.500000</td>\n",
              "      <td>0.990000</td>\n",
              "      <td>2.240000</td>\n",
              "      <td>0.290000</td>\n",
              "      <td>0.000000</td>\n",
              "    </tr>\n",
              "    <tr>\n",
              "      <th>75%</th>\n",
              "      <td>370701.500000</td>\n",
              "      <td>42.000000</td>\n",
              "      <td>10.000000</td>\n",
              "      <td>9.000000</td>\n",
              "      <td>64.000000</td>\n",
              "      <td>13.600000</td>\n",
              "      <td>2.200000</td>\n",
              "      <td>4.610000</td>\n",
              "      <td>0.500000</td>\n",
              "      <td>1.000000</td>\n",
              "    </tr>\n",
              "    <tr>\n",
              "      <th>max</th>\n",
              "      <td>453777.000000</td>\n",
              "      <td>79.000000</td>\n",
              "      <td>63.000000</td>\n",
              "      <td>34.000000</td>\n",
              "      <td>1079.000000</td>\n",
              "      <td>999999.000000</td>\n",
              "      <td>35.970000</td>\n",
              "      <td>63.470000</td>\n",
              "      <td>2.150000</td>\n",
              "      <td>1.000000</td>\n",
              "    </tr>\n",
              "  </tbody>\n",
              "</table>\n",
              "</div>\n",
              "      <button class=\"colab-df-convert\" onclick=\"convertToInteractive('df-e9c4545b-7182-4935-adea-6c26dd8bed5e')\"\n",
              "              title=\"Convert this dataframe to an interactive table.\"\n",
              "              style=\"display:none;\">\n",
              "        \n",
              "  <svg xmlns=\"http://www.w3.org/2000/svg\" height=\"24px\"viewBox=\"0 0 24 24\"\n",
              "       width=\"24px\">\n",
              "    <path d=\"M0 0h24v24H0V0z\" fill=\"none\"/>\n",
              "    <path d=\"M18.56 5.44l.94 2.06.94-2.06 2.06-.94-2.06-.94-.94-2.06-.94 2.06-2.06.94zm-11 1L8.5 8.5l.94-2.06 2.06-.94-2.06-.94L8.5 2.5l-.94 2.06-2.06.94zm10 10l.94 2.06.94-2.06 2.06-.94-2.06-.94-.94-2.06-.94 2.06-2.06.94z\"/><path d=\"M17.41 7.96l-1.37-1.37c-.4-.4-.92-.59-1.43-.59-.52 0-1.04.2-1.43.59L10.3 9.45l-7.72 7.72c-.78.78-.78 2.05 0 2.83L4 21.41c.39.39.9.59 1.41.59.51 0 1.02-.2 1.41-.59l7.78-7.78 2.81-2.81c.8-.78.8-2.07 0-2.86zM5.41 20L4 18.59l7.72-7.72 1.47 1.35L5.41 20z\"/>\n",
              "  </svg>\n",
              "      </button>\n",
              "      \n",
              "  <style>\n",
              "    .colab-df-container {\n",
              "      display:flex;\n",
              "      flex-wrap:wrap;\n",
              "      gap: 12px;\n",
              "    }\n",
              "\n",
              "    .colab-df-convert {\n",
              "      background-color: #E8F0FE;\n",
              "      border: none;\n",
              "      border-radius: 50%;\n",
              "      cursor: pointer;\n",
              "      display: none;\n",
              "      fill: #1967D2;\n",
              "      height: 32px;\n",
              "      padding: 0 0 0 0;\n",
              "      width: 32px;\n",
              "    }\n",
              "\n",
              "    .colab-df-convert:hover {\n",
              "      background-color: #E2EBFA;\n",
              "      box-shadow: 0px 1px 2px rgba(60, 64, 67, 0.3), 0px 1px 3px 1px rgba(60, 64, 67, 0.15);\n",
              "      fill: #174EA6;\n",
              "    }\n",
              "\n",
              "    [theme=dark] .colab-df-convert {\n",
              "      background-color: #3B4455;\n",
              "      fill: #D2E3FC;\n",
              "    }\n",
              "\n",
              "    [theme=dark] .colab-df-convert:hover {\n",
              "      background-color: #434B5C;\n",
              "      box-shadow: 0px 1px 3px 1px rgba(0, 0, 0, 0.15);\n",
              "      filter: drop-shadow(0px 1px 2px rgba(0, 0, 0, 0.3));\n",
              "      fill: #FFFFFF;\n",
              "    }\n",
              "  </style>\n",
              "\n",
              "      <script>\n",
              "        const buttonEl =\n",
              "          document.querySelector('#df-e9c4545b-7182-4935-adea-6c26dd8bed5e button.colab-df-convert');\n",
              "        buttonEl.style.display =\n",
              "          google.colab.kernel.accessAllowed ? 'block' : 'none';\n",
              "\n",
              "        async function convertToInteractive(key) {\n",
              "          const element = document.querySelector('#df-e9c4545b-7182-4935-adea-6c26dd8bed5e');\n",
              "          const dataTable =\n",
              "            await google.colab.kernel.invokeFunction('convertToInteractive',\n",
              "                                                     [key], {});\n",
              "          if (!dataTable) return;\n",
              "\n",
              "          const docLinkHtml = 'Like what you see? Visit the ' +\n",
              "            '<a target=\"_blank\" href=https://colab.research.google.com/notebooks/data_table.ipynb>data table notebook</a>'\n",
              "            + ' to learn more about interactive tables.';\n",
              "          element.innerHTML = '';\n",
              "          dataTable['output_type'] = 'display_data';\n",
              "          await google.colab.output.renderOutput(dataTable, element);\n",
              "          const docLink = document.createElement('div');\n",
              "          docLink.innerHTML = docLinkHtml;\n",
              "          element.appendChild(docLink);\n",
              "        }\n",
              "      </script>\n",
              "    </div>\n",
              "  </div>\n",
              "  "
            ]
          },
          "metadata": {},
          "execution_count": 4
        }
      ]
    },
    {
      "cell_type": "code",
      "metadata": {
        "id": "wcp4xeZwpuqi",
        "colab": {
          "base_uri": "https://localhost:8080/"
        },
        "outputId": "b6ce5285-2b39-4d4e-e5e7-9012ab82e858"
      },
      "source": [
        "bankloan_data.columns"
      ],
      "execution_count": null,
      "outputs": [
        {
          "output_type": "execute_result",
          "data": {
            "text/plain": [
              "Index(['customer', 'Age', 'Education', 'Employ', 'Address', 'Income',\n",
              "       'Leverage', 'Creddebt', 'OthDebt', 'MonthlyLoad', 'Default'],\n",
              "      dtype='object')"
            ]
          },
          "metadata": {},
          "execution_count": 5
        }
      ]
    },
    {
      "cell_type": "markdown",
      "metadata": {
        "id": "-m5-Xr8lP5Gm"
      },
      "source": [
        "We can see there are a few null values in different variables and apparently an invalid outlier in Leverage.  Let's visualize the dataset using seaborn to get an idea of the distribution."
      ]
    },
    {
      "cell_type": "code",
      "metadata": {
        "id": "dnkTHoUiP4fj"
      },
      "source": [
        "import matplotlib.pyplot as plt\n",
        "import seaborn as sns\n",
        "import numpy as np\n",
        "%matplotlib inline"
      ],
      "execution_count": null,
      "outputs": []
    },
    {
      "cell_type": "code",
      "metadata": {
        "id": "Oc-0gLkpPTgu",
        "colab": {
          "base_uri": "https://localhost:8080/",
          "height": 1000
        },
        "outputId": "e0d3701a-b3b1-4923-cee2-6d322e97b6f2"
      },
      "source": [
        "sns.set(color_codes=True)\n",
        "\n",
        "for col_id in bankloan_data.columns[np.r_[1,3:9]]:\n",
        "    sns.displot(data = bankloan_data, x = col_id, hue = \"Default\", kind = 'kde')"
      ],
      "execution_count": null,
      "outputs": [
        {
          "output_type": "display_data",
          "data": {
            "text/plain": [
              "<Figure size 412.925x360 with 1 Axes>"
            ],
            "image/png": "[encoded data removed]"
          },
          "metadata": {}
        },
        {
          "output_type": "display_data",
          "data": {
            "text/plain": [
              "<Figure size 412.925x360 with 1 Axes>"
            ],
            "image/png": "[encoded data removed]"
          },
          "metadata": {}
        },
        {
          "output_type": "display_data",
          "data": {
            "text/plain": [
              "<Figure size 412.925x360 with 1 Axes>"
            ],
            "image/png": "[encoded data removed]"
          },
          "metadata": {}
        },
        {
          "output_type": "display_data",
          "data": {
            "text/plain": [
              "<Figure size 412.925x360 with 1 Axes>"
            ],
            "image/png": "[encoded data removed]"
          },
          "metadata": {}
        },
        {
          "output_type": "display_data",
          "data": {
            "text/plain": [
              "<Figure size 412.925x360 with 1 Axes>"
            ],
            "image/png": "[encoded data removed]"
          },
          "metadata": {}
        },
        {
          "output_type": "display_data",
          "data": {
            "text/plain": [
              "<Figure size 412.925x360 with 1 Axes>"
            ],
            "image/png": "[encoded data removed]"
          },
          "metadata": {}
        },
        {
          "output_type": "display_data",
          "data": {
            "text/plain": [
              "<Figure size 412.925x360 with 1 Axes>"
            ],
            "image/png": "[encoded data removed]"
          },
          "metadata": {}
        }
      ]
    },
    {
      "cell_type": "markdown",
      "metadata": {
        "id": "DohsQiAl0LJq"
      },
      "source": [
        "Seaborn can do many sophisticated (and aestetically pleasing) \n",
        "graphs. Go to [the Gallery](https://seaborn.pydata.org/examples/index.html) for details and example code. \n",
        "\n",
        "There are severe outliers in OthDebt, Leverage, Creddebt and Income, but we don't know which ones are valid and which invalid. We will treat these now."
      ]
    },
    {
      "cell_type": "markdown",
      "metadata": {
        "id": "HZLgIWHqSvts"
      },
      "source": [
        "## Data Cleaning\n",
        "\n",
        "Now we can focus on cleaning the data. Let's start with the easy part: removing null values. **Remember to check when an outlier is a missing value** (invalid outliers).\n",
        "\n",
        "### Null values\n",
        "\n",
        "The core function here will be Panda's [```fillna```](https://pandas.pydata.org/pandas-docs/stable/reference/api/pandas.DataFrame.fillna.html). This allows to replace all null values (represented by None or NaN in Python) by a certain value. This also allows to set what the replacement will be with the ```value``` argument. See the help for details.\n",
        "\n",
        "Remember the strategies to deal :\n",
        "\n",
        "1. Keep: If the null values are a category by themselves. In this case, replace by something meaningful.\n",
        "\n",
        "2. Delete: If the null values are too many **either by row or by column** then it is better to just drop the case or the variable.\n",
        "\n",
        "3. Replace: If there are only a few missings for the variable or the row (<1% total), replace by the  replace the null values by the **median** for continous variables, and the **mode** for categorical values.\n",
        "\n",
        "Let's study our dataset's null values. The [```isnull()```](https://pandas.pydata.org/pandas-docs/stable/reference/api/pandas.isnull.html) function returns which elements in the dataframe are null. The [```any()```](https://pandas.pydata.org/pandas-docs/stable/reference/api/pandas.DataFrame.any.html) function returns a list with whatever columns (default) or rows (passing ```axis = 1``` to the function) have any element with a boolean of true."
      ]
    },
    {
      "cell_type": "code",
      "metadata": {
        "id": "z-s-kkifWlud",
        "colab": {
          "base_uri": "https://localhost:8080/"
        },
        "outputId": "3f4f122d-64c3-4e94-e284-a8a51a9621c3"
      },
      "source": [
        "bankloan_data.isnull().any()"
      ],
      "execution_count": null,
      "outputs": [
        {
          "output_type": "execute_result",
          "data": {
            "text/plain": [
              "customer       False\n",
              "Age            False\n",
              "Education      False\n",
              "Employ         False\n",
              "Address         True\n",
              "Income          True\n",
              "Leverage        True\n",
              "Creddebt        True\n",
              "OthDebt         True\n",
              "MonthlyLoad    False\n",
              "Default        False\n",
              "dtype: bool"
            ]
          },
          "metadata": {},
          "execution_count": 8
        }
      ]
    },
    {
      "cell_type": "markdown",
      "metadata": {
        "id": "H2Fp-LCjXv9s"
      },
      "source": [
        "We can see which columns have null values. Let's study them in further detail."
      ]
    },
    {
      "cell_type": "code",
      "metadata": {
        "id": "Tgc0zy6UX04R",
        "colab": {
          "base_uri": "https://localhost:8080/"
        },
        "outputId": "b88616ac-12eb-4a55-ed74-359d520d21ba"
      },
      "source": [
        "null_columns = bankloan_data.columns[bankloan_data.isnull().any()]\n",
        "bankloan_data[null_columns].isnull().sum()"
      ],
      "execution_count": null,
      "outputs": [
        {
          "output_type": "execute_result",
          "data": {
            "text/plain": [
              "Address      1\n",
              "Income       1\n",
              "Leverage     1\n",
              "Creddebt     1\n",
              "OthDebt     11\n",
              "dtype: int64"
            ]
          },
          "metadata": {},
          "execution_count": 9
        }
      ]
    },
    {
      "cell_type": "markdown",
      "metadata": {
        "id": "OJ7_tgqsYLhj"
      },
      "source": [
        "Given the small number of cases for all variables except OthDebt, we can simply replace those values by the median.\n",
        "\n",
        "Let's study OthDebt cases more in detail."
      ]
    },
    {
      "cell_type": "code",
      "metadata": {
        "id": "9uFhZbqGYUqp",
        "colab": {
          "base_uri": "https://localhost:8080/",
          "height": 394
        },
        "outputId": "4c9aee2c-2e04-40ed-ebf6-864318654912"
      },
      "source": [
        "bankloan_data.loc[bankloan_data.isnull().any(axis = 1), :]"
      ],
      "execution_count": null,
      "outputs": [
        {
          "output_type": "execute_result",
          "data": {
            "text/plain": [
              "      customer  Age Education  Employ  Address  Income  Leverage  Creddebt  \\\n",
              "17       10423   19       Bas       2      0.0    31.0       0.3      0.02   \n",
              "247      71896   20    SupInc       0      0.0    21.0       1.3      0.18   \n",
              "255      72327   19       Med       0      NaN     NaN       NaN       NaN   \n",
              "293      74471   39       Bas       8      9.0    41.0       0.1      0.03   \n",
              "587     244023   31    SupCom       1      7.0    69.0       0.4      0.19   \n",
              "745     315892   22    SupInc       0      1.0    14.0       2.5      0.26   \n",
              "748     315948   41       Med      21      9.0    64.0       0.3      0.12   \n",
              "817     335635   18       Med       0      0.0    24.0       0.9      0.13   \n",
              "1194    372485   20    SupInc       0      0.0    13.0       1.1      0.05   \n",
              "1254    376801   23    SupCom       0      2.0    19.0       1.4      0.18   \n",
              "1395    382157   20    SupInc       0      0.0    13.0  999999.0      0.00   \n",
              "\n",
              "      OthDebt  MonthlyLoad  Default  \n",
              "17        NaN         0.01        1  \n",
              "247       NaN         0.07        1  \n",
              "255       NaN         0.01        1  \n",
              "293       NaN         0.00        0  \n",
              "587       NaN         0.01        0  \n",
              "745       NaN         0.20        0  \n",
              "748       NaN         0.01        0  \n",
              "817       NaN         0.05        1  \n",
              "1194      NaN         0.10        0  \n",
              "1254      NaN         0.09        0  \n",
              "1395      NaN         0.00        0  "
            ],
            "text/html": [
              "\n",
              "  <div id=\"df-3e3beb34-a91a-4640-8591-c5d074467175\">\n",
              "    <div class=\"colab-df-container\">\n",
              "      <div>\n",
              "<style scoped>\n",
              "    .dataframe tbody tr th:only-of-type {\n",
              "        vertical-align: middle;\n",
              "    }\n",
              "\n",
              "    .dataframe tbody tr th {\n",
              "        vertical-align: top;\n",
              "    }\n",
              "\n",
              "    .dataframe thead th {\n",
              "        text-align: right;\n",
              "    }\n",
              "</style>\n",
              "<table border=\"1\" class=\"dataframe\">\n",
              "  <thead>\n",
              "    <tr style=\"text-align: right;\">\n",
              "      <th></th>\n",
              "      <th>customer</th>\n",
              "      <th>Age</th>\n",
              "      <th>Education</th>\n",
              "      <th>Employ</th>\n",
              "      <th>Address</th>\n",
              "      <th>Income</th>\n",
              "      <th>Leverage</th>\n",
              "      <th>Creddebt</th>\n",
              "      <th>OthDebt</th>\n",
              "      <th>MonthlyLoad</th>\n",
              "      <th>Default</th>\n",
              "    </tr>\n",
              "  </thead>\n",
              "  <tbody>\n",
              "    <tr>\n",
              "      <th>17</th>\n",
              "      <td>10423</td>\n",
              "      <td>19</td>\n",
              "      <td>Bas</td>\n",
              "      <td>2</td>\n",
              "      <td>0.0</td>\n",
              "      <td>31.0</td>\n",
              "      <td>0.3</td>\n",
              "      <td>0.02</td>\n",
              "      <td>NaN</td>\n",
              "      <td>0.01</td>\n",
              "      <td>1</td>\n",
              "    </tr>\n",
              "    <tr>\n",
              "      <th>247</th>\n",
              "      <td>71896</td>\n",
              "      <td>20</td>\n",
              "      <td>SupInc</td>\n",
              "      <td>0</td>\n",
              "      <td>0.0</td>\n",
              "      <td>21.0</td>\n",
              "      <td>1.3</td>\n",
              "      <td>0.18</td>\n",
              "      <td>NaN</td>\n",
              "      <td>0.07</td>\n",
              "      <td>1</td>\n",
              "    </tr>\n",
              "    <tr>\n",
              "      <th>255</th>\n",
              "      <td>72327</td>\n",
              "      <td>19</td>\n",
              "      <td>Med</td>\n",
              "      <td>0</td>\n",
              "      <td>NaN</td>\n",
              "      <td>NaN</td>\n",
              "      <td>NaN</td>\n",
              "      <td>NaN</td>\n",
              "      <td>NaN</td>\n",
              "      <td>0.01</td>\n",
              "      <td>1</td>\n",
              "    </tr>\n",
              "    <tr>\n",
              "      <th>293</th>\n",
              "      <td>74471</td>\n",
              "      <td>39</td>\n",
              "      <td>Bas</td>\n",
              "      <td>8</td>\n",
              "      <td>9.0</td>\n",
              "      <td>41.0</td>\n",
              "      <td>0.1</td>\n",
              "      <td>0.03</td>\n",
              "      <td>NaN</td>\n",
              "      <td>0.00</td>\n",
              "      <td>0</td>\n",
              "    </tr>\n",
              "    <tr>\n",
              "      <th>587</th>\n",
              "      <td>244023</td>\n",
              "      <td>31</td>\n",
              "      <td>SupCom</td>\n",
              "      <td>1</td>\n",
              "      <td>7.0</td>\n",
              "      <td>69.0</td>\n",
              "      <td>0.4</td>\n",
              "      <td>0.19</td>\n",
              "      <td>NaN</td>\n",
              "      <td>0.01</td>\n",
              "      <td>0</td>\n",
              "    </tr>\n",
              "    <tr>\n",
              "      <th>745</th>\n",
              "      <td>315892</td>\n",
              "      <td>22</td>\n",
              "      <td>SupInc</td>\n",
              "      <td>0</td>\n",
              "      <td>1.0</td>\n",
              "      <td>14.0</td>\n",
              "      <td>2.5</td>\n",
              "      <td>0.26</td>\n",
              "      <td>NaN</td>\n",
              "      <td>0.20</td>\n",
              "      <td>0</td>\n",
              "    </tr>\n",
              "    <tr>\n",
              "      <th>748</th>\n",
              "      <td>315948</td>\n",
              "      <td>41</td>\n",
              "      <td>Med</td>\n",
              "      <td>21</td>\n",
              "      <td>9.0</td>\n",
              "      <td>64.0</td>\n",
              "      <td>0.3</td>\n",
              "      <td>0.12</td>\n",
              "      <td>NaN</td>\n",
              "      <td>0.01</td>\n",
              "      <td>0</td>\n",
              "    </tr>\n",
              "    <tr>\n",
              "      <th>817</th>\n",
              "      <td>335635</td>\n",
              "      <td>18</td>\n",
              "      <td>Med</td>\n",
              "      <td>0</td>\n",
              "      <td>0.0</td>\n",
              "      <td>24.0</td>\n",
              "      <td>0.9</td>\n",
              "      <td>0.13</td>\n",
              "      <td>NaN</td>\n",
              "      <td>0.05</td>\n",
              "      <td>1</td>\n",
              "    </tr>\n",
              "    <tr>\n",
              "      <th>1194</th>\n",
              "      <td>372485</td>\n",
              "      <td>20</td>\n",
              "      <td>SupInc</td>\n",
              "      <td>0</td>\n",
              "      <td>0.0</td>\n",
              "      <td>13.0</td>\n",
              "      <td>1.1</td>\n",
              "      <td>0.05</td>\n",
              "      <td>NaN</td>\n",
              "      <td>0.10</td>\n",
              "      <td>0</td>\n",
              "    </tr>\n",
              "    <tr>\n",
              "      <th>1254</th>\n",
              "      <td>376801</td>\n",
              "      <td>23</td>\n",
              "      <td>SupCom</td>\n",
              "      <td>0</td>\n",
              "      <td>2.0</td>\n",
              "      <td>19.0</td>\n",
              "      <td>1.4</td>\n",
              "      <td>0.18</td>\n",
              "      <td>NaN</td>\n",
              "      <td>0.09</td>\n",
              "      <td>0</td>\n",
              "    </tr>\n",
              "    <tr>\n",
              "      <th>1395</th>\n",
              "      <td>382157</td>\n",
              "      <td>20</td>\n",
              "      <td>SupInc</td>\n",
              "      <td>0</td>\n",
              "      <td>0.0</td>\n",
              "      <td>13.0</td>\n",
              "      <td>999999.0</td>\n",
              "      <td>0.00</td>\n",
              "      <td>NaN</td>\n",
              "      <td>0.00</td>\n",
              "      <td>0</td>\n",
              "    </tr>\n",
              "  </tbody>\n",
              "</table>\n",
              "</div>\n",
              "      <button class=\"colab-df-convert\" onclick=\"convertToInteractive('df-3e3beb34-a91a-4640-8591-c5d074467175')\"\n",
              "              title=\"Convert this dataframe to an interactive table.\"\n",
              "              style=\"display:none;\">\n",
              "        \n",
              "  <svg xmlns=\"http://www.w3.org/2000/svg\" height=\"24px\"viewBox=\"0 0 24 24\"\n",
              "       width=\"24px\">\n",
              "    <path d=\"M0 0h24v24H0V0z\" fill=\"none\"/>\n",
              "    <path d=\"M18.56 5.44l.94 2.06.94-2.06 2.06-.94-2.06-.94-.94-2.06-.94 2.06-2.06.94zm-11 1L8.5 8.5l.94-2.06 2.06-.94-2.06-.94L8.5 2.5l-.94 2.06-2.06.94zm10 10l.94 2.06.94-2.06 2.06-.94-2.06-.94-.94-2.06-.94 2.06-2.06.94z\"/><path d=\"M17.41 7.96l-1.37-1.37c-.4-.4-.92-.59-1.43-.59-.52 0-1.04.2-1.43.59L10.3 9.45l-7.72 7.72c-.78.78-.78 2.05 0 2.83L4 21.41c.39.39.9.59 1.41.59.51 0 1.02-.2 1.41-.59l7.78-7.78 2.81-2.81c.8-.78.8-2.07 0-2.86zM5.41 20L4 18.59l7.72-7.72 1.47 1.35L5.41 20z\"/>\n",
              "  </svg>\n",
              "      </button>\n",
              "      \n",
              "  <style>\n",
              "    .colab-df-container {\n",
              "      display:flex;\n",
              "      flex-wrap:wrap;\n",
              "      gap: 12px;\n",
              "    }\n",
              "\n",
              "    .colab-df-convert {\n",
              "      background-color: #E8F0FE;\n",
              "      border: none;\n",
              "      border-radius: 50%;\n",
              "      cursor: pointer;\n",
              "      display: none;\n",
              "      fill: #1967D2;\n",
              "      height: 32px;\n",
              "      padding: 0 0 0 0;\n",
              "      width: 32px;\n",
              "    }\n",
              "\n",
              "    .colab-df-convert:hover {\n",
              "      background-color: #E2EBFA;\n",
              "      box-shadow: 0px 1px 2px rgba(60, 64, 67, 0.3), 0px 1px 3px 1px rgba(60, 64, 67, 0.15);\n",
              "      fill: #174EA6;\n",
              "    }\n",
              "\n",
              "    [theme=dark] .colab-df-convert {\n",
              "      background-color: #3B4455;\n",
              "      fill: #D2E3FC;\n",
              "    }\n",
              "\n",
              "    [theme=dark] .colab-df-convert:hover {\n",
              "      background-color: #434B5C;\n",
              "      box-shadow: 0px 1px 3px 1px rgba(0, 0, 0, 0.15);\n",
              "      filter: drop-shadow(0px 1px 2px rgba(0, 0, 0, 0.3));\n",
              "      fill: #FFFFFF;\n",
              "    }\n",
              "  </style>\n",
              "\n",
              "      <script>\n",
              "        const buttonEl =\n",
              "          document.querySelector('#df-3e3beb34-a91a-4640-8591-c5d074467175 button.colab-df-convert');\n",
              "        buttonEl.style.display =\n",
              "          google.colab.kernel.accessAllowed ? 'block' : 'none';\n",
              "\n",
              "        async function convertToInteractive(key) {\n",
              "          const element = document.querySelector('#df-3e3beb34-a91a-4640-8591-c5d074467175');\n",
              "          const dataTable =\n",
              "            await google.colab.kernel.invokeFunction('convertToInteractive',\n",
              "                                                     [key], {});\n",
              "          if (!dataTable) return;\n",
              "\n",
              "          const docLinkHtml = 'Like what you see? Visit the ' +\n",
              "            '<a target=\"_blank\" href=https://colab.research.google.com/notebooks/data_table.ipynb>data table notebook</a>'\n",
              "            + ' to learn more about interactive tables.';\n",
              "          element.innerHTML = '';\n",
              "          dataTable['output_type'] = 'display_data';\n",
              "          await google.colab.output.renderOutput(dataTable, element);\n",
              "          const docLink = document.createElement('div');\n",
              "          docLink.innerHTML = docLinkHtml;\n",
              "          element.appendChild(docLink);\n",
              "        }\n",
              "      </script>\n",
              "    </div>\n",
              "  </div>\n",
              "  "
            ]
          },
          "metadata": {},
          "execution_count": 10
        }
      ]
    },
    {
      "cell_type": "markdown",
      "metadata": {
        "id": "_ZWCGoKQYfvB"
      },
      "source": [
        "We can see all cases in which OthDebt is null. We can also see the egregious outlier that Leverage has, with a value of 9999999. These values give us some hints about what's happening with OthDebt. Let's study the minimum and maximum of the variables."
      ]
    },
    {
      "cell_type": "code",
      "metadata": {
        "id": "nD5BqZ5hYwcY",
        "colab": {
          "base_uri": "https://localhost:8080/"
        },
        "outputId": "d0a1812e-ce38-440d-8f80-16f25a12c33b"
      },
      "source": [
        "bankloan_data.OthDebt.describe()"
      ],
      "execution_count": null,
      "outputs": [
        {
          "output_type": "execute_result",
          "data": {
            "text/plain": [
              "count    1489.000000\n",
              "mean        3.872257\n",
              "std         5.343150\n",
              "min         0.100000\n",
              "25%         1.120000\n",
              "50%         2.240000\n",
              "75%         4.610000\n",
              "max        63.470000\n",
              "Name: OthDebt, dtype: float64"
            ]
          },
          "metadata": {},
          "execution_count": 11
        }
      ]
    },
    {
      "cell_type": "markdown",
      "metadata": {
        "id": "KpgxTyujY0YD"
      },
      "source": [
        "Aha! Note anything? There are no values equal to 0! We can make a good guess that the null values are equal to zero. In real life we would call the sysadmins to confirm this, but in this case we can make a guess.\n",
        "\n",
        "Then, we now should fix these values as follow:\n",
        "\n",
        "1. Replace the leverage equal to 999999 by a null value.\n",
        "2. Replace all OthDebt nulls by 0.\n",
        "3. Replace the remaining null values by the median."
      ]
    },
    {
      "cell_type": "code",
      "metadata": {
        "id": "Geu-R8RRa1Tf"
      },
      "source": [
        "# Replace invalid outlier.\n",
        "bankloan_data.Leverage.values[bankloan_data.Leverage.values == 999999] = np.nan"
      ],
      "execution_count": null,
      "outputs": []
    },
    {
      "cell_type": "code",
      "metadata": {
        "id": "BFaxJbmNKGcN"
      },
      "source": [
        "# Fills out the null values with zeros. Inplace argument changes dataframe.\n",
        "bankloan_data.OthDebt.fillna(value = 0, inplace=True)"
      ],
      "execution_count": null,
      "outputs": []
    },
    {
      "cell_type": "code",
      "metadata": {
        "id": "ceQ6j1xnxHDm"
      },
      "source": [
        "# Remove null case if you want\n",
        "# bankloan_data.drop(index=255, axis = 0, inplace = True)"
      ],
      "execution_count": null,
      "outputs": []
    },
    {
      "cell_type": "code",
      "metadata": {
        "id": "R06ZbW0DcN6f",
        "colab": {
          "base_uri": "https://localhost:8080/"
        },
        "outputId": "ff9fe6e1-644b-4db8-f118-612f41d0625b"
      },
      "source": [
        "# Fill out remaining elements.\n",
        "null_columns = bankloan_data.columns[bankloan_data.isnull().any()]\n",
        "\n",
        "for column in null_columns:\n",
        "  bankloan_data[column].fillna(bankloan_data[column].median(), inplace=True)"
      ],
      "execution_count": null,
      "outputs": [
        {
          "output_type": "stream",
          "name": "stderr",
          "text": [
            "<ipython-input-15-b0af80ee2ce6>:2: FutureWarning: Dropping of nuisance columns in DataFrame reductions (with 'numeric_only=None') is deprecated; in a future version this will raise TypeError.  Select only valid columns before calling the reduction.\n",
            "  bankloan_data.fillna(bankloan_data.median(), inplace=True)\n"
          ]
        }
      ]
    },
    {
      "cell_type": "code",
      "metadata": {
        "id": "QgFDQXyBiHiU",
        "colab": {
          "base_uri": "https://localhost:8080/",
          "height": 300
        },
        "outputId": "0fc50729-d88f-4e29-e5d0-6985793f24ff"
      },
      "source": [
        "bankloan_data.describe()"
      ],
      "execution_count": null,
      "outputs": [
        {
          "output_type": "execute_result",
          "data": {
            "text/plain": [
              "            customer          Age       Employ      Address       Income  \\\n",
              "count    1500.000000  1500.000000  1500.000000  1500.000000  1500.000000   \n",
              "mean   257714.548000    34.174000     6.952000     6.308667    59.602000   \n",
              "std    139555.147719    13.142306     8.977644     6.045640    67.124278   \n",
              "min     10012.000000    18.000000     0.000000     0.000000    12.000000   \n",
              "25%     98638.750000    24.000000     0.000000     2.000000    27.000000   \n",
              "50%    315991.500000    31.000000     4.000000     5.000000    40.000000   \n",
              "75%    370701.500000    42.000000    10.000000     9.000000    64.000000   \n",
              "max    453777.000000    79.000000    63.000000    34.000000  1079.000000   \n",
              "\n",
              "          Leverage     Creddebt      OthDebt  MonthlyLoad      Default  \n",
              "count  1500.000000  1500.000000  1500.000000  1500.000000  1500.000000  \n",
              "mean      9.940600     1.935567     3.843860     0.365447     0.365333  \n",
              "std       6.662313     2.973593     5.333758     0.293937     0.481684  \n",
              "min       0.100000     0.000000     0.000000     0.000000     0.000000  \n",
              "25%       4.800000     0.420000     1.107500     0.150000     0.000000  \n",
              "50%       8.500000     0.990000     2.215000     0.290000     0.000000  \n",
              "75%      13.525000     2.200000     4.572500     0.500000     1.000000  \n",
              "max      40.700000    35.970000    63.470000     2.150000     1.000000  "
            ],
            "text/html": [
              "\n",
              "  <div id=\"df-94947d2f-8dfc-4834-8cd2-3dd57d785575\">\n",
              "    <div class=\"colab-df-container\">\n",
              "      <div>\n",
              "<style scoped>\n",
              "    .dataframe tbody tr th:only-of-type {\n",
              "        vertical-align: middle;\n",
              "    }\n",
              "\n",
              "    .dataframe tbody tr th {\n",
              "        vertical-align: top;\n",
              "    }\n",
              "\n",
              "    .dataframe thead th {\n",
              "        text-align: right;\n",
              "    }\n",
              "</style>\n",
              "<table border=\"1\" class=\"dataframe\">\n",
              "  <thead>\n",
              "    <tr style=\"text-align: right;\">\n",
              "      <th></th>\n",
              "      <th>customer</th>\n",
              "      <th>Age</th>\n",
              "      <th>Employ</th>\n",
              "      <th>Address</th>\n",
              "      <th>Income</th>\n",
              "      <th>Leverage</th>\n",
              "      <th>Creddebt</th>\n",
              "      <th>OthDebt</th>\n",
              "      <th>MonthlyLoad</th>\n",
              "      <th>Default</th>\n",
              "    </tr>\n",
              "  </thead>\n",
              "  <tbody>\n",
              "    <tr>\n",
              "      <th>count</th>\n",
              "      <td>1500.000000</td>\n",
              "      <td>1500.000000</td>\n",
              "      <td>1500.000000</td>\n",
              "      <td>1500.000000</td>\n",
              "      <td>1500.000000</td>\n",
              "      <td>1500.000000</td>\n",
              "      <td>1500.000000</td>\n",
              "      <td>1500.000000</td>\n",
              "      <td>1500.000000</td>\n",
              "      <td>1500.000000</td>\n",
              "    </tr>\n",
              "    <tr>\n",
              "      <th>mean</th>\n",
              "      <td>257714.548000</td>\n",
              "      <td>34.174000</td>\n",
              "      <td>6.952000</td>\n",
              "      <td>6.308667</td>\n",
              "      <td>59.602000</td>\n",
              "      <td>9.940600</td>\n",
              "      <td>1.935567</td>\n",
              "      <td>3.843860</td>\n",
              "      <td>0.365447</td>\n",
              "      <td>0.365333</td>\n",
              "    </tr>\n",
              "    <tr>\n",
              "      <th>std</th>\n",
              "      <td>139555.147719</td>\n",
              "      <td>13.142306</td>\n",
              "      <td>8.977644</td>\n",
              "      <td>6.045640</td>\n",
              "      <td>67.124278</td>\n",
              "      <td>6.662313</td>\n",
              "      <td>2.973593</td>\n",
              "      <td>5.333758</td>\n",
              "      <td>0.293937</td>\n",
              "      <td>0.481684</td>\n",
              "    </tr>\n",
              "    <tr>\n",
              "      <th>min</th>\n",
              "      <td>10012.000000</td>\n",
              "      <td>18.000000</td>\n",
              "      <td>0.000000</td>\n",
              "      <td>0.000000</td>\n",
              "      <td>12.000000</td>\n",
              "      <td>0.100000</td>\n",
              "      <td>0.000000</td>\n",
              "      <td>0.000000</td>\n",
              "      <td>0.000000</td>\n",
              "      <td>0.000000</td>\n",
              "    </tr>\n",
              "    <tr>\n",
              "      <th>25%</th>\n",
              "      <td>98638.750000</td>\n",
              "      <td>24.000000</td>\n",
              "      <td>0.000000</td>\n",
              "      <td>2.000000</td>\n",
              "      <td>27.000000</td>\n",
              "      <td>4.800000</td>\n",
              "      <td>0.420000</td>\n",
              "      <td>1.107500</td>\n",
              "      <td>0.150000</td>\n",
              "      <td>0.000000</td>\n",
              "    </tr>\n",
              "    <tr>\n",
              "      <th>50%</th>\n",
              "      <td>315991.500000</td>\n",
              "      <td>31.000000</td>\n",
              "      <td>4.000000</td>\n",
              "      <td>5.000000</td>\n",
              "      <td>40.000000</td>\n",
              "      <td>8.500000</td>\n",
              "      <td>0.990000</td>\n",
              "      <td>2.215000</td>\n",
              "      <td>0.290000</td>\n",
              "      <td>0.000000</td>\n",
              "    </tr>\n",
              "    <tr>\n",
              "      <th>75%</th>\n",
              "      <td>370701.500000</td>\n",
              "      <td>42.000000</td>\n",
              "      <td>10.000000</td>\n",
              "      <td>9.000000</td>\n",
              "      <td>64.000000</td>\n",
              "      <td>13.525000</td>\n",
              "      <td>2.200000</td>\n",
              "      <td>4.572500</td>\n",
              "      <td>0.500000</td>\n",
              "      <td>1.000000</td>\n",
              "    </tr>\n",
              "    <tr>\n",
              "      <th>max</th>\n",
              "      <td>453777.000000</td>\n",
              "      <td>79.000000</td>\n",
              "      <td>63.000000</td>\n",
              "      <td>34.000000</td>\n",
              "      <td>1079.000000</td>\n",
              "      <td>40.700000</td>\n",
              "      <td>35.970000</td>\n",
              "      <td>63.470000</td>\n",
              "      <td>2.150000</td>\n",
              "      <td>1.000000</td>\n",
              "    </tr>\n",
              "  </tbody>\n",
              "</table>\n",
              "</div>\n",
              "      <button class=\"colab-df-convert\" onclick=\"convertToInteractive('df-94947d2f-8dfc-4834-8cd2-3dd57d785575')\"\n",
              "              title=\"Convert this dataframe to an interactive table.\"\n",
              "              style=\"display:none;\">\n",
              "        \n",
              "  <svg xmlns=\"http://www.w3.org/2000/svg\" height=\"24px\"viewBox=\"0 0 24 24\"\n",
              "       width=\"24px\">\n",
              "    <path d=\"M0 0h24v24H0V0z\" fill=\"none\"/>\n",
              "    <path d=\"M18.56 5.44l.94 2.06.94-2.06 2.06-.94-2.06-.94-.94-2.06-.94 2.06-2.06.94zm-11 1L8.5 8.5l.94-2.06 2.06-.94-2.06-.94L8.5 2.5l-.94 2.06-2.06.94zm10 10l.94 2.06.94-2.06 2.06-.94-2.06-.94-.94-2.06-.94 2.06-2.06.94z\"/><path d=\"M17.41 7.96l-1.37-1.37c-.4-.4-.92-.59-1.43-.59-.52 0-1.04.2-1.43.59L10.3 9.45l-7.72 7.72c-.78.78-.78 2.05 0 2.83L4 21.41c.39.39.9.59 1.41.59.51 0 1.02-.2 1.41-.59l7.78-7.78 2.81-2.81c.8-.78.8-2.07 0-2.86zM5.41 20L4 18.59l7.72-7.72 1.47 1.35L5.41 20z\"/>\n",
              "  </svg>\n",
              "      </button>\n",
              "      \n",
              "  <style>\n",
              "    .colab-df-container {\n",
              "      display:flex;\n",
              "      flex-wrap:wrap;\n",
              "      gap: 12px;\n",
              "    }\n",
              "\n",
              "    .colab-df-convert {\n",
              "      background-color: #E8F0FE;\n",
              "      border: none;\n",
              "      border-radius: 50%;\n",
              "      cursor: pointer;\n",
              "      display: none;\n",
              "      fill: #1967D2;\n",
              "      height: 32px;\n",
              "      padding: 0 0 0 0;\n",
              "      width: 32px;\n",
              "    }\n",
              "\n",
              "    .colab-df-convert:hover {\n",
              "      background-color: #E2EBFA;\n",
              "      box-shadow: 0px 1px 2px rgba(60, 64, 67, 0.3), 0px 1px 3px 1px rgba(60, 64, 67, 0.15);\n",
              "      fill: #174EA6;\n",
              "    }\n",
              "\n",
              "    [theme=dark] .colab-df-convert {\n",
              "      background-color: #3B4455;\n",
              "      fill: #D2E3FC;\n",
              "    }\n",
              "\n",
              "    [theme=dark] .colab-df-convert:hover {\n",
              "      background-color: #434B5C;\n",
              "      box-shadow: 0px 1px 3px 1px rgba(0, 0, 0, 0.15);\n",
              "      filter: drop-shadow(0px 1px 2px rgba(0, 0, 0, 0.3));\n",
              "      fill: #FFFFFF;\n",
              "    }\n",
              "  </style>\n",
              "\n",
              "      <script>\n",
              "        const buttonEl =\n",
              "          document.querySelector('#df-94947d2f-8dfc-4834-8cd2-3dd57d785575 button.colab-df-convert');\n",
              "        buttonEl.style.display =\n",
              "          google.colab.kernel.accessAllowed ? 'block' : 'none';\n",
              "\n",
              "        async function convertToInteractive(key) {\n",
              "          const element = document.querySelector('#df-94947d2f-8dfc-4834-8cd2-3dd57d785575');\n",
              "          const dataTable =\n",
              "            await google.colab.kernel.invokeFunction('convertToInteractive',\n",
              "                                                     [key], {});\n",
              "          if (!dataTable) return;\n",
              "\n",
              "          const docLinkHtml = 'Like what you see? Visit the ' +\n",
              "            '<a target=\"_blank\" href=https://colab.research.google.com/notebooks/data_table.ipynb>data table notebook</a>'\n",
              "            + ' to learn more about interactive tables.';\n",
              "          element.innerHTML = '';\n",
              "          dataTable['output_type'] = 'display_data';\n",
              "          await google.colab.output.renderOutput(dataTable, element);\n",
              "          const docLink = document.createElement('div');\n",
              "          docLink.innerHTML = docLinkHtml;\n",
              "          element.appendChild(docLink);\n",
              "        }\n",
              "      </script>\n",
              "    </div>\n",
              "  </div>\n",
              "  "
            ]
          },
          "metadata": {},
          "execution_count": 16
        }
      ]
    },
    {
      "cell_type": "markdown",
      "metadata": {
        "id": "rwY4w7DAcwyE"
      },
      "source": [
        "There are no more null values! We are now ready to study the distributions."
      ]
    },
    {
      "cell_type": "markdown",
      "metadata": {
        "id": "1hpzkfzwiPyB"
      },
      "source": [
        "### Outlier cleaning\n",
        "\n",
        "Cleaning outlier, on the other hand, requires a much more manual intervention. We know there are three variables we need to intervene in: Income, Creddebt, and OthDebt. In general, we would like to modify all cases where there is either a discontinuous distribution or a case that is outside of 3 to 6 standard deviations.\n",
        "\n",
        "It is very important to use your judgement in this! Don't just cut in 3 stds, as that is too restrictive in an exponential distribution. If you want to get an idea of the values, then seaborn can help. The function ```displot``` with either the option ```hist``` or ```kde``` allows to check the distribution of values."
      ]
    },
    {
      "cell_type": "code",
      "metadata": {
        "id": "dCOmLnVpiOVo",
        "colab": {
          "base_uri": "https://localhost:8080/",
          "height": 365
        },
        "outputId": "9a9374e4-b950-4f1b-ca50-43585d38aa3c"
      },
      "source": [
        "fig = sns.displot(bankloan_data['Income'], kind = 'hist')\n",
        "plt.savefig('Income.pdf')\n",
        "plt.show()"
      ],
      "execution_count": null,
      "outputs": [
        {
          "output_type": "display_data",
          "data": {
            "text/plain": [
              "<Figure size 360x360 with 1 Axes>"
            ],
            "image/png": "[encoded data removed]"
          },
          "metadata": {}
        }
      ]
    },
    {
      "cell_type": "code",
      "metadata": {
        "id": "IPA95piMjhLv",
        "colab": {
          "base_uri": "https://localhost:8080/",
          "height": 365
        },
        "outputId": "f167e902-20fa-41f5-d7e2-ef2d9fab5662"
      },
      "source": [
        "sns.displot(data = bankloan_data, x = 'OthDebt', kind = 'kde', hue = 'Default')\n",
        "plt.show()"
      ],
      "execution_count": null,
      "outputs": [
        {
          "output_type": "display_data",
          "data": {
            "text/plain": [
              "<Figure size 412.925x360 with 1 Axes>"
            ],
            "image/png": "[encoded data removed]"
          },
          "metadata": {}
        }
      ]
    },
    {
      "cell_type": "code",
      "metadata": {
        "id": "AwJ3ND4gZj9S",
        "colab": {
          "base_uri": "https://localhost:8080/",
          "height": 365
        },
        "outputId": "9f40053a-9738-4e59-c141-9aa90e2826ae"
      },
      "source": [
        "fig = sns.displot(data = bankloan_data, x = 'Creddebt', kind = 'kde', hue = 'Default')\n",
        "plt.savefig('Creddebt.pdf')\n",
        "plt.show()"
      ],
      "execution_count": null,
      "outputs": [
        {
          "output_type": "display_data",
          "data": {
            "text/plain": [
              "<Figure size 412.925x360 with 1 Axes>"
            ],
            "image/png": "[encoded data removed]"
          },
          "metadata": {}
        }
      ]
    },
    {
      "cell_type": "markdown",
      "metadata": {
        "id": "QtGBJQw6jnmm"
      },
      "source": [
        "Income needs to be trimmed from the right. Potential cutoffs are Income of 450. OthDebt and Creddebt need to be truncated or left as is.\n",
        "\n",
        "To actually cut the values, then we can simply write a proper expression in Pandas:"
      ]
    },
    {
      "cell_type": "code",
      "metadata": {
        "colab": {
          "base_uri": "https://localhost:8080/"
        },
        "id": "VQrTABT-lIZa",
        "outputId": "cbdad954-ee2d-4113-9b8f-7c4963480039"
      },
      "source": [
        "bankloan_data['Income'].sort_values(ascending=False).head(n=50)"
      ],
      "execution_count": null,
      "outputs": [
        {
          "output_type": "execute_result",
          "data": {
            "text/plain": [
              "1198    1079.0\n",
              "468      699.0\n",
              "1461     533.0\n",
              "1435     526.0\n",
              "776      512.0\n",
              "234      497.0\n",
              "1314     493.0\n",
              "489      475.0\n",
              "939      460.0\n",
              "192      410.0\n",
              "469      403.0\n",
              "1431     397.0\n",
              "105      387.0\n",
              "412      384.0\n",
              "667      368.0\n",
              "608      352.0\n",
              "650      327.0\n",
              "617      326.0\n",
              "1475     322.0\n",
              "1361     321.0\n",
              "467      314.0\n",
              "541      308.0\n",
              "204      289.0\n",
              "342      286.0\n",
              "1132     285.0\n",
              "565      274.0\n",
              "620      274.0\n",
              "1101     267.0\n",
              "679      263.0\n",
              "37       259.0\n",
              "392      251.0\n",
              "919      249.0\n",
              "134      238.0\n",
              "359      236.0\n",
              "340      234.0\n",
              "1196     233.0\n",
              "143      232.0\n",
              "678      231.0\n",
              "206      229.0\n",
              "588      229.0\n",
              "417      227.0\n",
              "680      226.0\n",
              "794      225.0\n",
              "93       222.0\n",
              "828      220.0\n",
              "1432     219.0\n",
              "609      215.0\n",
              "297      209.0\n",
              "862      208.0\n",
              "228      206.0\n",
              "Name: Income, dtype: float64"
            ]
          },
          "metadata": {},
          "execution_count": 19
        }
      ]
    },
    {
      "cell_type": "code",
      "metadata": {
        "id": "HWhH4fgcji1G"
      },
      "source": [
        "bankloan_data = bankloan_data.loc[bankloan_data['Income'] < 300]"
      ],
      "execution_count": null,
      "outputs": []
    },
    {
      "cell_type": "markdown",
      "metadata": {
        "id": "BpbVxiJQmOBs"
      },
      "source": [
        "We can check now how the data looks like."
      ]
    },
    {
      "cell_type": "code",
      "metadata": {
        "id": "wgUVYbTKlpQT",
        "colab": {
          "base_uri": "https://localhost:8080/",
          "height": 381
        },
        "outputId": "c04406f4-6e5a-4dad-bd5c-08e9e3e885c7"
      },
      "source": [
        "fig, ax = plt.subplots(figsize=(10,5))\n",
        "a = sns.violinplot(x='variable', y='value', data=pd.melt(bankloan_data.iloc[:, np.r_[1,3:9]]), ax=ax)\n",
        "a.set_xticklabels(a.get_xticklabels(), rotation=90);"
      ],
      "execution_count": null,
      "outputs": [
        {
          "output_type": "display_data",
          "data": {
            "text/plain": [
              "<Figure size 720x360 with 1 Axes>"
            ],
            "image/png": "[encoded data removed]"
          },
          "metadata": {}
        }
      ]
    },
    {
      "cell_type": "code",
      "metadata": {
        "id": "qFia8JlY0WU1",
        "colab": {
          "base_uri": "https://localhost:8080/",
          "height": 300
        },
        "outputId": "cc09fe9c-db36-42f1-897d-73c72456558d"
      },
      "source": [
        "bankloan_data.describe()"
      ],
      "execution_count": null,
      "outputs": [
        {
          "output_type": "execute_result",
          "data": {
            "text/plain": [
              "            customer          Age       Employ      Address       Income  \\\n",
              "count    1478.000000  1478.000000  1478.000000  1478.000000  1478.000000   \n",
              "mean   257591.192828    33.820704     6.589310     6.173207    53.795670   \n",
              "std    139579.702866    12.838761     8.382677     5.949440    43.104055   \n",
              "min     10012.000000    18.000000     0.000000     0.000000    12.000000   \n",
              "25%     98310.250000    24.000000     0.000000     2.000000    27.000000   \n",
              "50%    316030.000000    31.000000     4.000000     5.000000    39.000000   \n",
              "75%    370670.750000    41.000000     9.000000     9.000000    62.000000   \n",
              "max    453777.000000    77.000000    51.000000    34.000000   289.000000   \n",
              "\n",
              "          Leverage     Creddebt      OthDebt  MonthlyLoad      Default  \n",
              "count  1478.000000  1478.000000  1478.000000  1478.000000  1478.000000  \n",
              "mean      9.975237     1.800298     3.590135     0.369465     0.366035  \n",
              "std       6.665023     2.514837     4.467314     0.294106     0.481882  \n",
              "min       0.100000     0.000000     0.000000     0.000000     0.000000  \n",
              "25%       4.900000     0.420000     1.082500     0.160000     0.000000  \n",
              "50%       8.600000     0.950000     2.190000     0.300000     0.000000  \n",
              "75%      13.600000     2.130000     4.450000     0.500000     1.000000  \n",
              "max      40.700000    35.970000    50.220000     2.150000     1.000000  "
            ],
            "text/html": [
              "\n",
              "  <div id=\"df-0d98c814-aec2-49b6-b1bf-0aa4ffcf725d\">\n",
              "    <div class=\"colab-df-container\">\n",
              "      <div>\n",
              "<style scoped>\n",
              "    .dataframe tbody tr th:only-of-type {\n",
              "        vertical-align: middle;\n",
              "    }\n",
              "\n",
              "    .dataframe tbody tr th {\n",
              "        vertical-align: top;\n",
              "    }\n",
              "\n",
              "    .dataframe thead th {\n",
              "        text-align: right;\n",
              "    }\n",
              "</style>\n",
              "<table border=\"1\" class=\"dataframe\">\n",
              "  <thead>\n",
              "    <tr style=\"text-align: right;\">\n",
              "      <th></th>\n",
              "      <th>customer</th>\n",
              "      <th>Age</th>\n",
              "      <th>Employ</th>\n",
              "      <th>Address</th>\n",
              "      <th>Income</th>\n",
              "      <th>Leverage</th>\n",
              "      <th>Creddebt</th>\n",
              "      <th>OthDebt</th>\n",
              "      <th>MonthlyLoad</th>\n",
              "      <th>Default</th>\n",
              "    </tr>\n",
              "  </thead>\n",
              "  <tbody>\n",
              "    <tr>\n",
              "      <th>count</th>\n",
              "      <td>1478.000000</td>\n",
              "      <td>1478.000000</td>\n",
              "      <td>1478.000000</td>\n",
              "      <td>1478.000000</td>\n",
              "      <td>1478.000000</td>\n",
              "      <td>1478.000000</td>\n",
              "      <td>1478.000000</td>\n",
              "      <td>1478.000000</td>\n",
              "      <td>1478.000000</td>\n",
              "      <td>1478.000000</td>\n",
              "    </tr>\n",
              "    <tr>\n",
              "      <th>mean</th>\n",
              "      <td>257591.192828</td>\n",
              "      <td>33.820704</td>\n",
              "      <td>6.589310</td>\n",
              "      <td>6.173207</td>\n",
              "      <td>53.795670</td>\n",
              "      <td>9.975237</td>\n",
              "      <td>1.800298</td>\n",
              "      <td>3.590135</td>\n",
              "      <td>0.369465</td>\n",
              "      <td>0.366035</td>\n",
              "    </tr>\n",
              "    <tr>\n",
              "      <th>std</th>\n",
              "      <td>139579.702866</td>\n",
              "      <td>12.838761</td>\n",
              "      <td>8.382677</td>\n",
              "      <td>5.949440</td>\n",
              "      <td>43.104055</td>\n",
              "      <td>6.665023</td>\n",
              "      <td>2.514837</td>\n",
              "      <td>4.467314</td>\n",
              "      <td>0.294106</td>\n",
              "      <td>0.481882</td>\n",
              "    </tr>\n",
              "    <tr>\n",
              "      <th>min</th>\n",
              "      <td>10012.000000</td>\n",
              "      <td>18.000000</td>\n",
              "      <td>0.000000</td>\n",
              "      <td>0.000000</td>\n",
              "      <td>12.000000</td>\n",
              "      <td>0.100000</td>\n",
              "      <td>0.000000</td>\n",
              "      <td>0.000000</td>\n",
              "      <td>0.000000</td>\n",
              "      <td>0.000000</td>\n",
              "    </tr>\n",
              "    <tr>\n",
              "      <th>25%</th>\n",
              "      <td>98310.250000</td>\n",
              "      <td>24.000000</td>\n",
              "      <td>0.000000</td>\n",
              "      <td>2.000000</td>\n",
              "      <td>27.000000</td>\n",
              "      <td>4.900000</td>\n",
              "      <td>0.420000</td>\n",
              "      <td>1.082500</td>\n",
              "      <td>0.160000</td>\n",
              "      <td>0.000000</td>\n",
              "    </tr>\n",
              "    <tr>\n",
              "      <th>50%</th>\n",
              "      <td>316030.000000</td>\n",
              "      <td>31.000000</td>\n",
              "      <td>4.000000</td>\n",
              "      <td>5.000000</td>\n",
              "      <td>39.000000</td>\n",
              "      <td>8.600000</td>\n",
              "      <td>0.950000</td>\n",
              "      <td>2.190000</td>\n",
              "      <td>0.300000</td>\n",
              "      <td>0.000000</td>\n",
              "    </tr>\n",
              "    <tr>\n",
              "      <th>75%</th>\n",
              "      <td>370670.750000</td>\n",
              "      <td>41.000000</td>\n",
              "      <td>9.000000</td>\n",
              "      <td>9.000000</td>\n",
              "      <td>62.000000</td>\n",
              "      <td>13.600000</td>\n",
              "      <td>2.130000</td>\n",
              "      <td>4.450000</td>\n",
              "      <td>0.500000</td>\n",
              "      <td>1.000000</td>\n",
              "    </tr>\n",
              "    <tr>\n",
              "      <th>max</th>\n",
              "      <td>453777.000000</td>\n",
              "      <td>77.000000</td>\n",
              "      <td>51.000000</td>\n",
              "      <td>34.000000</td>\n",
              "      <td>289.000000</td>\n",
              "      <td>40.700000</td>\n",
              "      <td>35.970000</td>\n",
              "      <td>50.220000</td>\n",
              "      <td>2.150000</td>\n",
              "      <td>1.000000</td>\n",
              "    </tr>\n",
              "  </tbody>\n",
              "</table>\n",
              "</div>\n",
              "      <button class=\"colab-df-convert\" onclick=\"convertToInteractive('df-0d98c814-aec2-49b6-b1bf-0aa4ffcf725d')\"\n",
              "              title=\"Convert this dataframe to an interactive table.\"\n",
              "              style=\"display:none;\">\n",
              "        \n",
              "  <svg xmlns=\"http://www.w3.org/2000/svg\" height=\"24px\"viewBox=\"0 0 24 24\"\n",
              "       width=\"24px\">\n",
              "    <path d=\"M0 0h24v24H0V0z\" fill=\"none\"/>\n",
              "    <path d=\"M18.56 5.44l.94 2.06.94-2.06 2.06-.94-2.06-.94-.94-2.06-.94 2.06-2.06.94zm-11 1L8.5 8.5l.94-2.06 2.06-.94-2.06-.94L8.5 2.5l-.94 2.06-2.06.94zm10 10l.94 2.06.94-2.06 2.06-.94-2.06-.94-.94-2.06-.94 2.06-2.06.94z\"/><path d=\"M17.41 7.96l-1.37-1.37c-.4-.4-.92-.59-1.43-.59-.52 0-1.04.2-1.43.59L10.3 9.45l-7.72 7.72c-.78.78-.78 2.05 0 2.83L4 21.41c.39.39.9.59 1.41.59.51 0 1.02-.2 1.41-.59l7.78-7.78 2.81-2.81c.8-.78.8-2.07 0-2.86zM5.41 20L4 18.59l7.72-7.72 1.47 1.35L5.41 20z\"/>\n",
              "  </svg>\n",
              "      </button>\n",
              "      \n",
              "  <style>\n",
              "    .colab-df-container {\n",
              "      display:flex;\n",
              "      flex-wrap:wrap;\n",
              "      gap: 12px;\n",
              "    }\n",
              "\n",
              "    .colab-df-convert {\n",
              "      background-color: #E8F0FE;\n",
              "      border: none;\n",
              "      border-radius: 50%;\n",
              "      cursor: pointer;\n",
              "      display: none;\n",
              "      fill: #1967D2;\n",
              "      height: 32px;\n",
              "      padding: 0 0 0 0;\n",
              "      width: 32px;\n",
              "    }\n",
              "\n",
              "    .colab-df-convert:hover {\n",
              "      background-color: #E2EBFA;\n",
              "      box-shadow: 0px 1px 2px rgba(60, 64, 67, 0.3), 0px 1px 3px 1px rgba(60, 64, 67, 0.15);\n",
              "      fill: #174EA6;\n",
              "    }\n",
              "\n",
              "    [theme=dark] .colab-df-convert {\n",
              "      background-color: #3B4455;\n",
              "      fill: #D2E3FC;\n",
              "    }\n",
              "\n",
              "    [theme=dark] .colab-df-convert:hover {\n",
              "      background-color: #434B5C;\n",
              "      box-shadow: 0px 1px 3px 1px rgba(0, 0, 0, 0.15);\n",
              "      filter: drop-shadow(0px 1px 2px rgba(0, 0, 0, 0.3));\n",
              "      fill: #FFFFFF;\n",
              "    }\n",
              "  </style>\n",
              "\n",
              "      <script>\n",
              "        const buttonEl =\n",
              "          document.querySelector('#df-0d98c814-aec2-49b6-b1bf-0aa4ffcf725d button.colab-df-convert');\n",
              "        buttonEl.style.display =\n",
              "          google.colab.kernel.accessAllowed ? 'block' : 'none';\n",
              "\n",
              "        async function convertToInteractive(key) {\n",
              "          const element = document.querySelector('#df-0d98c814-aec2-49b6-b1bf-0aa4ffcf725d');\n",
              "          const dataTable =\n",
              "            await google.colab.kernel.invokeFunction('convertToInteractive',\n",
              "                                                     [key], {});\n",
              "          if (!dataTable) return;\n",
              "\n",
              "          const docLinkHtml = 'Like what you see? Visit the ' +\n",
              "            '<a target=\"_blank\" href=https://colab.research.google.com/notebooks/data_table.ipynb>data table notebook</a>'\n",
              "            + ' to learn more about interactive tables.';\n",
              "          element.innerHTML = '';\n",
              "          dataTable['output_type'] = 'display_data';\n",
              "          await google.colab.output.renderOutput(dataTable, element);\n",
              "          const docLink = document.createElement('div');\n",
              "          docLink.innerHTML = docLinkHtml;\n",
              "          element.appendChild(docLink);\n",
              "        }\n",
              "      </script>\n",
              "    </div>\n",
              "  </div>\n",
              "  "
            ]
          },
          "metadata": {},
          "execution_count": 22
        }
      ]
    },
    {
      "cell_type": "markdown",
      "metadata": {
        "id": "mPDWYQFymRX1"
      },
      "source": [
        "Much better, although income still has a large outlier. This plot might be misleading though, as the magnitud of the data is relevant. We might want to recheck this after normalizing the data. We will now save the output to a compressed format which is very efficient to start whole data structures, [pickle](https://pandas.pydata.org/pandas-docs/stable/reference/api/pandas.DataFrame.to_pickle.html)."
      ]
    },
    {
      "cell_type": "code",
      "metadata": {
        "id": "4V1InwIQIM9J"
      },
      "source": [
        "bankloan_data.to_pickle('BankloanClean.pkl')"
      ],
      "execution_count": null,
      "outputs": []
    },
    {
      "cell_type": "markdown",
      "metadata": {
        "id": "IwSEaeGlmFzO"
      },
      "source": [
        "## Normalization\n",
        "\n",
        "Most models require the inputs to be in the same scale, this is called **normalization**. It is very important for most models... except for credit scoring as we will use Weight of Evidence (see the lecture!). Still, this is fairly simple to do in Pandas, being smart about what columns we select and **mapping** a function to those columns.\n",
        "\n",
        "The most traditional mapping is the zscore. We can use scipy's version of it. \n",
        "\n"
      ]
    },
    {
      "cell_type": "code",
      "metadata": {
        "id": "9E_PSudynST3"
      },
      "source": [
        "from scipy.stats import zscore"
      ],
      "execution_count": null,
      "outputs": []
    },
    {
      "cell_type": "markdown",
      "metadata": {
        "id": "oEFMdbTMnW68"
      },
      "source": [
        "We now select all numeric columns, except the customer one. We can do this with ```select_dtypes```."
      ]
    },
    {
      "cell_type": "code",
      "metadata": {
        "id": "D0I8jDLlm6vM",
        "colab": {
          "base_uri": "https://localhost:8080/"
        },
        "outputId": "299c8343-a0e7-42ba-9918-9ae469227197"
      },
      "source": [
        "# Identify the numerical columns\n",
        "numeric_cols = bankloan_data.select_dtypes(include=[np.number]).columns\n",
        "numeric_cols "
      ],
      "execution_count": null,
      "outputs": [
        {
          "output_type": "execute_result",
          "data": {
            "text/plain": [
              "Index(['customer', 'Age', 'Employ', 'Address', 'Income', 'Leverage',\n",
              "       'Creddebt', 'OthDebt', 'MonthlyLoad', 'Default'],\n",
              "      dtype='object')"
            ]
          },
          "metadata": {},
          "execution_count": 25
        }
      ]
    },
    {
      "cell_type": "code",
      "metadata": {
        "id": "QAmoNyjxny0G"
      },
      "source": [
        "# Remove the first and last one\n",
        "numeric_cols = numeric_cols[1:-1]"
      ],
      "execution_count": null,
      "outputs": []
    },
    {
      "cell_type": "code",
      "metadata": {
        "id": "k1ETL7-Nn11u"
      },
      "source": [
        "# Apply the zscore function to all data\n",
        "bankloan_data[numeric_cols] = bankloan_data[numeric_cols].apply(zscore)"
      ],
      "execution_count": null,
      "outputs": []
    },
    {
      "cell_type": "markdown",
      "metadata": {
        "id": "StvuqRWApixH"
      },
      "source": [
        "Now the data should look much better."
      ]
    },
    {
      "cell_type": "code",
      "metadata": {
        "id": "JrahcfLIoN45",
        "colab": {
          "base_uri": "https://localhost:8080/",
          "height": 381
        },
        "outputId": "3fd7206b-10b5-4794-e55b-5cefb4cd3c97"
      },
      "source": [
        "fig, ax = plt.subplots(figsize=(10,5))\n",
        "a = sns.violinplot(x='variable', y='value', data=pd.melt(bankloan_data.iloc[:, np.r_[1,3:9]]), ax=ax)\n",
        "a.set_xticklabels(a.get_xticklabels(), rotation=90);"
      ],
      "execution_count": null,
      "outputs": [
        {
          "output_type": "display_data",
          "data": {
            "text/plain": [
              "<Figure size 720x360 with 1 Axes>"
            ],
            "image/png": "[encoded data removed]"
          },
          "metadata": {}
        }
      ]
    },
    {
      "cell_type": "markdown",
      "metadata": {
        "id": "h9o6wiTXdlsv"
      },
      "source": [
        "The dataset looks really clean now. We are ready to use further models! To be 100% purist **you should first split between train and test set** before doing all of these analyses (so you should use the median of the train set). Please remember that when solving your coursework."
      ]
    },
    {
      "cell_type": "markdown",
      "metadata": {
        "id": "7F6iCmc-oTb_"
      },
      "source": [
        "## Self-study: Dummy coding\n",
        "\n",
        "The final step will be transform the categorical variables to dummy variables. Again, this is **not necessary for credit scoring** as the WoE transform is much more robust. The best strategy here is to follow the 5% rule:\n",
        "\n",
        "1. Aggregate by expert judgement (i.e. your opinion) until each group has more than 5% of data (1% if very large data) and there are all classes (by target variable) present.\n",
        "\n",
        "2. Use target variable percentage (or classification trees) until you get a proper number of groups.\n",
        "\n",
        "To check the number of cases for each default level, we can calculate a crosstab."
      ]
    },
    {
      "cell_type": "code",
      "metadata": {
        "id": "Tnu4zQW0oSMP",
        "colab": {
          "base_uri": "https://localhost:8080/",
          "height": 237
        },
        "outputId": "41d43f5b-9338-4bfc-fabb-ddf231676ca0"
      },
      "source": [
        "pd.crosstab(bankloan_data['Education'], bankloan_data['Default'])"
      ],
      "execution_count": null,
      "outputs": [
        {
          "output_type": "execute_result",
          "data": {
            "text/plain": [
              "Default      0    1\n",
              "Education          \n",
              "Bas        180   64\n",
              "Med        325  196\n",
              "Posg        54   26\n",
              "SupCom     167  137\n",
              "SupInc     211  118"
            ],
            "text/html": [
              "\n",
              "  <div id=\"df-cab5b883-2154-4dc3-a339-44f612ff3504\">\n",
              "    <div class=\"colab-df-container\">\n",
              "      <div>\n",
              "<style scoped>\n",
              "    .dataframe tbody tr th:only-of-type {\n",
              "        vertical-align: middle;\n",
              "    }\n",
              "\n",
              "    .dataframe tbody tr th {\n",
              "        vertical-align: top;\n",
              "    }\n",
              "\n",
              "    .dataframe thead th {\n",
              "        text-align: right;\n",
              "    }\n",
              "</style>\n",
              "<table border=\"1\" class=\"dataframe\">\n",
              "  <thead>\n",
              "    <tr style=\"text-align: right;\">\n",
              "      <th>Default</th>\n",
              "      <th>0</th>\n",
              "      <th>1</th>\n",
              "    </tr>\n",
              "    <tr>\n",
              "      <th>Education</th>\n",
              "      <th></th>\n",
              "      <th></th>\n",
              "    </tr>\n",
              "  </thead>\n",
              "  <tbody>\n",
              "    <tr>\n",
              "      <th>Bas</th>\n",
              "      <td>180</td>\n",
              "      <td>64</td>\n",
              "    </tr>\n",
              "    <tr>\n",
              "      <th>Med</th>\n",
              "      <td>325</td>\n",
              "      <td>196</td>\n",
              "    </tr>\n",
              "    <tr>\n",
              "      <th>Posg</th>\n",
              "      <td>54</td>\n",
              "      <td>26</td>\n",
              "    </tr>\n",
              "    <tr>\n",
              "      <th>SupCom</th>\n",
              "      <td>167</td>\n",
              "      <td>137</td>\n",
              "    </tr>\n",
              "    <tr>\n",
              "      <th>SupInc</th>\n",
              "      <td>211</td>\n",
              "      <td>118</td>\n",
              "    </tr>\n",
              "  </tbody>\n",
              "</table>\n",
              "</div>\n",
              "      <button class=\"colab-df-convert\" onclick=\"convertToInteractive('df-cab5b883-2154-4dc3-a339-44f612ff3504')\"\n",
              "              title=\"Convert this dataframe to an interactive table.\"\n",
              "              style=\"display:none;\">\n",
              "        \n",
              "  <svg xmlns=\"http://www.w3.org/2000/svg\" height=\"24px\"viewBox=\"0 0 24 24\"\n",
              "       width=\"24px\">\n",
              "    <path d=\"M0 0h24v24H0V0z\" fill=\"none\"/>\n",
              "    <path d=\"M18.56 5.44l.94 2.06.94-2.06 2.06-.94-2.06-.94-.94-2.06-.94 2.06-2.06.94zm-11 1L8.5 8.5l.94-2.06 2.06-.94-2.06-.94L8.5 2.5l-.94 2.06-2.06.94zm10 10l.94 2.06.94-2.06 2.06-.94-2.06-.94-.94-2.06-.94 2.06-2.06.94z\"/><path d=\"M17.41 7.96l-1.37-1.37c-.4-.4-.92-.59-1.43-.59-.52 0-1.04.2-1.43.59L10.3 9.45l-7.72 7.72c-.78.78-.78 2.05 0 2.83L4 21.41c.39.39.9.59 1.41.59.51 0 1.02-.2 1.41-.59l7.78-7.78 2.81-2.81c.8-.78.8-2.07 0-2.86zM5.41 20L4 18.59l7.72-7.72 1.47 1.35L5.41 20z\"/>\n",
              "  </svg>\n",
              "      </button>\n",
              "      \n",
              "  <style>\n",
              "    .colab-df-container {\n",
              "      display:flex;\n",
              "      flex-wrap:wrap;\n",
              "      gap: 12px;\n",
              "    }\n",
              "\n",
              "    .colab-df-convert {\n",
              "      background-color: #E8F0FE;\n",
              "      border: none;\n",
              "      border-radius: 50%;\n",
              "      cursor: pointer;\n",
              "      display: none;\n",
              "      fill: #1967D2;\n",
              "      height: 32px;\n",
              "      padding: 0 0 0 0;\n",
              "      width: 32px;\n",
              "    }\n",
              "\n",
              "    .colab-df-convert:hover {\n",
              "      background-color: #E2EBFA;\n",
              "      box-shadow: 0px 1px 2px rgba(60, 64, 67, 0.3), 0px 1px 3px 1px rgba(60, 64, 67, 0.15);\n",
              "      fill: #174EA6;\n",
              "    }\n",
              "\n",
              "    [theme=dark] .colab-df-convert {\n",
              "      background-color: #3B4455;\n",
              "      fill: #D2E3FC;\n",
              "    }\n",
              "\n",
              "    [theme=dark] .colab-df-convert:hover {\n",
              "      background-color: #434B5C;\n",
              "      box-shadow: 0px 1px 3px 1px rgba(0, 0, 0, 0.15);\n",
              "      filter: drop-shadow(0px 1px 2px rgba(0, 0, 0, 0.3));\n",
              "      fill: #FFFFFF;\n",
              "    }\n",
              "  </style>\n",
              "\n",
              "      <script>\n",
              "        const buttonEl =\n",
              "          document.querySelector('#df-cab5b883-2154-4dc3-a339-44f612ff3504 button.colab-df-convert');\n",
              "        buttonEl.style.display =\n",
              "          google.colab.kernel.accessAllowed ? 'block' : 'none';\n",
              "\n",
              "        async function convertToInteractive(key) {\n",
              "          const element = document.querySelector('#df-cab5b883-2154-4dc3-a339-44f612ff3504');\n",
              "          const dataTable =\n",
              "            await google.colab.kernel.invokeFunction('convertToInteractive',\n",
              "                                                     [key], {});\n",
              "          if (!dataTable) return;\n",
              "\n",
              "          const docLinkHtml = 'Like what you see? Visit the ' +\n",
              "            '<a target=\"_blank\" href=https://colab.research.google.com/notebooks/data_table.ipynb>data table notebook</a>'\n",
              "            + ' to learn more about interactive tables.';\n",
              "          element.innerHTML = '';\n",
              "          dataTable['output_type'] = 'display_data';\n",
              "          await google.colab.output.renderOutput(dataTable, element);\n",
              "          const docLink = document.createElement('div');\n",
              "          docLink.innerHTML = docLinkHtml;\n",
              "          element.appendChild(docLink);\n",
              "        }\n",
              "      </script>\n",
              "    </div>\n",
              "  </div>\n",
              "  "
            ]
          },
          "metadata": {},
          "execution_count": 29
        }
      ]
    },
    {
      "cell_type": "markdown",
      "metadata": {
        "id": "MJ_jTjWOrw-o"
      },
      "source": [
        "Now we can calculate the mean of each educational level."
      ]
    },
    {
      "cell_type": "code",
      "metadata": {
        "id": "4xFFkNvLqz61",
        "colab": {
          "base_uri": "https://localhost:8080/",
          "height": 237
        },
        "outputId": "0a5ccf3c-c7e6-4150-d168-b39ecb5463f3"
      },
      "source": [
        "bankloan_data.groupby('Education', as_index=False).agg({'Default': [\"mean\"]})"
      ],
      "execution_count": null,
      "outputs": [
        {
          "output_type": "execute_result",
          "data": {
            "text/plain": [
              "  Education   Default\n",
              "                 mean\n",
              "0       Bas  0.262295\n",
              "1       Med  0.376200\n",
              "2      Posg  0.325000\n",
              "3    SupCom  0.450658\n",
              "4    SupInc  0.358663"
            ],
            "text/html": [
              "\n",
              "  <div id=\"df-2f2ff9db-b60c-4312-ac23-910009b2de0d\">\n",
              "    <div class=\"colab-df-container\">\n",
              "      <div>\n",
              "<style scoped>\n",
              "    .dataframe tbody tr th:only-of-type {\n",
              "        vertical-align: middle;\n",
              "    }\n",
              "\n",
              "    .dataframe tbody tr th {\n",
              "        vertical-align: top;\n",
              "    }\n",
              "\n",
              "    .dataframe thead tr th {\n",
              "        text-align: left;\n",
              "    }\n",
              "</style>\n",
              "<table border=\"1\" class=\"dataframe\">\n",
              "  <thead>\n",
              "    <tr>\n",
              "      <th></th>\n",
              "      <th>Education</th>\n",
              "      <th>Default</th>\n",
              "    </tr>\n",
              "    <tr>\n",
              "      <th></th>\n",
              "      <th></th>\n",
              "      <th>mean</th>\n",
              "    </tr>\n",
              "  </thead>\n",
              "  <tbody>\n",
              "    <tr>\n",
              "      <th>0</th>\n",
              "      <td>Bas</td>\n",
              "      <td>0.262295</td>\n",
              "    </tr>\n",
              "    <tr>\n",
              "      <th>1</th>\n",
              "      <td>Med</td>\n",
              "      <td>0.376200</td>\n",
              "    </tr>\n",
              "    <tr>\n",
              "      <th>2</th>\n",
              "      <td>Posg</td>\n",
              "      <td>0.325000</td>\n",
              "    </tr>\n",
              "    <tr>\n",
              "      <th>3</th>\n",
              "      <td>SupCom</td>\n",
              "      <td>0.450658</td>\n",
              "    </tr>\n",
              "    <tr>\n",
              "      <th>4</th>\n",
              "      <td>SupInc</td>\n",
              "      <td>0.358663</td>\n",
              "    </tr>\n",
              "  </tbody>\n",
              "</table>\n",
              "</div>\n",
              "      <button class=\"colab-df-convert\" onclick=\"convertToInteractive('df-2f2ff9db-b60c-4312-ac23-910009b2de0d')\"\n",
              "              title=\"Convert this dataframe to an interactive table.\"\n",
              "              style=\"display:none;\">\n",
              "        \n",
              "  <svg xmlns=\"http://www.w3.org/2000/svg\" height=\"24px\"viewBox=\"0 0 24 24\"\n",
              "       width=\"24px\">\n",
              "    <path d=\"M0 0h24v24H0V0z\" fill=\"none\"/>\n",
              "    <path d=\"M18.56 5.44l.94 2.06.94-2.06 2.06-.94-2.06-.94-.94-2.06-.94 2.06-2.06.94zm-11 1L8.5 8.5l.94-2.06 2.06-.94-2.06-.94L8.5 2.5l-.94 2.06-2.06.94zm10 10l.94 2.06.94-2.06 2.06-.94-2.06-.94-.94-2.06-.94 2.06-2.06.94z\"/><path d=\"M17.41 7.96l-1.37-1.37c-.4-.4-.92-.59-1.43-.59-.52 0-1.04.2-1.43.59L10.3 9.45l-7.72 7.72c-.78.78-.78 2.05 0 2.83L4 21.41c.39.39.9.59 1.41.59.51 0 1.02-.2 1.41-.59l7.78-7.78 2.81-2.81c.8-.78.8-2.07 0-2.86zM5.41 20L4 18.59l7.72-7.72 1.47 1.35L5.41 20z\"/>\n",
              "  </svg>\n",
              "      </button>\n",
              "      \n",
              "  <style>\n",
              "    .colab-df-container {\n",
              "      display:flex;\n",
              "      flex-wrap:wrap;\n",
              "      gap: 12px;\n",
              "    }\n",
              "\n",
              "    .colab-df-convert {\n",
              "      background-color: #E8F0FE;\n",
              "      border: none;\n",
              "      border-radius: 50%;\n",
              "      cursor: pointer;\n",
              "      display: none;\n",
              "      fill: #1967D2;\n",
              "      height: 32px;\n",
              "      padding: 0 0 0 0;\n",
              "      width: 32px;\n",
              "    }\n",
              "\n",
              "    .colab-df-convert:hover {\n",
              "      background-color: #E2EBFA;\n",
              "      box-shadow: 0px 1px 2px rgba(60, 64, 67, 0.3), 0px 1px 3px 1px rgba(60, 64, 67, 0.15);\n",
              "      fill: #174EA6;\n",
              "    }\n",
              "\n",
              "    [theme=dark] .colab-df-convert {\n",
              "      background-color: #3B4455;\n",
              "      fill: #D2E3FC;\n",
              "    }\n",
              "\n",
              "    [theme=dark] .colab-df-convert:hover {\n",
              "      background-color: #434B5C;\n",
              "      box-shadow: 0px 1px 3px 1px rgba(0, 0, 0, 0.15);\n",
              "      filter: drop-shadow(0px 1px 2px rgba(0, 0, 0, 0.3));\n",
              "      fill: #FFFFFF;\n",
              "    }\n",
              "  </style>\n",
              "\n",
              "      <script>\n",
              "        const buttonEl =\n",
              "          document.querySelector('#df-2f2ff9db-b60c-4312-ac23-910009b2de0d button.colab-df-convert');\n",
              "        buttonEl.style.display =\n",
              "          google.colab.kernel.accessAllowed ? 'block' : 'none';\n",
              "\n",
              "        async function convertToInteractive(key) {\n",
              "          const element = document.querySelector('#df-2f2ff9db-b60c-4312-ac23-910009b2de0d');\n",
              "          const dataTable =\n",
              "            await google.colab.kernel.invokeFunction('convertToInteractive',\n",
              "                                                     [key], {});\n",
              "          if (!dataTable) return;\n",
              "\n",
              "          const docLinkHtml = 'Like what you see? Visit the ' +\n",
              "            '<a target=\"_blank\" href=https://colab.research.google.com/notebooks/data_table.ipynb>data table notebook</a>'\n",
              "            + ' to learn more about interactive tables.';\n",
              "          element.innerHTML = '';\n",
              "          dataTable['output_type'] = 'display_data';\n",
              "          await google.colab.output.renderOutput(dataTable, element);\n",
              "          const docLink = document.createElement('div');\n",
              "          docLink.innerHTML = docLinkHtml;\n",
              "          element.appendChild(docLink);\n",
              "        }\n",
              "      </script>\n",
              "    </div>\n",
              "  </div>\n",
              "  "
            ]
          },
          "metadata": {},
          "execution_count": 30
        }
      ]
    },
    {
      "cell_type": "markdown",
      "metadata": {
        "id": "NJ__rGzgskpG"
      },
      "source": [
        "We could, if we wanted to, group together some educational levels, such as '1upInc', 'Med', and 'Posg'. If not, we can create dummy variables directly with Pandas ```get_dummies```"
      ]
    },
    {
      "cell_type": "code",
      "metadata": {
        "id": "RsntGOQ4sjtN",
        "colab": {
          "base_uri": "https://localhost:8080/",
          "height": 433
        },
        "outputId": "d5c71edd-201d-4177-9676-ac9b2003e4b4"
      },
      "source": [
        "bankloan_data = pd.get_dummies(bankloan_data)\n",
        "bankloan_data.describe()"
      ],
      "execution_count": null,
      "outputs": [
        {
          "output_type": "execute_result",
          "data": {
            "text/plain": [
              "            customer           Age        Employ       Address        Income  \\\n",
              "count    1478.000000  1.478000e+03  1.478000e+03  1.478000e+03  1.478000e+03   \n",
              "mean   257591.192828 -2.427768e-16  1.201865e-17 -4.326715e-17  4.807461e-17   \n",
              "std    139579.702866  1.000338e+00  1.000338e+00  1.000338e+00  1.000338e+00   \n",
              "min     10012.000000 -1.232678e+00 -7.863288e-01 -1.037963e+00 -9.699741e-01   \n",
              "25%     98310.250000 -7.651850e-01 -7.863288e-01 -7.016827e-01 -6.218612e-01   \n",
              "50%    316030.000000 -2.197765e-01 -3.089927e-01 -1.972629e-01 -3.433709e-01   \n",
              "75%    370670.750000  5.593785e-01  2.876773e-01  4.752968e-01  1.904022e-01   \n",
              "max    453777.000000  3.364336e+00  5.299706e+00  4.678795e+00  5.458511e+00   \n",
              "\n",
              "           Leverage      Creddebt       OthDebt   MonthlyLoad      Default  \\\n",
              "count  1.478000e+03  1.478000e+03  1.478000e+03  1.478000e+03  1478.000000   \n",
              "mean  -2.764290e-17 -2.644104e-17  1.490313e-16  2.331619e-16     0.366035   \n",
              "std    1.000338e+00  1.000338e+00  1.000338e+00  1.000338e+00     0.481882   \n",
              "min   -1.482152e+00 -7.161127e-01 -8.039171e-01 -1.256656e+00     0.000000   \n",
              "25%   -7.617310e-01 -5.490474e-01 -5.615195e-01 -7.124507e-01     0.000000   \n",
              "50%   -2.064062e-01 -3.382268e-01 -3.135238e-01 -2.362716e-01     0.000000   \n",
              "75%    5.440327e-01  1.311472e-01  1.925443e-01  4.439844e-01     1.000000   \n",
              "max    4.611412e+00  1.359184e+01  1.044154e+01  6.056096e+00     1.000000   \n",
              "\n",
              "       Education_Bas  Education_Med  Education_Posg  Education_SupCom  \\\n",
              "count    1478.000000    1478.000000     1478.000000       1478.000000   \n",
              "mean        0.165088       0.352503        0.054127          0.205683   \n",
              "std         0.371386       0.477911        0.226345          0.404337   \n",
              "min         0.000000       0.000000        0.000000          0.000000   \n",
              "25%         0.000000       0.000000        0.000000          0.000000   \n",
              "50%         0.000000       0.000000        0.000000          0.000000   \n",
              "75%         0.000000       1.000000        0.000000          0.000000   \n",
              "max         1.000000       1.000000        1.000000          1.000000   \n",
              "\n",
              "       Education_SupInc  \n",
              "count       1478.000000  \n",
              "mean           0.222598  \n",
              "std            0.416131  \n",
              "min            0.000000  \n",
              "25%            0.000000  \n",
              "50%            0.000000  \n",
              "75%            0.000000  \n",
              "max            1.000000  "
            ],
            "text/html": [
              "\n",
              "  <div id=\"df-353ea684-a812-43d7-b67f-8cad5aa56fb9\">\n",
              "    <div class=\"colab-df-container\">\n",
              "      <div>\n",
              "<style scoped>\n",
              "    .dataframe tbody tr th:only-of-type {\n",
              "        vertical-align: middle;\n",
              "    }\n",
              "\n",
              "    .dataframe tbody tr th {\n",
              "        vertical-align: top;\n",
              "    }\n",
              "\n",
              "    .dataframe thead th {\n",
              "        text-align: right;\n",
              "    }\n",
              "</style>\n",
              "<table border=\"1\" class=\"dataframe\">\n",
              "  <thead>\n",
              "    <tr style=\"text-align: right;\">\n",
              "      <th></th>\n",
              "      <th>customer</th>\n",
              "      <th>Age</th>\n",
              "      <th>Employ</th>\n",
              "      <th>Address</th>\n",
              "      <th>Income</th>\n",
              "      <th>Leverage</th>\n",
              "      <th>Creddebt</th>\n",
              "      <th>OthDebt</th>\n",
              "      <th>MonthlyLoad</th>\n",
              "      <th>Default</th>\n",
              "      <th>Education_Bas</th>\n",
              "      <th>Education_Med</th>\n",
              "      <th>Education_Posg</th>\n",
              "      <th>Education_SupCom</th>\n",
              "      <th>Education_SupInc</th>\n",
              "    </tr>\n",
              "  </thead>\n",
              "  <tbody>\n",
              "    <tr>\n",
              "      <th>count</th>\n",
              "      <td>1478.000000</td>\n",
              "      <td>1.478000e+03</td>\n",
              "      <td>1.478000e+03</td>\n",
              "      <td>1.478000e+03</td>\n",
              "      <td>1.478000e+03</td>\n",
              "      <td>1.478000e+03</td>\n",
              "      <td>1.478000e+03</td>\n",
              "      <td>1.478000e+03</td>\n",
              "      <td>1.478000e+03</td>\n",
              "      <td>1478.000000</td>\n",
              "      <td>1478.000000</td>\n",
              "      <td>1478.000000</td>\n",
              "      <td>1478.000000</td>\n",
              "      <td>1478.000000</td>\n",
              "      <td>1478.000000</td>\n",
              "    </tr>\n",
              "    <tr>\n",
              "      <th>mean</th>\n",
              "      <td>257591.192828</td>\n",
              "      <td>-2.427768e-16</td>\n",
              "      <td>1.201865e-17</td>\n",
              "      <td>-4.326715e-17</td>\n",
              "      <td>4.807461e-17</td>\n",
              "      <td>-2.764290e-17</td>\n",
              "      <td>-2.644104e-17</td>\n",
              "      <td>1.490313e-16</td>\n",
              "      <td>2.331619e-16</td>\n",
              "      <td>0.366035</td>\n",
              "      <td>0.165088</td>\n",
              "      <td>0.352503</td>\n",
              "      <td>0.054127</td>\n",
              "      <td>0.205683</td>\n",
              "      <td>0.222598</td>\n",
              "    </tr>\n",
              "    <tr>\n",
              "      <th>std</th>\n",
              "      <td>139579.702866</td>\n",
              "      <td>1.000338e+00</td>\n",
              "      <td>1.000338e+00</td>\n",
              "      <td>1.000338e+00</td>\n",
              "      <td>1.000338e+00</td>\n",
              "      <td>1.000338e+00</td>\n",
              "      <td>1.000338e+00</td>\n",
              "      <td>1.000338e+00</td>\n",
              "      <td>1.000338e+00</td>\n",
              "      <td>0.481882</td>\n",
              "      <td>0.371386</td>\n",
              "      <td>0.477911</td>\n",
              "      <td>0.226345</td>\n",
              "      <td>0.404337</td>\n",
              "      <td>0.416131</td>\n",
              "    </tr>\n",
              "    <tr>\n",
              "      <th>min</th>\n",
              "      <td>10012.000000</td>\n",
              "      <td>-1.232678e+00</td>\n",
              "      <td>-7.863288e-01</td>\n",
              "      <td>-1.037963e+00</td>\n",
              "      <td>-9.699741e-01</td>\n",
              "      <td>-1.482152e+00</td>\n",
              "      <td>-7.161127e-01</td>\n",
              "      <td>-8.039171e-01</td>\n",
              "      <td>-1.256656e+00</td>\n",
              "      <td>0.000000</td>\n",
              "      <td>0.000000</td>\n",
              "      <td>0.000000</td>\n",
              "      <td>0.000000</td>\n",
              "      <td>0.000000</td>\n",
              "      <td>0.000000</td>\n",
              "    </tr>\n",
              "    <tr>\n",
              "      <th>25%</th>\n",
              "      <td>98310.250000</td>\n",
              "      <td>-7.651850e-01</td>\n",
              "      <td>-7.863288e-01</td>\n",
              "      <td>-7.016827e-01</td>\n",
              "      <td>-6.218612e-01</td>\n",
              "      <td>-7.617310e-01</td>\n",
              "      <td>-5.490474e-01</td>\n",
              "      <td>-5.615195e-01</td>\n",
              "      <td>-7.124507e-01</td>\n",
              "      <td>0.000000</td>\n",
              "      <td>0.000000</td>\n",
              "      <td>0.000000</td>\n",
              "      <td>0.000000</td>\n",
              "      <td>0.000000</td>\n",
              "      <td>0.000000</td>\n",
              "    </tr>\n",
              "    <tr>\n",
              "      <th>50%</th>\n",
              "      <td>316030.000000</td>\n",
              "      <td>-2.197765e-01</td>\n",
              "      <td>-3.089927e-01</td>\n",
              "      <td>-1.972629e-01</td>\n",
              "      <td>-3.433709e-01</td>\n",
              "      <td>-2.064062e-01</td>\n",
              "      <td>-3.382268e-01</td>\n",
              "      <td>-3.135238e-01</td>\n",
              "      <td>-2.362716e-01</td>\n",
              "      <td>0.000000</td>\n",
              "      <td>0.000000</td>\n",
              "      <td>0.000000</td>\n",
              "      <td>0.000000</td>\n",
              "      <td>0.000000</td>\n",
              "      <td>0.000000</td>\n",
              "    </tr>\n",
              "    <tr>\n",
              "      <th>75%</th>\n",
              "      <td>370670.750000</td>\n",
              "      <td>5.593785e-01</td>\n",
              "      <td>2.876773e-01</td>\n",
              "      <td>4.752968e-01</td>\n",
              "      <td>1.904022e-01</td>\n",
              "      <td>5.440327e-01</td>\n",
              "      <td>1.311472e-01</td>\n",
              "      <td>1.925443e-01</td>\n",
              "      <td>4.439844e-01</td>\n",
              "      <td>1.000000</td>\n",
              "      <td>0.000000</td>\n",
              "      <td>1.000000</td>\n",
              "      <td>0.000000</td>\n",
              "      <td>0.000000</td>\n",
              "      <td>0.000000</td>\n",
              "    </tr>\n",
              "    <tr>\n",
              "      <th>max</th>\n",
              "      <td>453777.000000</td>\n",
              "      <td>3.364336e+00</td>\n",
              "      <td>5.299706e+00</td>\n",
              "      <td>4.678795e+00</td>\n",
              "      <td>5.458511e+00</td>\n",
              "      <td>4.611412e+00</td>\n",
              "      <td>1.359184e+01</td>\n",
              "      <td>1.044154e+01</td>\n",
              "      <td>6.056096e+00</td>\n",
              "      <td>1.000000</td>\n",
              "      <td>1.000000</td>\n",
              "      <td>1.000000</td>\n",
              "      <td>1.000000</td>\n",
              "      <td>1.000000</td>\n",
              "      <td>1.000000</td>\n",
              "    </tr>\n",
              "  </tbody>\n",
              "</table>\n",
              "</div>\n",
              "      <button class=\"colab-df-convert\" onclick=\"convertToInteractive('df-353ea684-a812-43d7-b67f-8cad5aa56fb9')\"\n",
              "              title=\"Convert this dataframe to an interactive table.\"\n",
              "              style=\"display:none;\">\n",
              "        \n",
              "  <svg xmlns=\"http://www.w3.org/2000/svg\" height=\"24px\"viewBox=\"0 0 24 24\"\n",
              "       width=\"24px\">\n",
              "    <path d=\"M0 0h24v24H0V0z\" fill=\"none\"/>\n",
              "    <path d=\"M18.56 5.44l.94 2.06.94-2.06 2.06-.94-2.06-.94-.94-2.06-.94 2.06-2.06.94zm-11 1L8.5 8.5l.94-2.06 2.06-.94-2.06-.94L8.5 2.5l-.94 2.06-2.06.94zm10 10l.94 2.06.94-2.06 2.06-.94-2.06-.94-.94-2.06-.94 2.06-2.06.94z\"/><path d=\"M17.41 7.96l-1.37-1.37c-.4-.4-.92-.59-1.43-.59-.52 0-1.04.2-1.43.59L10.3 9.45l-7.72 7.72c-.78.78-.78 2.05 0 2.83L4 21.41c.39.39.9.59 1.41.59.51 0 1.02-.2 1.41-.59l7.78-7.78 2.81-2.81c.8-.78.8-2.07 0-2.86zM5.41 20L4 18.59l7.72-7.72 1.47 1.35L5.41 20z\"/>\n",
              "  </svg>\n",
              "      </button>\n",
              "      \n",
              "  <style>\n",
              "    .colab-df-container {\n",
              "      display:flex;\n",
              "      flex-wrap:wrap;\n",
              "      gap: 12px;\n",
              "    }\n",
              "\n",
              "    .colab-df-convert {\n",
              "      background-color: #E8F0FE;\n",
              "      border: none;\n",
              "      border-radius: 50%;\n",
              "      cursor: pointer;\n",
              "      display: none;\n",
              "      fill: #1967D2;\n",
              "      height: 32px;\n",
              "      padding: 0 0 0 0;\n",
              "      width: 32px;\n",
              "    }\n",
              "\n",
              "    .colab-df-convert:hover {\n",
              "      background-color: #E2EBFA;\n",
              "      box-shadow: 0px 1px 2px rgba(60, 64, 67, 0.3), 0px 1px 3px 1px rgba(60, 64, 67, 0.15);\n",
              "      fill: #174EA6;\n",
              "    }\n",
              "\n",
              "    [theme=dark] .colab-df-convert {\n",
              "      background-color: #3B4455;\n",
              "      fill: #D2E3FC;\n",
              "    }\n",
              "\n",
              "    [theme=dark] .colab-df-convert:hover {\n",
              "      background-color: #434B5C;\n",
              "      box-shadow: 0px 1px 3px 1px rgba(0, 0, 0, 0.15);\n",
              "      filter: drop-shadow(0px 1px 2px rgba(0, 0, 0, 0.3));\n",
              "      fill: #FFFFFF;\n",
              "    }\n",
              "  </style>\n",
              "\n",
              "      <script>\n",
              "        const buttonEl =\n",
              "          document.querySelector('#df-353ea684-a812-43d7-b67f-8cad5aa56fb9 button.colab-df-convert');\n",
              "        buttonEl.style.display =\n",
              "          google.colab.kernel.accessAllowed ? 'block' : 'none';\n",
              "\n",
              "        async function convertToInteractive(key) {\n",
              "          const element = document.querySelector('#df-353ea684-a812-43d7-b67f-8cad5aa56fb9');\n",
              "          const dataTable =\n",
              "            await google.colab.kernel.invokeFunction('convertToInteractive',\n",
              "                                                     [key], {});\n",
              "          if (!dataTable) return;\n",
              "\n",
              "          const docLinkHtml = 'Like what you see? Visit the ' +\n",
              "            '<a target=\"_blank\" href=https://colab.research.google.com/notebooks/data_table.ipynb>data table notebook</a>'\n",
              "            + ' to learn more about interactive tables.';\n",
              "          element.innerHTML = '';\n",
              "          dataTable['output_type'] = 'display_data';\n",
              "          await google.colab.output.renderOutput(dataTable, element);\n",
              "          const docLink = document.createElement('div');\n",
              "          docLink.innerHTML = docLinkHtml;\n",
              "          element.appendChild(docLink);\n",
              "        }\n",
              "      </script>\n",
              "    </div>\n",
              "  </div>\n",
              "  "
            ]
          },
          "metadata": {},
          "execution_count": 31
        }
      ]
    },
    {
      "cell_type": "markdown",
      "metadata": {
        "id": "VCaA3YQStIc2"
      },
      "source": [
        "Now we are ready to apply general models!"
      ]
    }
  ]
}