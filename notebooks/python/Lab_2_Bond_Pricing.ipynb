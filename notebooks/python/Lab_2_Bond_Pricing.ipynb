{
  "nbformat": 4,
  "nbformat_minor": 0,
  "metadata": {
    "colab": {
      "name": "Lab 2 - Bond Pricing",
      "version": "0.3.2",
      "provenance": [],
      "collapsed_sections": [],
      "include_colab_link": true
    },
    "kernelspec": {
      "name": "python3",
      "display_name": "Python 3"
    }
  },
  "cells": [
    {
      "cell_type": "markdown",
      "metadata": {
        "id": "view-in-github",
        "colab_type": "text"
      },
      "source": [
        "<a href=\"https://colab.research.google.com/github/CBravoR/AdvancedAnalyticsLabs/blob/master/notebooks/python/Lab_2_Bond_Pricing.ipynb\" target=\"_parent\"><img src=\"https://colab.research.google.com/assets/colab-badge.svg\" alt=\"Open In Colab\"/></a>"
      ]
    },
    {
      "cell_type": "markdown",
      "metadata": {
        "id": "RoDTAKe3eWDE",
        "colab_type": "text"
      },
      "source": [
        "# Lab 2 - Bond Pricing\n",
        "\n",
        "In this lab, we will study implementations of the bond pricing structures we have discussed in the lectures. Since we will be using a lot of numerical methods, we would need to program a large set of mathematical functions and other mathematical quantities. Luckily for us, this has already been done.\n",
        "\n",
        "A **package** is a set of functions, constants, and other data that comes pre-packaged and can be used once installed locally. Many packages are available (exactly [196,084](https://pypi.python.org/pypi) at the time of writing), but we will focus only on a set of them of course.\n",
        "\n",
        "The fist one is [Numpy](http://www.numpy.org/), self-described as \"the fundamental package for scientific computing with Python\". It comes with a very large number of scientific functions. These range from simply implementing mathetical constants (such as $\\pi$ or $e$), to mathematical functions (such as the logistic functions), random number generators, and much, much, more. As we move along with the activities of the module, we will use many of Numpy's functions, but the packages that we will use will most certainly be using Numpy under the hood.\n",
        "\n",
        "## Loading packages\n",
        "\n",
        "To load a package so it can be used in your terminal, write the following line:\n",
        "\n",
        "```\n",
        "import PACKAGE as SHORT_NAME\n",
        "```\n",
        "\n",
        "For example, to load Numpy and assign it the (well-known) alias \"np\" we run"
      ]
    },
    {
      "cell_type": "code",
      "metadata": {
        "id": "FxPqqILaeWva",
        "colab_type": "code",
        "colab": {}
      },
      "source": [
        "import numpy as np"
      ],
      "execution_count": 0,
      "outputs": []
    },
    {
      "cell_type": "markdown",
      "metadata": {
        "id": "3WV0FYJReqOH",
        "colab_type": "text"
      },
      "source": [
        "With this, all of numpy is available by calling ```np.NAME```. For example, to check the value of $\\pi$."
      ]
    },
    {
      "cell_type": "code",
      "metadata": {
        "id": "DhBKYRSAencB",
        "colab_type": "code",
        "outputId": "1767439a-963a-4428-ca11-01ac84de31f6",
        "colab": {
          "base_uri": "https://localhost:8080/",
          "height": 35
        }
      },
      "source": [
        "np.pi"
      ],
      "execution_count": 0,
      "outputs": [
        {
          "output_type": "execute_result",
          "data": {
            "text/plain": [
              "3.141592653589793"
            ]
          },
          "metadata": {
            "tags": []
          },
          "execution_count": 3
        }
      ]
    },
    {
      "cell_type": "markdown",
      "metadata": {
        "id": "geCgr2iGezDN",
        "colab_type": "text"
      },
      "source": [
        "... or to calculate the value of $e^4$."
      ]
    },
    {
      "cell_type": "code",
      "metadata": {
        "id": "FEFFkAOveyVG",
        "colab_type": "code",
        "outputId": "bf098342-9865-4d21-b4a0-c07e55b94e08",
        "colab": {
          "base_uri": "https://localhost:8080/",
          "height": 35
        }
      },
      "source": [
        "np.e ** 4"
      ],
      "execution_count": 0,
      "outputs": [
        {
          "output_type": "execute_result",
          "data": {
            "text/plain": [
              "54.59815003314423"
            ]
          },
          "metadata": {
            "tags": []
          },
          "execution_count": 4
        }
      ]
    },
    {
      "cell_type": "markdown",
      "metadata": {
        "id": "mEQ9jjbve4dV",
        "colab_type": "text"
      },
      "source": [
        "Note that the power function is two asterisks, so for example $4^2$ would require this line of code:"
      ]
    },
    {
      "cell_type": "code",
      "metadata": {
        "id": "2Dhr4EPYe15k",
        "colab_type": "code",
        "outputId": "5b689e2d-a6ef-40dc-d96b-a0e4d800fd97",
        "colab": {
          "base_uri": "https://localhost:8080/",
          "height": 35
        }
      },
      "source": [
        "4 ** 2"
      ],
      "execution_count": 0,
      "outputs": [
        {
          "output_type": "execute_result",
          "data": {
            "text/plain": [
              "16"
            ]
          },
          "metadata": {
            "tags": []
          },
          "execution_count": 5
        }
      ]
    },
    {
      "cell_type": "markdown",
      "metadata": {
        "id": "oO40Wo37fBEi",
        "colab_type": "text"
      },
      "source": [
        "Numpy is a **very** extensive package. You can explore the details of it [here](https://docs.scipy.org/doc/numpy-dev/user/quickstart.html). We will now apply it in order to calculate the functions we need."
      ]
    },
    {
      "cell_type": "markdown",
      "metadata": {
        "id": "XAjSuJzFsEjo",
        "colab_type": "text"
      },
      "source": [
        "## Interest rate conventions.\n",
        "\n",
        "Let's consider a bond with principal  Y loaned out for 1 year and repaid at the end of the year with no intermediate coupons (0-coupon bond). How much is repaid?\n",
        "\n",
        "1. Simple interest: Assume an annual rate of $r_s = 2\\%$. How much is the bond valued at?\n",
        "\n",
        "It is a really simple problem, but we can write it more generally by using a **function**. A function is simply an algorithm we predefined for ease of calling. As you studied last week (right????), a function is defined following this convention:\n",
        "\n",
        "```\n",
        "def NAME(PARAMS):\n",
        "    FUNCTION CODE\n",
        "    MORE CODE\n",
        "```\n",
        "\n",
        "Remember that in Python blocks are marked by indented text. Be consistent with your indentations, either use tabs or spaces - not both - in a single cell.\n",
        "\n",
        "So, let's define the function \"bond_pay_simple_interest\" which will receive the bond principal and an interest rate, and will return the payment."
      ]
    },
    {
      "cell_type": "code",
      "metadata": {
        "id": "2AFXpYXVfAUb",
        "colab_type": "code",
        "colab": {}
      },
      "source": [
        "def bond_pay_simple_interest(Y, rs = 0.02):\n",
        "    out = Y * (1 + rs)\n",
        "    return(out)"
      ],
      "execution_count": 0,
      "outputs": []
    },
    {
      "cell_type": "markdown",
      "metadata": {
        "id": "aligxYJEfU52",
        "colab_type": "text"
      },
      "source": [
        "Now our function is ready to use! See how we give a value to the interest rate ```rs```? This is an **optional variable**. By saying ```rs = 0.02```, we are allowing the function to receive one or two parameters.\n",
        "\n",
        "1. Calling ```bond_pay_simple_interest(100000, 0.05)``` will calculate the value of the bond payment using ```Y = 100000, rs = 0.05```.\n",
        "2. Calling ```bond_pay_simple_interest(100000)``` will calculate the value of the demand using ```rs = 0.02```.\n",
        "3. Calling ```bond_pay_simple_interest()``` will fail. It requires the input of the first parameter Y (it is not an optional parameter).\n",
        "4. Calling ```bond_pay_simple_interest(rs = 0.05, Y = 1000000)``` (or any other order) also works as long as all the inputs are named!"
      ]
    },
    {
      "cell_type": "code",
      "metadata": {
        "id": "rVAbSsKWfO6H",
        "colab_type": "code",
        "outputId": "f8618a53-2c0a-4b69-8587-d39aafc8d1a4",
        "colab": {
          "base_uri": "https://localhost:8080/",
          "height": 35
        }
      },
      "source": [
        "bond_pay_simple_interest(100000, 0.05)"
      ],
      "execution_count": 0,
      "outputs": [
        {
          "output_type": "execute_result",
          "data": {
            "text/plain": [
              "105000.0"
            ]
          },
          "metadata": {
            "tags": []
          },
          "execution_count": 9
        }
      ]
    },
    {
      "cell_type": "code",
      "metadata": {
        "id": "xb48cR4ffkgy",
        "colab_type": "code",
        "outputId": "87fad7ae-d545-4c13-8d51-7f89edfb7f80",
        "colab": {
          "base_uri": "https://localhost:8080/",
          "height": 35
        }
      },
      "source": [
        "bond_pay_simple_interest(rs = 0.05, Y = 100000)"
      ],
      "execution_count": 0,
      "outputs": [
        {
          "output_type": "execute_result",
          "data": {
            "text/plain": [
              "105000.0"
            ]
          },
          "metadata": {
            "tags": []
          },
          "execution_count": 8
        }
      ]
    },
    {
      "cell_type": "code",
      "metadata": {
        "id": "YGz38n4aflwD",
        "colab_type": "code",
        "outputId": "4ffd0c6a-7640-4db0-9d92-d58aa85a0414",
        "colab": {
          "base_uri": "https://localhost:8080/",
          "height": 35
        }
      },
      "source": [
        "bond_pay_simple_interest(100000)"
      ],
      "execution_count": 0,
      "outputs": [
        {
          "output_type": "execute_result",
          "data": {
            "text/plain": [
              "102000.0"
            ]
          },
          "metadata": {
            "tags": []
          },
          "execution_count": 10
        }
      ]
    },
    {
      "cell_type": "code",
      "metadata": {
        "id": "oyJJB7Aefm3q",
        "colab_type": "code",
        "outputId": "b038257e-09ca-4a69-9275-e9c72ded083a",
        "colab": {
          "base_uri": "https://localhost:8080/",
          "height": 171
        }
      },
      "source": [
        "bond_pay_simple_interest()"
      ],
      "execution_count": 0,
      "outputs": [
        {
          "output_type": "error",
          "ename": "TypeError",
          "evalue": "ignored",
          "traceback": [
            "\u001b[0;31m---------------------------------------------------------------------------\u001b[0m",
            "\u001b[0;31mTypeError\u001b[0m                                 Traceback (most recent call last)",
            "\u001b[0;32m<ipython-input-11-d92ea5e63702>\u001b[0m in \u001b[0;36m<module>\u001b[0;34m()\u001b[0m\n\u001b[0;32m----> 1\u001b[0;31m \u001b[0mbond_pay_simple_interest\u001b[0m\u001b[0;34m(\u001b[0m\u001b[0;34m)\u001b[0m\u001b[0;34m\u001b[0m\u001b[0;34m\u001b[0m\u001b[0m\n\u001b[0m",
            "\u001b[0;31mTypeError\u001b[0m: bond_pay_simple_interest() missing 1 required positional argument: 'Y'"
          ]
        }
      ]
    },
    {
      "cell_type": "markdown",
      "metadata": {
        "id": "ReeFaGS3yoYu",
        "colab_type": "text"
      },
      "source": [
        "The last commands fails because the argument Y is **not** an optional argument.\n"
      ]
    },
    {
      "cell_type": "markdown",
      "metadata": {
        "id": "sN7wwR-kyrhH",
        "colab_type": "text"
      },
      "source": [
        "2. Compound interest\n",
        "\n",
        "We get an interest rate $r_m$ on each of $m$ periods (each period lasting $1/m$ years). Now the formula is:\n",
        "\n",
        "$$\n",
        "X_m=Y \\cdot (1 + r_m)^m \n",
        "$$\n",
        "\n",
        "Let's write a function for it."
      ]
    },
    {
      "cell_type": "code",
      "metadata": {
        "id": "L_lGrTRdzDrQ",
        "colab_type": "code",
        "colab": {}
      },
      "source": [
        "def bond_pay_compound_interest(Y, rm = 0.01, m = 2):\n",
        "    out = Y * (1 + rm) ** m\n",
        "    return(out)"
      ],
      "execution_count": 0,
      "outputs": []
    },
    {
      "cell_type": "markdown",
      "metadata": {
        "id": "GUfyyEdTzV96",
        "colab_type": "text"
      },
      "source": [
        "Let's compare the payment for one year between the two. We use a rate given by $r_m = r_s  / m$ to show the difference between methods."
      ]
    },
    {
      "cell_type": "code",
      "metadata": {
        "id": "AGMRRlXjzZ39",
        "colab_type": "code",
        "outputId": "fead8f82-febf-40fd-9b95-8f4b7b28b94a",
        "colab": {
          "base_uri": "https://localhost:8080/",
          "height": 53
        }
      },
      "source": [
        "print('Simple interest payment (one year):' + str(bond_pay_simple_interest(100000)))\n",
        "print('Compound interest payment (one year, two payments):' + str(bond_pay_compound_interest(100000)))"
      ],
      "execution_count": 0,
      "outputs": [
        {
          "output_type": "stream",
          "text": [
            "Simple interest payment (one year):102000.0\n",
            "Compound interest payment (one year, two payments):102010.0\n"
          ],
          "name": "stdout"
        }
      ]
    },
    {
      "cell_type": "markdown",
      "metadata": {
        "id": "ll_6nJU7zppj",
        "colab_type": "text"
      },
      "source": [
        "There is a $10 difference arising from the compound interest.\n",
        "\n",
        "3. Continous interest: The last way commonly used way to calculate interest is to use continous interest. This method pays continously a certain rate. The formula is now\n",
        "\n",
        "$$\n",
        "X_c = Y \\cdot exp(r_c)\n",
        "$$"
      ]
    },
    {
      "cell_type": "code",
      "metadata": {
        "id": "9ywmDxTi2oN_",
        "colab_type": "code",
        "colab": {}
      },
      "source": [
        "def bond_pay_continous_interest(Y, rc = 0.02):\n",
        "    out = Y * np.exp(rc)\n",
        "    return(out)"
      ],
      "execution_count": 0,
      "outputs": []
    },
    {
      "cell_type": "markdown",
      "metadata": {
        "id": "usyQftg727Wp",
        "colab_type": "text"
      },
      "source": [
        "Comparing all three now."
      ]
    },
    {
      "cell_type": "code",
      "metadata": {
        "id": "GlXZWuwr26V9",
        "colab_type": "code",
        "outputId": "791bebc8-aa46-4466-ece3-4b9531353409",
        "colab": {
          "base_uri": "https://localhost:8080/",
          "height": 72
        }
      },
      "source": [
        "print('Simple interest payment (one year):' + str(bond_pay_simple_interest(100000)))\n",
        "print('Compound interest payment (one year, two payments):' + str(bond_pay_compound_interest(100000)))\n",
        "print('Continous interest (one year):' + str(bond_pay_continous_interest(100000)))"
      ],
      "execution_count": 0,
      "outputs": [
        {
          "output_type": "stream",
          "text": [
            "Simple interest payment (one year):102000.0\n",
            "Compound interest payment (one year, two payments):102010.0\n",
            "Continous interest (one year):102020.13400267558\n"
          ],
          "name": "stdout"
        }
      ]
    },
    {
      "cell_type": "markdown",
      "metadata": {
        "id": "1mvijZPk3y_7",
        "colab_type": "text"
      },
      "source": [
        "Of course, continous interest gives a much higher payment rate. Which products do you think use continous interest?"
      ]
    },
    {
      "cell_type": "markdown",
      "metadata": {
        "id": "tIw9LnGDfpRS",
        "colab_type": "text"
      },
      "source": [
        "\n",
        "## Basic plotting\n",
        "\n",
        "The above examples are for one-year bonds, but bonds can also have multiple periods. How do the different interest convention look like in this case?\n",
        "\n",
        "To do this we will first extend our functions to consider multiple payments periods. Assuming $N$ is the number of years the bond is offered, then:\n",
        "\n",
        "$$\n",
        "X_s = Y \\cdot (1+N \\cdot r_s) \\\\\n",
        "X_m = Y \\cdot (1+r_m)^{N \\cdot m} \\\\\n",
        "X_c = Y \\cdot \\exp(r_c \\cdot N)\n",
        "$$\n",
        "\n",
        "We can extend our original functions to include the **maturity** $N$."
      ]
    },
    {
      "cell_type": "code",
      "metadata": {
        "id": "453gRwHA4iMm",
        "colab_type": "code",
        "colab": {}
      },
      "source": [
        "def bond_pay_simple_interest(Y, rs = 0.02, N = 1):\n",
        "    out = Y * (1 + N * rs)\n",
        "    return(out)\n",
        "\n",
        "def bond_pay_compound_interest(Y, rm = 0.01, m = 2, N = 1):\n",
        "    out = Y * (1 + rm) ** (N * m)\n",
        "    return(out)\n",
        "\n",
        "def bond_pay_continous_interest(Y, rc = 0.02, N = 1):\n",
        "    out = Y * np.exp(N  * rc)\n",
        "    return(out)"
      ],
      "execution_count": 0,
      "outputs": []
    },
    {
      "cell_type": "markdown",
      "metadata": {
        "id": "hUgjmQhC4i60",
        "colab_type": "text"
      },
      "source": [
        "To compare these functions, let's plot them.  We will do so using the extremely powerful package ```matplotlib```, in particular the python implementation ```pyplot```.  We will use the common alias ```plt```."
      ]
    },
    {
      "cell_type": "code",
      "metadata": {
        "id": "VlK7Afshfofi",
        "colab_type": "code",
        "colab": {}
      },
      "source": [
        "import matplotlib.pyplot as plt\n",
        "%matplotlib inline"
      ],
      "execution_count": 0,
      "outputs": []
    },
    {
      "cell_type": "markdown",
      "metadata": {
        "id": "WeSkUb3Of24_",
        "colab_type": "text"
      },
      "source": [
        "The line ```%matplotlib inline``` is called a \"magic\", and is a command that tells Jupyter to do something specific. This commands tells Jupyter to plot inline (i.e. in this notebook directly), instead of saving the image elsewhere. A list of all magic commands is available [here](http://ipython.readthedocs.io/en/stable/interactive/magics.html).\n",
        "\n",
        "We can now plot a function with a constant elasticity over the range [1, 100] with the following functions:"
      ]
    },
    {
      "cell_type": "code",
      "metadata": {
        "id": "Mm4KTO16f0w_",
        "colab_type": "code",
        "outputId": "69c321dc-4249-4d8c-9eec-08d74b3cadda",
        "colab": {
          "base_uri": "https://localhost:8080/",
          "height": 269
        }
      },
      "source": [
        "Nseries = np.arange(0, 100, 0.05) # Calculates evenly spaced points in the interval 1 to 100.\n",
        "\n",
        "plt.plot(Nseries, bond_pay_simple_interest(100000, N = Nseries)) # Applies the vector p to the d_const_elast function using elast = 1\n",
        "plt.show()"
      ],
      "execution_count": 7,
      "outputs": [
        {
          "output_type": "display_data",
          "data": {
            "image/png": "[encoded data removed]",
            "text/plain": [
              "<Figure size 432x288 with 1 Axes>"
            ]
          },
          "metadata": {
            "tags": []
          }
        }
      ]
    },
    {
      "cell_type": "markdown",
      "metadata": {
        "id": "30iAu5rEgAGl",
        "colab_type": "text"
      },
      "source": [
        "We can even compare multiple functions. For example, the following code compares multiple elasticities."
      ]
    },
    {
      "cell_type": "code",
      "metadata": {
        "id": "C_mL5D03f7VW",
        "colab_type": "code",
        "outputId": "fe3b37ef-3441-41ee-85b0-80f5d2e7d183",
        "colab": {
          "base_uri": "https://localhost:8080/",
          "height": 269
        }
      },
      "source": [
        "# Each call to plt.plot generates a new part of the plot.\n",
        "plt.plot(Nseries, bond_pay_simple_interest(100000, N = Nseries))\n",
        "plt.plot(Nseries, bond_pay_compound_interest(100000, N = Nseries))\n",
        "plt.plot(Nseries, bond_pay_continous_interest(100000, N = Nseries))\n",
        "\n",
        "# Add a legend. Note the square brackets.\n",
        "plt.legend(['Simple Interest', 'Compound Interest', 'Continous Interest'])\n",
        "\n",
        "# Generates the plot with everything we have added so far since last call to plt.show\n",
        "plt.show()"
      ],
      "execution_count": 8,
      "outputs": [
        {
          "output_type": "display_data",
          "data": {
            "image/png": "[encoded data removed]",
            "text/plain": [
              "<Figure size 432x288 with 1 Axes>"
            ]
          },
          "metadata": {
            "tags": []
          }
        }
      ]
    },
    {
      "cell_type": "markdown",
      "metadata": {
        "id": "v-PkqmeUgFFU",
        "colab_type": "text"
      },
      "source": [
        "## Bond pricing\n",
        "\n",
        "We can now calculate the value of a bond. Think about it this way: How much are you willing to pay for each bond we saw above?\n",
        "\n",
        "- The simple interest bond has a much reduced payment value across time.\n",
        "- The compound and continous one have a much higher payment.\n",
        "- What about coupons? What happens after each coupon is charged? Does value decrease or increase?\n",
        "\n",
        "Thus, we need an efficient way to **price** a bond so it reflects how much we expect it to be valued. This will depend on the expected interest rate and returns on the market, so **the value of a bond can vary even though payments are fixed**.\n",
        "\n",
        "See this [ETF return](https://ca.finance.yahoo.com/quote/VAB.TO/) composed of a mix of different canadian bonds.\n",
        "\n",
        "How do we price bonds? We need to consider the yearly rate for different instruments (risk-free in this case) and use those. We can get this from the market. Then we can value the bond discounting the payments:\n",
        "\n",
        "$$\n",
        "P(0) = \\sum_{t=1}^N \\frac{C}{(1+r)^t} + \\frac{F}{(1+r)^N}\n",
        "$$\n",
        "\n",
        "If $r$ is constant, then numpy offers the function Present value, [```np.npv```](https://docs.scipy.org/doc/numpy-1.13.0/reference/generated/numpy.npv.html#numpy.npv), which allows for simple net present value calculations when the rate is fixed and the time periods are equivalent.\n",
        "\n",
        "Let's calculate the value of a bond under the following conditions:\n",
        "\n",
        "- Principal $100,000.\n",
        "- Yearly coupons, coupon rate 5%.\n",
        "- Market Interest rate 3%."
      ]
    },
    {
      "cell_type": "code",
      "metadata": {
        "id": "rSI_-aj12AKZ",
        "colab_type": "code",
        "colab": {
          "base_uri": "https://localhost:8080/",
          "height": 35
        },
        "outputId": "a0ddb979-c219-4966-d09d-7376454c9f1d"
      },
      "source": [
        "# Parameters\n",
        "X = 100000\n",
        "C = 0.05 * 100000\n",
        "r = 0.03\n",
        "\n",
        "# Payment sequence\n",
        "payment_series = np.repeat(C, 11)\n",
        "payment_series[0] -= C # At t = 0 no payment is made. (What do we get if we write -100000?)\n",
        "payment_series[10]  += 100000 # Last payment with principal\n",
        "\n",
        "# PV calculation. Note payments are at end of period in this case.\n",
        "bond_price = np.npv(r, payment_series)\n",
        "bond_price"
      ],
      "execution_count": 11,
      "outputs": [
        {
          "output_type": "execute_result",
          "data": {
            "text/plain": [
              "117060.40567355165"
            ]
          },
          "metadata": {
            "tags": []
          },
          "execution_count": 11
        }
      ]
    },
    {
      "cell_type": "markdown",
      "metadata": {
        "id": "ShQGcRze8pCW",
        "colab_type": "text"
      },
      "source": [
        "The interest rate $r$ is also known as the **yield** of the bond. There is an inverse relation between yield and price! Why?\n",
        "\n",
        "### Yield-to-maturity\n",
        "\n",
        "A useful measure is the yield to maturity of the bond, or the maximum interest rate which we should get in order to have a net present value of 0. This is the same as the Internal Return Rate. Again, if the time between payments is fixed, we can use numpy's [```np.irr```](https://docs.scipy.org/doc/numpy-1.13.0/reference/generated/numpy.irr.html#numpy.irr) function. This function simply receives payments, but we need to add the original investment. If we bought the bond at auction, then the value paid will most likely *not* be $100,000, so we need to factor that. Let's assume we paid 95,000 for the bond."
      ]
    },
    {
      "cell_type": "code",
      "metadata": {
        "id": "wGUpcoEA9rAR",
        "colab_type": "code",
        "colab": {
          "base_uri": "https://localhost:8080/",
          "height": 35
        },
        "outputId": "7bbba64e-6b9c-4af4-9b4f-e7a5479f92b1"
      },
      "source": [
        "# Payment sequence\n",
        "payment_series = np.repeat(C, 11)\n",
        "payment_series[0] = -95000 # At t = 0 we buy the bond.\n",
        "payment_series[10]  += 100000 # Last payment with principal.\n",
        "\n",
        "irr = np.irr(payment_series)\n",
        "irr"
      ],
      "execution_count": 13,
      "outputs": [
        {
          "output_type": "execute_result",
          "data": {
            "text/plain": [
              "0.056687175591703554"
            ]
          },
          "metadata": {
            "tags": []
          },
          "execution_count": 13
        }
      ]
    },
    {
      "cell_type": "markdown",
      "metadata": {
        "id": "dt9lYSvP-fcb",
        "colab_type": "text"
      },
      "source": [
        "Our YTM is higher than the face value of the bond. Play around with these quantities to observe the relationship between prices and yields."
      ]
    },
    {
      "cell_type": "markdown",
      "metadata": {
        "id": "zh3KOmK72A-K",
        "colab_type": "text"
      },
      "source": [
        "### Clean and dirty bond prices\n",
        "\n",
        "The final step in this bond price section is to get the **clean price** of the bond. A coupon-based bond will have different price as coupons are repaid, so large drops in value are expected after each payment.\n",
        "\n",
        "Let's plot the different bond values as time advances, for a 10-year bond with principal 100000 and yearly coupons with rate 5%, in a market with rate 3%. We need to calculate the bond price as we receive payments, and we will interpolate the value between different payment periods using a monthly base."
      ]
    },
    {
      "cell_type": "code",
      "metadata": {
        "id": "obbCbMCJ5x7I",
        "colab_type": "code",
        "colab": {
          "base_uri": "https://localhost:8080/",
          "height": 269
        },
        "outputId": "af638b72-cb18-46b5-9362-811bdf4bdc67"
      },
      "source": [
        "# Payment sequence\n",
        "payment_series = np.repeat(0.0, 12*11) # First year no payments.\n",
        "payment_series[0] = 0 # At t = 0 we buy the bond.\n",
        "payment_series[131]  += 100000 # Last payment with principal.\n",
        "\n",
        "# Change only every 12th value, starting from the 12th.\n",
        "payment_series[11::12] += 100000*0.05\n",
        "\n",
        "# Calculate the value series. We to apply the npv function moving each starting point one month.\n",
        "# We will use a list comprehension.\n",
        "value_series = [np.npv(0.03/12, payment_series[i:]) for i in range(0, 120)]\n",
        "\n",
        "# Finally we plot the bond value\n",
        "plt.plot(value_series)\n",
        "plt.show()"
      ],
      "execution_count": 27,
      "outputs": [
        {
          "output_type": "display_data",
          "data": {
            "image/png": "[encoded data removed]",
            "text/plain": [
              "<Figure size 432x288 with 1 Axes>"
            ]
          },
          "metadata": {
            "tags": []
          }
        }
      ]
    },
    {
      "cell_type": "markdown",
      "metadata": {
        "id": "BKrOLYQcBE8i",
        "colab_type": "text"
      },
      "source": [
        "Note the ```(start):(end):(step)``` notation for indexing, and the use of [list comprehensions](https://www.programiz.com/python-programming/list-comprehension), a very powerful Python notation system."
      ]
    },
    {
      "cell_type": "markdown",
      "metadata": {
        "id": "Uxbz7jH_DYK7",
        "colab_type": "text"
      },
      "source": [
        "What's happening here? Why does the price move up and down like this?\n",
        "\n",
        "This series is the **dirty price** of the bond, and is the price you would pay if you were to buy it in the market.\n",
        "\n",
        "We would like to discount this value so we get a flat price. This is the **clean price** of the bond. The movements occur due to the next coupon, so we will eliminate the proportion of the coupon already earned. Considering coupons with $M$ months already gone by, then:\n",
        "\n",
        "$$\n",
        "P_{clean}  = P_{dirty} - \\frac{C * M}{12}\n",
        "$$\n",
        "\n",
        "Let's calculate the clean series and then recalculate the bond price. We can again use a list comprehension in a more complex format.\n"
      ]
    },
    {
      "cell_type": "code",
      "metadata": {
        "id": "z-KubHfvEvOX",
        "colab_type": "code",
        "colab": {
          "base_uri": "https://localhost:8080/",
          "height": 269
        },
        "outputId": "8cb744a2-601c-4a28-d527-76b8aa115b23"
      },
      "source": [
        "C = 100000*0.05\n",
        "clean_price = result = [w - (C * (i %12)) / 12 for i, w in enumerate(value_series)]\n",
        "\n",
        "plt.plot(clean_price)\n",
        "plt.plot(value_series)\n",
        "plt.legend(['Clean price', 'Dirty price'])\n",
        "plt.show()"
      ],
      "execution_count": 41,
      "outputs": [
        {
          "output_type": "display_data",
          "data": {
            "image/png": "[encoded data removed]",
            "text/plain": [
              "<Figure size 432x288 with 1 Axes>"
            ]
          },
          "metadata": {
            "tags": []
          }
        }
      ]
    },
    {
      "cell_type": "markdown",
      "metadata": {
        "id": "fvIhhPhAFi39",
        "colab_type": "text"
      },
      "source": [
        "Several new concepts here:\n",
        "\n",
        "- The [```enumerate```](https://docs.python.org/3/library/functions.html#enumerate) function turns a series into an *iterable* (an object we can iterate through) with the format (index, value). So each element of the series is split into an index (the position) and the value of the element. We then assign this to i and w when we write ```i,w in enumerate(value_series)```.\n",
        "\n",
        "- We add a [modulo](https://python-reference.readthedocs.io/en/latest/docs/operators/modulus.html) function, which gives us the reminder of the division between i and 12. It is represented by a percentage in Python.\n",
        "\n",
        "And this gives us the clean price, which represents a simplified way to assign the value of the coupon between buyer and seller. We do this for simplicity."
      ]
    },
    {
      "cell_type": "markdown",
      "metadata": {
        "id": "8b7nHQvV6Pdx",
        "colab_type": "text"
      },
      "source": [
        "# Homework\n",
        "\n",
        "1. Implement your own net present value function which allows for different time periods between payments, and different interest rates per year. With this:\n",
        "\n",
        "- Price a bond with semiannual payments.\n",
        "- Price a bond with monthly payments (exactly).\n",
        "- Price a bond with monthly payments which was bought two weeks ago.\n",
        "\n",
        "Compare against the results of the example bond above.\n",
        "\n",
        "2. Modify the Clean-and-Dirty price equation to include the real time between payments for a monthly coupons with rate $c = 0.42\\%$. Compare with the bond above."
      ]
    },
    {
      "cell_type": "code",
      "metadata": {
        "id": "8UixzAyi6kB5",
        "colab_type": "code",
        "colab": {}
      },
      "source": [
        ""
      ],
      "execution_count": 0,
      "outputs": []
    }
  ]
}