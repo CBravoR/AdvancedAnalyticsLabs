{
  "cells": [
    {
      "cell_type": "markdown",
      "metadata": {
        "id": "view-in-github",
        "colab_type": "text"
      },
      "source": [
        "<a href=\"https://colab.research.google.com/github/CBravoR/AdvancedAnalyticsLabs/blob/master/notebooks/python/Lab_2_Capital_Requirements_and_Pandas.ipynb\" target=\"_parent\"><img src=\"https://colab.research.google.com/assets/colab-badge.svg\" alt=\"Open In Colab\"/></a>"
      ]
    },
    {
      "cell_type": "markdown",
      "metadata": {
        "id": "lg7bCCwd0bHd"
      },
      "source": [
        "## Lab 2 - Capital Requirements and Using Pandas\n",
        "\n",
        "## Reading the data\n",
        "\n",
        "For this exercise we will read a dataset from credit scoring. I previously uploaded the data to Google, and it is available at https://docs.google.com/spreadsheets/d/1Am74y2ZVQ6dRFYVZUv_VoyP-OTS8BM4x0svifHQvtNc/export?gid=819627738&format=csv\n",
        "\n",
        "The dataset (called **Bankloan**, from IBM) has a set of 1,000 loans with default information. It includes the following variables:\n",
        "\n",
        "- Customer: ID, or unique label, of the borrower (NOT predictive).\n",
        "- Age: Age of the borrower in years.\n",
        "- Education: Maximum education level the borrower reached.\n",
        "1: Complete primary. 2: Completed Secondary. 3: Incomplete Higher Ed. 4: Complete Higher Ed. 5: With postgraduate studies (complete MSc or PhD).\n",
        "- Employ: Years at current job.\n",
        "- Address: Years at current address.\n",
        "- Income: Income in ‘000s USD.\n",
        "- Leverage: Debt/Income Ratio.\n",
        "- CredDebt: Credit card standing debt.\n",
        "- OthDebt: Other debt in ‘000s USD.\n",
        "- MonthlyLoad: Monthly percentage from salary used to repay debts.\n",
        "- Default: 1 If default has occurred, 0 if not (Target variable).\n",
        "- PD: The calibrated probability of default of the loan.\n",
        "- LGD: The estimated LGD for the loan.\n",
        "- Outstanding: EAD.\n",
        "\n",
        "Target: Whether the loan is going to default or not (Default variable)"
      ]
    },
    {
      "cell_type": "markdown",
      "metadata": {
        "id": "dPAUW5gx2E6p"
      },
      "source": [
        "First, we will import the data. As the data is in a Google Drive folder, we will use the [gdown](https://github.com/wkentaro/gdown) utility to download it. Note that the command has an exclamation sign before it. It means *run this in the terminal and not in Python*. Gdown can be used from a python session itself or from the terminal as we are doing now."
      ]
    },
    {
      "cell_type": "code",
      "execution_count": null,
      "metadata": {
        "id": "Fp2he3jP0acB"
      },
      "outputs": [],
      "source": [
        "# Download the dataset from Google Drive\n",
        "!gdown https://drive.google.com/uc?id=1lyEd01JaoVbL1mbgn-wr3YvLmURAgQ8B"
      ]
    },
    {
      "cell_type": "code",
      "execution_count": null,
      "metadata": {
        "id": "HO8ZUMz1Mzf0"
      },
      "outputs": [],
      "source": [
        "# Check the first few lines of the dataset\n",
        "!head /content/bankloan_scored_nodefault.csv"
      ]
    },
    {
      "cell_type": "markdown",
      "metadata": {
        "id": "53TANo232E6r"
      },
      "source": [
        "Now we will import Pandas. [Pandas](https://pandas.pydata.org/) is the best-known data management software in Python. It implements most of the functionality of R's dataframes in Python. However, it is very inefficient. It is a good alternative for small datasets, but it has signficant speed and memory issues when running large datasets. We will use better alternatives later in the course. For now, however, it is a great option.\n",
        "\n",
        "Let's import pandas and the numerical analysis package, numpy."
      ]
    },
    {
      "cell_type": "code",
      "execution_count": null,
      "metadata": {
        "id": "h-P17DdYM-40"
      },
      "outputs": [],
      "source": [
        "import pandas as pd\n",
        "import numpy as np"
      ]
    },
    {
      "cell_type": "markdown",
      "metadata": {
        "id": "TEi0pBWK2E6r"
      },
      "source": [
        "We now read the data. Pandas can read and write from (and into) many different types. The following function reads from a CSV and then shows the top 10 results."
      ]
    },
    {
      "cell_type": "code",
      "execution_count": null,
      "metadata": {
        "id": "hqPM4W2VxYZ1"
      },
      "outputs": [],
      "source": [
        "bankloan_data = pd.read_csv('./bankloan_scored_nodefault.csv', sep=',')"
      ]
    },
    {
      "cell_type": "code",
      "execution_count": null,
      "metadata": {
        "id": "nAh6m2j0a9LJ"
      },
      "outputs": [],
      "source": [
        "bankloan_data.head(10)"
      ]
    },
    {
      "cell_type": "markdown",
      "metadata": {
        "id": "fAbStccP2E6t"
      },
      "source": [
        "The property ```dtypes``` shows the data types of all columns."
      ]
    },
    {
      "cell_type": "code",
      "execution_count": null,
      "metadata": {
        "id": "pjY06WDPNFWN"
      },
      "outputs": [],
      "source": [
        "bankloan_data.dtypes"
      ]
    },
    {
      "cell_type": "markdown",
      "metadata": {
        "id": "EPZ8Ol9SNHrR"
      },
      "source": [
        "And the function ```describe()``` shows the summary statistics of the numerical variables. Note categorical variables are not displayed."
      ]
    },
    {
      "cell_type": "code",
      "execution_count": null,
      "metadata": {
        "id": "uluQVPhLNK2q"
      },
      "outputs": [],
      "source": [
        "bankloan_data.describe()"
      ]
    },
    {
      "cell_type": "markdown",
      "metadata": {
        "id": "uzQYQpXi2E6v"
      },
      "source": [
        "## Basic data exploration"
      ]
    },
    {
      "cell_type": "markdown",
      "metadata": {
        "id": "g13R0-vQNO_a"
      },
      "source": [
        "Let's explore the data a bit further. Python has the powerful [```matplotlib```](https://matplotlib.org/) package, and its [```pyplot```](https://matplotlib.org/stable/users/explain/quick_start.html) interface to create graphs using Matlab's programmatic language for graphs that has been around for many years. ```matplotlib``` is a very large and flexible software. Let's make some simple plots."
      ]
    },
    {
      "cell_type": "code",
      "execution_count": null,
      "metadata": {
        "id": "d1sqyXdANQDa"
      },
      "outputs": [],
      "source": [
        "# Import the matplotlib library\n",
        "import matplotlib.pyplot as plt\n",
        "\n",
        "# Indicate to the notebooks plots should be rendered inline\n",
        "%matplotlib inline"
      ]
    },
    {
      "cell_type": "markdown",
      "metadata": {
        "id": "gUxaBWvM2E6w"
      },
      "source": [
        "As a first plot, we will use one that comes preprogrammed in Pandas. ```hist()``` is a function that provides a histogram of all variables in a dataset."
      ]
    },
    {
      "cell_type": "code",
      "execution_count": null,
      "metadata": {
        "id": "R_opsrRVNTD2"
      },
      "outputs": [],
      "source": [
        "histograms = bankloan_data.hist()"
      ]
    },
    {
      "cell_type": "markdown",
      "metadata": {
        "id": "A-FLGpNi2E6x"
      },
      "source": [
        "Now let's slice and dice the data a bit. Pandas has several ways to do this. In general, we can split slicing and dicing into three groups:\n",
        "\n",
        "1. Slicing and dicing using variable names. This one requires no extra property.\n",
        "1. Slicing and dicing based on attributes or characteristics of the data, or doing conditional filters. These ones are indexed using the ```.loc``` property.\n",
        "2. Slicing and dicing using numerical indexes. This one requires using the ```.iloc``` property.\n",
        "\n",
        "Note these are properties, not functions, so they use square brackets, not round parenthesis."
      ]
    },
    {
      "cell_type": "code",
      "execution_count": null,
      "metadata": {
        "id": "oCnvuFAR-5CP"
      },
      "outputs": [],
      "source": [
        "# Select all rows and the 'Age' column\n",
        "bankloan_data.loc[:, 'Age']"
      ]
    },
    {
      "cell_type": "code",
      "execution_count": null,
      "metadata": {
        "id": "XKj1LjVR0H9A"
      },
      "outputs": [],
      "source": [
        "# Select the first 10 rows and the 'Age' column, for people aged less than 37. Note the use of .loc[] to filter the rows\n",
        "bankloan_data.loc[bankloan_data.loc[:, 'Age'] < 37, :]"
      ]
    },
    {
      "cell_type": "code",
      "execution_count": null,
      "metadata": {
        "id": "w2RYoJMH_Pdt"
      },
      "outputs": [],
      "source": [
        "# Obtaining the numbers of samples whose age is less than 37\n",
        "np.sum(bankloan_data.loc[:, 'Age'] < 37)"
      ]
    },
    {
      "cell_type": "code",
      "execution_count": null,
      "metadata": {
        "id": "1p-ktEfzb7iB"
      },
      "outputs": [],
      "source": [
        "# Integer indexing\n",
        "bankloan_data.iloc[0:5, 1:2]"
      ]
    },
    {
      "cell_type": "markdown",
      "metadata": {
        "id": "t61cyxfq2E6y"
      },
      "source": [
        "The original matplotlib plot is not very nice. There is a library oriented to data analysis called [```seaborn```](https://seaborn.pydata.org/) that provides some prettier graphs and some extra functions to matplotlib plots. Normally, you can use seaborn to generate a pretty graph, and then finetune the output using matplotlib's functions, as we do below. Let's import the package and create a plot."
      ]
    },
    {
      "cell_type": "code",
      "execution_count": null,
      "metadata": {
        "id": "lvoO_TfRNcSS"
      },
      "outputs": [],
      "source": [
        "import seaborn as sns"
      ]
    },
    {
      "cell_type": "code",
      "execution_count": null,
      "metadata": {
        "id": "rdiV2Gc9NeAG"
      },
      "outputs": [],
      "source": [
        "# Configure the basic structure of the plots\n",
        "sns.set_theme(color_codes=True)\n",
        "\n",
        "# Create a pairplot in seaborn. Takes a while as several plots are run.\n",
        "sns.pairplot(bankloan_data)\n",
        "\n",
        "# Use matplotlib to tweak the outcome and save the plot as a PDF and JPG file\n",
        "plt.savefig('Hist.pdf')\n",
        "plt.savefig('Hist.jpg')\n",
        "\n",
        "# Show the plot inlined in the notebook\n",
        "plt.show()"
      ]
    },
    {
      "cell_type": "markdown",
      "metadata": {
        "id": "KZdMFj9q2E6z"
      },
      "source": [
        "What do you see here? Any variables that jump to mind? Let's calculate the capital requirement of our loans."
      ]
    },
    {
      "cell_type": "markdown",
      "metadata": {
        "id": "NpaRoXKD3x3b"
      },
      "source": [
        "## Basel III Capital Requirements\n",
        "\n",
        "Recalling the last lecture, the equation for the capital requirement of any operation is:\n",
        "\n",
        "$$\n",
        "K = LGD \\cdot \\left\\{ N\\left( \\sqrt{\\frac{1}{1-R}} \\cdot N^{-1}(PD) + \\sqrt{\\frac{R}{1-R}} \\cdot N^{-1}(0.999) \\right) - PD \\right\\} \\left( \\frac{1 + (M - 2.5)b}{1 - 1.5b}\\right)\n",
        "$$\n",
        "\n",
        "The values of $b$ and $M$ will be variable for bonds, but for retail and mortgages the maturity is fixed at 1, and the b term dissapears. The correlations are given by the regulation:\n",
        "\n",
        "- Mortgages: $R = 0.15$\n",
        "- Revolving: $R = 0.04$\n",
        "- Other retail: $R = 0.03 \\left( \\frac{1 - e^{-35PD}}{1 - e^{-35}} \\right) + 0.16 \\left( 1 - \\frac{1 - e^{-35PD}}{1 - e^{-35}} \\right)$\n",
        "- Corporate and sovereign exposures $ R = 0.12 \\left( \\frac{1 - e^{-50PD}}{1 - e^{-50}} \\right) + 0.24 \\left( 1 - \\frac{1 - e^{-50PD}}{1 - e^{-50}} \\right)$\n",
        "\n",
        "The following code defines the CR formula for retail loans.\n"
      ]
    },
    {
      "cell_type": "code",
      "execution_count": null,
      "metadata": {
        "id": "W_fu2Owu9Gtq"
      },
      "outputs": [],
      "source": [
        "#Other retail\n",
        "def capital_requirement_retail(PD, LGD):\n",
        "  import numpy as np\n",
        "  from scipy.stats import norm\n",
        "\n",
        "  # Check if PD satisfies floor\n",
        "  if PD < 0.0003:\n",
        "    PD = 0.0003\n",
        "\n",
        "  # First part of the equation, lower correlation\n",
        "  R =  0.03 * ( (1 - np.exp(-35 * PD)) / (1 - np.exp(-35)) )\n",
        "\n",
        "  # Second part of the equation, higher correlation\n",
        "  R += 0.16 * (1 - ( (1 - np.exp(-35 * PD)) / (1 - np.exp(-35)) ) )\n",
        "\n",
        "  # Now we can calculate the capital\n",
        "  K = norm.cdf(np.sqrt( (1 - R) ** (-1) ) * norm.ppf(PD) +\n",
        "               np.sqrt( R / (1 - R) ) * norm.ppf(0.999) ) - PD\n",
        "  K *= LGD\n",
        "  return(K)"
      ]
    },
    {
      "cell_type": "markdown",
      "metadata": {
        "id": "OTzyl0dQ2E6z"
      },
      "source": [
        "Now we can calculate the function itself for a specific PD and LGD combination."
      ]
    },
    {
      "cell_type": "code",
      "execution_count": null,
      "metadata": {
        "id": "znRZuAgFLlot"
      },
      "outputs": [],
      "source": [
        "capital_requirement_retail(LGD = 0.5, PD = 0.4)"
      ]
    },
    {
      "cell_type": "markdown",
      "metadata": {
        "id": "5-Eu9y0rKq9j"
      },
      "source": [
        "Or we can print it in a nicer format using a [f-string](https://statics.teams.cdn.office.net/evergreen-assets/safelinks/1/atp-safelinks.html)."
      ]
    },
    {
      "cell_type": "code",
      "execution_count": null,
      "metadata": {
        "id": "L0UdCTHKLsbR"
      },
      "outputs": [],
      "source": [
        "print(f'PD = 0.5 & LGD = 0.5. K = {capital_requirement_retail(0.5, 0.5):.3f}')"
      ]
    },
    {
      "cell_type": "markdown",
      "metadata": {
        "id": "Wb5FZyk_2E60"
      },
      "source": [
        "Let's create a few plots showing the behaviour of the function. Note I am using a list comprehension. This is a very useful data structure that applies the function across a column."
      ]
    },
    {
      "cell_type": "code",
      "execution_count": null,
      "metadata": {
        "id": "EXczxRiABF5o"
      },
      "outputs": [],
      "source": [
        "# Generate the series and set the LGD to 1\n",
        "Xseries = np.arange(0, 1.001, 0.001)\n",
        "LGD = 1\n",
        "\n",
        "# Calculate the capital requirement for each PD using a list comprehension\n",
        "Yseries = [capital_requirement_retail(x, LGD) for x in Xseries]\n",
        "\n",
        "# Plot the series\n",
        "plt.plot(Xseries, Yseries)\n",
        "plt.title('PD curve at LGD = 1')\n",
        "plt.xlabel('PD')\n",
        "plt.ylabel('Capital Req. %')\n",
        "plt.show()"
      ]
    },
    {
      "cell_type": "code",
      "execution_count": null,
      "metadata": {
        "id": "ceLVndJkEYAD"
      },
      "outputs": [],
      "source": [
        "# PD Curve\n",
        "Xseries = np.arange(0, 1.001, 0.001)\n",
        "LGD = 1\n",
        "Yseries = [capital_requirement_retail(x, LGD) + x * LGD for x in Xseries]\n",
        "plt.plot(Xseries, Yseries)\n",
        "plt.title('PD curve at LGD = 1')\n",
        "plt.xlabel('PD')\n",
        "plt.ylabel('Full Load %')\n",
        "plt.show()"
      ]
    },
    {
      "cell_type": "markdown",
      "metadata": {
        "id": "JBL_uW0oLMeU"
      },
      "source": [
        "Now, let's apply the result to the full dataset. For this, we need a [lambda function](https://www.w3schools.com/python/python_lambda.asp) that will map the vector inputs to the function inputs."
      ]
    },
    {
      "cell_type": "code",
      "execution_count": null,
      "metadata": {
        "id": "lwNbnu-dE3uP"
      },
      "outputs": [],
      "source": [
        "bankloan_data['CapitalReq'] = bankloan_data.apply(lambda x : capital_requirement_retail(x['PD'], x['LGD']), axis=1)"
      ]
    },
    {
      "cell_type": "code",
      "execution_count": null,
      "metadata": {
        "id": "8hIlKDqLeYhF"
      },
      "outputs": [],
      "source": [
        "bankloan_data['CapitalReq']"
      ]
    },
    {
      "cell_type": "markdown",
      "metadata": {
        "id": "6UaI2ZlYLeRj"
      },
      "source": [
        "And now we can plot the distribution using Seaborn. The distplot function does this and adds the KDE."
      ]
    },
    {
      "cell_type": "code",
      "execution_count": null,
      "metadata": {
        "id": "Xxf5cWTVR3jP"
      },
      "outputs": [],
      "source": [
        "sns.displot(bankloan_data['CapitalReq'], kde=True)\n",
        "plt.show()"
      ]
    },
    {
      "cell_type": "markdown",
      "metadata": {
        "id": "14A51czTSKet"
      },
      "source": [
        "And we can finally calculate the maximum Risk Weighted Asset (RWA) value that would be required to cover these instruments. Assuming a factor $F = 8\\%$, remember that:\n",
        "\n",
        "$$\n",
        "RWA = \\frac{1}{F} * K * EAD\n",
        "$$\n",
        "\n",
        "in retail lending the Exposure at Default is equal to the outstanding amount, leading to:"
      ]
    },
    {
      "cell_type": "code",
      "execution_count": null,
      "metadata": {
        "id": "StQaz_o5SdP4"
      },
      "outputs": [],
      "source": [
        "RWA = (1 / 0.08) * np.dot(bankloan_data['CapitalReq'], bankloan_data['Outstanding'])\n",
        "RWA"
      ]
    },
    {
      "cell_type": "code",
      "execution_count": null,
      "metadata": {
        "id": "G0nkbo0NGwpU"
      },
      "outputs": [],
      "source": [
        "np.sum(bankloan_data['Outstanding'])"
      ]
    },
    {
      "cell_type": "code",
      "execution_count": null,
      "metadata": {
        "id": "afkmkLclT7tO"
      },
      "outputs": [],
      "source": [
        "# Set the locale to the default system locale\n",
        "import locale\n",
        "locale.setlocale(locale.LC_ALL, '')\n",
        "\n",
        "# Display\n",
        "out = locale.currency(RWA, grouping=True)\n",
        "print('The maximum value for the RWA at a 8% capital requirement is equal to ' + out)"
      ]
    },
    {
      "cell_type": "markdown",
      "metadata": {
        "id": "CoKMc5oRC5vm"
      },
      "source": [
        "However, Basel says that the RWA per business line is 12.5 times the capital requirement (i.e. it does not adjust by the bank's own load), so the 12.5 factor is the correct value to use when calculating the RWA of the line. For their final capital requirement allocation, the bank may want to adjust this to their own load. Most banks in Canada have an 11.5% load that they would use to estimate their capital requirements, but that does not impact the RWA of the asset under a Standard Approach, just the final (and obviously more important) capital allocation."
      ]
    }
  ],
  "metadata": {
    "colab": {
      "provenance": [],
      "include_colab_link": true
    },
    "kernelspec": {
      "display_name": "ml",
      "language": "python",
      "name": "python3"
    },
    "language_info": {
      "codemirror_mode": {
        "name": "ipython",
        "version": 3
      },
      "file_extension": ".py",
      "mimetype": "text/x-python",
      "name": "python",
      "nbconvert_exporter": "python",
      "pygments_lexer": "ipython3",
      "version": "3.11.5"
    }
  },
  "nbformat": 4,
  "nbformat_minor": 0
}