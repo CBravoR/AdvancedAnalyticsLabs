{
  "nbformat": 4,
  "nbformat_minor": 0,
  "metadata": {
    "colab": {
      "provenance": [],
      "include_colab_link": true
    },
    "kernelspec": {
      "name": "python3",
      "display_name": "Python 3"
    }
  },
  "cells": [
    {
      "cell_type": "markdown",
      "metadata": {
        "id": "view-in-github",
        "colab_type": "text"
      },
      "source": [
        "<a href=\"https://colab.research.google.com/github/CBravoR/AdvancedAnalyticsLabs/blob/master/notebooks/python/Lab_3_Bond_Pricing.ipynb\" target=\"_parent\"><img src=\"https://colab.research.google.com/assets/colab-badge.svg\" alt=\"Open In Colab\"/></a>"
      ]
    },
    {
      "cell_type": "markdown",
      "metadata": {
        "id": "RoDTAKe3eWDE"
      },
      "source": [
        "# Lab 3 - Bond Pricing\n",
        "\n",
        "In this lab, we will study implementations of the bond pricing structures we have discussed in the lectures. Since we will be using a lot of numerical methods, we would need to program a large set of mathematical functions and other mathematical quantities. Luckily for us, this has already been done.\n",
        "\n",
        "A **package** is a set of functions, constants, and other data that comes pre-packaged and can be used once installed locally. Many packages are available (exactly [431,218](https://pypi.python.org/pypi) at the time of writing), but we will focus only on a set of them of course.\n",
        "\n",
        "The fist one is [Numpy](http://www.numpy.org/), self-described as \"the fundamental package for scientific computing with Python\". It comes with a very large number of scientific functions. These range from simply implementing mathetical constants (such as $\\pi$ or $e$), to mathematical functions (such as the logistic functions), random number generators, and much, much, more. As we move along with the activities of the module, we will use many of Numpy's functions, but the packages that we will use will most certainly be using Numpy under the hood.\n",
        "\n",
        "## Loading packages\n",
        "\n",
        "To load a package so it can be used in your terminal, write the following line:\n",
        "\n",
        "```\n",
        "import PACKAGE as SHORT_NAME\n",
        "```\n",
        "\n",
        "For example, to load Numpy and assign it the (well-known) alias \"np\" we run"
      ]
    },
    {
      "cell_type": "code",
      "metadata": {
        "id": "FxPqqILaeWva"
      },
      "source": [
        "import numpy as np"
      ],
      "execution_count": 14,
      "outputs": []
    },
    {
      "cell_type": "markdown",
      "metadata": {
        "id": "3WV0FYJReqOH"
      },
      "source": [
        "With this, all of numpy is available by calling ```np.NAME```. For example, to check the value of $\\pi$."
      ]
    },
    {
      "cell_type": "code",
      "metadata": {
        "id": "DhBKYRSAencB",
        "colab": {
          "base_uri": "https://localhost:8080/"
        },
        "outputId": "313af195-2b5b-4aea-da10-66a090ad1905"
      },
      "source": [
        "np.pi"
      ],
      "execution_count": 15,
      "outputs": [
        {
          "output_type": "execute_result",
          "data": {
            "text/plain": [
              "3.141592653589793"
            ]
          },
          "metadata": {},
          "execution_count": 15
        }
      ]
    },
    {
      "cell_type": "markdown",
      "metadata": {
        "id": "geCgr2iGezDN"
      },
      "source": [
        "... or to calculate the value of $e^4$."
      ]
    },
    {
      "cell_type": "code",
      "metadata": {
        "id": "FEFFkAOveyVG",
        "colab": {
          "base_uri": "https://localhost:8080/"
        },
        "outputId": "ffb9ca3f-443c-47e0-9e07-b6f08b12a48b"
      },
      "source": [
        "np.round(np.e ** 4, 16) == np.round(np.exp(4), 16)"
      ],
      "execution_count": 16,
      "outputs": [
        {
          "output_type": "execute_result",
          "data": {
            "text/plain": [
              "False"
            ]
          },
          "metadata": {},
          "execution_count": 16
        }
      ]
    },
    {
      "cell_type": "markdown",
      "metadata": {
        "id": "mEQ9jjbve4dV"
      },
      "source": [
        "Note that the power function is two asterisks, so for example $4^2$ would require this line of code:"
      ]
    },
    {
      "cell_type": "code",
      "metadata": {
        "id": "2Dhr4EPYe15k",
        "colab": {
          "base_uri": "https://localhost:8080/"
        },
        "outputId": "16263bf3-17a6-49a8-b24e-ad78975209d0"
      },
      "source": [
        "4 ** 2"
      ],
      "execution_count": 2,
      "outputs": [
        {
          "output_type": "execute_result",
          "data": {
            "text/plain": [
              "16"
            ]
          },
          "metadata": {},
          "execution_count": 2
        }
      ]
    },
    {
      "cell_type": "markdown",
      "metadata": {
        "id": "oO40Wo37fBEi"
      },
      "source": [
        "Numpy is a **very** extensive package. You can explore the details of it [here](https://docs.scipy.org/doc/numpy-dev/user/quickstart.html). We will now apply it in order to calculate the functions we need."
      ]
    },
    {
      "cell_type": "markdown",
      "metadata": {
        "id": "XAjSuJzFsEjo"
      },
      "source": [
        "## Interest rate conventions.\n",
        "\n",
        "Let's consider a bond with principal  Y loaned out for 1 year and repaid at the end of the year with no intermediate coupons (0-coupon bond). How much is repaid?\n",
        "\n",
        "1. Simple interest: Assume an annual rate of $r_s = 2\\%$. How much is the bond valued at?\n",
        "\n",
        "It is a really simple problem, but we can write it more generally by using a **function**. A function is simply an algorithm we predefined for ease of calling. As you studied last week (right????), a function is defined following this convention:\n",
        "\n",
        "```\n",
        "def NAME(PARAMS):\n",
        "    FUNCTION CODE\n",
        "    MORE CODE\n",
        "    return OUT\n",
        "```\n",
        "\n",
        "Remember that in Python blocks are marked by indented text. Be consistent with your indentations, either use tabs or spaces - not both - in a single cell.\n",
        "\n",
        "So, let's define the function \"bond_pay_simple_interest\" which will receive the bond principal and an interest rate, and will return the payment."
      ]
    },
    {
      "cell_type": "code",
      "metadata": {
        "id": "2AFXpYXVfAUb"
      },
      "source": [
        "def bond_pay_simple_interest(Y, rs = 0.02):\n",
        "    out = Y * (1 + rs)\n",
        "    return(out)"
      ],
      "execution_count": 3,
      "outputs": []
    },
    {
      "cell_type": "markdown",
      "metadata": {
        "id": "aligxYJEfU52"
      },
      "source": [
        "Now our function is ready to use! See how we give a value to the interest rate ```rs```? This is an **optional variable**. By saying ```rs = 0.02```, we are allowing the function to receive one or two parameters.\n",
        "\n",
        "1. Calling ```bond_pay_simple_interest(100000, 0.05)``` will calculate the value of the bond payment using ```Y = 100000, rs = 0.05```.\n",
        "2. Calling ```bond_pay_simple_interest(100000)``` will calculate the value of the demand using ```rs = 0.02```.\n",
        "3. Calling ```bond_pay_simple_interest()``` will fail. It requires the input of the first parameter Y (it is not an optional parameter).\n",
        "4. Calling ```bond_pay_simple_interest(rs = 0.05, Y = 1000000)``` (or any other order) also works as long as all the inputs are named!"
      ]
    },
    {
      "cell_type": "code",
      "metadata": {
        "id": "rVAbSsKWfO6H",
        "colab": {
          "base_uri": "https://localhost:8080/"
        },
        "outputId": "379df4f2-72ad-4b86-8ef6-9dc08b34833a"
      },
      "source": [
        "bond_pay_simple_interest(100000, 0.05)"
      ],
      "execution_count": 4,
      "outputs": [
        {
          "output_type": "execute_result",
          "data": {
            "text/plain": [
              "105000.0"
            ]
          },
          "metadata": {},
          "execution_count": 4
        }
      ]
    },
    {
      "cell_type": "code",
      "metadata": {
        "id": "xb48cR4ffkgy",
        "colab": {
          "base_uri": "https://localhost:8080/"
        },
        "outputId": "cd0efeee-2414-4ef3-a31e-c233d69cb6d6"
      },
      "source": [
        "bond_pay_simple_interest(rs = 0.05, Y = 100000)"
      ],
      "execution_count": 5,
      "outputs": [
        {
          "output_type": "execute_result",
          "data": {
            "text/plain": [
              "105000.0"
            ]
          },
          "metadata": {},
          "execution_count": 5
        }
      ]
    },
    {
      "cell_type": "code",
      "metadata": {
        "id": "YGz38n4aflwD",
        "colab": {
          "base_uri": "https://localhost:8080/"
        },
        "outputId": "234ba955-e50f-4352-d2f2-f5c22e15a043"
      },
      "source": [
        "bond_pay_simple_interest(100000)"
      ],
      "execution_count": 6,
      "outputs": [
        {
          "output_type": "execute_result",
          "data": {
            "text/plain": [
              "102000.0"
            ]
          },
          "metadata": {},
          "execution_count": 6
        }
      ]
    },
    {
      "cell_type": "code",
      "metadata": {
        "id": "IP1lN79xwlMt",
        "colab": {
          "base_uri": "https://localhost:8080/"
        },
        "outputId": "6c425ef7-e835-49e6-b4ad-7d6d81e55735"
      },
      "source": [
        "bond_pay_simple_interest(100000, rs = 0.02)"
      ],
      "execution_count": 7,
      "outputs": [
        {
          "output_type": "execute_result",
          "data": {
            "text/plain": [
              "102000.0"
            ]
          },
          "metadata": {},
          "execution_count": 7
        }
      ]
    },
    {
      "cell_type": "code",
      "metadata": {
        "id": "oyJJB7Aefm3q",
        "colab": {
          "base_uri": "https://localhost:8080/",
          "height": 166
        },
        "outputId": "7ccb4834-9662-4bbb-8803-9c62c618c6b1"
      },
      "source": [
        "bond_pay_simple_interest()"
      ],
      "execution_count": 17,
      "outputs": [
        {
          "output_type": "error",
          "ename": "TypeError",
          "evalue": "ignored",
          "traceback": [
            "\u001b[0;31m---------------------------------------------------------------------------\u001b[0m",
            "\u001b[0;31mTypeError\u001b[0m                                 Traceback (most recent call last)",
            "\u001b[0;32m<ipython-input-17-d92ea5e63702>\u001b[0m in \u001b[0;36m<module>\u001b[0;34m\u001b[0m\n\u001b[0;32m----> 1\u001b[0;31m \u001b[0mbond_pay_simple_interest\u001b[0m\u001b[0;34m(\u001b[0m\u001b[0;34m)\u001b[0m\u001b[0;34m\u001b[0m\u001b[0;34m\u001b[0m\u001b[0m\n\u001b[0m",
            "\u001b[0;31mTypeError\u001b[0m: bond_pay_simple_interest() missing 1 required positional argument: 'Y'"
          ]
        }
      ]
    },
    {
      "cell_type": "markdown",
      "metadata": {
        "id": "ReeFaGS3yoYu"
      },
      "source": [
        "The last commands fails because the argument Y is **not** an optional argument.\n"
      ]
    },
    {
      "cell_type": "markdown",
      "metadata": {
        "id": "sN7wwR-kyrhH"
      },
      "source": [
        "2. Compound interest\n",
        "\n",
        "Now the bond pays at fixed intervals $m$ during the year. We get an interest rate $r_m$ on each of $m$ periods (each period lasting $1/m$ years for example). Now the formula is:\n",
        "\n",
        "$$\n",
        "X_m=Y \\cdot (1 + r_m)^m \n",
        "$$\n",
        "\n",
        "Let's write a function for it."
      ]
    },
    {
      "cell_type": "code",
      "metadata": {
        "id": "L_lGrTRdzDrQ"
      },
      "source": [
        "def bond_pay_compound_interest(Y, rm = 0.01, m = 2):\n",
        "    out = Y * (1 + rm) ** m\n",
        "    return(out)"
      ],
      "execution_count": 18,
      "outputs": []
    },
    {
      "cell_type": "markdown",
      "metadata": {
        "id": "GUfyyEdTzV96"
      },
      "source": [
        "Let's compare the payment for one year between the two. We use a rate given by $r_m = r_s  / m$ to show the difference between methods."
      ]
    },
    {
      "cell_type": "code",
      "metadata": {
        "id": "AGMRRlXjzZ39",
        "colab": {
          "base_uri": "https://localhost:8080/"
        },
        "outputId": "3fe5048f-daca-4f4f-9959-6ce5950e3d30"
      },
      "source": [
        "print(f'Simple interest payment (one year): {bond_pay_simple_interest(100000)}')\n",
        "print(f'Compound interest payment (one year, two payments): {bond_pay_compound_interest(100000)}')"
      ],
      "execution_count": 19,
      "outputs": [
        {
          "output_type": "stream",
          "name": "stdout",
          "text": [
            "Simple interest payment (one year): 102000.0\n",
            "Compound interest payment (one year, two payments): 102010.0\n"
          ]
        }
      ]
    },
    {
      "cell_type": "markdown",
      "metadata": {
        "id": "ll_6nJU7zppj"
      },
      "source": [
        "There is a $10 difference arising from the compound interest.\n",
        "\n",
        "3. Continous interest: The last way commonly used way to calculate interest is to use continous interest. A continous interest bond pays every fraction of a second. It is usually used for callable bonds or other bonds with an undefined maturity. This method pays continously a certain rate. The formula is now\n",
        "\n",
        "$$\n",
        "X_c = Y \\cdot exp(r_c * t)\n",
        "$$"
      ]
    },
    {
      "cell_type": "code",
      "metadata": {
        "id": "9ywmDxTi2oN_"
      },
      "source": [
        "def bond_pay_continous_interest(Y, rc = 0.02, m = 1):\n",
        "    out = Y * np.exp(rc * m)\n",
        "    return(out)"
      ],
      "execution_count": 20,
      "outputs": []
    },
    {
      "cell_type": "markdown",
      "metadata": {
        "id": "usyQftg727Wp"
      },
      "source": [
        "Comparing all three now."
      ]
    },
    {
      "cell_type": "code",
      "metadata": {
        "id": "GlXZWuwr26V9",
        "colab": {
          "base_uri": "https://localhost:8080/"
        },
        "outputId": "4faea6a1-64b0-4f82-f0b2-699a5a463fb3"
      },
      "source": [
        "print(f'Simple interest payment (one year): {bond_pay_simple_interest(100000)}')\n",
        "print(f'Compound interest payment (one year, two payments): {bond_pay_compound_interest(100000)}')\n",
        "print(f'Continous interest (one year): {bond_pay_continous_interest(100000):.2f}')"
      ],
      "execution_count": 21,
      "outputs": [
        {
          "output_type": "stream",
          "name": "stdout",
          "text": [
            "Simple interest payment (one year): 102000.0\n",
            "Compound interest payment (one year, two payments): 102010.0\n",
            "Continous interest (one year): 102020.13\n"
          ]
        }
      ]
    },
    {
      "cell_type": "markdown",
      "metadata": {
        "id": "1mvijZPk3y_7"
      },
      "source": [
        "Of course, continous interest gives a much higher payment rate. Which products do you think use continous interest?"
      ]
    },
    {
      "cell_type": "markdown",
      "metadata": {
        "id": "tIw9LnGDfpRS"
      },
      "source": [
        "\n",
        "## Basic plotting\n",
        "\n",
        "The above examples are for one-year bonds, but bonds can also have multiple periods. How do the different interest convention look like in this case?\n",
        "\n",
        "To do this we will first extend our functions to consider multiple payments periods. Assuming $N$ is the number of years the bond is offered, then:\n",
        "\n",
        "$$\n",
        "X_s = Y \\cdot (1+N \\cdot r_s) \\\\\n",
        "X_m = Y \\cdot (1+r_m)^{N \\cdot m} \\\\\n",
        "X_c = Y \\cdot \\exp(r_c \\cdot N)\n",
        "$$\n",
        "\n",
        "We can extend our original functions to include the **maturity** $N$."
      ]
    },
    {
      "cell_type": "code",
      "metadata": {
        "id": "453gRwHA4iMm"
      },
      "source": [
        "def bond_pay_simple_interest(Y, rs = 0.02, N = 1):\n",
        "    out = Y * (1 + N * rs)\n",
        "    return(out)\n",
        "\n",
        "def bond_pay_compound_interest(Y, rm = 0.01, m = 2, N = 1):\n",
        "    out = Y * (1 + rm) ** (N * m)\n",
        "    return(out)\n",
        "\n",
        "def bond_pay_continous_interest(Y, rc = 0.02, N = 1):\n",
        "    out = Y * np.exp(N  * rc)\n",
        "    return(out)"
      ],
      "execution_count": 22,
      "outputs": []
    },
    {
      "cell_type": "markdown",
      "metadata": {
        "id": "hUgjmQhC4i60"
      },
      "source": [
        "To compare these functions, let's plot them.  We will do so using the extremely powerful package ```matplotlib```, in particular the python implementation ```pyplot```.  We will use the common alias ```plt```."
      ]
    },
    {
      "cell_type": "code",
      "metadata": {
        "id": "VlK7Afshfofi"
      },
      "source": [
        "import matplotlib.pyplot as plt\n",
        "%matplotlib inline"
      ],
      "execution_count": 23,
      "outputs": []
    },
    {
      "cell_type": "markdown",
      "metadata": {
        "id": "WeSkUb3Of24_"
      },
      "source": [
        "The line ```%matplotlib inline``` is called a \"magic\", and is a command that tells Jupyter to do something specific. This commands tells Jupyter to plot inline (i.e. in this notebook directly), instead of saving the image elsewhere. A list of all magic commands is available [here](http://ipython.readthedocs.io/en/stable/interactive/magics.html).\n",
        "\n",
        "We can now plot a function with a constant elasticity over the range [1, 100] with the following functions:"
      ]
    },
    {
      "cell_type": "code",
      "metadata": {
        "id": "Mm4KTO16f0w_",
        "colab": {
          "base_uri": "https://localhost:8080/",
          "height": 295
        },
        "outputId": "30b777d9-137b-482f-ed8f-21fb9ef5a03a"
      },
      "source": [
        "Nseries = np.arange(0, 100.01, 0.05) # Calculates evenly spaced points in the interval 1 to 100.\n",
        "\n",
        "plt.plot(Nseries, bond_pay_simple_interest(100000, N = Nseries)) # Applies the vector p to the d_const_elast function using elast = 1\n",
        "plt.title('Simple interest')\n",
        "plt.xlabel('Period')\n",
        "plt.ylabel('Value')\n",
        "plt.show()"
      ],
      "execution_count": 24,
      "outputs": [
        {
          "output_type": "display_data",
          "data": {
            "text/plain": [
              "<Figure size 432x288 with 1 Axes>"
            ],
            "image/png": "[encoded data removed]"
          },
          "metadata": {
            "needs_background": "light"
          }
        }
      ]
    },
    {
      "cell_type": "markdown",
      "metadata": {
        "id": "30iAu5rEgAGl"
      },
      "source": [
        "We can even compare multiple functions. For example, the following code compares multiple compounding options."
      ]
    },
    {
      "cell_type": "code",
      "metadata": {
        "id": "C_mL5D03f7VW",
        "colab": {
          "base_uri": "https://localhost:8080/",
          "height": 295
        },
        "outputId": "5ed2fdb4-94af-422a-8979-c44a45e24292"
      },
      "source": [
        "# Each call to plt.plot generates a new part of the plot.\n",
        "plt.plot(Nseries, bond_pay_simple_interest(100000, N = Nseries))\n",
        "plt.plot(Nseries, bond_pay_compound_interest(100000, N = Nseries))\n",
        "plt.plot(Nseries, bond_pay_continous_interest(100000, N = Nseries))\n",
        "\n",
        "# Add a legend. Note the square brackets.\n",
        "plt.legend(['Simple Interest', 'Compound Interest', 'Continous Interest'])\n",
        "\n",
        "# Titles and labels\n",
        "plt.title('Comparison of interest types')\n",
        "plt.xlabel('Period')\n",
        "plt.ylabel('Value')\n",
        "\n",
        "# What if you want to save the output? This code, called BEFORE the plt.show(), saves\n",
        "# as an image. You can also save in other formats changing the extension\n",
        "plt.savefig('RateComparison.jpg', dpi = 300)\n",
        "plt.savefig('RateComparison.pdf')\n",
        "\n",
        "# Generates the plot with everything we have added so far since last call to plt.show\n",
        "plt.show()"
      ],
      "execution_count": 25,
      "outputs": [
        {
          "output_type": "display_data",
          "data": {
            "text/plain": [
              "<Figure size 432x288 with 1 Axes>"
            ],
            "image/png": "[encoded data removed]"
          },
          "metadata": {
            "needs_background": "light"
          }
        }
      ]
    },
    {
      "cell_type": "markdown",
      "metadata": {
        "id": "v-PkqmeUgFFU"
      },
      "source": [
        "## Bond pricing\n",
        "\n",
        "We can now calculate the value of a bond. Think about it this way: How much are you willing to pay for each bond we saw above?\n",
        "\n",
        "- The simple interest bond has a much reduced payment value across time.\n",
        "- The compound and continous one have a much higher payment.\n",
        "- What about coupons? What happens after each coupon is charged? Does value decrease or increase?\n",
        "\n",
        "Thus, we need an efficient way to **price** a bond so it reflects how much we expect it to be valued. This will depend on the expected interest rate and returns on the market, so **the value of a bond can vary even though payments are fixed**.\n",
        "\n",
        "See this [ETF return](https://ca.finance.yahoo.com/quote/VAB.TO/) composed of a mix of different canadian bonds.\n",
        "\n",
        "How do we price bonds? We need to consider the yearly rate for different instruments (risk-free in this case) and use those. We can get this from the market. Then we can value the bond discounting the payments:\n",
        "\n",
        "$$\n",
        "P(0) = \\sum_{t=1}^M \\frac{c}{(1+r_t)^t} + \\frac{1}{(1+r_M)^M}\n",
        "$$\n",
        "\n",
        "If you have a non-risk-free-bond, then $r_t = r_{f,t} + s_t$. The final price of the bond is $P \\times FV$ with $FV$ the face value of the bond.\n",
        "\n",
        "If $r$ is constant, then the extension package to numpy, [numpy_financial](https://pypi.org/project/numpy-financial/) offers the function Net Present Value, [```npf.npv```](https://numpy.org/numpy-financial/latest/npv.html), which allows for simple net present value calculations when the rate is fixed and the time periods are equidistant.\n",
        "\n",
        "Let's calculate the value of a bond under the following conditions:\n",
        "\n",
        "- Principal \\$100,000.\n",
        "- Yearly coupons, coupon rate $c = 5\\%$.\n",
        "- Market Interest rate $r = 3\\%$.\n",
        "- Maturity = 10 years.\n",
        "\n",
        "The ```numpy_financial``` package is not part of the standard python installation, so we must install it ourselves. For this, we use Python's package manager ```pip``` (a command line argument). To install a package simply run\n",
        "\n",
        "```\n",
        "!pip install PACKAGE_NAME\n",
        "```"
      ]
    },
    {
      "cell_type": "code",
      "metadata": {
        "id": "BjDj4iCVsTEF",
        "colab": {
          "base_uri": "https://localhost:8080/"
        },
        "outputId": "50d38c22-3e28-4b6f-b882-7ffc3c6a82cd"
      },
      "source": [
        "# Install numpy_financial\n",
        "!pip install numpy_financial"
      ],
      "execution_count": 26,
      "outputs": [
        {
          "output_type": "stream",
          "name": "stdout",
          "text": [
            "Looking in indexes: https://pypi.org/simple, https://us-python.pkg.dev/colab-wheels/public/simple/\n",
            "Collecting numpy_financial\n",
            "  Downloading numpy_financial-1.0.0-py3-none-any.whl (14 kB)\n",
            "Requirement already satisfied: numpy>=1.15 in /usr/local/lib/python3.8/dist-packages (from numpy_financial) (1.21.6)\n",
            "Installing collected packages: numpy_financial\n",
            "Successfully installed numpy_financial-1.0.0\n"
          ]
        }
      ]
    },
    {
      "cell_type": "code",
      "metadata": {
        "id": "rSI_-aj12AKZ",
        "colab": {
          "base_uri": "https://localhost:8080/"
        },
        "outputId": "fd59c220-0717-4a96-c071-9efcc58a41a5"
      },
      "source": [
        "# Import numpy_financial\n",
        "import numpy_financial as npf\n",
        "\n",
        "# Parameters\n",
        "X = 100000\n",
        "C = 0.05 * 100000\n",
        "r = 0.03\n",
        "\n",
        "# Payment sequence\n",
        "payment_series = np.repeat(C, 11)\n",
        "payment_series[0] -= C # At t = 0 no payment is made. (What do we get if we write -100000?)\n",
        "payment_series[10]  += X # Last payment with principal\n",
        "\n",
        "# Show the payment sequence\n",
        "print(payment_series)\n",
        "\n",
        "# PV calculation. Note payments are at end of period in this case.\n",
        "bond_price = npf.npv(r, payment_series)\n",
        "print(f'The price of the bond is: {bond_price:.2f}')"
      ],
      "execution_count": 27,
      "outputs": [
        {
          "output_type": "stream",
          "name": "stdout",
          "text": [
            "[     0.   5000.   5000.   5000.   5000.   5000.   5000.   5000.   5000.\n",
            "   5000. 105000.]\n",
            "The price of the bond is: 117060.41\n"
          ]
        }
      ]
    },
    {
      "cell_type": "markdown",
      "source": [
        "Normally you see the price of the bond expressed in a percentage of the face value."
      ],
      "metadata": {
        "id": "3JCmNWpYSkWe"
      }
    },
    {
      "cell_type": "code",
      "metadata": {
        "id": "BHBdn21G6tsu",
        "colab": {
          "base_uri": "https://localhost:8080/"
        },
        "outputId": "b3ab7cab-9d37-4467-bfa4-e5944eea99b1"
      },
      "source": [
        "print(f'Price as a percentage of the face value: {100 * bond_price / X:.2f}%')"
      ],
      "execution_count": 28,
      "outputs": [
        {
          "output_type": "stream",
          "name": "stdout",
          "text": [
            "Price as a percentage of the face value: 117.06%\n"
          ]
        }
      ]
    },
    {
      "cell_type": "code",
      "metadata": {
        "id": "YX_Uqd7X3Qh-",
        "colab": {
          "base_uri": "https://localhost:8080/"
        },
        "outputId": "78f11c56-0a28-4cde-b840-40522814c99c"
      },
      "source": [
        "payment_series"
      ],
      "execution_count": 29,
      "outputs": [
        {
          "output_type": "execute_result",
          "data": {
            "text/plain": [
              "array([     0.,   5000.,   5000.,   5000.,   5000.,   5000.,   5000.,\n",
              "         5000.,   5000.,   5000., 105000.])"
            ]
          },
          "metadata": {},
          "execution_count": 29
        }
      ]
    },
    {
      "cell_type": "markdown",
      "metadata": {
        "id": "ShQGcRze8pCW"
      },
      "source": [
        "The interest rate $r$ is also known as the **yield** of the bond. There is an inverse relation between yield and price! Why?\n"
      ]
    },
    {
      "cell_type": "markdown",
      "source": [
        "### Pricing with variable rates\n",
        "\n",
        "So far we have seen payment series when the interest rate is fixed. However, in real life the discount rate we use is related to the bond rate of the Canadian sovereign, or another type of discount factor. For this, we must use a pricing function that takes into account the interest rate series.\n",
        "\n",
        "Let's consider an annual bond with the following characteristics:\n",
        "\n",
        "- Principal \\$100,000.\n",
        "- Yearly coupons, coupon rate $c = 5\\%$.\n",
        "- Spread $s = 2\\%$.\n",
        "- Sovereign rate: random value between 1% and 3%.\n",
        "- Maturity = 10 years\n",
        "\n",
        "Let's price this bond with a general function."
      ],
      "metadata": {
        "id": "9beFZeOGTmRg"
      }
    },
    {
      "cell_type": "code",
      "source": [
        "def bond_price_variable_rate(coupon_rate, discount_rates, time_to_maturity):\n",
        "  import numpy_financial as npf\n",
        "  import numpy as np\n",
        "\n",
        "  # Payment sequence\n",
        "  payment_series = np.repeat(1, time_to_maturity + 1) # Coupon payments\n",
        "  payment_series[0] = 0 # no payment at first.\n",
        "  payment_series = payment_series* coupon_rate # Every payment date you get the coupon\n",
        "  payment_series[time_to_maturity]  += 1 # Last payment includes the principal.\n",
        "\n",
        "  # Calculate NPV\n",
        "  discounted_series = [x / (1 + y) ** i for i, [x, y] in enumerate(zip(payment_series, discount_rates))]  \n",
        "  #print(discounted_series)\n",
        "\n",
        "  # Calculate price\n",
        "  price = np.sum(discounted_series)\n",
        "  return price"
      ],
      "metadata": {
        "id": "_4bUl05aU-hX"
      },
      "execution_count": 30,
      "outputs": []
    },
    {
      "cell_type": "markdown",
      "source": [
        "Now we can calculate our bond price. First, let's calculate the rates under the conditions that we decided."
      ],
      "metadata": {
        "id": "gBwpYfwSaqG2"
      }
    },
    {
      "cell_type": "code",
      "source": [
        "coupon_rate = 0.05\n",
        "spread = 0.02\n",
        "maturity = 10\n",
        "sovereign_low = 0.01\n",
        "sovereign_high = 0.03\n",
        "sovereign_series = np.random.uniform(low=sovereign_low,\n",
        "                                     high=sovereign_high,\n",
        "                                     size=maturity + 1)\n",
        "discount_rates = sovereign_series + spread\n",
        "discount_rates[0] = 0\n",
        "discount_rates"
      ],
      "metadata": {
        "id": "3Y5lDNbzXelm",
        "colab": {
          "base_uri": "https://localhost:8080/"
        },
        "outputId": "4b69f3b6-75c6-4069-e532-48005016a67d"
      },
      "execution_count": 31,
      "outputs": [
        {
          "output_type": "execute_result",
          "data": {
            "text/plain": [
              "array([0.        , 0.04951595, 0.03595393, 0.0350134 , 0.04217286,\n",
              "       0.03665193, 0.03110246, 0.04846811, 0.04818509, 0.04463943,\n",
              "       0.03708346])"
            ]
          },
          "metadata": {},
          "execution_count": 31
        }
      ]
    },
    {
      "cell_type": "markdown",
      "source": [
        "And finally, we can call our function to price the bond."
      ],
      "metadata": {
        "id": "ZEzbGrPVaxLy"
      }
    },
    {
      "cell_type": "code",
      "source": [
        "bond_price_variable_rate(coupon_rate, discount_rates, maturity)"
      ],
      "metadata": {
        "id": "0e606Z88Y3FA",
        "colab": {
          "base_uri": "https://localhost:8080/"
        },
        "outputId": "1d71bf18-3ff9-4b91-a7f2-a02710fbcde7"
      },
      "execution_count": 32,
      "outputs": [
        {
          "output_type": "execute_result",
          "data": {
            "text/plain": [
              "1.098589273594758"
            ]
          },
          "metadata": {},
          "execution_count": 32
        }
      ]
    },
    {
      "cell_type": "markdown",
      "source": [
        "The price obtained (which will change as the sovereign rates are random) is a percentage of the face value. The final price is this value multiplied by the face value. Can you calculate the price after 3 years have passed? How does it change?"
      ],
      "metadata": {
        "id": "2cJtS1A5aezd"
      }
    },
    {
      "cell_type": "markdown",
      "source": [
        "### Yield-to-maturity\n",
        "\n",
        "A useful measure is the yield to maturity of the bond, or the maximum interest rate which we should get in order to have a net present value of 0. This is the same as the Internal Return Rate. Again, if the time between payments is fixed, we can use numpy's [```npf.irr```](https://numpy.org/doc/1.17/reference/generated/numpy.irr.html) function. This function simply receives payments, but we need to add the original investment.\n",
        "\n",
        "A general way to solve this is to solve the equation behind the YTM. The equation is:\n",
        "\n",
        "$$\n",
        "P_{0,paid} - P_{0,CurrentRates} = 0\n",
        "$$\n",
        "\n",
        "To solve the equation we will use Scipy's [```fsolve```](https://docs.scipy.org/doc/scipy/reference/generated/scipy.optimize.fsolve.html) function from the subpackage ```optimize```. This requires we first code the function we want to give to the package to solve (always in the form $f(x) = 0$ and then give a first guess on where the solution is. Let's assume the bond traded at an original price of \\$95,000."
      ],
      "metadata": {
        "id": "nohHa89cTj9A"
      }
    },
    {
      "cell_type": "code",
      "metadata": {
        "id": "wGUpcoEA9rAR",
        "colab": {
          "base_uri": "https://localhost:8080/"
        },
        "outputId": "2106e807-f63e-4b7b-9ad7-3356176dc686"
      },
      "source": [
        "from scipy.optimize import fsolve\n",
        "\n",
        "# Function to solve \n",
        "def YTM_equation(Porig, r, c, FV, M):\n",
        "  # Payment sequence\n",
        "  payment_series = np.repeat(c * FV, M + 1) # Coupon payments\n",
        "  payment_series[0] = -1 * Porig # At t = 0 we buy the bond.\n",
        "  payment_series[M]  += FV # Last payment includes the principal.\n",
        "\n",
        "  sol = npf.npv(r, payment_series)\n",
        "  return(sol)\n",
        "\n",
        "# Solve the equation\n",
        "ytm_bond = fsolve(lambda x : YTM_equation(r = x, Porig = 95000, FV = 100000, c = 0.05, M = 10), # Lambda function to give other arguments. \n",
        "           x0 = 0, # Initial guess\n",
        "           xtol=1.49012e-08 # Tolerance. If failing to converge play around with this\n",
        "           )\n",
        "\n",
        "# Print the value. the '.item()' is needed as the fsolve function delivers an array\n",
        "print(f'The yield to maturity is equal to {100 * ytm_bond.item():.2f}%')\n"
      ],
      "execution_count": 33,
      "outputs": [
        {
          "output_type": "stream",
          "name": "stdout",
          "text": [
            "The yield to maturity is equal to 5.67%\n"
          ]
        }
      ]
    },
    {
      "cell_type": "markdown",
      "metadata": {
        "id": "dt9lYSvP-fcb"
      },
      "source": [
        "Our YTM is higher than the coupon rate of the bond (5.67% vs 5%). Why? Play around with these quantities to observe the relationship between prices and yields."
      ]
    },
    {
      "cell_type": "markdown",
      "metadata": {
        "id": "zh3KOmK72A-K"
      },
      "source": [
        "### Clean and dirty bond prices\n",
        "\n",
        "The final step in this bond price section is to get the **clean price** of the bond. A coupon-based bond will have different price as coupons are repaid, so large drops in value are expected after each payment.\n",
        "\n",
        "Let's plot the different bond values as time advances, for a 10-year bond with principal 100000 and yearly coupons with rate 5%, in a market with rate 3%. We need to calculate the bond price as we receive payments, and we will interpolate the value between different payment periods using a monthly base."
      ]
    },
    {
      "cell_type": "code",
      "metadata": {
        "id": "obbCbMCJ5x7I",
        "colab": {
          "base_uri": "https://localhost:8080/",
          "height": 267
        },
        "outputId": "4e21b754-8dbd-49ed-c095-ac80a3b4b33c"
      },
      "source": [
        "# Payment sequence\n",
        "payment_series = np.repeat(0.0, 12*11) # First year no payments.\n",
        "payment_series[0] = 0 # At t = 0 we buy the bond.\n",
        "payment_series[131]  += 100000 # Last payment with principal.\n",
        "\n",
        "# Change only every 12th value, starting from the 12th.\n",
        "payment_series[11::12] += 100000*0.05\n",
        "\n",
        "# Calculate the value series. We to apply the npv function moving each starting point one month.\n",
        "# We will use a list comprehension.\n",
        "value_series = [npf.npv(0.03/12, payment_series[i:]) / (1 + 0.03/12) ** i for i in range(0, 131)]\n",
        "\n",
        "# Finally we plot the bond value\n",
        "plt.plot(value_series)\n",
        "plt.show()"
      ],
      "execution_count": 36,
      "outputs": [
        {
          "output_type": "display_data",
          "data": {
            "text/plain": [
              "<Figure size 432x288 with 1 Axes>"
            ],
            "image/png": "[encoded data removed]"
          },
          "metadata": {
            "needs_background": "light"
          }
        }
      ]
    },
    {
      "cell_type": "markdown",
      "metadata": {
        "id": "BKrOLYQcBE8i"
      },
      "source": [
        "Note the ```(start):(end):(step)``` notation for indexing, and the use of [list comprehensions](https://www.programiz.com/python-programming/list-comprehension), a very powerful Python notation system."
      ]
    },
    {
      "cell_type": "markdown",
      "metadata": {
        "id": "Uxbz7jH_DYK7"
      },
      "source": [
        "What's happening here? Why does the price move up and down like this?\n",
        "\n",
        "This series is the **dirty price** of the bond, and is the price you would pay if you were to buy it in the market.\n",
        "\n",
        "We would like to discount this value so we get a flat price. This is the **clean price** of the bond. The movements occur due to the next coupon, so we will eliminate the proportion of the coupon already earned. Considering coupons with $M$ months already gone by, then:\n",
        "\n",
        "$$\n",
        "P_{clean}  = P_{dirty} - \\frac{C * M}{12}\n",
        "$$\n",
        "\n",
        "Let's calculate the clean series and then recalculate the bond price. We can again use a list comprehension in a more complex format.\n"
      ]
    },
    {
      "cell_type": "code",
      "metadata": {
        "id": "z-KubHfvEvOX",
        "colab": {
          "base_uri": "https://localhost:8080/",
          "height": 266
        },
        "outputId": "df6cbff8-94ff-4b68-c548-347d401fd43b"
      },
      "source": [
        "C = 100000*0.05\n",
        "clean_price = [w - (C * (i % 12)) / 12 for i, w in enumerate(value_series)]\n",
        "\n",
        "plt.plot(clean_price)\n",
        "plt.plot(value_series)\n",
        "plt.legend(['Clean price', 'Dirty price'])\n",
        "plt.show()"
      ],
      "execution_count": 37,
      "outputs": [
        {
          "output_type": "display_data",
          "data": {
            "text/plain": [
              "<Figure size 432x288 with 1 Axes>"
            ],
            "image/png": "[encoded data removed]"
          },
          "metadata": {
            "needs_background": "light"
          }
        }
      ]
    },
    {
      "cell_type": "markdown",
      "metadata": {
        "id": "fvIhhPhAFi39"
      },
      "source": [
        "Several new concepts here:\n",
        "\n",
        "- The [```enumerate```](https://docs.python.org/3/library/functions.html#enumerate) function turns a series into an *iterable* (an object we can iterate through) with the format (index, value). So each element of the series is split into an index (the position) and the value of the element. We then assign this to i and w when we write ```i,w in enumerate(value_series)```.\n",
        "\n",
        "- We add a [modulo](https://python-reference.readthedocs.io/en/latest/docs/operators/modulus.html) function, which gives us the reminder of the division between i and 12. It is represented by a percentage in Python.\n",
        "\n",
        "And this gives us the clean price, which represents a simplified way to assign the value of the coupon between buyer and seller. We do this for simplicity."
      ]
    }
  ]
}